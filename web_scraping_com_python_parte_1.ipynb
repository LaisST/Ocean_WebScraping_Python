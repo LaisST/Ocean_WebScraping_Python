{
  "nbformat": 4,
  "nbformat_minor": 0,
  "metadata": {
    "kernelspec": {
      "language": "python",
      "display_name": "Python 3",
      "name": "python3"
    },
    "language_info": {
      "name": "python",
      "version": "3.7.6",
      "mimetype": "text/x-python",
      "codemirror_mode": {
        "name": "ipython",
        "version": 3
      },
      "pygments_lexer": "ipython3",
      "nbconvert_exporter": "python",
      "file_extension": ".py"
    },
    "colab": {
      "name": "web-scraping-com-python-parte-1.ipynb",
      "provenance": [],
      "collapsed_sections": [
        "4JLCVj-zriuk",
        "5J0Rl1Pvrium",
        "BFF6BC_uriun",
        "-u0sGNV0riun",
        "f40aP0ikriun",
        "8Qdb5n0ariup",
        "LPnpOmoTrius",
        "FDbh3J_drius",
        "2N92WaBZriut",
        "p4ymBFE5riuu",
        "jU18WeQXriuv",
        "feg9p2eQriuw",
        "4uRRMUU-riux",
        "HQO8HCvOriux",
        "dgNB9Tw-riuz",
        "RrRpCcZeriu0"
      ],
      "include_colab_link": true
    }
  },
  "cells": [
    {
      "cell_type": "markdown",
      "metadata": {
        "id": "view-in-github",
        "colab_type": "text"
      },
      "source": [
        "<a href=\"https://colab.research.google.com/github/LaisST/Ocean_WebScraping_Python/blob/main/web_scraping_com_python_parte_1.ipynb\" target=\"_parent\"><img src=\"https://colab.research.google.com/assets/colab-badge.svg\" alt=\"Open In Colab\"/></a>"
      ]
    },
    {
      "cell_type": "markdown",
      "metadata": {
        "id": "MkTDoR2griuT"
      },
      "source": [
        "# Web Scraping com Python (Parte 1)\n",
        "\n",
        "## Resumo\n",
        "\n",
        "Neste notebook, iremos conhecer o [Beautiful Soup](https://www.crummy.com/software/BeautifulSoup/bs4/doc/) e faremos alguns exemplos com HTML para entendemos o funcionamento desta biblioteca.\n",
        "\n",
        "## Para saber mais:\n",
        "\n",
        "* Palestras e cursos do [Samsung Ocean](http://www.oceanbrasil.com/).\n",
        "* Ryan Mitchell. Web Scraping com Python: Coletando Mais Dados da Web Moderna. Novatec Editora, 2019."
      ]
    },
    {
      "cell_type": "markdown",
      "metadata": {
        "id": "hj9zP0jIriub"
      },
      "source": [
        "## 1) Explorando o HTML\n",
        "\n",
        "Para os exemplos a seguir, iremos utilizar o código HTML abaixo."
      ]
    },
    {
      "cell_type": "markdown",
      "metadata": {
        "id": "uDRjTx-1riuc"
      },
      "source": [
        "<html>\n",
        "    <head>\n",
        "        <title>Indicados e vencedores do Oscar em 2020</title>\n",
        "    </head>\n",
        "    <body>\n",
        "        <h1>Oscar 2020</h1>\n",
        "        <p>A maior premiação do cinema aconteceu em Fevereiro. Os destaques deste ano foram:</p>\n",
        "        <ul class=\"destaques\">\n",
        "            <li>Coringa</li>\n",
        "            <li>1917</li>\n",
        "            <li>Era Uma Vez em Hollywood</li>\n",
        "            <li>O Irlandês</li>\n",
        "        </ul>\n",
        "        <p>Veja abaixo os vencedores de 3 categorias.</p>\n",
        "        <div>\n",
        "            <div class=\"categoria-melhor-filme\">\n",
        "                <h2>Categoria: melhor filme</h2>\n",
        "                <ul>\n",
        "                    <li>Ford vs Ferrari</li>\n",
        "                    <li>O Irlandês</li>\n",
        "                    <li>JoJo Rabbit</li>\n",
        "                    <li>Coringa</li>\n",
        "                    <li>Adoráveis Mulheres</li>\n",
        "                    <li>História de um Casamento</li>\n",
        "                    <li>1917</li>\n",
        "                    <li>Era Uma Vez Em Hollywood</li>\n",
        "                    <li class=\"vencedor\">Parasita <strong>[VENCEDOR]</strong></li>\n",
        "                </ul>\n",
        "            </div>\n",
        "            <br>\n",
        "            <div class=\"categoria-melhor-ator\">\n",
        "                <h2>Categoria: melhor ator</h2>\n",
        "                <ul>\n",
        "                    <li>Antonio Banderas - Dor e Glória</li>\n",
        "                    <li>Leonardo DiCaprio - Era Uma Vez Em... Hollywood</li>\n",
        "                    <li>Adam Driver - História de um Casamento</li>\n",
        "                    <li class=\"vencedor\">Joaquin Phoenix - Coringa <strong>[VENCEDOR]</strong></li>\n",
        "                    <li>Jonathan Price - Dois Papas</li>\n",
        "                </ul>\n",
        "            </div>\n",
        "            <br>\n",
        "            <div class=\"categoria-melhor-atriz\">\n",
        "                <h2>Categoria: melhor atriz</h2>\n",
        "                <ul>\n",
        "                    <li>Cythia Erivo - Harriet</li>\n",
        "                    <li>Scarlett Johansson - História de um Casamento</li>\n",
        "                    <li>Saoirse Ronan - Adoráveis Mulheres</li>\n",
        "                    <li>Charlize Theron - O Escândalo</li>\n",
        "                    <li class=\"vencedor\">Renée Zellweger - Judy: Muito Além do Arco-Íris <strong>[VENCEDOR]</strong></li>\n",
        "                </ul>\n",
        "            </div>\n",
        "        </div>\n",
        "    </body>\n",
        "</html>"
      ]
    },
    {
      "cell_type": "code",
      "metadata": {
        "execution": {
          "iopub.status.busy": "2021-08-30T19:07:42.942838Z",
          "iopub.execute_input": "2021-08-30T19:07:42.943181Z",
          "iopub.status.idle": "2021-08-30T19:07:42.948963Z",
          "shell.execute_reply.started": "2021-08-30T19:07:42.943151Z",
          "shell.execute_reply": "2021-08-30T19:07:42.947701Z"
        },
        "trusted": true,
        "id": "bwqwBXy9riuc"
      },
      "source": [
        "html = \"\"\"\n",
        "<html>\n",
        "    <head>\n",
        "        <title>Indicados e vencedores do Oscar em 2020</title>\n",
        "    </head>\n",
        "    <body>\n",
        "        <h1>Oscar 2020</h1>\n",
        "        <p>A maior premiação do cinema aconteceu em Fevereiro. Os destaques deste ano foram:</p>\n",
        "        <ul class=\"destaques\">\n",
        "            <li>Coringa</li>\n",
        "            <li>1917</li>\n",
        "            <li>Era Uma Vez em Hollywood</li>\n",
        "            <li>O Irlandês</li>\n",
        "        </ul>\n",
        "        <p>Veja abaixo os vencedores de 3 categorias.</p>\n",
        "        <div>\n",
        "            <div class=\"categoria-melhor-filme\">\n",
        "                <h2>Categoria: melhor filme</h2>\n",
        "                <ul>\n",
        "                    <li>Ford vs Ferrari</li>\n",
        "                    <li>O Irlandês</li>\n",
        "                    <li>JoJo Rabbit</li>\n",
        "                    <li>Coringa</li>\n",
        "                    <li>Adoráveis Mulheres</li>\n",
        "                    <li>História de um Casamento</li>\n",
        "                    <li>1917</li>\n",
        "                    <li>Era Uma Vez Em Hollywood</li>\n",
        "                    <li class=\"vencedor\">Parasita <strong>[VENCEDOR]</strong></li>\n",
        "                </ul>\n",
        "            </div>\n",
        "            <br>\n",
        "            <div class=\"categoria-melhor-ator\">\n",
        "                <h2>Categoria: melhor ator</h2>\n",
        "                <ul>\n",
        "                    <li>Antonio Banderas - Dor e Glória</li>\n",
        "                    <li>Leonardo DiCaprio - Era Uma Vez Em... Hollywood</li>\n",
        "                    <li>Adam Driver - História de um Casamento</li>\n",
        "                    <li class=\"vencedor\">Joaquin Phoenix - Coringa <strong>[VENCEDOR]</strong></li>\n",
        "                    <li>Jonathan Price - Dois Papas</li>\n",
        "                </ul>\n",
        "            </div>\n",
        "            <br>\n",
        "            <div class=\"categoria-melhor-atriz\">\n",
        "                <h2>Categoria: melhor atriz</h2>\n",
        "                <ul>\n",
        "                    <li>Cythia Erivo - Harriet</li>\n",
        "                    <li>Scarlett Johansson - História de um Casamento</li>\n",
        "                    <li>Saoirse Ronan - Adoráveis Mulheres</li>\n",
        "                    <li>Charlize Theron - O Escândalo</li>\n",
        "                    <li class=\"vencedor\">Renée Zellweger - Judy: Muito Além do Arco-Íris <strong>[VENCEDOR]</strong></li>\n",
        "                </ul>\n",
        "            </div>\n",
        "        </div>\n",
        "    </body>\n",
        "</html>\n",
        "\"\"\""
      ],
      "execution_count": null,
      "outputs": []
    },
    {
      "cell_type": "code",
      "metadata": {
        "id": "wUfF4di4riud"
      },
      "source": [
        ""
      ],
      "execution_count": null,
      "outputs": []
    },
    {
      "cell_type": "markdown",
      "metadata": {
        "id": "bTKqWN1hriue"
      },
      "source": [
        "## 2) Criando um objeto Beautiful Soup"
      ]
    },
    {
      "cell_type": "code",
      "metadata": {
        "_uuid": "d629ff2d2480ee46fbb7e2d37f6b5fab8052498a",
        "_cell_guid": "79c7e3d0-c299-4dcb-8224-4455121ee9b0",
        "execution": {
          "iopub.status.busy": "2021-08-30T19:07:51.284177Z",
          "iopub.execute_input": "2021-08-30T19:07:51.284500Z",
          "iopub.status.idle": "2021-08-30T19:07:51.289075Z",
          "shell.execute_reply.started": "2021-08-30T19:07:51.284473Z",
          "shell.execute_reply": "2021-08-30T19:07:51.287913Z"
        },
        "trusted": true,
        "id": "wjOg333_riue"
      },
      "source": [
        "from bs4 import BeautifulSoup"
      ],
      "execution_count": null,
      "outputs": []
    },
    {
      "cell_type": "code",
      "metadata": {
        "execution": {
          "iopub.status.busy": "2021-08-30T19:07:53.934670Z",
          "iopub.execute_input": "2021-08-30T19:07:53.935250Z",
          "iopub.status.idle": "2021-08-30T19:07:53.944674Z",
          "shell.execute_reply.started": "2021-08-30T19:07:53.935203Z",
          "shell.execute_reply": "2021-08-30T19:07:53.943753Z"
        },
        "trusted": true,
        "id": "sc0c9l46riue"
      },
      "source": [
        "soup = BeautifulSoup(html, 'html.parser')"
      ],
      "execution_count": null,
      "outputs": []
    },
    {
      "cell_type": "code",
      "metadata": {
        "execution": {
          "iopub.status.busy": "2021-08-30T19:07:56.778019Z",
          "iopub.execute_input": "2021-08-30T19:07:56.778365Z",
          "iopub.status.idle": "2021-08-30T19:07:56.783990Z",
          "shell.execute_reply.started": "2021-08-30T19:07:56.778336Z",
          "shell.execute_reply": "2021-08-30T19:07:56.782997Z"
        },
        "trusted": true,
        "colab": {
          "base_uri": "https://localhost:8080/"
        },
        "id": "JDdERnRgriuf",
        "outputId": "f1b82f1e-bc0e-49b4-b682-6586ab8995ea"
      },
      "source": [
        "type(soup)"
      ],
      "execution_count": null,
      "outputs": [
        {
          "output_type": "execute_result",
          "data": {
            "text/plain": [
              "bs4.BeautifulSoup"
            ]
          },
          "metadata": {},
          "execution_count": 4
        }
      ]
    },
    {
      "cell_type": "code",
      "metadata": {
        "execution": {
          "iopub.status.busy": "2021-08-30T19:08:00.287238Z",
          "iopub.execute_input": "2021-08-30T19:08:00.287581Z",
          "iopub.status.idle": "2021-08-30T19:08:00.300462Z",
          "shell.execute_reply.started": "2021-08-30T19:08:00.287552Z",
          "shell.execute_reply": "2021-08-30T19:08:00.299631Z"
        },
        "trusted": true,
        "colab": {
          "base_uri": "https://localhost:8080/"
        },
        "id": "mZfijkTTriug",
        "outputId": "50f568b8-aca0-40ec-d0c0-5e38d7e82523"
      },
      "source": [
        "soup"
      ],
      "execution_count": null,
      "outputs": [
        {
          "output_type": "execute_result",
          "data": {
            "text/plain": [
              "\n",
              "<html>\n",
              "<head>\n",
              "<title>Indicados e vencedores do Oscar em 2020</title>\n",
              "</head>\n",
              "<body>\n",
              "<h1>Oscar 2020</h1>\n",
              "<p>A maior premiação do cinema aconteceu em Fevereiro. Os destaques deste ano foram:</p>\n",
              "<ul class=\"destaques\">\n",
              "<li>Coringa</li>\n",
              "<li>1917</li>\n",
              "<li>Era Uma Vez em Hollywood</li>\n",
              "<li>O Irlandês</li>\n",
              "</ul>\n",
              "<p>Veja abaixo os vencedores de 3 categorias.</p>\n",
              "<div>\n",
              "<div class=\"categoria-melhor-filme\">\n",
              "<h2>Categoria: melhor filme</h2>\n",
              "<ul>\n",
              "<li>Ford vs Ferrari</li>\n",
              "<li>O Irlandês</li>\n",
              "<li>JoJo Rabbit</li>\n",
              "<li>Coringa</li>\n",
              "<li>Adoráveis Mulheres</li>\n",
              "<li>História de um Casamento</li>\n",
              "<li>1917</li>\n",
              "<li>Era Uma Vez Em Hollywood</li>\n",
              "<li class=\"vencedor\">Parasita <strong>[VENCEDOR]</strong></li>\n",
              "</ul>\n",
              "</div>\n",
              "<br/>\n",
              "<div class=\"categoria-melhor-ator\">\n",
              "<h2>Categoria: melhor ator</h2>\n",
              "<ul>\n",
              "<li>Antonio Banderas - Dor e Glória</li>\n",
              "<li>Leonardo DiCaprio - Era Uma Vez Em... Hollywood</li>\n",
              "<li>Adam Driver - História de um Casamento</li>\n",
              "<li class=\"vencedor\">Joaquin Phoenix - Coringa <strong>[VENCEDOR]</strong></li>\n",
              "<li>Jonathan Price - Dois Papas</li>\n",
              "</ul>\n",
              "</div>\n",
              "<br/>\n",
              "<div class=\"categoria-melhor-atriz\">\n",
              "<h2>Categoria: melhor atriz</h2>\n",
              "<ul>\n",
              "<li>Cythia Erivo - Harriet</li>\n",
              "<li>Scarlett Johansson - História de um Casamento</li>\n",
              "<li>Saoirse Ronan - Adoráveis Mulheres</li>\n",
              "<li>Charlize Theron - O Escândalo</li>\n",
              "<li class=\"vencedor\">Renée Zellweger - Judy: Muito Além do Arco-Íris <strong>[VENCEDOR]</strong></li>\n",
              "</ul>\n",
              "</div>\n",
              "</div>\n",
              "</body>\n",
              "</html>"
            ]
          },
          "metadata": {},
          "execution_count": 5
        }
      ]
    },
    {
      "cell_type": "code",
      "metadata": {
        "execution": {
          "iopub.status.busy": "2021-08-30T19:08:04.865519Z",
          "iopub.execute_input": "2021-08-30T19:08:04.865854Z",
          "iopub.status.idle": "2021-08-30T19:08:04.872315Z",
          "shell.execute_reply.started": "2021-08-30T19:08:04.865804Z",
          "shell.execute_reply": "2021-08-30T19:08:04.871088Z"
        },
        "trusted": true,
        "id": "VFS7tntzriuh"
      },
      "source": [
        "print(soup.prettify())"
      ],
      "execution_count": null,
      "outputs": []
    },
    {
      "cell_type": "markdown",
      "metadata": {
        "id": "HEUafgxxriuh"
      },
      "source": [
        "## 3) Aprendendo a extrair dados de tags no HTML"
      ]
    },
    {
      "cell_type": "markdown",
      "metadata": {
        "id": "YzKwcg11riui"
      },
      "source": [
        "### 3.1) Começando pelo começo: como extrair o título da página?"
      ]
    },
    {
      "cell_type": "code",
      "metadata": {
        "execution": {
          "iopub.status.busy": "2021-08-30T19:08:10.138471Z",
          "iopub.execute_input": "2021-08-30T19:08:10.138798Z",
          "iopub.status.idle": "2021-08-30T19:08:10.145871Z",
          "shell.execute_reply.started": "2021-08-30T19:08:10.138771Z",
          "shell.execute_reply": "2021-08-30T19:08:10.144842Z"
        },
        "trusted": true,
        "colab": {
          "base_uri": "https://localhost:8080/"
        },
        "id": "a3D363Voriui",
        "outputId": "3c63bd08-72a0-4f99-9231-bf0887d12fad"
      },
      "source": [
        "soup.html.head.title"
      ],
      "execution_count": null,
      "outputs": [
        {
          "output_type": "execute_result",
          "data": {
            "text/plain": [
              "<title>Indicados e vencedores do Oscar em 2020</title>"
            ]
          },
          "metadata": {},
          "execution_count": 7
        }
      ]
    },
    {
      "cell_type": "code",
      "metadata": {
        "execution": {
          "iopub.status.busy": "2021-08-30T19:08:12.668223Z",
          "iopub.execute_input": "2021-08-30T19:08:12.668554Z",
          "iopub.status.idle": "2021-08-30T19:08:12.675280Z",
          "shell.execute_reply.started": "2021-08-30T19:08:12.668526Z",
          "shell.execute_reply": "2021-08-30T19:08:12.674055Z"
        },
        "trusted": true,
        "colab": {
          "base_uri": "https://localhost:8080/"
        },
        "id": "L26Tffe8riuj",
        "outputId": "c5596997-2bf4-4b74-f917-27b03003ae71"
      },
      "source": [
        "soup.title"
      ],
      "execution_count": null,
      "outputs": [
        {
          "output_type": "execute_result",
          "data": {
            "text/plain": [
              "<title>Indicados e vencedores do Oscar em 2020</title>"
            ]
          },
          "metadata": {},
          "execution_count": 8
        }
      ]
    },
    {
      "cell_type": "code",
      "metadata": {
        "execution": {
          "iopub.status.busy": "2021-08-30T19:08:15.467996Z",
          "iopub.execute_input": "2021-08-30T19:08:15.468309Z",
          "iopub.status.idle": "2021-08-30T19:08:15.475038Z",
          "shell.execute_reply.started": "2021-08-30T19:08:15.468283Z",
          "shell.execute_reply": "2021-08-30T19:08:15.473714Z"
        },
        "trusted": true,
        "colab": {
          "base_uri": "https://localhost:8080/",
          "height": 35
        },
        "id": "YvEuV6VEriuk",
        "outputId": "8cbec893-f544-4802-a1df-68a5684140a0"
      },
      "source": [
        "soup.title.get_text()"
      ],
      "execution_count": null,
      "outputs": [
        {
          "output_type": "execute_result",
          "data": {
            "application/vnd.google.colaboratory.intrinsic+json": {
              "type": "string"
            },
            "text/plain": [
              "'Indicados e vencedores do Oscar em 2020'"
            ]
          },
          "metadata": {},
          "execution_count": 9
        }
      ]
    },
    {
      "cell_type": "markdown",
      "metadata": {
        "id": "4JLCVj-zriuk"
      },
      "source": [
        "### 3.2) E se eu quiser extrair o título do maior hierarquia no corpo da página?"
      ]
    },
    {
      "cell_type": "code",
      "metadata": {
        "execution": {
          "iopub.status.busy": "2021-08-30T19:08:19.589763Z",
          "iopub.execute_input": "2021-08-30T19:08:19.590117Z",
          "iopub.status.idle": "2021-08-30T19:08:19.596468Z",
          "shell.execute_reply.started": "2021-08-30T19:08:19.590085Z",
          "shell.execute_reply": "2021-08-30T19:08:19.595402Z"
        },
        "trusted": true,
        "colab": {
          "base_uri": "https://localhost:8080/"
        },
        "id": "IGRHWtKUriul",
        "outputId": "aa26ad82-7f78-4b00-82cc-0244742a7bcc"
      },
      "source": [
        "soup.html.body.h1"
      ],
      "execution_count": null,
      "outputs": [
        {
          "output_type": "execute_result",
          "data": {
            "text/plain": [
              "<h1>Oscar 2020</h1>"
            ]
          },
          "metadata": {},
          "execution_count": 10
        }
      ]
    },
    {
      "cell_type": "code",
      "metadata": {
        "execution": {
          "iopub.status.busy": "2021-08-30T19:08:21.906020Z",
          "iopub.execute_input": "2021-08-30T19:08:21.906346Z",
          "iopub.status.idle": "2021-08-30T19:08:21.912775Z",
          "shell.execute_reply.started": "2021-08-30T19:08:21.906318Z",
          "shell.execute_reply": "2021-08-30T19:08:21.911275Z"
        },
        "trusted": true,
        "colab": {
          "base_uri": "https://localhost:8080/"
        },
        "id": "VY8AG7DDriul",
        "outputId": "130cdb30-6b75-4c3d-830b-9dcfca66ccc1"
      },
      "source": [
        "soup.h1"
      ],
      "execution_count": null,
      "outputs": [
        {
          "output_type": "execute_result",
          "data": {
            "text/plain": [
              "<h1>Oscar 2020</h1>"
            ]
          },
          "metadata": {},
          "execution_count": 11
        }
      ]
    },
    {
      "cell_type": "code",
      "metadata": {
        "execution": {
          "iopub.status.busy": "2021-08-30T19:08:24.135715Z",
          "iopub.execute_input": "2021-08-30T19:08:24.136099Z",
          "iopub.status.idle": "2021-08-30T19:08:24.142399Z",
          "shell.execute_reply.started": "2021-08-30T19:08:24.136068Z",
          "shell.execute_reply": "2021-08-30T19:08:24.141351Z"
        },
        "trusted": true,
        "colab": {
          "base_uri": "https://localhost:8080/"
        },
        "id": "4HL0isqKrium",
        "outputId": "56f8c549-b35f-4f67-c05d-6e38172d0279"
      },
      "source": [
        "soup.h1.get_text()"
      ],
      "execution_count": null,
      "outputs": [
        {
          "output_type": "execute_result",
          "data": {
            "application/vnd.google.colaboratory.intrinsic+json": {
              "type": "string"
            },
            "text/plain": [
              "'Oscar 2020'"
            ]
          },
          "metadata": {},
          "execution_count": 12
        }
      ]
    },
    {
      "cell_type": "markdown",
      "metadata": {
        "id": "5J0Rl1Pvrium"
      },
      "source": [
        "### Questionário 1: com qual dos comandos abaixo eu NÃO coleto o texto \"Categoria: melhor filme\"?\n",
        "\n",
        "a) soup.body.div.div.h2.get_text()\n",
        "\n",
        "b) soup.div.div.h2.get_text()\n",
        "\n",
        "c) soup.div.ul.h2.get_text()\n",
        "\n",
        "d) soup.h2.get_text()"
      ]
    },
    {
      "cell_type": "markdown",
      "metadata": {
        "id": "BFF6BC_uriun"
      },
      "source": [
        "### 3.3) Coletando o texto \"A maior premiação do cinema aconteceu em Fevereiro. Os destaques deste ano foram:\""
      ]
    },
    {
      "cell_type": "code",
      "metadata": {
        "execution": {
          "iopub.status.busy": "2021-08-30T19:13:39.914542Z",
          "iopub.execute_input": "2021-08-30T19:13:39.914953Z",
          "iopub.status.idle": "2021-08-30T19:13:39.920893Z",
          "shell.execute_reply.started": "2021-08-30T19:13:39.914917Z",
          "shell.execute_reply": "2021-08-30T19:13:39.920068Z"
        },
        "trusted": true,
        "colab": {
          "base_uri": "https://localhost:8080/"
        },
        "id": "a-LTAL-Uriun",
        "outputId": "d2d05462-8c61-451c-d59f-17ea448401a7"
      },
      "source": [
        "soup.p.get_text()"
      ],
      "execution_count": null,
      "outputs": [
        {
          "output_type": "execute_result",
          "data": {
            "application/vnd.google.colaboratory.intrinsic+json": {
              "type": "string"
            },
            "text/plain": [
              "'A maior premiação do cinema aconteceu em Fevereiro. Os destaques deste ano foram:'"
            ]
          },
          "metadata": {},
          "execution_count": 43
        }
      ]
    },
    {
      "cell_type": "markdown",
      "metadata": {
        "id": "-u0sGNV0riun"
      },
      "source": [
        "### Mas... E se eu quiser coletar o texto \"Veja abaixo os vencedores de 3 categorias.\"?"
      ]
    },
    {
      "cell_type": "markdown",
      "metadata": {
        "id": "f40aP0ikriun"
      },
      "source": [
        "### 3.4) O método find()"
      ]
    },
    {
      "cell_type": "code",
      "metadata": {
        "execution": {
          "iopub.status.busy": "2021-08-30T19:13:44.108553Z",
          "iopub.execute_input": "2021-08-30T19:13:44.108979Z",
          "iopub.status.idle": "2021-08-30T19:13:44.115812Z",
          "shell.execute_reply.started": "2021-08-30T19:13:44.108937Z",
          "shell.execute_reply": "2021-08-30T19:13:44.114782Z"
        },
        "trusted": true,
        "colab": {
          "base_uri": "https://localhost:8080/"
        },
        "id": "LKH83JtPriuo",
        "outputId": "3f446857-47f2-45a3-ad53-b7b77e165973"
      },
      "source": [
        "soup.find(\"p\")"
      ],
      "execution_count": null,
      "outputs": [
        {
          "output_type": "execute_result",
          "data": {
            "text/plain": [
              "<p>A maior premiação do cinema aconteceu em Fevereiro. Os destaques deste ano foram:</p>"
            ]
          },
          "metadata": {},
          "execution_count": 41
        }
      ]
    },
    {
      "cell_type": "code",
      "metadata": {
        "execution": {
          "iopub.status.busy": "2021-08-30T19:13:55.494436Z",
          "iopub.execute_input": "2021-08-30T19:13:55.494774Z",
          "iopub.status.idle": "2021-08-30T19:13:55.501681Z",
          "shell.execute_reply.started": "2021-08-30T19:13:55.494743Z",
          "shell.execute_reply": "2021-08-30T19:13:55.500748Z"
        },
        "trusted": true,
        "colab": {
          "base_uri": "https://localhost:8080/"
        },
        "id": "f66HAOnoriuo",
        "outputId": "c08e2982-5cfb-4a6f-f415-860437c5dec6"
      },
      "source": [
        "soup.find(\"p\").get_text()"
      ],
      "execution_count": null,
      "outputs": [
        {
          "output_type": "execute_result",
          "data": {
            "application/vnd.google.colaboratory.intrinsic+json": {
              "type": "string"
            },
            "text/plain": [
              "'A maior premiação do cinema aconteceu em Fevereiro. Os destaques deste ano foram:'"
            ]
          },
          "metadata": {},
          "execution_count": 42
        }
      ]
    },
    {
      "cell_type": "markdown",
      "metadata": {
        "id": "8Qdb5n0ariup"
      },
      "source": [
        "### 3.5) O método find_all()"
      ]
    },
    {
      "cell_type": "code",
      "metadata": {
        "execution": {
          "iopub.status.busy": "2021-08-30T19:14:05.339742Z",
          "iopub.execute_input": "2021-08-30T19:14:05.340081Z",
          "iopub.status.idle": "2021-08-30T19:14:05.347887Z",
          "shell.execute_reply.started": "2021-08-30T19:14:05.340052Z",
          "shell.execute_reply": "2021-08-30T19:14:05.346798Z"
        },
        "trusted": true,
        "colab": {
          "base_uri": "https://localhost:8080/"
        },
        "id": "m8YBvb0Zriup",
        "outputId": "16aae4fe-22b4-4387-8677-cc626215effc"
      },
      "source": [
        "soup.find_all(\"p\")"
      ],
      "execution_count": null,
      "outputs": [
        {
          "output_type": "execute_result",
          "data": {
            "text/plain": [
              "[<p>A maior premiação do cinema aconteceu em Fevereiro. Os destaques deste ano foram:</p>,\n",
              " <p>Veja abaixo os vencedores de 3 categorias.</p>]"
            ]
          },
          "metadata": {},
          "execution_count": 37
        }
      ]
    },
    {
      "cell_type": "code",
      "metadata": {
        "execution": {
          "iopub.status.busy": "2021-08-30T19:14:17.167422Z",
          "iopub.execute_input": "2021-08-30T19:14:17.167904Z",
          "iopub.status.idle": "2021-08-30T19:14:17.174953Z",
          "shell.execute_reply.started": "2021-08-30T19:14:17.167875Z",
          "shell.execute_reply": "2021-08-30T19:14:17.173868Z"
        },
        "trusted": true,
        "colab": {
          "base_uri": "https://localhost:8080/"
        },
        "id": "-4-HfcXsriuq",
        "outputId": "6eda2f25-8bbf-4359-dcca-fa81736e7c98"
      },
      "source": [
        "soup.find_all(\"p\")[1]"
      ],
      "execution_count": null,
      "outputs": [
        {
          "output_type": "execute_result",
          "data": {
            "text/plain": [
              "<p>Veja abaixo os vencedores de 3 categorias.</p>"
            ]
          },
          "metadata": {},
          "execution_count": 38
        }
      ]
    },
    {
      "cell_type": "code",
      "metadata": {
        "execution": {
          "iopub.status.busy": "2021-08-30T19:14:24.526582Z",
          "iopub.execute_input": "2021-08-30T19:14:24.526946Z",
          "iopub.status.idle": "2021-08-30T19:14:24.534719Z",
          "shell.execute_reply.started": "2021-08-30T19:14:24.526913Z",
          "shell.execute_reply": "2021-08-30T19:14:24.533512Z"
        },
        "trusted": true,
        "colab": {
          "base_uri": "https://localhost:8080/"
        },
        "id": "2XiQsGmrriur",
        "outputId": "017abc6e-43ab-4988-9060-3854f7db3ccd"
      },
      "source": [
        "soup.find_all(\"p\")[1].get_text()"
      ],
      "execution_count": null,
      "outputs": [
        {
          "output_type": "execute_result",
          "data": {
            "application/vnd.google.colaboratory.intrinsic+json": {
              "type": "string"
            },
            "text/plain": [
              "'Veja abaixo os vencedores de 3 categorias.'"
            ]
          },
          "metadata": {},
          "execution_count": 39
        }
      ]
    },
    {
      "cell_type": "code",
      "metadata": {
        "execution": {
          "iopub.status.busy": "2021-08-30T19:14:31.270846Z",
          "iopub.execute_input": "2021-08-30T19:14:31.271339Z",
          "iopub.status.idle": "2021-08-30T19:14:31.277008Z",
          "shell.execute_reply.started": "2021-08-30T19:14:31.271309Z",
          "shell.execute_reply": "2021-08-30T19:14:31.276071Z"
        },
        "trusted": true,
        "colab": {
          "base_uri": "https://localhost:8080/"
        },
        "id": "aHDIu4tkriur",
        "outputId": "35fd08c3-242c-4b0a-d12b-41411e8d7ffc"
      },
      "source": [
        "soup.find_all(\"h2\")"
      ],
      "execution_count": null,
      "outputs": [
        {
          "output_type": "execute_result",
          "data": {
            "text/plain": [
              "[<h2>Categoria: melhor filme</h2>,\n",
              " <h2>Categoria: melhor ator</h2>,\n",
              " <h2>Categoria: melhor atriz</h2>]"
            ]
          },
          "metadata": {},
          "execution_count": 40
        }
      ]
    },
    {
      "cell_type": "markdown",
      "metadata": {
        "id": "LPnpOmoTrius"
      },
      "source": [
        "### 3.6) Coletando a lista de destaques"
      ]
    },
    {
      "cell_type": "code",
      "metadata": {
        "execution": {
          "iopub.status.busy": "2021-08-30T19:14:35.681577Z",
          "iopub.execute_input": "2021-08-30T19:14:35.681957Z",
          "iopub.status.idle": "2021-08-30T19:14:35.688862Z",
          "shell.execute_reply.started": "2021-08-30T19:14:35.681922Z",
          "shell.execute_reply": "2021-08-30T19:14:35.687766Z"
        },
        "trusted": true,
        "colab": {
          "base_uri": "https://localhost:8080/"
        },
        "id": "xLfznyWurius",
        "outputId": "00921156-bce5-4a7c-bad3-64a7ac9ab8bb"
      },
      "source": [
        "soup.ul.find_all(\"li\")"
      ],
      "execution_count": null,
      "outputs": [
        {
          "output_type": "execute_result",
          "data": {
            "text/plain": [
              "[<li>Coringa</li>,\n",
              " <li>1917</li>,\n",
              " <li>Era Uma Vez em Hollywood</li>,\n",
              " <li>O Irlandês</li>]"
            ]
          },
          "metadata": {},
          "execution_count": 35
        }
      ]
    },
    {
      "cell_type": "code",
      "metadata": {
        "execution": {
          "iopub.status.busy": "2021-08-30T19:14:38.529763Z",
          "iopub.execute_input": "2021-08-30T19:14:38.530172Z",
          "iopub.status.idle": "2021-08-30T19:14:38.536250Z",
          "shell.execute_reply.started": "2021-08-30T19:14:38.530141Z",
          "shell.execute_reply": "2021-08-30T19:14:38.534968Z"
        },
        "trusted": true,
        "colab": {
          "base_uri": "https://localhost:8080/"
        },
        "id": "3QMK-cJarius",
        "outputId": "4d84e782-0192-4401-fbc3-9ab51e9a96f6"
      },
      "source": [
        "print(\"Lista de destaques:\")\n",
        "\n",
        "for filme in soup.ul.find_all(\"li\"):\n",
        "    print(filme.get_text())"
      ],
      "execution_count": null,
      "outputs": [
        {
          "output_type": "stream",
          "name": "stdout",
          "text": [
            "Lista de destaques:\n",
            "Coringa\n",
            "1917\n",
            "Era Uma Vez em Hollywood\n",
            "O Irlandês\n"
          ]
        }
      ]
    },
    {
      "cell_type": "markdown",
      "metadata": {
        "id": "FDbh3J_drius"
      },
      "source": [
        "### Mini-desafio 1: colete todos os filmes da categoria de melhor filme"
      ]
    },
    {
      "cell_type": "code",
      "metadata": {
        "execution": {
          "iopub.status.busy": "2021-08-30T19:22:02.563547Z",
          "iopub.execute_input": "2021-08-30T19:22:02.563908Z",
          "iopub.status.idle": "2021-08-30T19:22:02.571257Z",
          "shell.execute_reply.started": "2021-08-30T19:22:02.563872Z",
          "shell.execute_reply": "2021-08-30T19:22:02.570506Z"
        },
        "trusted": true,
        "colab": {
          "base_uri": "https://localhost:8080/"
        },
        "id": "KSFGF-surius",
        "outputId": "d8219518-59e6-4b21-e5d6-cd9ac93b4d97"
      },
      "source": [
        "soup.div.div.ul.find_all(\"li\")# Insira a sua resposta aqui"
      ],
      "execution_count": null,
      "outputs": [
        {
          "output_type": "execute_result",
          "data": {
            "text/plain": [
              "[<li>Ford vs Ferrari</li>,\n",
              " <li>O Irlandês</li>,\n",
              " <li>JoJo Rabbit</li>,\n",
              " <li>Coringa</li>,\n",
              " <li>Adoráveis Mulheres</li>,\n",
              " <li>História de um Casamento</li>,\n",
              " <li>1917</li>,\n",
              " <li>Era Uma Vez Em Hollywood</li>,\n",
              " <li class=\"vencedor\">Parasita <strong>[VENCEDOR]</strong></li>]"
            ]
          },
          "metadata": {},
          "execution_count": 34
        }
      ]
    },
    {
      "cell_type": "markdown",
      "metadata": {
        "id": "2N92WaBZriut"
      },
      "source": [
        "### 3.7) O método find_all() pode ser equivalente ao método find()"
      ]
    },
    {
      "cell_type": "code",
      "metadata": {
        "execution": {
          "iopub.status.busy": "2021-08-30T19:27:06.534314Z",
          "iopub.execute_input": "2021-08-30T19:27:06.534679Z",
          "iopub.status.idle": "2021-08-30T19:27:06.542264Z",
          "shell.execute_reply.started": "2021-08-30T19:27:06.534649Z",
          "shell.execute_reply": "2021-08-30T19:27:06.541053Z"
        },
        "trusted": true,
        "colab": {
          "base_uri": "https://localhost:8080/"
        },
        "id": "1jyh0RyLriut",
        "outputId": "9395a1ec-f0ce-4922-8550-ca0cf75064f8"
      },
      "source": [
        "soup.find_all('p', limit = 1)"
      ],
      "execution_count": null,
      "outputs": [
        {
          "output_type": "execute_result",
          "data": {
            "text/plain": [
              "[<p>A maior premiação do cinema aconteceu em Fevereiro. Os destaques deste ano foram:</p>]"
            ]
          },
          "metadata": {},
          "execution_count": 44
        }
      ]
    },
    {
      "cell_type": "code",
      "metadata": {
        "execution": {
          "iopub.status.busy": "2021-08-30T19:27:10.787581Z",
          "iopub.execute_input": "2021-08-30T19:27:10.787958Z",
          "iopub.status.idle": "2021-08-30T19:27:10.797147Z",
          "shell.execute_reply.started": "2021-08-30T19:27:10.787923Z",
          "shell.execute_reply": "2021-08-30T19:27:10.794960Z"
        },
        "trusted": true,
        "colab": {
          "base_uri": "https://localhost:8080/"
        },
        "id": "_mpfFnTLriut",
        "outputId": "62f01921-668d-429e-83a1-7c54c43cbfef"
      },
      "source": [
        "soup.find_all('p')[0]"
      ],
      "execution_count": null,
      "outputs": [
        {
          "output_type": "execute_result",
          "data": {
            "text/plain": [
              "<p>A maior premiação do cinema aconteceu em Fevereiro. Os destaques deste ano foram:</p>"
            ]
          },
          "metadata": {},
          "execution_count": 45
        }
      ]
    },
    {
      "cell_type": "markdown",
      "metadata": {
        "id": "5ItxO110riut"
      },
      "source": [
        "### 3.8) Também posso passar uma lista de tags para o find_all()"
      ]
    },
    {
      "cell_type": "code",
      "metadata": {
        "execution": {
          "iopub.status.busy": "2021-08-30T19:27:22.759369Z",
          "iopub.execute_input": "2021-08-30T19:27:22.759720Z",
          "iopub.status.idle": "2021-08-30T19:27:22.768840Z",
          "shell.execute_reply.started": "2021-08-30T19:27:22.759688Z",
          "shell.execute_reply": "2021-08-30T19:27:22.767925Z"
        },
        "trusted": true,
        "colab": {
          "base_uri": "https://localhost:8080/"
        },
        "id": "iFP45Rifriut",
        "outputId": "ed5a3af5-7795-4885-b48f-3aa10bc7aea9"
      },
      "source": [
        "soup.find_all([\"h2\", \"li\"])"
      ],
      "execution_count": null,
      "outputs": [
        {
          "output_type": "execute_result",
          "data": {
            "text/plain": [
              "[<li>Coringa</li>,\n",
              " <li>1917</li>,\n",
              " <li>Era Uma Vez em Hollywood</li>,\n",
              " <li>O Irlandês</li>,\n",
              " <h2>Categoria: melhor filme</h2>,\n",
              " <li>Ford vs Ferrari</li>,\n",
              " <li>O Irlandês</li>,\n",
              " <li>JoJo Rabbit</li>,\n",
              " <li>Coringa</li>,\n",
              " <li>Adoráveis Mulheres</li>,\n",
              " <li>História de um Casamento</li>,\n",
              " <li>1917</li>,\n",
              " <li>Era Uma Vez Em Hollywood</li>,\n",
              " <li class=\"vencedor\">Parasita <strong>[VENCEDOR]</strong></li>,\n",
              " <h2>Categoria: melhor ator</h2>,\n",
              " <li>Antonio Banderas - Dor e Glória</li>,\n",
              " <li>Leonardo DiCaprio - Era Uma Vez Em... Hollywood</li>,\n",
              " <li>Adam Driver - História de um Casamento</li>,\n",
              " <li class=\"vencedor\">Joaquin Phoenix - Coringa <strong>[VENCEDOR]</strong></li>,\n",
              " <li>Jonathan Price - Dois Papas</li>,\n",
              " <h2>Categoria: melhor atriz</h2>,\n",
              " <li>Cythia Erivo - Harriet</li>,\n",
              " <li>Scarlett Johansson - História de um Casamento</li>,\n",
              " <li>Saoirse Ronan - Adoráveis Mulheres</li>,\n",
              " <li>Charlize Theron - O Escândalo</li>,\n",
              " <li class=\"vencedor\">Renée Zellweger - Judy: Muito Além do Arco-Íris <strong>[VENCEDOR]</strong></li>]"
            ]
          },
          "metadata": {},
          "execution_count": 46
        }
      ]
    },
    {
      "cell_type": "markdown",
      "metadata": {
        "id": "p4ymBFE5riuu"
      },
      "source": [
        "### 3.9) Posso buscar por tags com um conteúdo específico?"
      ]
    },
    {
      "cell_type": "code",
      "metadata": {
        "execution": {
          "iopub.status.busy": "2021-08-30T19:27:30.239891Z",
          "iopub.execute_input": "2021-08-30T19:27:30.240240Z",
          "iopub.status.idle": "2021-08-30T19:27:30.246870Z",
          "shell.execute_reply.started": "2021-08-30T19:27:30.240209Z",
          "shell.execute_reply": "2021-08-30T19:27:30.245980Z"
        },
        "trusted": true,
        "colab": {
          "base_uri": "https://localhost:8080/"
        },
        "id": "3-aFfuVvriuu",
        "outputId": "f0182bf9-e707-4547-b226-798d825590fc"
      },
      "source": [
        "soup.find_all(\"li\", text=\"Coringa\")"
      ],
      "execution_count": null,
      "outputs": [
        {
          "output_type": "execute_result",
          "data": {
            "text/plain": [
              "[<li>Coringa</li>, <li>Coringa</li>]"
            ]
          },
          "metadata": {},
          "execution_count": 47
        }
      ]
    },
    {
      "cell_type": "code",
      "metadata": {
        "execution": {
          "iopub.status.busy": "2021-08-30T19:27:36.383850Z",
          "iopub.execute_input": "2021-08-30T19:27:36.384212Z",
          "iopub.status.idle": "2021-08-30T19:27:36.391433Z",
          "shell.execute_reply.started": "2021-08-30T19:27:36.384184Z",
          "shell.execute_reply": "2021-08-30T19:27:36.390185Z"
        },
        "trusted": true,
        "colab": {
          "base_uri": "https://localhost:8080/"
        },
        "id": "Nlhpw8vOriuu",
        "outputId": "06bef3d0-e141-4541-dc4f-79511e5bbe72"
      },
      "source": [
        "soup.find_all(\"li\", text=\"1917\")"
      ],
      "execution_count": null,
      "outputs": [
        {
          "output_type": "execute_result",
          "data": {
            "text/plain": [
              "[<li>1917</li>, <li>1917</li>]"
            ]
          },
          "metadata": {},
          "execution_count": 48
        }
      ]
    },
    {
      "cell_type": "code",
      "metadata": {
        "execution": {
          "iopub.status.busy": "2021-08-30T19:27:41.533458Z",
          "iopub.execute_input": "2021-08-30T19:27:41.533785Z",
          "iopub.status.idle": "2021-08-30T19:27:41.540876Z",
          "shell.execute_reply.started": "2021-08-30T19:27:41.533759Z",
          "shell.execute_reply": "2021-08-30T19:27:41.539869Z"
        },
        "trusted": true,
        "colab": {
          "base_uri": "https://localhost:8080/"
        },
        "id": "jO3vrHf2riuv",
        "outputId": "70e10211-5814-4eca-e075-6abba74f74b9"
      },
      "source": [
        "soup.find_all(\"li\", text=\"O Irlandês\")"
      ],
      "execution_count": null,
      "outputs": [
        {
          "output_type": "execute_result",
          "data": {
            "text/plain": [
              "[<li>O Irlandês</li>, <li>O Irlandês</li>]"
            ]
          },
          "metadata": {},
          "execution_count": 49
        }
      ]
    },
    {
      "cell_type": "code",
      "metadata": {
        "execution": {
          "iopub.status.busy": "2021-08-30T19:27:47.266810Z",
          "iopub.execute_input": "2021-08-30T19:27:47.267171Z",
          "iopub.status.idle": "2021-08-30T19:27:47.271519Z",
          "shell.execute_reply.started": "2021-08-30T19:27:47.267142Z",
          "shell.execute_reply": "2021-08-30T19:27:47.270519Z"
        },
        "trusted": true,
        "id": "QjVLHzYZriuv"
      },
      "source": [
        "import re"
      ],
      "execution_count": null,
      "outputs": []
    },
    {
      "cell_type": "code",
      "metadata": {
        "execution": {
          "iopub.status.busy": "2021-08-30T19:28:41.890160Z",
          "iopub.execute_input": "2021-08-30T19:28:41.890495Z",
          "iopub.status.idle": "2021-08-30T19:28:41.897982Z",
          "shell.execute_reply.started": "2021-08-30T19:28:41.890464Z",
          "shell.execute_reply": "2021-08-30T19:28:41.896701Z"
        },
        "trusted": true,
        "colab": {
          "base_uri": "https://localhost:8080/"
        },
        "id": "FScmfzdGriuv",
        "outputId": "930189a4-7fb0-436f-9e73-5b78f5bf0aec"
      },
      "source": [
        "soup.find_all(\"h2\", text=re.compile(\"^Categoria\"))"
      ],
      "execution_count": null,
      "outputs": [
        {
          "output_type": "execute_result",
          "data": {
            "text/plain": [
              "[<h2>Categoria: melhor filme</h2>,\n",
              " <h2>Categoria: melhor ator</h2>,\n",
              " <h2>Categoria: melhor atriz</h2>]"
            ]
          },
          "metadata": {},
          "execution_count": 51
        }
      ]
    },
    {
      "cell_type": "markdown",
      "metadata": {
        "id": "jU18WeQXriuv"
      },
      "source": [
        "### 3.10) Coletando por meio de atributos"
      ]
    },
    {
      "cell_type": "code",
      "metadata": {
        "execution": {
          "iopub.status.busy": "2021-08-30T19:28:44.457184Z",
          "iopub.execute_input": "2021-08-30T19:28:44.457508Z",
          "iopub.status.idle": "2021-08-30T19:28:44.464336Z",
          "shell.execute_reply.started": "2021-08-30T19:28:44.457480Z",
          "shell.execute_reply": "2021-08-30T19:28:44.463251Z"
        },
        "trusted": true,
        "colab": {
          "base_uri": "https://localhost:8080/"
        },
        "id": "_5gvSgjgriuw",
        "outputId": "7f4b780c-7647-46a4-e972-0e004b9bbf1b"
      },
      "source": [
        "soup.find_all(\"ul\", {\"class\": \"destaques\"})"
      ],
      "execution_count": null,
      "outputs": [
        {
          "output_type": "execute_result",
          "data": {
            "text/plain": [
              "[<ul class=\"destaques\">\n",
              " <li>Coringa</li>\n",
              " <li>1917</li>\n",
              " <li>Era Uma Vez em Hollywood</li>\n",
              " <li>O Irlandês</li>\n",
              " </ul>]"
            ]
          },
          "metadata": {},
          "execution_count": 52
        }
      ]
    },
    {
      "cell_type": "code",
      "metadata": {
        "execution": {
          "iopub.status.busy": "2021-08-30T19:28:47.433729Z",
          "iopub.execute_input": "2021-08-30T19:28:47.434086Z",
          "iopub.status.idle": "2021-08-30T19:28:47.441518Z",
          "shell.execute_reply.started": "2021-08-30T19:28:47.434055Z",
          "shell.execute_reply": "2021-08-30T19:28:47.440269Z"
        },
        "trusted": true,
        "colab": {
          "base_uri": "https://localhost:8080/"
        },
        "id": "PWwPpvhuriuw",
        "outputId": "449e65cd-bae2-42d3-ebda-c0a358972caf"
      },
      "source": [
        "for item in soup.find_all(\"ul\", {\"class\": \"destaques\"}):\n",
        "    print(item.get_text())"
      ],
      "execution_count": null,
      "outputs": [
        {
          "output_type": "stream",
          "name": "stdout",
          "text": [
            "\n",
            "Coringa\n",
            "1917\n",
            "Era Uma Vez em Hollywood\n",
            "O Irlandês\n",
            "\n"
          ]
        }
      ]
    },
    {
      "cell_type": "code",
      "metadata": {
        "execution": {
          "iopub.status.busy": "2021-08-30T19:28:49.784265Z",
          "iopub.execute_input": "2021-08-30T19:28:49.785247Z",
          "iopub.status.idle": "2021-08-30T19:28:49.794920Z",
          "shell.execute_reply.started": "2021-08-30T19:28:49.785197Z",
          "shell.execute_reply": "2021-08-30T19:28:49.793805Z"
        },
        "trusted": true,
        "colab": {
          "base_uri": "https://localhost:8080/"
        },
        "id": "WtGmYA7uriuw",
        "outputId": "b0cea751-9300-495b-eae8-577502770ef3"
      },
      "source": [
        "soup.find_all(\"li\", {\"class\": \"vencedor\"})"
      ],
      "execution_count": null,
      "outputs": [
        {
          "output_type": "execute_result",
          "data": {
            "text/plain": [
              "[<li class=\"vencedor\">Parasita <strong>[VENCEDOR]</strong></li>,\n",
              " <li class=\"vencedor\">Joaquin Phoenix - Coringa <strong>[VENCEDOR]</strong></li>,\n",
              " <li class=\"vencedor\">Renée Zellweger - Judy: Muito Além do Arco-Íris <strong>[VENCEDOR]</strong></li>]"
            ]
          },
          "metadata": {},
          "execution_count": 54
        }
      ]
    },
    {
      "cell_type": "code",
      "metadata": {
        "execution": {
          "iopub.status.busy": "2021-08-30T19:28:52.656751Z",
          "iopub.execute_input": "2021-08-30T19:28:52.657316Z",
          "iopub.status.idle": "2021-08-30T19:28:52.664780Z",
          "shell.execute_reply.started": "2021-08-30T19:28:52.657271Z",
          "shell.execute_reply": "2021-08-30T19:28:52.663533Z"
        },
        "trusted": true,
        "colab": {
          "base_uri": "https://localhost:8080/"
        },
        "id": "BztmDZSrriuw",
        "outputId": "5ae1b232-18e3-4779-c7fe-40b8d01316ae"
      },
      "source": [
        "for item in soup.find_all(\"li\", {\"class\": \"vencedor\"}):\n",
        "    print(item.get_text())"
      ],
      "execution_count": null,
      "outputs": [
        {
          "output_type": "stream",
          "name": "stdout",
          "text": [
            "Parasita [VENCEDOR]\n",
            "Joaquin Phoenix - Coringa [VENCEDOR]\n",
            "Renée Zellweger - Judy: Muito Além do Arco-Íris [VENCEDOR]\n"
          ]
        }
      ]
    },
    {
      "cell_type": "code",
      "metadata": {
        "execution": {
          "iopub.status.busy": "2021-08-30T19:28:55.969566Z",
          "iopub.execute_input": "2021-08-30T19:28:55.969915Z",
          "iopub.status.idle": "2021-08-30T19:28:55.976265Z",
          "shell.execute_reply.started": "2021-08-30T19:28:55.969882Z",
          "shell.execute_reply": "2021-08-30T19:28:55.975459Z"
        },
        "trusted": true,
        "colab": {
          "base_uri": "https://localhost:8080/"
        },
        "id": "SLNdhor1riuw",
        "outputId": "c084a33c-fe54-490a-c5fb-68a23f42ee40"
      },
      "source": [
        "for item in soup.find_all(\"li\", {\"class\": \"vencedor\"}):\n",
        "    print(item.get_text().replace(\" [VENCEDOR]\", \"\"))"
      ],
      "execution_count": null,
      "outputs": [
        {
          "output_type": "stream",
          "name": "stdout",
          "text": [
            "Parasita\n",
            "Joaquin Phoenix - Coringa\n",
            "Renée Zellweger - Judy: Muito Além do Arco-Íris\n"
          ]
        }
      ]
    },
    {
      "cell_type": "markdown",
      "metadata": {
        "id": "feg9p2eQriuw"
      },
      "source": [
        "### 3.11) Parents, siblings, next e previous: outra forma de percorrer o HTML\n",
        "\n",
        "* Quando as tags que precisamos pesquisar não apresentam atributos que as diferencie (como as classes, por exemplo), podemos percorrer o HTML de outras formas."
      ]
    },
    {
      "cell_type": "markdown",
      "metadata": {
        "id": "4uRRMUU-riux"
      },
      "source": [
        "#### Parents"
      ]
    },
    {
      "cell_type": "code",
      "metadata": {
        "execution": {
          "iopub.status.busy": "2021-08-30T19:29:37.440626Z",
          "iopub.execute_input": "2021-08-30T19:29:37.440978Z",
          "iopub.status.idle": "2021-08-30T19:29:37.447422Z",
          "shell.execute_reply.started": "2021-08-30T19:29:37.440948Z",
          "shell.execute_reply": "2021-08-30T19:29:37.446456Z"
        },
        "trusted": true,
        "colab": {
          "base_uri": "https://localhost:8080/"
        },
        "id": "AMAyYHgoriux",
        "outputId": "48dc672f-1dba-482d-eba3-7d2311fc0a8a"
      },
      "source": [
        "soup.find(\"li\", {\"class\": \"vencedor\"}).get_text()"
      ],
      "execution_count": null,
      "outputs": [
        {
          "output_type": "execute_result",
          "data": {
            "application/vnd.google.colaboratory.intrinsic+json": {
              "type": "string"
            },
            "text/plain": [
              "'Parasita [VENCEDOR]'"
            ]
          },
          "metadata": {},
          "execution_count": 57
        }
      ]
    },
    {
      "cell_type": "code",
      "metadata": {
        "execution": {
          "iopub.status.busy": "2021-08-30T19:29:41.954626Z",
          "iopub.execute_input": "2021-08-30T19:29:41.955030Z",
          "iopub.status.idle": "2021-08-30T19:29:41.964764Z",
          "shell.execute_reply.started": "2021-08-30T19:29:41.954997Z",
          "shell.execute_reply": "2021-08-30T19:29:41.963630Z"
        },
        "trusted": true,
        "colab": {
          "base_uri": "https://localhost:8080/"
        },
        "id": "ovsJaElCriux",
        "outputId": "66061c62-e851-45da-95f7-a25cd84d0ed0"
      },
      "source": [
        "soup.find(\"li\", {\"class\": \"vencedor\"}).find_parent()"
      ],
      "execution_count": null,
      "outputs": [
        {
          "output_type": "execute_result",
          "data": {
            "text/plain": [
              "<ul>\n",
              "<li>Ford vs Ferrari</li>\n",
              "<li>O Irlandês</li>\n",
              "<li>JoJo Rabbit</li>\n",
              "<li>Coringa</li>\n",
              "<li>Adoráveis Mulheres</li>\n",
              "<li>História de um Casamento</li>\n",
              "<li>1917</li>\n",
              "<li>Era Uma Vez Em Hollywood</li>\n",
              "<li class=\"vencedor\">Parasita <strong>[VENCEDOR]</strong></li>\n",
              "</ul>"
            ]
          },
          "metadata": {},
          "execution_count": 58
        }
      ]
    },
    {
      "cell_type": "code",
      "metadata": {
        "execution": {
          "iopub.status.busy": "2021-08-30T19:29:45.031338Z",
          "iopub.execute_input": "2021-08-30T19:29:45.031676Z",
          "iopub.status.idle": "2021-08-30T19:29:45.039743Z",
          "shell.execute_reply.started": "2021-08-30T19:29:45.031645Z",
          "shell.execute_reply": "2021-08-30T19:29:45.038778Z"
        },
        "trusted": true,
        "colab": {
          "base_uri": "https://localhost:8080/"
        },
        "id": "wTfWuT-2riux",
        "outputId": "b326f97e-4b9d-4b82-f023-f699ce9455b5"
      },
      "source": [
        "soup.find(\"li\", {\"class\": \"vencedor\"}).find_parent('div')"
      ],
      "execution_count": null,
      "outputs": [
        {
          "output_type": "execute_result",
          "data": {
            "text/plain": [
              "<div class=\"categoria-melhor-filme\">\n",
              "<h2>Categoria: melhor filme</h2>\n",
              "<ul>\n",
              "<li>Ford vs Ferrari</li>\n",
              "<li>O Irlandês</li>\n",
              "<li>JoJo Rabbit</li>\n",
              "<li>Coringa</li>\n",
              "<li>Adoráveis Mulheres</li>\n",
              "<li>História de um Casamento</li>\n",
              "<li>1917</li>\n",
              "<li>Era Uma Vez Em Hollywood</li>\n",
              "<li class=\"vencedor\">Parasita <strong>[VENCEDOR]</strong></li>\n",
              "</ul>\n",
              "</div>"
            ]
          },
          "metadata": {},
          "execution_count": 59
        }
      ]
    },
    {
      "cell_type": "code",
      "metadata": {
        "execution": {
          "iopub.status.busy": "2021-08-30T19:29:49.387127Z",
          "iopub.execute_input": "2021-08-30T19:29:49.387510Z",
          "iopub.status.idle": "2021-08-30T19:29:49.394697Z",
          "shell.execute_reply.started": "2021-08-30T19:29:49.387477Z",
          "shell.execute_reply": "2021-08-30T19:29:49.393448Z"
        },
        "trusted": true,
        "colab": {
          "base_uri": "https://localhost:8080/"
        },
        "id": "fhZ2-DX0riux",
        "outputId": "a5da3929-2168-435c-f196-41b44c7dfe04"
      },
      "source": [
        "soup.find(\"li\", {\"class\": \"vencedor\"}).find_parent('div').find('h2').get_text()"
      ],
      "execution_count": null,
      "outputs": [
        {
          "output_type": "execute_result",
          "data": {
            "application/vnd.google.colaboratory.intrinsic+json": {
              "type": "string"
            },
            "text/plain": [
              "'Categoria: melhor filme'"
            ]
          },
          "metadata": {},
          "execution_count": 60
        }
      ]
    },
    {
      "cell_type": "markdown",
      "metadata": {
        "id": "HQO8HCvOriux"
      },
      "source": [
        "#### Siblings"
      ]
    },
    {
      "cell_type": "code",
      "metadata": {
        "execution": {
          "iopub.status.busy": "2021-08-30T19:29:51.828727Z",
          "iopub.execute_input": "2021-08-30T19:29:51.829074Z",
          "iopub.status.idle": "2021-08-30T19:29:51.835768Z",
          "shell.execute_reply.started": "2021-08-30T19:29:51.829045Z",
          "shell.execute_reply": "2021-08-30T19:29:51.834699Z"
        },
        "trusted": true,
        "colab": {
          "base_uri": "https://localhost:8080/"
        },
        "id": "56_qk9wUriuy",
        "outputId": "9159680c-2e12-4f9d-9fa5-4623fe2529a8"
      },
      "source": [
        "soup.find('h2').get_text()"
      ],
      "execution_count": null,
      "outputs": [
        {
          "output_type": "execute_result",
          "data": {
            "application/vnd.google.colaboratory.intrinsic+json": {
              "type": "string"
            },
            "text/plain": [
              "'Categoria: melhor filme'"
            ]
          },
          "metadata": {},
          "execution_count": 61
        }
      ]
    },
    {
      "cell_type": "code",
      "metadata": {
        "execution": {
          "iopub.status.busy": "2021-08-30T19:29:54.035178Z",
          "iopub.execute_input": "2021-08-30T19:29:54.035495Z",
          "iopub.status.idle": "2021-08-30T19:29:54.044717Z",
          "shell.execute_reply.started": "2021-08-30T19:29:54.035469Z",
          "shell.execute_reply": "2021-08-30T19:29:54.043534Z"
        },
        "trusted": true,
        "colab": {
          "base_uri": "https://localhost:8080/"
        },
        "id": "qf-t1Qh8riuy",
        "outputId": "ee825faf-dfa9-479c-8962-33581f3baee3"
      },
      "source": [
        "soup.find('h2').find_next_sibling()"
      ],
      "execution_count": null,
      "outputs": [
        {
          "output_type": "execute_result",
          "data": {
            "text/plain": [
              "<ul>\n",
              "<li>Ford vs Ferrari</li>\n",
              "<li>O Irlandês</li>\n",
              "<li>JoJo Rabbit</li>\n",
              "<li>Coringa</li>\n",
              "<li>Adoráveis Mulheres</li>\n",
              "<li>História de um Casamento</li>\n",
              "<li>1917</li>\n",
              "<li>Era Uma Vez Em Hollywood</li>\n",
              "<li class=\"vencedor\">Parasita <strong>[VENCEDOR]</strong></li>\n",
              "</ul>"
            ]
          },
          "metadata": {},
          "execution_count": 62
        }
      ]
    },
    {
      "cell_type": "code",
      "metadata": {
        "execution": {
          "iopub.status.busy": "2021-08-30T19:29:56.991301Z",
          "iopub.execute_input": "2021-08-30T19:29:56.991651Z",
          "iopub.status.idle": "2021-08-30T19:29:56.998706Z",
          "shell.execute_reply.started": "2021-08-30T19:29:56.991615Z",
          "shell.execute_reply": "2021-08-30T19:29:56.997509Z"
        },
        "trusted": true,
        "colab": {
          "base_uri": "https://localhost:8080/"
        },
        "id": "sFKTEqqKriuy",
        "outputId": "d3e9a7f0-095a-4069-e297-c747bd62cc6c"
      },
      "source": [
        "soup.find('div', {'class': 'categoria-melhor-filme'}).find_next_siblings()"
      ],
      "execution_count": null,
      "outputs": [
        {
          "output_type": "execute_result",
          "data": {
            "text/plain": [
              "[<br/>, <div class=\"categoria-melhor-ator\">\n",
              " <h2>Categoria: melhor ator</h2>\n",
              " <ul>\n",
              " <li>Antonio Banderas - Dor e Glória</li>\n",
              " <li>Leonardo DiCaprio - Era Uma Vez Em... Hollywood</li>\n",
              " <li>Adam Driver - História de um Casamento</li>\n",
              " <li class=\"vencedor\">Joaquin Phoenix - Coringa <strong>[VENCEDOR]</strong></li>\n",
              " <li>Jonathan Price - Dois Papas</li>\n",
              " </ul>\n",
              " </div>, <br/>, <div class=\"categoria-melhor-atriz\">\n",
              " <h2>Categoria: melhor atriz</h2>\n",
              " <ul>\n",
              " <li>Cythia Erivo - Harriet</li>\n",
              " <li>Scarlett Johansson - História de um Casamento</li>\n",
              " <li>Saoirse Ronan - Adoráveis Mulheres</li>\n",
              " <li>Charlize Theron - O Escândalo</li>\n",
              " <li class=\"vencedor\">Renée Zellweger - Judy: Muito Além do Arco-Íris <strong>[VENCEDOR]</strong></li>\n",
              " </ul>\n",
              " </div>]"
            ]
          },
          "metadata": {},
          "execution_count": 63
        }
      ]
    },
    {
      "cell_type": "code",
      "metadata": {
        "execution": {
          "iopub.status.busy": "2021-08-30T19:29:59.775531Z",
          "iopub.execute_input": "2021-08-30T19:29:59.775952Z",
          "iopub.status.idle": "2021-08-30T19:29:59.783253Z",
          "shell.execute_reply.started": "2021-08-30T19:29:59.775915Z",
          "shell.execute_reply": "2021-08-30T19:29:59.782061Z"
        },
        "trusted": true,
        "colab": {
          "base_uri": "https://localhost:8080/"
        },
        "id": "cUcAtDavriuy",
        "outputId": "43d0931b-85fa-426c-b389-9425106819f0"
      },
      "source": [
        "soup.find('li', {'class': 'vencedor'}).find_previous_sibling().get_text()"
      ],
      "execution_count": null,
      "outputs": [
        {
          "output_type": "execute_result",
          "data": {
            "application/vnd.google.colaboratory.intrinsic+json": {
              "type": "string"
            },
            "text/plain": [
              "'Era Uma Vez Em Hollywood'"
            ]
          },
          "metadata": {},
          "execution_count": 64
        }
      ]
    },
    {
      "cell_type": "code",
      "metadata": {
        "execution": {
          "iopub.status.busy": "2021-08-30T19:30:33.862271Z",
          "iopub.execute_input": "2021-08-30T19:30:33.862609Z",
          "iopub.status.idle": "2021-08-30T19:30:33.867593Z",
          "shell.execute_reply.started": "2021-08-30T19:30:33.862579Z",
          "shell.execute_reply": "2021-08-30T19:30:33.866441Z"
        },
        "trusted": true,
        "colab": {
          "base_uri": "https://localhost:8080/"
        },
        "id": "S3ANN9fVriuz",
        "outputId": "26ee62c9-89b3-4a71-933c-12ac7bfd1221"
      },
      "source": [
        "soup.find('div', {'class': 'categoria-melhor-atriz'}).find_previous_siblings()"
      ],
      "execution_count": null,
      "outputs": [
        {
          "output_type": "execute_result",
          "data": {
            "text/plain": [
              "[<br/>, <div class=\"categoria-melhor-ator\">\n",
              " <h2>Categoria: melhor ator</h2>\n",
              " <ul>\n",
              " <li>Antonio Banderas - Dor e Glória</li>\n",
              " <li>Leonardo DiCaprio - Era Uma Vez Em... Hollywood</li>\n",
              " <li>Adam Driver - História de um Casamento</li>\n",
              " <li class=\"vencedor\">Joaquin Phoenix - Coringa <strong>[VENCEDOR]</strong></li>\n",
              " <li>Jonathan Price - Dois Papas</li>\n",
              " </ul>\n",
              " </div>, <br/>, <div class=\"categoria-melhor-filme\">\n",
              " <h2>Categoria: melhor filme</h2>\n",
              " <ul>\n",
              " <li>Ford vs Ferrari</li>\n",
              " <li>O Irlandês</li>\n",
              " <li>JoJo Rabbit</li>\n",
              " <li>Coringa</li>\n",
              " <li>Adoráveis Mulheres</li>\n",
              " <li>História de um Casamento</li>\n",
              " <li>1917</li>\n",
              " <li>Era Uma Vez Em Hollywood</li>\n",
              " <li class=\"vencedor\">Parasita <strong>[VENCEDOR]</strong></li>\n",
              " </ul>\n",
              " </div>]"
            ]
          },
          "metadata": {},
          "execution_count": 65
        }
      ]
    },
    {
      "cell_type": "markdown",
      "metadata": {
        "id": "dgNB9Tw-riuz"
      },
      "source": [
        "#### Next e Previous"
      ]
    },
    {
      "cell_type": "code",
      "metadata": {
        "execution": {
          "iopub.status.busy": "2021-08-30T19:30:05.679094Z",
          "iopub.execute_input": "2021-08-30T19:30:05.679417Z",
          "iopub.status.idle": "2021-08-30T19:30:05.687155Z",
          "shell.execute_reply.started": "2021-08-30T19:30:05.679391Z",
          "shell.execute_reply": "2021-08-30T19:30:05.685956Z"
        },
        "trusted": true,
        "colab": {
          "base_uri": "https://localhost:8080/"
        },
        "id": "pOL8HQ9Jriuz",
        "outputId": "18a5184a-9960-4894-b21f-f98ebb1fc377"
      },
      "source": [
        "soup.find('div', {'class': 'categoria-melhor-ator'}).find('li', {'class': 'vencedor'}).get_text()"
      ],
      "execution_count": null,
      "outputs": [
        {
          "output_type": "execute_result",
          "data": {
            "application/vnd.google.colaboratory.intrinsic+json": {
              "type": "string"
            },
            "text/plain": [
              "'Joaquin Phoenix - Coringa [VENCEDOR]'"
            ]
          },
          "metadata": {},
          "execution_count": 66
        }
      ]
    },
    {
      "cell_type": "code",
      "metadata": {
        "execution": {
          "iopub.status.busy": "2021-08-30T19:30:09.659265Z",
          "iopub.execute_input": "2021-08-30T19:30:09.659589Z",
          "iopub.status.idle": "2021-08-30T19:30:09.666839Z",
          "shell.execute_reply.started": "2021-08-30T19:30:09.659562Z",
          "shell.execute_reply": "2021-08-30T19:30:09.665808Z"
        },
        "trusted": true,
        "colab": {
          "base_uri": "https://localhost:8080/"
        },
        "id": "mVIBax6Mriuz",
        "outputId": "eabc386d-f6a8-41ac-b5d3-9b6884c94210"
      },
      "source": [
        "soup.find('div', {'class': 'categoria-melhor-ator'}).find('li', {'class': 'vencedor'}).find_next('li').get_text()"
      ],
      "execution_count": null,
      "outputs": [
        {
          "output_type": "execute_result",
          "data": {
            "application/vnd.google.colaboratory.intrinsic+json": {
              "type": "string"
            },
            "text/plain": [
              "'Jonathan Price - Dois Papas'"
            ]
          },
          "metadata": {},
          "execution_count": 67
        }
      ]
    },
    {
      "cell_type": "code",
      "metadata": {
        "execution": {
          "iopub.status.busy": "2021-08-30T19:30:13.950640Z",
          "iopub.execute_input": "2021-08-30T19:30:13.951014Z",
          "iopub.status.idle": "2021-08-30T19:30:13.962238Z",
          "shell.execute_reply.started": "2021-08-30T19:30:13.950981Z",
          "shell.execute_reply": "2021-08-30T19:30:13.961097Z"
        },
        "trusted": true,
        "colab": {
          "base_uri": "https://localhost:8080/"
        },
        "id": "56MVRM0Qriuz",
        "outputId": "06d5b154-77e6-4901-e52c-d20193c79354"
      },
      "source": [
        "soup.find('div', {'class': 'categoria-melhor-ator'}).find('li', {'class': 'vencedor'}).find_previous('li').get_text()"
      ],
      "execution_count": null,
      "outputs": [
        {
          "output_type": "execute_result",
          "data": {
            "application/vnd.google.colaboratory.intrinsic+json": {
              "type": "string"
            },
            "text/plain": [
              "'Adam Driver - História de um Casamento'"
            ]
          },
          "metadata": {},
          "execution_count": 68
        }
      ]
    },
    {
      "cell_type": "code",
      "metadata": {
        "execution": {
          "iopub.status.busy": "2021-08-30T19:30:47.479735Z",
          "iopub.execute_input": "2021-08-30T19:30:47.480074Z",
          "iopub.status.idle": "2021-08-30T19:30:47.488386Z",
          "shell.execute_reply.started": "2021-08-30T19:30:47.480046Z",
          "shell.execute_reply": "2021-08-30T19:30:47.487446Z"
        },
        "trusted": true,
        "colab": {
          "base_uri": "https://localhost:8080/"
        },
        "id": "rekmXGdfriuz",
        "outputId": "655a483e-f765-426e-9002-4f299e3a311d"
      },
      "source": [
        "soup.find('div', {'class': 'categoria-melhor-ator'}).find('li', {'class': 'vencedor'}).find_all_next('li')"
      ],
      "execution_count": null,
      "outputs": [
        {
          "output_type": "execute_result",
          "data": {
            "text/plain": [
              "[<li>Jonathan Price - Dois Papas</li>,\n",
              " <li>Cythia Erivo - Harriet</li>,\n",
              " <li>Scarlett Johansson - História de um Casamento</li>,\n",
              " <li>Saoirse Ronan - Adoráveis Mulheres</li>,\n",
              " <li>Charlize Theron - O Escândalo</li>,\n",
              " <li class=\"vencedor\">Renée Zellweger - Judy: Muito Além do Arco-Íris <strong>[VENCEDOR]</strong></li>]"
            ]
          },
          "metadata": {},
          "execution_count": 69
        }
      ]
    },
    {
      "cell_type": "code",
      "metadata": {
        "execution": {
          "iopub.status.busy": "2021-08-30T19:30:51.160747Z",
          "iopub.execute_input": "2021-08-30T19:30:51.161088Z",
          "iopub.status.idle": "2021-08-30T19:30:51.169563Z",
          "shell.execute_reply.started": "2021-08-30T19:30:51.161060Z",
          "shell.execute_reply": "2021-08-30T19:30:51.168243Z"
        },
        "trusted": true,
        "colab": {
          "base_uri": "https://localhost:8080/"
        },
        "id": "03iYvUFJriu0",
        "outputId": "34ce0884-1563-40c1-b717-2945e24c7a6f"
      },
      "source": [
        "soup.find('div', {'class': 'categoria-melhor-ator'}).find('li', {'class': 'vencedor'}).find_all_previous('li')"
      ],
      "execution_count": null,
      "outputs": [
        {
          "output_type": "execute_result",
          "data": {
            "text/plain": [
              "[<li>Adam Driver - História de um Casamento</li>,\n",
              " <li>Leonardo DiCaprio - Era Uma Vez Em... Hollywood</li>,\n",
              " <li>Antonio Banderas - Dor e Glória</li>,\n",
              " <li class=\"vencedor\">Parasita <strong>[VENCEDOR]</strong></li>,\n",
              " <li>Era Uma Vez Em Hollywood</li>,\n",
              " <li>1917</li>,\n",
              " <li>História de um Casamento</li>,\n",
              " <li>Adoráveis Mulheres</li>,\n",
              " <li>Coringa</li>,\n",
              " <li>JoJo Rabbit</li>,\n",
              " <li>O Irlandês</li>,\n",
              " <li>Ford vs Ferrari</li>,\n",
              " <li>O Irlandês</li>,\n",
              " <li>Era Uma Vez em Hollywood</li>,\n",
              " <li>1917</li>,\n",
              " <li>Coringa</li>]"
            ]
          },
          "metadata": {},
          "execution_count": 70
        }
      ]
    },
    {
      "cell_type": "markdown",
      "metadata": {
        "id": "RrRpCcZeriu0"
      },
      "source": [
        "### Mini-desafio 2: colete todos os filmes que não tenham vencido suas categorias"
      ]
    },
    {
      "cell_type": "code",
      "metadata": {
        "execution": {
          "iopub.status.busy": "2021-08-30T20:02:42.655577Z",
          "iopub.execute_input": "2021-08-30T20:02:42.655946Z",
          "iopub.status.idle": "2021-08-30T20:02:42.662802Z",
          "shell.execute_reply.started": "2021-08-30T20:02:42.655913Z",
          "shell.execute_reply": "2021-08-30T20:02:42.662061Z"
        },
        "trusted": true,
        "colab": {
          "base_uri": "https://localhost:8080/"
        },
        "id": "wpuJ-66Priu0",
        "outputId": "de0c05ec-d494-4958-f22d-3478b10243e8"
      },
      "source": [
        "soup.find(\"div\", {'class': 'categoria-melhor-filme'}).find_all('li', {'class':''})\n"
      ],
      "execution_count": null,
      "outputs": [
        {
          "output_type": "execute_result",
          "data": {
            "text/plain": [
              "[<li>Ford vs Ferrari</li>,\n",
              " <li>O Irlandês</li>,\n",
              " <li>JoJo Rabbit</li>,\n",
              " <li>Coringa</li>,\n",
              " <li>Adoráveis Mulheres</li>,\n",
              " <li>História de um Casamento</li>,\n",
              " <li>1917</li>,\n",
              " <li>Era Uma Vez Em Hollywood</li>]"
            ]
          },
          "metadata": {},
          "execution_count": 71
        }
      ]
    },
    {
      "cell_type": "markdown",
      "metadata": {
        "id": "JrZYnyBbriu0"
      },
      "source": [
        "## 4) Trabalhando com dicionários e DataFrames"
      ]
    },
    {
      "cell_type": "code",
      "metadata": {
        "execution": {
          "iopub.status.busy": "2021-08-30T19:49:15.056888Z",
          "iopub.execute_input": "2021-08-30T19:49:15.057262Z",
          "iopub.status.idle": "2021-08-30T19:49:15.062321Z",
          "shell.execute_reply.started": "2021-08-30T19:49:15.057233Z",
          "shell.execute_reply": "2021-08-30T19:49:15.061111Z"
        },
        "trusted": true,
        "id": "UC3wyqrTriu0"
      },
      "source": [
        "import pandas as pd"
      ],
      "execution_count": null,
      "outputs": []
    },
    {
      "cell_type": "code",
      "metadata": {
        "execution": {
          "iopub.status.busy": "2021-08-30T19:49:23.370726Z",
          "iopub.execute_input": "2021-08-30T19:49:23.371518Z",
          "iopub.status.idle": "2021-08-30T19:49:23.382939Z",
          "shell.execute_reply.started": "2021-08-30T19:49:23.371473Z",
          "shell.execute_reply": "2021-08-30T19:49:23.380859Z"
        },
        "trusted": true,
        "colab": {
          "base_uri": "https://localhost:8080/"
        },
        "id": "z2imNUj9riu0",
        "outputId": "3d6ade60-5023-443b-f46c-b4f26da9db7f"
      },
      "source": [
        "soup.find_all(\"h2\", text=re.compile(\"^Categoria\"))"
      ],
      "execution_count": null,
      "outputs": [
        {
          "output_type": "execute_result",
          "data": {
            "text/plain": [
              "[<h2>Categoria: melhor filme</h2>,\n",
              " <h2>Categoria: melhor ator</h2>,\n",
              " <h2>Categoria: melhor atriz</h2>]"
            ]
          },
          "metadata": {},
          "execution_count": 73
        }
      ]
    },
    {
      "cell_type": "code",
      "metadata": {
        "execution": {
          "iopub.status.busy": "2021-08-30T19:49:33.738920Z",
          "iopub.execute_input": "2021-08-30T19:49:33.739643Z",
          "iopub.status.idle": "2021-08-30T19:49:33.746354Z",
          "shell.execute_reply.started": "2021-08-30T19:49:33.739596Z",
          "shell.execute_reply": "2021-08-30T19:49:33.744986Z"
        },
        "trusted": true,
        "id": "WcYirrJ0riu1"
      },
      "source": [
        "categorias = soup.find_all(\"h2\", text=re.compile(\"^Categoria\"))"
      ],
      "execution_count": null,
      "outputs": []
    },
    {
      "cell_type": "code",
      "metadata": {
        "execution": {
          "iopub.status.busy": "2021-08-30T19:49:39.819999Z",
          "iopub.execute_input": "2021-08-30T19:49:39.820331Z",
          "iopub.status.idle": "2021-08-30T19:49:39.827479Z",
          "shell.execute_reply.started": "2021-08-30T19:49:39.820303Z",
          "shell.execute_reply": "2021-08-30T19:49:39.826368Z"
        },
        "trusted": true,
        "colab": {
          "base_uri": "https://localhost:8080/"
        },
        "id": "DWm0YuhOriu1",
        "outputId": "37be5b36-0bd7-476e-9b06-b886fe0df548"
      },
      "source": [
        "soup.find_all(\"li\", {\"class\": \"vencedor\"})"
      ],
      "execution_count": null,
      "outputs": [
        {
          "output_type": "execute_result",
          "data": {
            "text/plain": [
              "[<li class=\"vencedor\">Parasita <strong>[VENCEDOR]</strong></li>,\n",
              " <li class=\"vencedor\">Joaquin Phoenix - Coringa <strong>[VENCEDOR]</strong></li>,\n",
              " <li class=\"vencedor\">Renée Zellweger - Judy: Muito Além do Arco-Íris <strong>[VENCEDOR]</strong></li>]"
            ]
          },
          "metadata": {},
          "execution_count": 75
        }
      ]
    },
    {
      "cell_type": "code",
      "metadata": {
        "execution": {
          "iopub.status.busy": "2021-08-30T19:49:42.510005Z",
          "iopub.execute_input": "2021-08-30T19:49:42.510488Z",
          "iopub.status.idle": "2021-08-30T19:49:42.516410Z",
          "shell.execute_reply.started": "2021-08-30T19:49:42.510459Z",
          "shell.execute_reply": "2021-08-30T19:49:42.515051Z"
        },
        "trusted": true,
        "id": "ddkhS07Oriu1"
      },
      "source": [
        "vencedores = soup.find_all(\"li\", {\"class\": \"vencedor\"})"
      ],
      "execution_count": null,
      "outputs": []
    },
    {
      "cell_type": "code",
      "metadata": {
        "execution": {
          "iopub.status.busy": "2021-08-30T19:49:56.197758Z",
          "iopub.execute_input": "2021-08-30T19:49:56.198292Z",
          "iopub.status.idle": "2021-08-30T19:49:56.203001Z",
          "shell.execute_reply.started": "2021-08-30T19:49:56.198259Z",
          "shell.execute_reply": "2021-08-30T19:49:56.201660Z"
        },
        "trusted": true,
        "id": "dX2Ctmalriu1"
      },
      "source": [
        "vencedores_categorias = {}"
      ],
      "execution_count": null,
      "outputs": []
    },
    {
      "cell_type": "code",
      "metadata": {
        "execution": {
          "iopub.status.busy": "2021-08-30T19:50:04.035581Z",
          "iopub.execute_input": "2021-08-30T19:50:04.036288Z",
          "iopub.status.idle": "2021-08-30T19:50:04.043069Z",
          "shell.execute_reply.started": "2021-08-30T19:50:04.036241Z",
          "shell.execute_reply": "2021-08-30T19:50:04.041519Z"
        },
        "trusted": true,
        "id": "1z3JdHQOriu1"
      },
      "source": [
        "for cat, ven in zip(categorias, vencedores):\n",
        "    categoria = cat.get_text().replace(\"Categoria: \", \"\")\n",
        "    vencedor = ven.get_text().replace(\" [VENCEDOR]\", \"\")\n",
        "    \n",
        "    vencedores_categorias.update({categoria: [vencedor]})"
      ],
      "execution_count": null,
      "outputs": []
    },
    {
      "cell_type": "code",
      "metadata": {
        "execution": {
          "iopub.status.busy": "2021-08-30T19:50:08.856247Z",
          "iopub.execute_input": "2021-08-30T19:50:08.856781Z",
          "iopub.status.idle": "2021-08-30T19:50:08.863701Z",
          "shell.execute_reply.started": "2021-08-30T19:50:08.856746Z",
          "shell.execute_reply": "2021-08-30T19:50:08.862478Z"
        },
        "trusted": true,
        "colab": {
          "base_uri": "https://localhost:8080/"
        },
        "id": "Gdj7txHLriu1",
        "outputId": "fc498a4e-e038-45dd-c0b2-26586837143f"
      },
      "source": [
        "vencedores_categorias"
      ],
      "execution_count": null,
      "outputs": [
        {
          "output_type": "execute_result",
          "data": {
            "text/plain": [
              "{'melhor ator': ['Joaquin Phoenix - Coringa'],\n",
              " 'melhor atriz': ['Renée Zellweger - Judy: Muito Além do Arco-Íris'],\n",
              " 'melhor filme': ['Parasita']}"
            ]
          },
          "metadata": {},
          "execution_count": 79
        }
      ]
    },
    {
      "cell_type": "code",
      "metadata": {
        "execution": {
          "iopub.status.busy": "2021-08-30T20:06:09.034193Z",
          "iopub.execute_input": "2021-08-30T20:06:09.034526Z",
          "iopub.status.idle": "2021-08-30T20:06:09.045691Z",
          "shell.execute_reply.started": "2021-08-30T20:06:09.034500Z",
          "shell.execute_reply": "2021-08-30T20:06:09.044930Z"
        },
        "trusted": true,
        "id": "Tfg45K-Oriu2"
      },
      "source": [
        "vencedores_categorias_df = pd.DataFrame.from_dict(vencedores_categorias, orient=\"index\", columns=[\"Vencedores\"])"
      ],
      "execution_count": null,
      "outputs": []
    },
    {
      "cell_type": "code",
      "metadata": {
        "execution": {
          "iopub.status.busy": "2021-08-30T20:06:11.605451Z",
          "iopub.execute_input": "2021-08-30T20:06:11.605953Z",
          "iopub.status.idle": "2021-08-30T20:06:11.624929Z",
          "shell.execute_reply.started": "2021-08-30T20:06:11.605920Z",
          "shell.execute_reply": "2021-08-30T20:06:11.623584Z"
        },
        "trusted": true,
        "colab": {
          "base_uri": "https://localhost:8080/",
          "height": 141
        },
        "id": "8ecCsNWFriu2",
        "outputId": "0b490e91-50ff-4841-b807-9b61efe1787d"
      },
      "source": [
        "vencedores_categorias_df"
      ],
      "execution_count": null,
      "outputs": [
        {
          "output_type": "execute_result",
          "data": {
            "text/html": [
              "<div>\n",
              "<style scoped>\n",
              "    .dataframe tbody tr th:only-of-type {\n",
              "        vertical-align: middle;\n",
              "    }\n",
              "\n",
              "    .dataframe tbody tr th {\n",
              "        vertical-align: top;\n",
              "    }\n",
              "\n",
              "    .dataframe thead th {\n",
              "        text-align: right;\n",
              "    }\n",
              "</style>\n",
              "<table border=\"1\" class=\"dataframe\">\n",
              "  <thead>\n",
              "    <tr style=\"text-align: right;\">\n",
              "      <th></th>\n",
              "      <th>Vencedores</th>\n",
              "    </tr>\n",
              "  </thead>\n",
              "  <tbody>\n",
              "    <tr>\n",
              "      <th>melhor filme</th>\n",
              "      <td>Parasita</td>\n",
              "    </tr>\n",
              "    <tr>\n",
              "      <th>melhor ator</th>\n",
              "      <td>Joaquin Phoenix - Coringa</td>\n",
              "    </tr>\n",
              "    <tr>\n",
              "      <th>melhor atriz</th>\n",
              "      <td>Renée Zellweger - Judy: Muito Além do Arco-Íris</td>\n",
              "    </tr>\n",
              "  </tbody>\n",
              "</table>\n",
              "</div>"
            ],
            "text/plain": [
              "                                                   Vencedores\n",
              "melhor filme                                         Parasita\n",
              "melhor ator                         Joaquin Phoenix - Coringa\n",
              "melhor atriz  Renée Zellweger - Judy: Muito Além do Arco-Íris"
            ]
          },
          "metadata": {},
          "execution_count": 81
        }
      ]
    },
    {
      "cell_type": "markdown",
      "metadata": {
        "id": "LjeNPdMariu5"
      },
      "source": [
        "## 5) Coletando dados da Web"
      ]
    },
    {
      "cell_type": "code",
      "metadata": {
        "trusted": true,
        "id": "Z73jqRJ3riu5"
      },
      "source": [
        "from urllib.request import urlopen"
      ],
      "execution_count": null,
      "outputs": []
    },
    {
      "cell_type": "code",
      "metadata": {
        "trusted": true,
        "id": "jqRAOJzzriu5"
      },
      "source": [
        "url = 'https://ocean-web-scraping.herokuapp.com/'"
      ],
      "execution_count": null,
      "outputs": []
    },
    {
      "cell_type": "code",
      "metadata": {
        "trusted": true,
        "id": "HJIASuUuriu5"
      },
      "source": [
        "response = urlopen(url)"
      ],
      "execution_count": null,
      "outputs": []
    },
    {
      "cell_type": "code",
      "metadata": {
        "trusted": true,
        "id": "RLYlzpCeriu5"
      },
      "source": [
        "html_ocean_ws = response.read()"
      ],
      "execution_count": null,
      "outputs": []
    },
    {
      "cell_type": "code",
      "metadata": {
        "trusted": true,
        "id": "Mk9X4Cy1riu5"
      },
      "source": [
        "html_ocean_ws"
      ],
      "execution_count": null,
      "outputs": []
    },
    {
      "cell_type": "code",
      "metadata": {
        "trusted": true,
        "id": "ktUz_6S0riu5"
      },
      "source": [
        "soup_ocean_ws = BeautifulSoup(html_ocean_ws, 'html.parser')"
      ],
      "execution_count": null,
      "outputs": []
    },
    {
      "cell_type": "code",
      "metadata": {
        "trusted": true,
        "id": "FbuvcQCdriu6"
      },
      "source": [
        "soup_ocean_ws"
      ],
      "execution_count": null,
      "outputs": []
    },
    {
      "cell_type": "code",
      "metadata": {
        "trusted": true,
        "id": "pq6GWxUeriu6"
      },
      "source": [
        "print(soup_ocean_ws.prettify())"
      ],
      "execution_count": null,
      "outputs": []
    },
    {
      "cell_type": "markdown",
      "metadata": {
        "id": "aF7KNTyxriu6"
      },
      "source": [
        "### Mini-desafio 3: complete a lista de desafios da página 'Sobre'\n",
        "\n",
        "\n",
        "* https://ocean-web-scraping.herokuapp.com/sobre.html"
      ]
    },
    {
      "cell_type": "code",
      "metadata": {
        "trusted": true,
        "id": "72ST3shnriu6"
      },
      "source": [
        "# Insira a sua resposta aqui"
      ],
      "execution_count": null,
      "outputs": []
    }
  ]
}