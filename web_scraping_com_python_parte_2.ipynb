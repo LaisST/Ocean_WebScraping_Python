{
  "nbformat": 4,
  "nbformat_minor": 0,
  "metadata": {
    "kernelspec": {
      "language": "python",
      "display_name": "Python 3",
      "name": "python3"
    },
    "language_info": {
      "name": "python",
      "version": "3.7.6",
      "mimetype": "text/x-python",
      "codemirror_mode": {
        "name": "ipython",
        "version": 3
      },
      "pygments_lexer": "ipython3",
      "nbconvert_exporter": "python",
      "file_extension": ".py"
    },
    "colab": {
      "name": "web-scraping-com-python-parte-2.ipynb",
      "provenance": [],
      "include_colab_link": true
    }
  },
  "cells": [
    {
      "cell_type": "markdown",
      "metadata": {
        "id": "view-in-github",
        "colab_type": "text"
      },
      "source": [
        "<a href=\"https://colab.research.google.com/github/LaisST/Ocean_WebScraping_Python/blob/main/web_scraping_com_python_parte_2.ipynb\" target=\"_parent\"><img src=\"https://colab.research.google.com/assets/colab-badge.svg\" alt=\"Open In Colab\"/></a>"
      ]
    },
    {
      "cell_type": "markdown",
      "metadata": {
        "id": "uEyfBeKPncNQ"
      },
      "source": [
        "# Web Scraping com Python (Parte 2)\n",
        "\n",
        "## Resumo\n",
        "\n",
        "Neste notebook, iremos explorar e coletar dados do site [Oceano de Aluguéis](https://ocean-web-scraping.herokuapp.com/) utilizando a biblioteca [Beautiful Soup](https://www.crummy.com/software/BeautifulSoup/bs4/doc/). Em seguida, iremos analisar todas as informações coletadas.\n",
        "\n",
        "## Para saber mais:\n",
        "\n",
        "* Palestras e cursos do [Samsung Ocean](http://www.oceanbrasil.com/).\n",
        "* Ryan Mitchell. Web Scraping com Python: Coletando Mais Dados da Web Moderna. Novatec Editora, 2019."
      ]
    },
    {
      "cell_type": "markdown",
      "metadata": {
        "id": "ukk4KrJKncNX"
      },
      "source": [
        "## 1) Criando os objetos Beautiful Soup"
      ]
    },
    {
      "cell_type": "code",
      "metadata": {
        "execution": {
          "iopub.status.busy": "2021-08-31T17:42:30.363579Z",
          "iopub.execute_input": "2021-08-31T17:42:30.364090Z",
          "iopub.status.idle": "2021-08-31T17:42:30.369015Z",
          "shell.execute_reply.started": "2021-08-31T17:42:30.363970Z",
          "shell.execute_reply": "2021-08-31T17:42:30.367872Z"
        },
        "trusted": true,
        "id": "PT1uT-ymncNZ"
      },
      "source": [
        "from bs4 import BeautifulSoup\n",
        "from urllib.request import urlopen"
      ],
      "execution_count": null,
      "outputs": []
    },
    {
      "cell_type": "code",
      "metadata": {
        "execution": {
          "iopub.status.busy": "2021-08-31T17:42:35.205942Z",
          "iopub.execute_input": "2021-08-31T17:42:35.206696Z",
          "iopub.status.idle": "2021-08-31T17:42:35.210820Z",
          "shell.execute_reply.started": "2021-08-31T17:42:35.206656Z",
          "shell.execute_reply": "2021-08-31T17:42:35.210065Z"
        },
        "trusted": true,
        "id": "IewqpipmncNa"
      },
      "source": [
        "url_sobre = 'https://ocean-web-scraping.herokuapp.com/sobre.html'\n",
        "url_busca = 'https://ocean-web-scraping.herokuapp.com/'\n",
        "url_corretoras = 'https://ocean-web-scraping.herokuapp.com/corretoras.html'"
      ],
      "execution_count": null,
      "outputs": []
    },
    {
      "cell_type": "markdown",
      "metadata": {
        "id": "Eglfn7BOncNb"
      },
      "source": [
        "### 1.1) Página 'Sobre'"
      ]
    },
    {
      "cell_type": "code",
      "metadata": {
        "_uuid": "d629ff2d2480ee46fbb7e2d37f6b5fab8052498a",
        "_cell_guid": "79c7e3d0-c299-4dcb-8224-4455121ee9b0",
        "execution": {
          "iopub.status.busy": "2021-08-31T17:42:38.172496Z",
          "iopub.execute_input": "2021-08-31T17:42:38.173118Z",
          "iopub.status.idle": "2021-08-31T17:42:38.645540Z",
          "shell.execute_reply.started": "2021-08-31T17:42:38.173077Z",
          "shell.execute_reply": "2021-08-31T17:42:38.644524Z"
        },
        "trusted": true,
        "id": "EMMCIq7IncNb",
        "outputId": "43c83697-2790-4080-84f5-6f98306fe730"
      },
      "source": [
        "response_sobre = urlopen(url_sobre)\n",
        "html_sobre = response_sobre.read()\n",
        "html_sobre"
      ],
      "execution_count": null,
      "outputs": [
        {
          "execution_count": 7,
          "output_type": "execute_result",
          "data": {
            "text/plain": "b'<!DOCTYPE html>\\n<html lang=\"pt-br\">\\n\\t<head>\\n\\t\\t<meta charset=\"UTF-8\">\\n\\t\\t<meta name=\"viewport\" content=\"width=device-width\">\\n\\n\\t\\t<title>Oceano de Alugu\\xc3\\xa9is</title>\\n\\t\\t\\n\\t\\t<link rel=\"stylesheet\" href=\"reset.css\">\\n\\t\\t<link rel=\"stylesheet\" href=\"style.css\">\\n\\t\\t<link href=\"https://fonts.googleapis.com/css?family=Montserrat&display=swap\" rel=\"stylesheet\">\\n\\t</head>\\n\\n\\t<body>\\n\\t\\t<header>\\n\\t\\t\\t<div>\\n\\t\\t\\t\\t<img src=\"imagens/oceano-logo.png\">\\n\\t\\t\\t\\t<h1>Oceano de Alugu\\xc3\\xa9is</h1>\\n\\t\\t\\t\\t<nav>\\n\\t\\t\\t\\t\\t<ul>\\n\\t\\t\\t\\t\\t\\t<li><a href=\"results&page=1.html\">Resultados</a></li>\\n\\t\\t\\t\\t\\t\\t<li><a href=\"corretoras.html\">Corretoras</a></li>\\n\\t\\t\\t\\t\\t\\t<li><a href=\"sobre.html\">Sobre</a></li>\\n\\t\\t\\t\\t\\t</ul>\\n\\t\\t\\t\\t</nav>\\n\\t\\t\\t</div>\\n\\t\\t</header>\\n\\n\\t\\t<main>\\n\\t\\t\\t<div class=\"about\">\\n\\t\\t\\t\\t<h2>Sobre este site</h2>\\n\\n\\t\\t\\t\\t<p>Este site foi criado para treinamentos de Web Scraping do <a href=\"http://www.oceanbrasil.com/\">Ocean</a>.</p>\\n\\n\\t\\t\\t\\t<p>Vamos para os primeiros desafios?</p>\\n\\n\\t\\t\\t\\t<ol>\\n\\t\\t\\t\\t\\t<li>Que tal coletar o texto <em>\"Sobre este site\"</em> para come\\xc3\\xa7ar?</li>\\n\\t\\t\\t\\t\\t<li>Agora extraia o link contido na palavra <em>\"Ocean\"</em>.</li>\\n\\t\\t\\t\\t\\t<li>Em seguida, colete todos os itens desta lista.</li>\\n\\t\\t\\t\\t\\t<li>Por fim, colete apenas este \\xc3\\xbaltimo item da lista.</li>\\n\\t\\t\\t\\t</ol>\\n\\t\\t\\t</div>\\n\\t\\t</main>\\n\\n\\t\\t<footer>\\n\\t\\t\\t<img src=\"imagens/oceano-logo-cinza.png\">\\n\\t\\t\\t<p>Site criado para o curso de Web Scraping do Ocean</p>\\n\\t\\t</footer>\\n\\t</body>\\n</html>'"
          },
          "metadata": {}
        }
      ]
    },
    {
      "cell_type": "code",
      "metadata": {
        "execution": {
          "iopub.status.busy": "2021-08-31T17:46:23.938026Z",
          "iopub.execute_input": "2021-08-31T17:46:23.938403Z",
          "iopub.status.idle": "2021-08-31T17:46:23.954988Z",
          "shell.execute_reply.started": "2021-08-31T17:46:23.938373Z",
          "shell.execute_reply": "2021-08-31T17:46:23.954165Z"
        },
        "trusted": true,
        "id": "NwuY0J40ncNd",
        "outputId": "aa41a6b9-9239-4311-b5b0-b523edd33ba8"
      },
      "source": [
        "soup_sobre = BeautifulSoup(html_sobre, 'html.parser')\n",
        "soup_sobre"
      ],
      "execution_count": null,
      "outputs": [
        {
          "execution_count": 8,
          "output_type": "execute_result",
          "data": {
            "text/plain": "<!DOCTYPE html>\n\n<html lang=\"pt-br\">\n<head>\n<meta charset=\"utf-8\"/>\n<meta content=\"width=device-width\" name=\"viewport\"/>\n<title>Oceano de Aluguéis</title>\n<link href=\"reset.css\" rel=\"stylesheet\"/>\n<link href=\"style.css\" rel=\"stylesheet\"/>\n<link href=\"https://fonts.googleapis.com/css?family=Montserrat&amp;display=swap\" rel=\"stylesheet\"/>\n</head>\n<body>\n<header>\n<div>\n<img src=\"imagens/oceano-logo.png\"/>\n<h1>Oceano de Aluguéis</h1>\n<nav>\n<ul>\n<li><a href=\"results&amp;page=1.html\">Resultados</a></li>\n<li><a href=\"corretoras.html\">Corretoras</a></li>\n<li><a href=\"sobre.html\">Sobre</a></li>\n</ul>\n</nav>\n</div>\n</header>\n<main>\n<div class=\"about\">\n<h2>Sobre este site</h2>\n<p>Este site foi criado para treinamentos de Web Scraping do <a href=\"http://www.oceanbrasil.com/\">Ocean</a>.</p>\n<p>Vamos para os primeiros desafios?</p>\n<ol>\n<li>Que tal coletar o texto <em>\"Sobre este site\"</em> para começar?</li>\n<li>Agora extraia o link contido na palavra <em>\"Ocean\"</em>.</li>\n<li>Em seguida, colete todos os itens desta lista.</li>\n<li>Por fim, colete apenas este último item da lista.</li>\n</ol>\n</div>\n</main>\n<footer>\n<img src=\"imagens/oceano-logo-cinza.png\"/>\n<p>Site criado para o curso de Web Scraping do Ocean</p>\n</footer>\n</body>\n</html>"
          },
          "metadata": {}
        }
      ]
    },
    {
      "cell_type": "markdown",
      "metadata": {
        "id": "6rPDg4hDncNe"
      },
      "source": [
        "### 1.2) Página de resultados da busca por imóveis"
      ]
    },
    {
      "cell_type": "code",
      "metadata": {
        "execution": {
          "iopub.status.busy": "2021-08-31T17:46:36.477012Z",
          "iopub.execute_input": "2021-08-31T17:46:36.477394Z",
          "iopub.status.idle": "2021-08-31T17:46:36.939917Z",
          "shell.execute_reply.started": "2021-08-31T17:46:36.477356Z",
          "shell.execute_reply": "2021-08-31T17:46:36.939047Z"
        },
        "trusted": true,
        "id": "aIzZ7l7jncNf",
        "outputId": "32484e1b-c8d4-4686-da8c-7f8898fa3b0d"
      },
      "source": [
        "response_busca = urlopen(url_busca)\n",
        "html_busca = response_busca.read()\n",
        "html_busca"
      ],
      "execution_count": null,
      "outputs": [
        {
          "execution_count": 9,
          "output_type": "execute_result",
          "data": {
            "text/plain": "b'<!DOCTYPE html>\\n<html lang=\"pt-br\">\\n\\t<head>\\n\\t\\t<meta charset=\"UTF-8\">\\n\\t\\t<meta name=\"viewport\" content=\"width=device-width\">\\n\\n\\t\\t<title>Oceano de Alugu\\xc3\\xa9is</title>\\n\\t\\t\\n\\t\\t<link rel=\"stylesheet\" href=\"reset.css\">\\n\\t\\t<link rel=\"stylesheet\" href=\"style.css\">\\n\\t\\t<link href=\"https://fonts.googleapis.com/css?family=Montserrat&display=swap\" rel=\"stylesheet\">\\n\\t</head>\\n\\n\\t<body>\\n\\t\\t<header>\\n\\t\\t\\t<div>\\n\\t\\t\\t\\t<img src=\"imagens/oceano-logo.png\">\\n\\t\\t\\t\\t<h1>Oceano de Alugu\\xc3\\xa9is</h1>\\n\\t\\t\\t\\t<nav>\\n\\t\\t\\t\\t\\t<ul>\\n\\t\\t\\t\\t\\t\\t<li><a href=\"results&page=1.html\">Resultados</a></li>\\n\\t\\t\\t\\t\\t\\t<li><a href=\"corretoras.html\">Corretoras</a></li>\\n\\t\\t\\t\\t\\t\\t<li><a href=\"sobre.html\">Sobre</a></li>\\n\\t\\t\\t\\t\\t</ul>\\n\\t\\t\\t\\t</nav>\\n\\t\\t\\t</div>\\n\\t\\t</header>\\n\\n\\t\\t<main>\\n\\t\\t\\t<div class=\"ad-card-list\">\\n\\t\\t\\t\\t<p>21 resultados obtidos - P\\xc3\\xa1gina 1</p>\\n\\n\\t\\t\\t\\t<div class=\"ad-card\">\\n\\t\\t\\t\\t\\t<img src=\"imagens/apto-01.jpg\" class=\"apto-img\">\\n\\t\\t\\t\\t\\t\\n\\t\\t\\t\\t\\t<div class=\"ad-card-info\">\\n\\t\\t\\t\\t\\t\\t<h2>Lindo apartamento para alugar</h2>\\n\\n\\t\\t\\t\\t\\t\\t<ul class=\"features\">\\n\\t\\t\\t\\t\\t\\t\\t<li><img src=\"imagens/area.png\"> 100 m\\xc2\\xb2</li>\\n\\t\\t\\t\\t\\t\\t\\t<li><img src=\"imagens/bedrooms.png\"> 3 quarto(s)</li>\\n\\t\\t\\t\\t\\t\\t\\t<li><img src=\"imagens/toilet.png\"> 2 banheiro(s)</li>\\n\\t\\t\\t\\t\\t\\t\\t<li><img src=\"imagens/parking.png\"> 2 vaga(s)</li>\\n\\t\\t\\t\\t\\t\\t</ul>\\n\\n\\t\\t\\t\\t\\t\\t<ul class=\"resources\">\\n\\t\\t\\t\\t\\t\\t\\t<li>Mobiliado</li>\\n\\t\\t\\t\\t\\t\\t\\t<li>Portaria 24h</li>\\n\\t\\t\\t\\t\\t\\t\\t<li>Elevador</li>\\n\\t\\t\\t\\t\\t\\t\\t<li>Piscina</li>\\n\\t\\t\\t\\t\\t\\t\\t<li>Churrasqueira</li>\\n\\t\\t\\t\\t\\t\\t\\t<li>Sal\\xc3\\xa3o de Festas</li>\\n\\t\\t\\t\\t\\t\\t\\t<li>Academia</li>\\n\\t\\t\\t\\t\\t\\t\\t<li>Playground</li>\\n\\t\\t\\t\\t\\t\\t\\t<li>Quadra poliesportiva</li>\\n\\t\\t\\t\\t\\t\\t\\t<li>Sal\\xc3\\xa3o de jogos</li>\\n\\t\\t\\t\\t\\t\\t\\t<li>Aceita animais</li>\\n\\t\\t\\t\\t\\t\\t</ul>\\n\\n\\t\\t\\t\\t\\t\\t<p>Localiza\\xc3\\xa7\\xc3\\xa3o: Oceano Pac\\xc3\\xadfico</p>\\n\\t\\t\\t\\t\\t</div>\\n\\n\\t\\t\\t\\t\\t<div class=\"ad-card-price\">\\n\\t\\t\\t\\t\\t\\t<p>Aluguel: R$ 4.000,00</p>\\n\\t\\t\\t\\t\\t\\t<p>Condom\\xc3\\xadnio: 500,00</p>\\n\\t\\t\\t\\t\\t\\t<p>IPTU: R$ 100,00</p>\\n\\t\\t\\t\\t\\t\\t<p>Corretora: Tubar\\xc3\\xa3o</p>\\n\\t\\t\\t\\t\\t</div>\\n\\t\\t\\t\\t</div>\\n\\n\\t\\t\\t\\t<div class=\"ad-card\">\\n\\t\\t\\t\\t\\t<img src=\"imagens/apto-02.jpg\" class=\"apto-img\">\\n\\t\\t\\t\\t\\t\\n\\t\\t\\t\\t\\t<div class=\"ad-card-info\">\\n\\t\\t\\t\\t\\t\\t<h2>\\xc3\\x93timo lugar para morar</h2>\\n\\n\\t\\t\\t\\t\\t\\t<ul class=\"features\">\\n\\t\\t\\t\\t\\t\\t\\t<li><img src=\"imagens/area.png\"> 60 m\\xc2\\xb2</li>\\n\\t\\t\\t\\t\\t\\t\\t<li><img src=\"imagens/bedrooms.png\"> 2 quarto(s)</li>\\n\\t\\t\\t\\t\\t\\t\\t<li><img src=\"imagens/toilet.png\"> 2 banheiro(s)</li>\\n\\t\\t\\t\\t\\t\\t\\t<li><img src=\"imagens/parking.png\"> 1 vaga(s)</li>\\n\\t\\t\\t\\t\\t\\t</ul>\\n\\n\\t\\t\\t\\t\\t\\t<ul class=\"resources\">\\n\\t\\t\\t\\t\\t\\t\\t<li>Mobiliado</li>\\n\\t\\t\\t\\t\\t\\t\\t<li>Portaria 24h</li>\\n\\t\\t\\t\\t\\t\\t\\t<li>Sal\\xc3\\xa3o de Festas</li>\\n\\t\\t\\t\\t\\t\\t\\t<li>Quadra poliesportiva</li>\\n\\t\\t\\t\\t\\t\\t</ul>\\n\\n\\t\\t\\t\\t\\t\\t<p>Localiza\\xc3\\xa7\\xc3\\xa3o: Oceano \\xc3\\x8dndico</p>\\n\\t\\t\\t\\t\\t</div>\\n\\n\\t\\t\\t\\t\\t<div class=\"ad-card-price\">\\n\\t\\t\\t\\t\\t\\t<p>Aluguel: R$ 2.000,00</p>\\n\\t\\t\\t\\t\\t\\t<p>Condom\\xc3\\xadnio: 200,00</p>\\n\\t\\t\\t\\t\\t\\t<p>IPTU: R$ 50,00</p>\\n\\t\\t\\t\\t\\t\\t<p>Corretora: Carangueijo</p>\\n\\t\\t\\t\\t\\t</div>\\n\\t\\t\\t\\t</div>\\n\\n\\t\\t\\t\\t<div class=\"ad-card\">\\n\\t\\t\\t\\t\\t<img src=\"imagens/apto-03.jpg\" class=\"apto-img\">\\n\\t\\t\\t\\t\\t\\n\\t\\t\\t\\t\\t<div class=\"ad-card-info\">\\n\\t\\t\\t\\t\\t\\t<h2>Bel\\xc3\\xadssimo apartamento mobiliado</h2>\\n\\n\\t\\t\\t\\t\\t\\t<ul class=\"features\">\\n\\t\\t\\t\\t\\t\\t\\t<li><img src=\"imagens/area.png\"> 50 m\\xc2\\xb2</li>\\n\\t\\t\\t\\t\\t\\t\\t<li><img src=\"imagens/bedrooms.png\"> 1 quarto(s)</li>\\n\\t\\t\\t\\t\\t\\t\\t<li><img src=\"imagens/toilet.png\"> 1 banheiro(s)</li>\\n\\t\\t\\t\\t\\t\\t\\t<li><img src=\"imagens/parking.png\"> 1 vaga(s)</li>\\n\\t\\t\\t\\t\\t\\t</ul>\\n\\n\\t\\t\\t\\t\\t\\t<ul class=\"resources\">\\n\\t\\t\\t\\t\\t\\t\\t<li>Mobiliado</li>\\n\\t\\t\\t\\t\\t\\t</ul>\\n\\n\\t\\t\\t\\t\\t\\t<p>Localiza\\xc3\\xa7\\xc3\\xa3o: Mar de Java</p>\\n\\t\\t\\t\\t\\t</div>\\n\\n\\t\\t\\t\\t\\t<div class=\"ad-card-price\">\\n\\t\\t\\t\\t\\t\\t<p>Aluguel: R$ 1.300,00</p>\\n\\t\\t\\t\\t\\t\\t<p>Condom\\xc3\\xadnio: 200,00</p>\\n\\t\\t\\t\\t\\t\\t<p>IPTU: R$ 50,00</p>\\n\\t\\t\\t\\t\\t\\t<p>Corretora: Baleia Azul</p>\\n\\t\\t\\t\\t\\t</div>\\n\\t\\t\\t\\t</div>\\n\\n\\t\\t\\t\\t<div class=\"ad-card\">\\n\\t\\t\\t\\t\\t<img src=\"imagens/apto-04.jpg\" class=\"apto-img\">\\n\\t\\t\\t\\t\\t\\n\\t\\t\\t\\t\\t<div class=\"ad-card-info\">\\n\\t\\t\\t\\t\\t\\t<h2>Um cantinho todo seu</h2>\\n\\n\\t\\t\\t\\t\\t\\t<ul class=\"features\">\\n\\t\\t\\t\\t\\t\\t\\t<li><img src=\"imagens/area.png\"> 60 m\\xc2\\xb2</li>\\n\\t\\t\\t\\t\\t\\t\\t<li><img src=\"imagens/bedrooms.png\"> 2 quarto(s)</li>\\n\\t\\t\\t\\t\\t\\t\\t<li><img src=\"imagens/toilet.png\"> 2 banheiro(s)</li>\\n\\t\\t\\t\\t\\t\\t\\t<li><img src=\"imagens/parking.png\"> 1 vaga(s)</li>\\n\\t\\t\\t\\t\\t\\t</ul>\\n\\n\\t\\t\\t\\t\\t\\t<ul class=\"resources\">\\n\\t\\t\\t\\t\\t\\t\\t<li>Mobiliado</li>\\n\\t\\t\\t\\t\\t\\t\\t<li>Portaria 24h</li>\\n\\t\\t\\t\\t\\t\\t</ul>\\n\\n\\t\\t\\t\\t\\t\\t<p>Localiza\\xc3\\xa7\\xc3\\xa3o: Oceano \\xc3\\x8dndico</p>\\n\\t\\t\\t\\t\\t</div>\\n\\n\\t\\t\\t\\t\\t<div class=\"ad-card-price\">\\n\\t\\t\\t\\t\\t\\t<p>Aluguel: R$ 1.800,00</p>\\n\\t\\t\\t\\t\\t\\t<p>Condom\\xc3\\xadnio: 100,00</p>\\n\\t\\t\\t\\t\\t\\t<p>IPTU: R$ 20,00</p>\\n\\t\\t\\t\\t\\t\\t<p>Corretora: Baleia Azul</p>\\n\\t\\t\\t\\t\\t</div>\\n\\t\\t\\t\\t</div>\\n\\n\\t\\t\\t\\t<div class=\"ad-card\">\\n\\t\\t\\t\\t\\t<img src=\"imagens/apto-05.jpg\" class=\"apto-img\">\\n\\t\\t\\t\\t\\t\\n\\t\\t\\t\\t\\t<div class=\"ad-card-info\">\\n\\t\\t\\t\\t\\t\\t<h2>Alugue j\\xc3\\xa1! \\xc3\\x93tima oportunidade</h2>\\n\\n\\t\\t\\t\\t\\t\\t<ul class=\"features\">\\n\\t\\t\\t\\t\\t\\t\\t<li><img src=\"imagens/area.png\"> 120 m\\xc2\\xb2</li>\\n\\t\\t\\t\\t\\t\\t\\t<li><img src=\"imagens/bedrooms.png\"> 4 quarto(s)</li>\\n\\t\\t\\t\\t\\t\\t\\t<li><img src=\"imagens/toilet.png\"> 3 banheiro(s)</li>\\n\\t\\t\\t\\t\\t\\t\\t<li><img src=\"imagens/parking.png\"> 2 vaga(s)</li>\\n\\t\\t\\t\\t\\t\\t</ul>\\n\\n\\t\\t\\t\\t\\t\\t<ul class=\"resources\">\\n\\t\\t\\t\\t\\t\\t\\t<li>Mobiliado</li>\\n\\t\\t\\t\\t\\t\\t\\t<li>Portaria 24h</li>\\n\\t\\t\\t\\t\\t\\t\\t<li>Elevador</li>\\n\\t\\t\\t\\t\\t\\t\\t<li>Piscina</li>\\n\\t\\t\\t\\t\\t\\t\\t<li>Churrasqueira</li>\\n\\t\\t\\t\\t\\t\\t\\t<li>Sal\\xc3\\xa3o de Festas</li>\\n\\t\\t\\t\\t\\t\\t\\t<li>Academia</li>\\n\\t\\t\\t\\t\\t\\t\\t<li>Playground</li>\\n\\t\\t\\t\\t\\t\\t\\t<li>Quadra poliesportiva</li>\\n\\t\\t\\t\\t\\t\\t\\t<li>Sal\\xc3\\xa3o de jogos</li>\\n\\t\\t\\t\\t\\t\\t\\t<li>Aceita animais</li>\\n\\t\\t\\t\\t\\t\\t</ul>\\n\\n\\t\\t\\t\\t\\t\\t<p>Localiza\\xc3\\xa7\\xc3\\xa3o: Oceano Pac\\xc3\\xadfico</p>\\n\\t\\t\\t\\t\\t</div>\\n\\n\\t\\t\\t\\t\\t<div class=\"ad-card-price\">\\n\\t\\t\\t\\t\\t\\t<p>Aluguel: R$ 3.800,00</p>\\n\\t\\t\\t\\t\\t\\t<p>Condom\\xc3\\xadnio: 500,00</p>\\n\\t\\t\\t\\t\\t\\t<p>IPTU: R$ 200,00</p>\\n\\t\\t\\t\\t\\t\\t<p>Corretora: Tubar\\xc3\\xa3o</p>\\n\\t\\t\\t\\t\\t</div>\\n\\t\\t\\t\\t</div>\\n\\t\\t\\t</div>\\n\\n\\t\\t\\t<div class=\"pagination\">\\n  \\t\\t\\t\\t<a class=\"inactive\" href=\"#\">&laquo;</a>\\n  \\t\\t\\t\\t<a class=\"active\" href=\"#\">1</a>\\n  \\t\\t\\t\\t<a href=\"results&page=2.html\">2</a>\\n  \\t\\t\\t\\t<a href=\"results&page=3.html\">3</a>\\n\\t\\t\\t\\t<a href=\"results&page=2.html\">&raquo;</a>\\n\\t\\t\\t</div>\\n\\t\\t</main>\\n\\n\\t\\t<footer>\\n\\t\\t\\t<img src=\"imagens/oceano-logo-cinza.png\">\\n\\t\\t\\t<p>Site criado para o curso de Web Scraping do Ocean</p>\\n\\t\\t</footer>\\n\\t</body>\\n</html>'"
          },
          "metadata": {}
        }
      ]
    },
    {
      "cell_type": "code",
      "metadata": {
        "execution": {
          "iopub.status.busy": "2021-08-31T17:46:50.219221Z",
          "iopub.execute_input": "2021-08-31T17:46:50.219581Z",
          "iopub.status.idle": "2021-08-31T17:46:50.269500Z",
          "shell.execute_reply.started": "2021-08-31T17:46:50.219547Z",
          "shell.execute_reply": "2021-08-31T17:46:50.268666Z"
        },
        "trusted": true,
        "id": "dJ6rZ2aIncNh",
        "outputId": "9e8c42fb-42bf-4517-9849-602dbf46aa24"
      },
      "source": [
        "soup_busca = BeautifulSoup(html_busca, 'html.parser')\n",
        "soup_busca"
      ],
      "execution_count": null,
      "outputs": [
        {
          "execution_count": 10,
          "output_type": "execute_result",
          "data": {
            "text/plain": "<!DOCTYPE html>\n\n<html lang=\"pt-br\">\n<head>\n<meta charset=\"utf-8\"/>\n<meta content=\"width=device-width\" name=\"viewport\"/>\n<title>Oceano de Aluguéis</title>\n<link href=\"reset.css\" rel=\"stylesheet\"/>\n<link href=\"style.css\" rel=\"stylesheet\"/>\n<link href=\"https://fonts.googleapis.com/css?family=Montserrat&amp;display=swap\" rel=\"stylesheet\"/>\n</head>\n<body>\n<header>\n<div>\n<img src=\"imagens/oceano-logo.png\"/>\n<h1>Oceano de Aluguéis</h1>\n<nav>\n<ul>\n<li><a href=\"results&amp;page=1.html\">Resultados</a></li>\n<li><a href=\"corretoras.html\">Corretoras</a></li>\n<li><a href=\"sobre.html\">Sobre</a></li>\n</ul>\n</nav>\n</div>\n</header>\n<main>\n<div class=\"ad-card-list\">\n<p>21 resultados obtidos - Página 1</p>\n<div class=\"ad-card\">\n<img class=\"apto-img\" src=\"imagens/apto-01.jpg\"/>\n<div class=\"ad-card-info\">\n<h2>Lindo apartamento para alugar</h2>\n<ul class=\"features\">\n<li><img src=\"imagens/area.png\"/> 100 m²</li>\n<li><img src=\"imagens/bedrooms.png\"/> 3 quarto(s)</li>\n<li><img src=\"imagens/toilet.png\"/> 2 banheiro(s)</li>\n<li><img src=\"imagens/parking.png\"/> 2 vaga(s)</li>\n</ul>\n<ul class=\"resources\">\n<li>Mobiliado</li>\n<li>Portaria 24h</li>\n<li>Elevador</li>\n<li>Piscina</li>\n<li>Churrasqueira</li>\n<li>Salão de Festas</li>\n<li>Academia</li>\n<li>Playground</li>\n<li>Quadra poliesportiva</li>\n<li>Salão de jogos</li>\n<li>Aceita animais</li>\n</ul>\n<p>Localização: Oceano Pacífico</p>\n</div>\n<div class=\"ad-card-price\">\n<p>Aluguel: R$ 4.000,00</p>\n<p>Condomínio: 500,00</p>\n<p>IPTU: R$ 100,00</p>\n<p>Corretora: Tubarão</p>\n</div>\n</div>\n<div class=\"ad-card\">\n<img class=\"apto-img\" src=\"imagens/apto-02.jpg\"/>\n<div class=\"ad-card-info\">\n<h2>Ótimo lugar para morar</h2>\n<ul class=\"features\">\n<li><img src=\"imagens/area.png\"/> 60 m²</li>\n<li><img src=\"imagens/bedrooms.png\"/> 2 quarto(s)</li>\n<li><img src=\"imagens/toilet.png\"/> 2 banheiro(s)</li>\n<li><img src=\"imagens/parking.png\"/> 1 vaga(s)</li>\n</ul>\n<ul class=\"resources\">\n<li>Mobiliado</li>\n<li>Portaria 24h</li>\n<li>Salão de Festas</li>\n<li>Quadra poliesportiva</li>\n</ul>\n<p>Localização: Oceano Índico</p>\n</div>\n<div class=\"ad-card-price\">\n<p>Aluguel: R$ 2.000,00</p>\n<p>Condomínio: 200,00</p>\n<p>IPTU: R$ 50,00</p>\n<p>Corretora: Carangueijo</p>\n</div>\n</div>\n<div class=\"ad-card\">\n<img class=\"apto-img\" src=\"imagens/apto-03.jpg\"/>\n<div class=\"ad-card-info\">\n<h2>Belíssimo apartamento mobiliado</h2>\n<ul class=\"features\">\n<li><img src=\"imagens/area.png\"/> 50 m²</li>\n<li><img src=\"imagens/bedrooms.png\"/> 1 quarto(s)</li>\n<li><img src=\"imagens/toilet.png\"/> 1 banheiro(s)</li>\n<li><img src=\"imagens/parking.png\"/> 1 vaga(s)</li>\n</ul>\n<ul class=\"resources\">\n<li>Mobiliado</li>\n</ul>\n<p>Localização: Mar de Java</p>\n</div>\n<div class=\"ad-card-price\">\n<p>Aluguel: R$ 1.300,00</p>\n<p>Condomínio: 200,00</p>\n<p>IPTU: R$ 50,00</p>\n<p>Corretora: Baleia Azul</p>\n</div>\n</div>\n<div class=\"ad-card\">\n<img class=\"apto-img\" src=\"imagens/apto-04.jpg\"/>\n<div class=\"ad-card-info\">\n<h2>Um cantinho todo seu</h2>\n<ul class=\"features\">\n<li><img src=\"imagens/area.png\"/> 60 m²</li>\n<li><img src=\"imagens/bedrooms.png\"/> 2 quarto(s)</li>\n<li><img src=\"imagens/toilet.png\"/> 2 banheiro(s)</li>\n<li><img src=\"imagens/parking.png\"/> 1 vaga(s)</li>\n</ul>\n<ul class=\"resources\">\n<li>Mobiliado</li>\n<li>Portaria 24h</li>\n</ul>\n<p>Localização: Oceano Índico</p>\n</div>\n<div class=\"ad-card-price\">\n<p>Aluguel: R$ 1.800,00</p>\n<p>Condomínio: 100,00</p>\n<p>IPTU: R$ 20,00</p>\n<p>Corretora: Baleia Azul</p>\n</div>\n</div>\n<div class=\"ad-card\">\n<img class=\"apto-img\" src=\"imagens/apto-05.jpg\"/>\n<div class=\"ad-card-info\">\n<h2>Alugue já! Ótima oportunidade</h2>\n<ul class=\"features\">\n<li><img src=\"imagens/area.png\"/> 120 m²</li>\n<li><img src=\"imagens/bedrooms.png\"/> 4 quarto(s)</li>\n<li><img src=\"imagens/toilet.png\"/> 3 banheiro(s)</li>\n<li><img src=\"imagens/parking.png\"/> 2 vaga(s)</li>\n</ul>\n<ul class=\"resources\">\n<li>Mobiliado</li>\n<li>Portaria 24h</li>\n<li>Elevador</li>\n<li>Piscina</li>\n<li>Churrasqueira</li>\n<li>Salão de Festas</li>\n<li>Academia</li>\n<li>Playground</li>\n<li>Quadra poliesportiva</li>\n<li>Salão de jogos</li>\n<li>Aceita animais</li>\n</ul>\n<p>Localização: Oceano Pacífico</p>\n</div>\n<div class=\"ad-card-price\">\n<p>Aluguel: R$ 3.800,00</p>\n<p>Condomínio: 500,00</p>\n<p>IPTU: R$ 200,00</p>\n<p>Corretora: Tubarão</p>\n</div>\n</div>\n</div>\n<div class=\"pagination\">\n<a class=\"inactive\" href=\"#\">«</a>\n<a class=\"active\" href=\"#\">1</a>\n<a href=\"results&amp;page=2.html\">2</a>\n<a href=\"results&amp;page=3.html\">3</a>\n<a href=\"results&amp;page=2.html\">»</a>\n</div>\n</main>\n<footer>\n<img src=\"imagens/oceano-logo-cinza.png\"/>\n<p>Site criado para o curso de Web Scraping do Ocean</p>\n</footer>\n</body>\n</html>"
          },
          "metadata": {}
        }
      ]
    },
    {
      "cell_type": "markdown",
      "metadata": {
        "id": "0Sgn2SwfncNi"
      },
      "source": [
        "### 1.3) Página de contatos das corretoras"
      ]
    },
    {
      "cell_type": "code",
      "metadata": {
        "execution": {
          "iopub.status.busy": "2021-08-31T17:46:56.271463Z",
          "iopub.execute_input": "2021-08-31T17:46:56.271850Z",
          "iopub.status.idle": "2021-08-31T17:46:56.731025Z",
          "shell.execute_reply.started": "2021-08-31T17:46:56.271813Z",
          "shell.execute_reply": "2021-08-31T17:46:56.730221Z"
        },
        "trusted": true,
        "id": "_rkjfXTAncNi",
        "outputId": "8831af4a-885f-42c5-c109-935b570864cc"
      },
      "source": [
        "response_corretoras = urlopen(url_corretoras)\n",
        "html_corretoras = response_corretoras.read()\n",
        "html_corretoras"
      ],
      "execution_count": null,
      "outputs": [
        {
          "execution_count": 11,
          "output_type": "execute_result",
          "data": {
            "text/plain": "b'<!DOCTYPE html>\\n<html lang=\"pt-br\">\\n\\t<head>\\n\\t\\t<meta charset=\"UTF-8\">\\n\\t\\t<meta name=\"viewport\" content=\"width=device-width\">\\n\\n\\t\\t<title>Oceano de Alugu\\xc3\\xa9is</title>\\n\\t\\t\\n\\t\\t<link rel=\"stylesheet\" href=\"reset.css\">\\n\\t\\t<link rel=\"stylesheet\" href=\"style.css\">\\n\\t\\t<link href=\"https://fonts.googleapis.com/css?family=Montserrat&display=swap\" rel=\"stylesheet\">\\n\\t</head>\\n\\n\\t<body>\\n\\t\\t<header>\\n\\t\\t\\t<div>\\n\\t\\t\\t\\t<img src=\"imagens/oceano-logo.png\">\\n\\t\\t\\t\\t<h1>Oceano de Alugu\\xc3\\xa9is</h1>\\n\\t\\t\\t\\t<nav>\\n\\t\\t\\t\\t\\t<ul>\\n\\t\\t\\t\\t\\t\\t<li><a href=\"results&page=1.html\">Resultados</a></li>\\n\\t\\t\\t\\t\\t\\t<li><a href=\"corretoras.html\">Corretoras</a></li>\\n\\t\\t\\t\\t\\t\\t<li><a href=\"sobre.html\">Sobre</a></li>\\n\\t\\t\\t\\t\\t</ul>\\n\\t\\t\\t\\t</nav>\\n\\t\\t\\t</div>\\n\\t\\t</header>\\n\\n\\t\\t<main>\\n\\t\\t\\t<div class=\"contacts\">\\n\\t\\t\\t\\t<table>\\n\\t\\t\\t\\t\\t<thead>\\n\\t\\t\\t\\t\\t\\t<tr>\\n\\t\\t\\t\\t\\t\\t\\t<th>Corretora</th>\\n\\t\\t\\t\\t\\t\\t\\t<th>Contatos</th>\\n\\t\\t\\t\\t\\t\\t</tr>\\n\\t\\t\\t\\t\\t</thead>\\n\\n\\t\\t\\t\\t\\t<tbody>\\n\\t\\t\\t\\t\\t\\t<tr>\\n\\t\\t\\t\\t\\t\\t\\t<td>Tubar\\xc3\\xa3o</td>\\n\\t\\t\\t\\t\\t\\t\\t<td>Jo\\xc3\\xa3o Marinho - Fone:(XX)XXXX-XXXX</td>\\n\\t\\t\\t\\t\\t\\t</tr>\\n\\t\\t\\t\\t\\t\\t<tr>\\n\\t\\t\\t\\t\\t\\t\\t<td>Carangueijo</td>\\n\\t\\t\\t\\t\\t\\t\\t<td>Ana Sirigueijo - Fone:(XX)XXXX-XXXX; Sebasti\\xc3\\xa3o Costa - Fone:(XX)XXXX-XXXX</td>\\n\\t\\t\\t\\t\\t\\t</tr>\\n\\t\\t\\t\\t\\t\\t<tr>\\n\\t\\t\\t\\t\\t\\t\\t<td>Baleia Azul</td>\\n\\t\\t\\t\\t\\t\\t\\t<td>\\n\\t\\t\\t\\t\\t\\t\\t\\t<ul>\\n\\t\\t\\t\\t\\t\\t\\t\\t\\t<li>Alina Ferreira - Fone:(XX)XXXX-XXXX</li>\\n\\t\\t\\t\\t\\t\\t\\t\\t\\t<li>Jorge Matheus - Fone:(XX)XXXX-XXXX</li>\\n\\t\\t\\t\\t\\t\\t\\t\\t</ul>\\n\\t\\t\\t\\t\\t\\t\\t</td>\\n\\t\\t\\t\\t\\t\\t</tr>\\n\\t\\t\\t\\t\\t\\t<tr>\\n\\t\\t\\t\\t\\t\\t\\t<td>Enguia</td>\\n\\t\\t\\t\\t\\t\\t\\t<td><a href=\"pdfs/contatos-enguia.pdf\">Nossos contatos</a></td>\\n\\t\\t\\t\\t\\t\\t</tr>\\n\\t\\t\\t\\t\\t</tbody>\\n\\t\\t\\t\\t</table>\\n\\t\\t\\t</div>\\n\\t\\t</main>\\n\\n\\t\\t<footer>\\n\\t\\t\\t<img src=\"imagens/oceano-logo-cinza.png\">\\n\\t\\t\\t<p>Site criado para o curso de Web Scraping do Ocean</p>\\n\\t\\t</footer>\\n\\t</body>\\n</html>'"
          },
          "metadata": {}
        }
      ]
    },
    {
      "cell_type": "code",
      "metadata": {
        "execution": {
          "iopub.status.busy": "2021-08-31T17:47:02.603067Z",
          "iopub.execute_input": "2021-08-31T17:47:02.603444Z",
          "iopub.status.idle": "2021-08-31T17:47:02.624332Z",
          "shell.execute_reply.started": "2021-08-31T17:47:02.603409Z",
          "shell.execute_reply": "2021-08-31T17:47:02.623043Z"
        },
        "trusted": true,
        "id": "SYYMCDU2ncNj",
        "outputId": "50afd479-c4e5-4210-dbf4-f968e47ab6c7"
      },
      "source": [
        "soup_corretoras = BeautifulSoup(html_corretoras, 'html.parser')\n",
        "soup_corretoras"
      ],
      "execution_count": null,
      "outputs": [
        {
          "execution_count": 12,
          "output_type": "execute_result",
          "data": {
            "text/plain": "<!DOCTYPE html>\n\n<html lang=\"pt-br\">\n<head>\n<meta charset=\"utf-8\"/>\n<meta content=\"width=device-width\" name=\"viewport\"/>\n<title>Oceano de Aluguéis</title>\n<link href=\"reset.css\" rel=\"stylesheet\"/>\n<link href=\"style.css\" rel=\"stylesheet\"/>\n<link href=\"https://fonts.googleapis.com/css?family=Montserrat&amp;display=swap\" rel=\"stylesheet\"/>\n</head>\n<body>\n<header>\n<div>\n<img src=\"imagens/oceano-logo.png\"/>\n<h1>Oceano de Aluguéis</h1>\n<nav>\n<ul>\n<li><a href=\"results&amp;page=1.html\">Resultados</a></li>\n<li><a href=\"corretoras.html\">Corretoras</a></li>\n<li><a href=\"sobre.html\">Sobre</a></li>\n</ul>\n</nav>\n</div>\n</header>\n<main>\n<div class=\"contacts\">\n<table>\n<thead>\n<tr>\n<th>Corretora</th>\n<th>Contatos</th>\n</tr>\n</thead>\n<tbody>\n<tr>\n<td>Tubarão</td>\n<td>João Marinho - Fone:(XX)XXXX-XXXX</td>\n</tr>\n<tr>\n<td>Carangueijo</td>\n<td>Ana Sirigueijo - Fone:(XX)XXXX-XXXX; Sebastião Costa - Fone:(XX)XXXX-XXXX</td>\n</tr>\n<tr>\n<td>Baleia Azul</td>\n<td>\n<ul>\n<li>Alina Ferreira - Fone:(XX)XXXX-XXXX</li>\n<li>Jorge Matheus - Fone:(XX)XXXX-XXXX</li>\n</ul>\n</td>\n</tr>\n<tr>\n<td>Enguia</td>\n<td><a href=\"pdfs/contatos-enguia.pdf\">Nossos contatos</a></td>\n</tr>\n</tbody>\n</table>\n</div>\n</main>\n<footer>\n<img src=\"imagens/oceano-logo-cinza.png\"/>\n<p>Site criado para o curso de Web Scraping do Ocean</p>\n</footer>\n</body>\n</html>"
          },
          "metadata": {}
        }
      ]
    },
    {
      "cell_type": "markdown",
      "metadata": {
        "id": "l0yVoh-DncNj"
      },
      "source": [
        "## 2) Lista de desafios da página 'Sobre'"
      ]
    },
    {
      "cell_type": "markdown",
      "metadata": {
        "id": "8O8Y27KfncNk"
      },
      "source": [
        "### 2.1) Desafio 1: que tal coletar o texto 'Sobre este site' para começar?"
      ]
    },
    {
      "cell_type": "code",
      "metadata": {
        "execution": {
          "iopub.status.busy": "2021-08-31T17:47:27.508075Z",
          "iopub.execute_input": "2021-08-31T17:47:27.508584Z",
          "iopub.status.idle": "2021-08-31T17:47:27.514867Z",
          "shell.execute_reply.started": "2021-08-31T17:47:27.508551Z",
          "shell.execute_reply": "2021-08-31T17:47:27.514128Z"
        },
        "trusted": true,
        "id": "cCE9MHhJncNk",
        "outputId": "5957c5f1-cf38-4182-85f7-c2dff9dfa0d1"
      },
      "source": [
        "soup_sobre.find('div', {'class': 'about'}).find('h2').get_text()"
      ],
      "execution_count": null,
      "outputs": [
        {
          "execution_count": 13,
          "output_type": "execute_result",
          "data": {
            "text/plain": "'Sobre este site'"
          },
          "metadata": {}
        }
      ]
    },
    {
      "cell_type": "markdown",
      "metadata": {
        "id": "aV1wZSuFncNl"
      },
      "source": [
        "### 2.2) Desafio 2: agora extraia o link contido na palavra 'Ocean'."
      ]
    },
    {
      "cell_type": "code",
      "metadata": {
        "execution": {
          "iopub.status.busy": "2021-08-31T17:48:25.521480Z",
          "iopub.execute_input": "2021-08-31T17:48:25.521998Z",
          "iopub.status.idle": "2021-08-31T17:48:25.527927Z",
          "shell.execute_reply.started": "2021-08-31T17:48:25.521964Z",
          "shell.execute_reply": "2021-08-31T17:48:25.527215Z"
        },
        "trusted": true,
        "id": "els4Fhl1ncNl",
        "outputId": "d93e0588-d990-4603-fe2b-094f62a0075a"
      },
      "source": [
        "soup_sobre.find('div', {'class': 'about'}).find('a').get('href')"
      ],
      "execution_count": null,
      "outputs": [
        {
          "execution_count": 14,
          "output_type": "execute_result",
          "data": {
            "text/plain": "'http://www.oceanbrasil.com/'"
          },
          "metadata": {}
        }
      ]
    },
    {
      "cell_type": "markdown",
      "metadata": {
        "id": "J7-qnBsBncNm"
      },
      "source": [
        "### 2.3) Desafio 3: Em seguida, colete todos os itens desta lista."
      ]
    },
    {
      "cell_type": "code",
      "metadata": {
        "execution": {
          "iopub.status.busy": "2021-08-31T17:48:39.409181Z",
          "iopub.execute_input": "2021-08-31T17:48:39.409891Z",
          "iopub.status.idle": "2021-08-31T17:48:39.416585Z",
          "shell.execute_reply.started": "2021-08-31T17:48:39.409851Z",
          "shell.execute_reply": "2021-08-31T17:48:39.415888Z"
        },
        "trusted": true,
        "id": "hKZ6lRYAncNm",
        "outputId": "f92a9c31-955b-40a7-92f8-0d5be2367fb6"
      },
      "source": [
        "soup_sobre.find('div', {'class': 'about'}).find('ol').find_all('li')"
      ],
      "execution_count": null,
      "outputs": [
        {
          "execution_count": 15,
          "output_type": "execute_result",
          "data": {
            "text/plain": "[<li>Que tal coletar o texto <em>\"Sobre este site\"</em> para começar?</li>,\n <li>Agora extraia o link contido na palavra <em>\"Ocean\"</em>.</li>,\n <li>Em seguida, colete todos os itens desta lista.</li>,\n <li>Por fim, colete apenas este último item da lista.</li>]"
          },
          "metadata": {}
        }
      ]
    },
    {
      "cell_type": "code",
      "metadata": {
        "execution": {
          "iopub.status.busy": "2021-08-31T17:48:44.267683Z",
          "iopub.execute_input": "2021-08-31T17:48:44.268242Z",
          "iopub.status.idle": "2021-08-31T17:48:44.276302Z",
          "shell.execute_reply.started": "2021-08-31T17:48:44.268206Z",
          "shell.execute_reply": "2021-08-31T17:48:44.274876Z"
        },
        "trusted": true,
        "id": "w1G_yqV6ncNo",
        "outputId": "8ae8a5f3-28d2-4860-b7ee-8bf448e12d77"
      },
      "source": [
        "for item in soup_sobre.find('div', {'class': 'about'}).find('ol').find_all('li'):\n",
        "    print(item.get_text())"
      ],
      "execution_count": null,
      "outputs": [
        {
          "name": "stdout",
          "text": "Que tal coletar o texto \"Sobre este site\" para começar?\nAgora extraia o link contido na palavra \"Ocean\".\nEm seguida, colete todos os itens desta lista.\nPor fim, colete apenas este último item da lista.\n",
          "output_type": "stream"
        }
      ]
    },
    {
      "cell_type": "markdown",
      "metadata": {
        "id": "KNH5HlTgncNq"
      },
      "source": [
        "### 2.4) Desafio 4: por fim, colete apenas este último item da lista."
      ]
    },
    {
      "cell_type": "code",
      "metadata": {
        "execution": {
          "iopub.status.busy": "2021-08-31T17:48:57.638362Z",
          "iopub.execute_input": "2021-08-31T17:48:57.638730Z",
          "iopub.status.idle": "2021-08-31T17:48:57.646293Z",
          "shell.execute_reply.started": "2021-08-31T17:48:57.638698Z",
          "shell.execute_reply": "2021-08-31T17:48:57.645069Z"
        },
        "trusted": true,
        "id": "_3Oy8HbDncNr",
        "outputId": "740a621e-34c0-4625-f676-8f6b155a4c44"
      },
      "source": [
        "soup_sobre.find('div', {'class': 'about'}).find('ol').find_all('li')[-1].get_text()"
      ],
      "execution_count": null,
      "outputs": [
        {
          "execution_count": 17,
          "output_type": "execute_result",
          "data": {
            "text/plain": "'Por fim, colete apenas este último item da lista.'"
          },
          "metadata": {}
        }
      ]
    },
    {
      "cell_type": "markdown",
      "metadata": {
        "id": "utq5viz4ncNs"
      },
      "source": [
        "## 3) Coletando a lista de resultados da busca por imóveis"
      ]
    },
    {
      "cell_type": "code",
      "metadata": {
        "execution": {
          "iopub.status.busy": "2021-08-31T18:07:05.025778Z",
          "iopub.execute_input": "2021-08-31T18:07:05.026132Z",
          "iopub.status.idle": "2021-08-31T18:07:05.029633Z",
          "shell.execute_reply.started": "2021-08-31T18:07:05.026102Z",
          "shell.execute_reply": "2021-08-31T18:07:05.028865Z"
        },
        "trusted": true,
        "id": "dVYu1kz-ncNs"
      },
      "source": [
        "import pandas as pd"
      ],
      "execution_count": null,
      "outputs": []
    },
    {
      "cell_type": "markdown",
      "metadata": {
        "id": "0FIH_Cs7ncNt"
      },
      "source": [
        "### 3.1) Coletando apenas o primeiro item da lista"
      ]
    },
    {
      "cell_type": "code",
      "metadata": {
        "execution": {
          "iopub.status.busy": "2021-08-31T18:10:07.755146Z",
          "iopub.execute_input": "2021-08-31T18:10:07.755496Z",
          "iopub.status.idle": "2021-08-31T18:10:07.771049Z",
          "shell.execute_reply.started": "2021-08-31T18:10:07.755465Z",
          "shell.execute_reply": "2021-08-31T18:10:07.770302Z"
        },
        "trusted": true,
        "id": "ZN7e58sQncNt",
        "outputId": "b11e5b9d-2ca0-4b1d-8d04-11efa044407b"
      },
      "source": [
        "soup_busca.find('div', {'class': 'ad-card'})"
      ],
      "execution_count": null,
      "outputs": [
        {
          "execution_count": 20,
          "output_type": "execute_result",
          "data": {
            "text/plain": "<div class=\"ad-card\">\n<img class=\"apto-img\" src=\"imagens/apto-01.jpg\"/>\n<div class=\"ad-card-info\">\n<h2>Lindo apartamento para alugar</h2>\n<ul class=\"features\">\n<li><img src=\"imagens/area.png\"/> 100 m²</li>\n<li><img src=\"imagens/bedrooms.png\"/> 3 quarto(s)</li>\n<li><img src=\"imagens/toilet.png\"/> 2 banheiro(s)</li>\n<li><img src=\"imagens/parking.png\"/> 2 vaga(s)</li>\n</ul>\n<ul class=\"resources\">\n<li>Mobiliado</li>\n<li>Portaria 24h</li>\n<li>Elevador</li>\n<li>Piscina</li>\n<li>Churrasqueira</li>\n<li>Salão de Festas</li>\n<li>Academia</li>\n<li>Playground</li>\n<li>Quadra poliesportiva</li>\n<li>Salão de jogos</li>\n<li>Aceita animais</li>\n</ul>\n<p>Localização: Oceano Pacífico</p>\n</div>\n<div class=\"ad-card-price\">\n<p>Aluguel: R$ 4.000,00</p>\n<p>Condomínio: 500,00</p>\n<p>IPTU: R$ 100,00</p>\n<p>Corretora: Tubarão</p>\n</div>\n</div>"
          },
          "metadata": {}
        }
      ]
    },
    {
      "cell_type": "markdown",
      "metadata": {
        "id": "F8xeCPeMncNu"
      },
      "source": [
        "#### 3.1.1) Coletando as características"
      ]
    },
    {
      "cell_type": "code",
      "metadata": {
        "execution": {
          "iopub.status.busy": "2021-08-31T18:10:17.525231Z",
          "iopub.execute_input": "2021-08-31T18:10:17.525924Z",
          "iopub.status.idle": "2021-08-31T18:10:17.539070Z",
          "shell.execute_reply.started": "2021-08-31T18:10:17.525858Z",
          "shell.execute_reply": "2021-08-31T18:10:17.537842Z"
        },
        "trusted": true,
        "id": "n_Cmv0AEncNu",
        "outputId": "80eadab1-0483-48d9-88b5-287f0172d2f4"
      },
      "source": [
        "soup_busca.find('ul', {'class': 'features'})"
      ],
      "execution_count": null,
      "outputs": [
        {
          "execution_count": 21,
          "output_type": "execute_result",
          "data": {
            "text/plain": "<ul class=\"features\">\n<li><img src=\"imagens/area.png\"/> 100 m²</li>\n<li><img src=\"imagens/bedrooms.png\"/> 3 quarto(s)</li>\n<li><img src=\"imagens/toilet.png\"/> 2 banheiro(s)</li>\n<li><img src=\"imagens/parking.png\"/> 2 vaga(s)</li>\n</ul>"
          },
          "metadata": {}
        }
      ]
    },
    {
      "cell_type": "code",
      "metadata": {
        "execution": {
          "iopub.status.busy": "2021-08-31T18:11:48.259857Z",
          "iopub.execute_input": "2021-08-31T18:11:48.260388Z",
          "iopub.status.idle": "2021-08-31T18:11:48.266540Z",
          "shell.execute_reply.started": "2021-08-31T18:11:48.260337Z",
          "shell.execute_reply": "2021-08-31T18:11:48.265864Z"
        },
        "trusted": true,
        "id": "tR3IIV37ncNu",
        "outputId": "a5e9cfb7-d3c8-4d28-df5c-478556102ef9"
      },
      "source": [
        "soup_busca.find('ul', {'class': 'features'}).find_all('li')"
      ],
      "execution_count": null,
      "outputs": [
        {
          "execution_count": 22,
          "output_type": "execute_result",
          "data": {
            "text/plain": "[<li><img src=\"imagens/area.png\"/> 100 m²</li>,\n <li><img src=\"imagens/bedrooms.png\"/> 3 quarto(s)</li>,\n <li><img src=\"imagens/toilet.png\"/> 2 banheiro(s)</li>,\n <li><img src=\"imagens/parking.png\"/> 2 vaga(s)</li>]"
          },
          "metadata": {}
        }
      ]
    },
    {
      "cell_type": "code",
      "metadata": {
        "execution": {
          "iopub.status.busy": "2021-08-31T18:11:50.560445Z",
          "iopub.execute_input": "2021-08-31T18:11:50.561008Z",
          "iopub.status.idle": "2021-08-31T18:11:50.569107Z",
          "shell.execute_reply.started": "2021-08-31T18:11:50.560957Z",
          "shell.execute_reply": "2021-08-31T18:11:50.568249Z"
        },
        "trusted": true,
        "id": "ZWsODMcTncNv",
        "outputId": "eacd9eab-d987-4b97-d889-d2e733d585a1"
      },
      "source": [
        "for caracteristica in soup_busca.find('ul', {'class': 'features'}).find_all('li'):\n",
        "    print(caracteristica.get_text())"
      ],
      "execution_count": null,
      "outputs": [
        {
          "name": "stdout",
          "text": " 100 m²\n 3 quarto(s)\n 2 banheiro(s)\n 2 vaga(s)\n",
          "output_type": "stream"
        }
      ]
    },
    {
      "cell_type": "markdown",
      "metadata": {
        "id": "YvDLh2k7ncNv"
      },
      "source": [
        "#### 3.1.2) Coletando os recursos"
      ]
    },
    {
      "cell_type": "code",
      "metadata": {
        "execution": {
          "iopub.status.busy": "2021-08-31T18:12:12.186205Z",
          "iopub.execute_input": "2021-08-31T18:12:12.186694Z",
          "iopub.status.idle": "2021-08-31T18:12:12.196139Z",
          "shell.execute_reply.started": "2021-08-31T18:12:12.186660Z",
          "shell.execute_reply": "2021-08-31T18:12:12.194938Z"
        },
        "trusted": true,
        "id": "Wk4EnxUBncNw",
        "outputId": "8d6cbb72-f968-424d-efc4-fa49e93e3f71"
      },
      "source": [
        "soup_busca.find('ul', {'class': 'resources'})"
      ],
      "execution_count": null,
      "outputs": [
        {
          "execution_count": 24,
          "output_type": "execute_result",
          "data": {
            "text/plain": "<ul class=\"resources\">\n<li>Mobiliado</li>\n<li>Portaria 24h</li>\n<li>Elevador</li>\n<li>Piscina</li>\n<li>Churrasqueira</li>\n<li>Salão de Festas</li>\n<li>Academia</li>\n<li>Playground</li>\n<li>Quadra poliesportiva</li>\n<li>Salão de jogos</li>\n<li>Aceita animais</li>\n</ul>"
          },
          "metadata": {}
        }
      ]
    },
    {
      "cell_type": "code",
      "metadata": {
        "execution": {
          "iopub.status.busy": "2021-08-31T18:14:01.256878Z",
          "iopub.execute_input": "2021-08-31T18:14:01.257393Z",
          "iopub.status.idle": "2021-08-31T18:14:01.263979Z",
          "shell.execute_reply.started": "2021-08-31T18:14:01.257359Z",
          "shell.execute_reply": "2021-08-31T18:14:01.263137Z"
        },
        "trusted": true,
        "id": "LyV8Msl6ncNw",
        "outputId": "5a05fe03-96dc-4f14-b931-13198c4d1315"
      },
      "source": [
        "soup_busca.find('ul', {'class': 'resources'}).find_all('li')"
      ],
      "execution_count": null,
      "outputs": [
        {
          "execution_count": 25,
          "output_type": "execute_result",
          "data": {
            "text/plain": "[<li>Mobiliado</li>,\n <li>Portaria 24h</li>,\n <li>Elevador</li>,\n <li>Piscina</li>,\n <li>Churrasqueira</li>,\n <li>Salão de Festas</li>,\n <li>Academia</li>,\n <li>Playground</li>,\n <li>Quadra poliesportiva</li>,\n <li>Salão de jogos</li>,\n <li>Aceita animais</li>]"
          },
          "metadata": {}
        }
      ]
    },
    {
      "cell_type": "code",
      "metadata": {
        "execution": {
          "iopub.status.busy": "2021-08-31T18:14:03.422729Z",
          "iopub.execute_input": "2021-08-31T18:14:03.423291Z",
          "iopub.status.idle": "2021-08-31T18:14:03.432422Z",
          "shell.execute_reply.started": "2021-08-31T18:14:03.423239Z",
          "shell.execute_reply": "2021-08-31T18:14:03.431450Z"
        },
        "trusted": true,
        "id": "j7NyUOijncNw",
        "outputId": "1a205e11-216f-4614-f568-1d2e0c8abae4"
      },
      "source": [
        "for recurso in soup_busca.find('ul', {'class': 'resources'}).find_all('li'):\n",
        "    print(recurso.get_text())"
      ],
      "execution_count": null,
      "outputs": [
        {
          "name": "stdout",
          "text": "Mobiliado\nPortaria 24h\nElevador\nPiscina\nChurrasqueira\nSalão de Festas\nAcademia\nPlayground\nQuadra poliesportiva\nSalão de jogos\nAceita animais\n",
          "output_type": "stream"
        }
      ]
    },
    {
      "cell_type": "markdown",
      "metadata": {
        "id": "Cx5fkHguncNw"
      },
      "source": [
        "#### 3.1.3) Coletando todos os valores (aluguel, condomínio e IPTU)"
      ]
    },
    {
      "cell_type": "code",
      "metadata": {
        "execution": {
          "iopub.status.busy": "2021-08-31T18:14:05.664056Z",
          "iopub.execute_input": "2021-08-31T18:14:05.664408Z",
          "iopub.status.idle": "2021-08-31T18:14:05.673128Z",
          "shell.execute_reply.started": "2021-08-31T18:14:05.664377Z",
          "shell.execute_reply": "2021-08-31T18:14:05.672338Z"
        },
        "trusted": true,
        "id": "SAfUXVY0ncNx",
        "outputId": "fba2cbc7-1531-4576-b0dd-7f34b82a3c85"
      },
      "source": [
        "soup_busca.find('div', {'class': 'ad-card-price'})"
      ],
      "execution_count": null,
      "outputs": [
        {
          "execution_count": 27,
          "output_type": "execute_result",
          "data": {
            "text/plain": "<div class=\"ad-card-price\">\n<p>Aluguel: R$ 4.000,00</p>\n<p>Condomínio: 500,00</p>\n<p>IPTU: R$ 100,00</p>\n<p>Corretora: Tubarão</p>\n</div>"
          },
          "metadata": {}
        }
      ]
    },
    {
      "cell_type": "code",
      "metadata": {
        "execution": {
          "iopub.status.busy": "2021-08-31T18:14:07.791509Z",
          "iopub.execute_input": "2021-08-31T18:14:07.792084Z",
          "iopub.status.idle": "2021-08-31T18:14:07.801248Z",
          "shell.execute_reply.started": "2021-08-31T18:14:07.792029Z",
          "shell.execute_reply": "2021-08-31T18:14:07.800147Z"
        },
        "trusted": true,
        "id": "8_knhnxWncNx",
        "outputId": "80746da7-e212-4de2-cc6a-f68398e28167"
      },
      "source": [
        "soup_busca.find('div', {'class': 'ad-card-price'}).find_all('p')"
      ],
      "execution_count": null,
      "outputs": [
        {
          "execution_count": 28,
          "output_type": "execute_result",
          "data": {
            "text/plain": "[<p>Aluguel: R$ 4.000,00</p>,\n <p>Condomínio: 500,00</p>,\n <p>IPTU: R$ 100,00</p>,\n <p>Corretora: Tubarão</p>]"
          },
          "metadata": {}
        }
      ]
    },
    {
      "cell_type": "code",
      "metadata": {
        "execution": {
          "iopub.status.busy": "2021-08-31T18:14:10.036993Z",
          "iopub.execute_input": "2021-08-31T18:14:10.037350Z",
          "iopub.status.idle": "2021-08-31T18:14:10.044844Z",
          "shell.execute_reply.started": "2021-08-31T18:14:10.037319Z",
          "shell.execute_reply": "2021-08-31T18:14:10.043703Z"
        },
        "trusted": true,
        "id": "Ck5t0zUvncNx",
        "outputId": "cf39f677-e78e-43e9-e43e-65350662c119"
      },
      "source": [
        "soup_busca.find('div', {'class': 'ad-card-price'}).find_all('p')[:-1]"
      ],
      "execution_count": null,
      "outputs": [
        {
          "execution_count": 29,
          "output_type": "execute_result",
          "data": {
            "text/plain": "[<p>Aluguel: R$ 4.000,00</p>,\n <p>Condomínio: 500,00</p>,\n <p>IPTU: R$ 100,00</p>]"
          },
          "metadata": {}
        }
      ]
    },
    {
      "cell_type": "code",
      "metadata": {
        "execution": {
          "iopub.status.busy": "2021-08-31T18:14:12.317949Z",
          "iopub.execute_input": "2021-08-31T18:14:12.318324Z",
          "iopub.status.idle": "2021-08-31T18:14:12.325269Z",
          "shell.execute_reply.started": "2021-08-31T18:14:12.318292Z",
          "shell.execute_reply": "2021-08-31T18:14:12.323804Z"
        },
        "trusted": true,
        "id": "s2rSoGt8ncNy",
        "outputId": "a61cbf39-2efe-46a6-d1d1-fbe6591a608c"
      },
      "source": [
        "for precos in soup_busca.find('div', {'class': 'ad-card-price'}).find_all('p')[:-1]:\n",
        "    print(precos.get_text())"
      ],
      "execution_count": null,
      "outputs": [
        {
          "name": "stdout",
          "text": "Aluguel: R$ 4.000,00\nCondomínio: 500,00\nIPTU: R$ 100,00\n",
          "output_type": "stream"
        }
      ]
    },
    {
      "cell_type": "markdown",
      "metadata": {
        "id": "G1qsGRFRncNy"
      },
      "source": [
        "#### 3.1.4) Coletando a corretora"
      ]
    },
    {
      "cell_type": "code",
      "metadata": {
        "execution": {
          "iopub.status.busy": "2021-08-31T18:15:46.520755Z",
          "iopub.execute_input": "2021-08-31T18:15:46.521145Z",
          "iopub.status.idle": "2021-08-31T18:15:46.528315Z",
          "shell.execute_reply.started": "2021-08-31T18:15:46.521111Z",
          "shell.execute_reply": "2021-08-31T18:15:46.527593Z"
        },
        "trusted": true,
        "id": "sZQHlQVPncNz",
        "outputId": "f46349cb-e591-42db-c6bb-4023008583ed"
      },
      "source": [
        "soup_busca.find('div', {'class': 'ad-card-price'})"
      ],
      "execution_count": null,
      "outputs": [
        {
          "execution_count": 31,
          "output_type": "execute_result",
          "data": {
            "text/plain": "<div class=\"ad-card-price\">\n<p>Aluguel: R$ 4.000,00</p>\n<p>Condomínio: 500,00</p>\n<p>IPTU: R$ 100,00</p>\n<p>Corretora: Tubarão</p>\n</div>"
          },
          "metadata": {}
        }
      ]
    },
    {
      "cell_type": "code",
      "metadata": {
        "execution": {
          "iopub.status.busy": "2021-08-31T18:15:48.560860Z",
          "iopub.execute_input": "2021-08-31T18:15:48.561358Z",
          "iopub.status.idle": "2021-08-31T18:15:48.570023Z",
          "shell.execute_reply.started": "2021-08-31T18:15:48.561325Z",
          "shell.execute_reply": "2021-08-31T18:15:48.568909Z"
        },
        "trusted": true,
        "id": "8iVpb2XGncNz",
        "outputId": "193d3680-8c97-4734-b884-c2941493402f"
      },
      "source": [
        "soup_busca.find('div', {'class': 'ad-card-price'}).find_all('p')"
      ],
      "execution_count": null,
      "outputs": [
        {
          "execution_count": 32,
          "output_type": "execute_result",
          "data": {
            "text/plain": "[<p>Aluguel: R$ 4.000,00</p>,\n <p>Condomínio: 500,00</p>,\n <p>IPTU: R$ 100,00</p>,\n <p>Corretora: Tubarão</p>]"
          },
          "metadata": {}
        }
      ]
    },
    {
      "cell_type": "code",
      "metadata": {
        "execution": {
          "iopub.status.busy": "2021-08-31T18:15:52.327773Z",
          "iopub.execute_input": "2021-08-31T18:15:52.328379Z",
          "iopub.status.idle": "2021-08-31T18:15:52.338094Z",
          "shell.execute_reply.started": "2021-08-31T18:15:52.328324Z",
          "shell.execute_reply": "2021-08-31T18:15:52.336927Z"
        },
        "trusted": true,
        "id": "QwoO9xQ5ncNz",
        "outputId": "033b6639-89c5-4407-a0b6-7108efb87aba"
      },
      "source": [
        "soup_busca.find('div', {'class': 'ad-card-price'}).find_all('p')[-1]"
      ],
      "execution_count": null,
      "outputs": [
        {
          "execution_count": 33,
          "output_type": "execute_result",
          "data": {
            "text/plain": "<p>Corretora: Tubarão</p>"
          },
          "metadata": {}
        }
      ]
    },
    {
      "cell_type": "code",
      "metadata": {
        "execution": {
          "iopub.status.busy": "2021-08-31T18:15:57.160395Z",
          "iopub.execute_input": "2021-08-31T18:15:57.160756Z",
          "iopub.status.idle": "2021-08-31T18:15:57.168417Z",
          "shell.execute_reply.started": "2021-08-31T18:15:57.160723Z",
          "shell.execute_reply": "2021-08-31T18:15:57.167230Z"
        },
        "trusted": true,
        "id": "K2YFL2kXncN0",
        "outputId": "b41c25a2-d071-40aa-e3b6-e76e5132e81d"
      },
      "source": [
        "soup_busca.find('div', {'class': 'ad-card-price'}).find_all('p')[-1].get_text()"
      ],
      "execution_count": null,
      "outputs": [
        {
          "execution_count": 34,
          "output_type": "execute_result",
          "data": {
            "text/plain": "'Corretora: Tubarão'"
          },
          "metadata": {}
        }
      ]
    },
    {
      "cell_type": "markdown",
      "metadata": {
        "id": "rfmyaWhgncN0"
      },
      "source": [
        "#### 3.1.5) Coletando a localização"
      ]
    },
    {
      "cell_type": "code",
      "metadata": {
        "execution": {
          "iopub.status.busy": "2021-08-31T18:16:01.219354Z",
          "iopub.execute_input": "2021-08-31T18:16:01.219710Z",
          "iopub.status.idle": "2021-08-31T18:16:01.234608Z",
          "shell.execute_reply.started": "2021-08-31T18:16:01.219679Z",
          "shell.execute_reply": "2021-08-31T18:16:01.233300Z"
        },
        "trusted": true,
        "id": "vVJtyzesncN0",
        "outputId": "17942caf-121c-4c11-e73a-8cf04fa6228b"
      },
      "source": [
        "soup_busca.find('div', {'class': 'ad-card-info'})"
      ],
      "execution_count": null,
      "outputs": [
        {
          "execution_count": 35,
          "output_type": "execute_result",
          "data": {
            "text/plain": "<div class=\"ad-card-info\">\n<h2>Lindo apartamento para alugar</h2>\n<ul class=\"features\">\n<li><img src=\"imagens/area.png\"/> 100 m²</li>\n<li><img src=\"imagens/bedrooms.png\"/> 3 quarto(s)</li>\n<li><img src=\"imagens/toilet.png\"/> 2 banheiro(s)</li>\n<li><img src=\"imagens/parking.png\"/> 2 vaga(s)</li>\n</ul>\n<ul class=\"resources\">\n<li>Mobiliado</li>\n<li>Portaria 24h</li>\n<li>Elevador</li>\n<li>Piscina</li>\n<li>Churrasqueira</li>\n<li>Salão de Festas</li>\n<li>Academia</li>\n<li>Playground</li>\n<li>Quadra poliesportiva</li>\n<li>Salão de jogos</li>\n<li>Aceita animais</li>\n</ul>\n<p>Localização: Oceano Pacífico</p>\n</div>"
          },
          "metadata": {}
        }
      ]
    },
    {
      "cell_type": "code",
      "metadata": {
        "execution": {
          "iopub.status.busy": "2021-08-31T18:22:11.834571Z",
          "iopub.execute_input": "2021-08-31T18:22:11.834948Z",
          "iopub.status.idle": "2021-08-31T18:22:11.842879Z",
          "shell.execute_reply.started": "2021-08-31T18:22:11.834913Z",
          "shell.execute_reply": "2021-08-31T18:22:11.841671Z"
        },
        "trusted": true,
        "id": "a1ecuV0dncN0",
        "outputId": "7ba706a0-159d-4726-ab78-aba9beb98ea9"
      },
      "source": [
        "soup_busca.find('div', {'class': 'ad-card-info'}).find('p')"
      ],
      "execution_count": null,
      "outputs": [
        {
          "execution_count": 36,
          "output_type": "execute_result",
          "data": {
            "text/plain": "<p>Localização: Oceano Pacífico</p>"
          },
          "metadata": {}
        }
      ]
    },
    {
      "cell_type": "code",
      "metadata": {
        "execution": {
          "iopub.status.busy": "2021-08-31T18:22:13.961657Z",
          "iopub.execute_input": "2021-08-31T18:22:13.962023Z",
          "iopub.status.idle": "2021-08-31T18:22:13.968715Z",
          "shell.execute_reply.started": "2021-08-31T18:22:13.961993Z",
          "shell.execute_reply": "2021-08-31T18:22:13.968087Z"
        },
        "trusted": true,
        "id": "ZJG4klV7ncN0",
        "outputId": "45d9dfb2-9e7c-4fd1-d646-d463272711c0"
      },
      "source": [
        "soup_busca.find('div', {'class': 'ad-card-info'}).find('p').get_text()"
      ],
      "execution_count": null,
      "outputs": [
        {
          "execution_count": 37,
          "output_type": "execute_result",
          "data": {
            "text/plain": "'Localização: Oceano Pacífico'"
          },
          "metadata": {}
        }
      ]
    },
    {
      "cell_type": "markdown",
      "metadata": {
        "id": "Ko9SSd4incN0"
      },
      "source": [
        "### 3.2) Coletando todos os itens da primeira página"
      ]
    },
    {
      "cell_type": "code",
      "metadata": {
        "execution": {
          "iopub.status.busy": "2021-08-31T18:22:21.665556Z",
          "iopub.execute_input": "2021-08-31T18:22:21.665937Z",
          "iopub.status.idle": "2021-08-31T18:22:21.702426Z",
          "shell.execute_reply.started": "2021-08-31T18:22:21.665900Z",
          "shell.execute_reply": "2021-08-31T18:22:21.701612Z"
        },
        "trusted": true,
        "id": "0REAaib9ncN1",
        "outputId": "f2ae25f0-beae-4e6c-da39-957bcccdc617"
      },
      "source": [
        "soup_busca.find('div', {'class': 'ad-card-list'})"
      ],
      "execution_count": null,
      "outputs": [
        {
          "execution_count": 38,
          "output_type": "execute_result",
          "data": {
            "text/plain": "<div class=\"ad-card-list\">\n<p>21 resultados obtidos - Página 1</p>\n<div class=\"ad-card\">\n<img class=\"apto-img\" src=\"imagens/apto-01.jpg\"/>\n<div class=\"ad-card-info\">\n<h2>Lindo apartamento para alugar</h2>\n<ul class=\"features\">\n<li><img src=\"imagens/area.png\"/> 100 m²</li>\n<li><img src=\"imagens/bedrooms.png\"/> 3 quarto(s)</li>\n<li><img src=\"imagens/toilet.png\"/> 2 banheiro(s)</li>\n<li><img src=\"imagens/parking.png\"/> 2 vaga(s)</li>\n</ul>\n<ul class=\"resources\">\n<li>Mobiliado</li>\n<li>Portaria 24h</li>\n<li>Elevador</li>\n<li>Piscina</li>\n<li>Churrasqueira</li>\n<li>Salão de Festas</li>\n<li>Academia</li>\n<li>Playground</li>\n<li>Quadra poliesportiva</li>\n<li>Salão de jogos</li>\n<li>Aceita animais</li>\n</ul>\n<p>Localização: Oceano Pacífico</p>\n</div>\n<div class=\"ad-card-price\">\n<p>Aluguel: R$ 4.000,00</p>\n<p>Condomínio: 500,00</p>\n<p>IPTU: R$ 100,00</p>\n<p>Corretora: Tubarão</p>\n</div>\n</div>\n<div class=\"ad-card\">\n<img class=\"apto-img\" src=\"imagens/apto-02.jpg\"/>\n<div class=\"ad-card-info\">\n<h2>Ótimo lugar para morar</h2>\n<ul class=\"features\">\n<li><img src=\"imagens/area.png\"/> 60 m²</li>\n<li><img src=\"imagens/bedrooms.png\"/> 2 quarto(s)</li>\n<li><img src=\"imagens/toilet.png\"/> 2 banheiro(s)</li>\n<li><img src=\"imagens/parking.png\"/> 1 vaga(s)</li>\n</ul>\n<ul class=\"resources\">\n<li>Mobiliado</li>\n<li>Portaria 24h</li>\n<li>Salão de Festas</li>\n<li>Quadra poliesportiva</li>\n</ul>\n<p>Localização: Oceano Índico</p>\n</div>\n<div class=\"ad-card-price\">\n<p>Aluguel: R$ 2.000,00</p>\n<p>Condomínio: 200,00</p>\n<p>IPTU: R$ 50,00</p>\n<p>Corretora: Carangueijo</p>\n</div>\n</div>\n<div class=\"ad-card\">\n<img class=\"apto-img\" src=\"imagens/apto-03.jpg\"/>\n<div class=\"ad-card-info\">\n<h2>Belíssimo apartamento mobiliado</h2>\n<ul class=\"features\">\n<li><img src=\"imagens/area.png\"/> 50 m²</li>\n<li><img src=\"imagens/bedrooms.png\"/> 1 quarto(s)</li>\n<li><img src=\"imagens/toilet.png\"/> 1 banheiro(s)</li>\n<li><img src=\"imagens/parking.png\"/> 1 vaga(s)</li>\n</ul>\n<ul class=\"resources\">\n<li>Mobiliado</li>\n</ul>\n<p>Localização: Mar de Java</p>\n</div>\n<div class=\"ad-card-price\">\n<p>Aluguel: R$ 1.300,00</p>\n<p>Condomínio: 200,00</p>\n<p>IPTU: R$ 50,00</p>\n<p>Corretora: Baleia Azul</p>\n</div>\n</div>\n<div class=\"ad-card\">\n<img class=\"apto-img\" src=\"imagens/apto-04.jpg\"/>\n<div class=\"ad-card-info\">\n<h2>Um cantinho todo seu</h2>\n<ul class=\"features\">\n<li><img src=\"imagens/area.png\"/> 60 m²</li>\n<li><img src=\"imagens/bedrooms.png\"/> 2 quarto(s)</li>\n<li><img src=\"imagens/toilet.png\"/> 2 banheiro(s)</li>\n<li><img src=\"imagens/parking.png\"/> 1 vaga(s)</li>\n</ul>\n<ul class=\"resources\">\n<li>Mobiliado</li>\n<li>Portaria 24h</li>\n</ul>\n<p>Localização: Oceano Índico</p>\n</div>\n<div class=\"ad-card-price\">\n<p>Aluguel: R$ 1.800,00</p>\n<p>Condomínio: 100,00</p>\n<p>IPTU: R$ 20,00</p>\n<p>Corretora: Baleia Azul</p>\n</div>\n</div>\n<div class=\"ad-card\">\n<img class=\"apto-img\" src=\"imagens/apto-05.jpg\"/>\n<div class=\"ad-card-info\">\n<h2>Alugue já! Ótima oportunidade</h2>\n<ul class=\"features\">\n<li><img src=\"imagens/area.png\"/> 120 m²</li>\n<li><img src=\"imagens/bedrooms.png\"/> 4 quarto(s)</li>\n<li><img src=\"imagens/toilet.png\"/> 3 banheiro(s)</li>\n<li><img src=\"imagens/parking.png\"/> 2 vaga(s)</li>\n</ul>\n<ul class=\"resources\">\n<li>Mobiliado</li>\n<li>Portaria 24h</li>\n<li>Elevador</li>\n<li>Piscina</li>\n<li>Churrasqueira</li>\n<li>Salão de Festas</li>\n<li>Academia</li>\n<li>Playground</li>\n<li>Quadra poliesportiva</li>\n<li>Salão de jogos</li>\n<li>Aceita animais</li>\n</ul>\n<p>Localização: Oceano Pacífico</p>\n</div>\n<div class=\"ad-card-price\">\n<p>Aluguel: R$ 3.800,00</p>\n<p>Condomínio: 500,00</p>\n<p>IPTU: R$ 200,00</p>\n<p>Corretora: Tubarão</p>\n</div>\n</div>\n</div>"
          },
          "metadata": {}
        }
      ]
    },
    {
      "cell_type": "code",
      "metadata": {
        "execution": {
          "iopub.status.busy": "2021-08-31T18:22:26.360988Z",
          "iopub.execute_input": "2021-08-31T18:22:26.361338Z",
          "iopub.status.idle": "2021-08-31T18:22:26.375679Z",
          "shell.execute_reply.started": "2021-08-31T18:22:26.361305Z",
          "shell.execute_reply": "2021-08-31T18:22:26.374350Z"
        },
        "trusted": true,
        "id": "FDzVWlIxncN1",
        "outputId": "8493a95f-bd71-47f7-aeb3-20ea23e7a054"
      },
      "source": [
        "soup_busca.find('div', {'class': 'ad-card-list'}).find_all('div', {'class': 'ad-card'})"
      ],
      "execution_count": null,
      "outputs": [
        {
          "execution_count": 39,
          "output_type": "execute_result",
          "data": {
            "text/plain": "[<div class=\"ad-card\">\n <img class=\"apto-img\" src=\"imagens/apto-01.jpg\"/>\n <div class=\"ad-card-info\">\n <h2>Lindo apartamento para alugar</h2>\n <ul class=\"features\">\n <li><img src=\"imagens/area.png\"/> 100 m²</li>\n <li><img src=\"imagens/bedrooms.png\"/> 3 quarto(s)</li>\n <li><img src=\"imagens/toilet.png\"/> 2 banheiro(s)</li>\n <li><img src=\"imagens/parking.png\"/> 2 vaga(s)</li>\n </ul>\n <ul class=\"resources\">\n <li>Mobiliado</li>\n <li>Portaria 24h</li>\n <li>Elevador</li>\n <li>Piscina</li>\n <li>Churrasqueira</li>\n <li>Salão de Festas</li>\n <li>Academia</li>\n <li>Playground</li>\n <li>Quadra poliesportiva</li>\n <li>Salão de jogos</li>\n <li>Aceita animais</li>\n </ul>\n <p>Localização: Oceano Pacífico</p>\n </div>\n <div class=\"ad-card-price\">\n <p>Aluguel: R$ 4.000,00</p>\n <p>Condomínio: 500,00</p>\n <p>IPTU: R$ 100,00</p>\n <p>Corretora: Tubarão</p>\n </div>\n </div>,\n <div class=\"ad-card\">\n <img class=\"apto-img\" src=\"imagens/apto-02.jpg\"/>\n <div class=\"ad-card-info\">\n <h2>Ótimo lugar para morar</h2>\n <ul class=\"features\">\n <li><img src=\"imagens/area.png\"/> 60 m²</li>\n <li><img src=\"imagens/bedrooms.png\"/> 2 quarto(s)</li>\n <li><img src=\"imagens/toilet.png\"/> 2 banheiro(s)</li>\n <li><img src=\"imagens/parking.png\"/> 1 vaga(s)</li>\n </ul>\n <ul class=\"resources\">\n <li>Mobiliado</li>\n <li>Portaria 24h</li>\n <li>Salão de Festas</li>\n <li>Quadra poliesportiva</li>\n </ul>\n <p>Localização: Oceano Índico</p>\n </div>\n <div class=\"ad-card-price\">\n <p>Aluguel: R$ 2.000,00</p>\n <p>Condomínio: 200,00</p>\n <p>IPTU: R$ 50,00</p>\n <p>Corretora: Carangueijo</p>\n </div>\n </div>,\n <div class=\"ad-card\">\n <img class=\"apto-img\" src=\"imagens/apto-03.jpg\"/>\n <div class=\"ad-card-info\">\n <h2>Belíssimo apartamento mobiliado</h2>\n <ul class=\"features\">\n <li><img src=\"imagens/area.png\"/> 50 m²</li>\n <li><img src=\"imagens/bedrooms.png\"/> 1 quarto(s)</li>\n <li><img src=\"imagens/toilet.png\"/> 1 banheiro(s)</li>\n <li><img src=\"imagens/parking.png\"/> 1 vaga(s)</li>\n </ul>\n <ul class=\"resources\">\n <li>Mobiliado</li>\n </ul>\n <p>Localização: Mar de Java</p>\n </div>\n <div class=\"ad-card-price\">\n <p>Aluguel: R$ 1.300,00</p>\n <p>Condomínio: 200,00</p>\n <p>IPTU: R$ 50,00</p>\n <p>Corretora: Baleia Azul</p>\n </div>\n </div>,\n <div class=\"ad-card\">\n <img class=\"apto-img\" src=\"imagens/apto-04.jpg\"/>\n <div class=\"ad-card-info\">\n <h2>Um cantinho todo seu</h2>\n <ul class=\"features\">\n <li><img src=\"imagens/area.png\"/> 60 m²</li>\n <li><img src=\"imagens/bedrooms.png\"/> 2 quarto(s)</li>\n <li><img src=\"imagens/toilet.png\"/> 2 banheiro(s)</li>\n <li><img src=\"imagens/parking.png\"/> 1 vaga(s)</li>\n </ul>\n <ul class=\"resources\">\n <li>Mobiliado</li>\n <li>Portaria 24h</li>\n </ul>\n <p>Localização: Oceano Índico</p>\n </div>\n <div class=\"ad-card-price\">\n <p>Aluguel: R$ 1.800,00</p>\n <p>Condomínio: 100,00</p>\n <p>IPTU: R$ 20,00</p>\n <p>Corretora: Baleia Azul</p>\n </div>\n </div>,\n <div class=\"ad-card\">\n <img class=\"apto-img\" src=\"imagens/apto-05.jpg\"/>\n <div class=\"ad-card-info\">\n <h2>Alugue já! Ótima oportunidade</h2>\n <ul class=\"features\">\n <li><img src=\"imagens/area.png\"/> 120 m²</li>\n <li><img src=\"imagens/bedrooms.png\"/> 4 quarto(s)</li>\n <li><img src=\"imagens/toilet.png\"/> 3 banheiro(s)</li>\n <li><img src=\"imagens/parking.png\"/> 2 vaga(s)</li>\n </ul>\n <ul class=\"resources\">\n <li>Mobiliado</li>\n <li>Portaria 24h</li>\n <li>Elevador</li>\n <li>Piscina</li>\n <li>Churrasqueira</li>\n <li>Salão de Festas</li>\n <li>Academia</li>\n <li>Playground</li>\n <li>Quadra poliesportiva</li>\n <li>Salão de jogos</li>\n <li>Aceita animais</li>\n </ul>\n <p>Localização: Oceano Pacífico</p>\n </div>\n <div class=\"ad-card-price\">\n <p>Aluguel: R$ 3.800,00</p>\n <p>Condomínio: 500,00</p>\n <p>IPTU: R$ 200,00</p>\n <p>Corretora: Tubarão</p>\n </div>\n </div>]"
          },
          "metadata": {}
        }
      ]
    },
    {
      "cell_type": "code",
      "metadata": {
        "execution": {
          "iopub.status.busy": "2021-08-31T18:22:31.391901Z",
          "iopub.execute_input": "2021-08-31T18:22:31.392261Z",
          "iopub.status.idle": "2021-08-31T18:22:31.406888Z",
          "shell.execute_reply.started": "2021-08-31T18:22:31.392230Z",
          "shell.execute_reply": "2021-08-31T18:22:31.404689Z"
        },
        "trusted": true,
        "id": "hWv8x5hIncN1",
        "outputId": "cd5c9035-2bff-4a33-ceb7-193ac77d05ee"
      },
      "source": [
        "for resultado in soup_busca.find('div', {'class': 'ad-card-list'}).find_all('div', {'class': 'ad-card'}):\n",
        "    print(resultado)\n",
        "    print('-------------')"
      ],
      "execution_count": null,
      "outputs": [
        {
          "name": "stdout",
          "text": "<div class=\"ad-card\">\n<img class=\"apto-img\" src=\"imagens/apto-01.jpg\"/>\n<div class=\"ad-card-info\">\n<h2>Lindo apartamento para alugar</h2>\n<ul class=\"features\">\n<li><img src=\"imagens/area.png\"/> 100 m²</li>\n<li><img src=\"imagens/bedrooms.png\"/> 3 quarto(s)</li>\n<li><img src=\"imagens/toilet.png\"/> 2 banheiro(s)</li>\n<li><img src=\"imagens/parking.png\"/> 2 vaga(s)</li>\n</ul>\n<ul class=\"resources\">\n<li>Mobiliado</li>\n<li>Portaria 24h</li>\n<li>Elevador</li>\n<li>Piscina</li>\n<li>Churrasqueira</li>\n<li>Salão de Festas</li>\n<li>Academia</li>\n<li>Playground</li>\n<li>Quadra poliesportiva</li>\n<li>Salão de jogos</li>\n<li>Aceita animais</li>\n</ul>\n<p>Localização: Oceano Pacífico</p>\n</div>\n<div class=\"ad-card-price\">\n<p>Aluguel: R$ 4.000,00</p>\n<p>Condomínio: 500,00</p>\n<p>IPTU: R$ 100,00</p>\n<p>Corretora: Tubarão</p>\n</div>\n</div>\n-------------\n<div class=\"ad-card\">\n<img class=\"apto-img\" src=\"imagens/apto-02.jpg\"/>\n<div class=\"ad-card-info\">\n<h2>Ótimo lugar para morar</h2>\n<ul class=\"features\">\n<li><img src=\"imagens/area.png\"/> 60 m²</li>\n<li><img src=\"imagens/bedrooms.png\"/> 2 quarto(s)</li>\n<li><img src=\"imagens/toilet.png\"/> 2 banheiro(s)</li>\n<li><img src=\"imagens/parking.png\"/> 1 vaga(s)</li>\n</ul>\n<ul class=\"resources\">\n<li>Mobiliado</li>\n<li>Portaria 24h</li>\n<li>Salão de Festas</li>\n<li>Quadra poliesportiva</li>\n</ul>\n<p>Localização: Oceano Índico</p>\n</div>\n<div class=\"ad-card-price\">\n<p>Aluguel: R$ 2.000,00</p>\n<p>Condomínio: 200,00</p>\n<p>IPTU: R$ 50,00</p>\n<p>Corretora: Carangueijo</p>\n</div>\n</div>\n-------------\n<div class=\"ad-card\">\n<img class=\"apto-img\" src=\"imagens/apto-03.jpg\"/>\n<div class=\"ad-card-info\">\n<h2>Belíssimo apartamento mobiliado</h2>\n<ul class=\"features\">\n<li><img src=\"imagens/area.png\"/> 50 m²</li>\n<li><img src=\"imagens/bedrooms.png\"/> 1 quarto(s)</li>\n<li><img src=\"imagens/toilet.png\"/> 1 banheiro(s)</li>\n<li><img src=\"imagens/parking.png\"/> 1 vaga(s)</li>\n</ul>\n<ul class=\"resources\">\n<li>Mobiliado</li>\n</ul>\n<p>Localização: Mar de Java</p>\n</div>\n<div class=\"ad-card-price\">\n<p>Aluguel: R$ 1.300,00</p>\n<p>Condomínio: 200,00</p>\n<p>IPTU: R$ 50,00</p>\n<p>Corretora: Baleia Azul</p>\n</div>\n</div>\n-------------\n<div class=\"ad-card\">\n<img class=\"apto-img\" src=\"imagens/apto-04.jpg\"/>\n<div class=\"ad-card-info\">\n<h2>Um cantinho todo seu</h2>\n<ul class=\"features\">\n<li><img src=\"imagens/area.png\"/> 60 m²</li>\n<li><img src=\"imagens/bedrooms.png\"/> 2 quarto(s)</li>\n<li><img src=\"imagens/toilet.png\"/> 2 banheiro(s)</li>\n<li><img src=\"imagens/parking.png\"/> 1 vaga(s)</li>\n</ul>\n<ul class=\"resources\">\n<li>Mobiliado</li>\n<li>Portaria 24h</li>\n</ul>\n<p>Localização: Oceano Índico</p>\n</div>\n<div class=\"ad-card-price\">\n<p>Aluguel: R$ 1.800,00</p>\n<p>Condomínio: 100,00</p>\n<p>IPTU: R$ 20,00</p>\n<p>Corretora: Baleia Azul</p>\n</div>\n</div>\n-------------\n<div class=\"ad-card\">\n<img class=\"apto-img\" src=\"imagens/apto-05.jpg\"/>\n<div class=\"ad-card-info\">\n<h2>Alugue já! Ótima oportunidade</h2>\n<ul class=\"features\">\n<li><img src=\"imagens/area.png\"/> 120 m²</li>\n<li><img src=\"imagens/bedrooms.png\"/> 4 quarto(s)</li>\n<li><img src=\"imagens/toilet.png\"/> 3 banheiro(s)</li>\n<li><img src=\"imagens/parking.png\"/> 2 vaga(s)</li>\n</ul>\n<ul class=\"resources\">\n<li>Mobiliado</li>\n<li>Portaria 24h</li>\n<li>Elevador</li>\n<li>Piscina</li>\n<li>Churrasqueira</li>\n<li>Salão de Festas</li>\n<li>Academia</li>\n<li>Playground</li>\n<li>Quadra poliesportiva</li>\n<li>Salão de jogos</li>\n<li>Aceita animais</li>\n</ul>\n<p>Localização: Oceano Pacífico</p>\n</div>\n<div class=\"ad-card-price\">\n<p>Aluguel: R$ 3.800,00</p>\n<p>Condomínio: 500,00</p>\n<p>IPTU: R$ 200,00</p>\n<p>Corretora: Tubarão</p>\n</div>\n</div>\n-------------\n",
          "output_type": "stream"
        }
      ]
    },
    {
      "cell_type": "code",
      "metadata": {
        "execution": {
          "iopub.status.busy": "2021-08-31T18:22:36.527845Z",
          "iopub.execute_input": "2021-08-31T18:22:36.528220Z",
          "iopub.status.idle": "2021-08-31T18:22:36.538514Z",
          "shell.execute_reply.started": "2021-08-31T18:22:36.528188Z",
          "shell.execute_reply": "2021-08-31T18:22:36.537230Z"
        },
        "trusted": true,
        "id": "hP8r-xZmncN1",
        "outputId": "ea021467-2099-478e-dc2e-c0554bf0d0cd"
      },
      "source": [
        "for resultado in soup_busca.find('div', {'class': 'ad-card-list'}).find_all('div', {'class': 'ad-card'}):\n",
        "    caracteristicas = resultado.find('ul', {'class': 'features'})\n",
        "    print(caracteristicas)\n",
        "    print('-------------')"
      ],
      "execution_count": null,
      "outputs": [
        {
          "name": "stdout",
          "text": "<ul class=\"features\">\n<li><img src=\"imagens/area.png\"/> 100 m²</li>\n<li><img src=\"imagens/bedrooms.png\"/> 3 quarto(s)</li>\n<li><img src=\"imagens/toilet.png\"/> 2 banheiro(s)</li>\n<li><img src=\"imagens/parking.png\"/> 2 vaga(s)</li>\n</ul>\n-------------\n<ul class=\"features\">\n<li><img src=\"imagens/area.png\"/> 60 m²</li>\n<li><img src=\"imagens/bedrooms.png\"/> 2 quarto(s)</li>\n<li><img src=\"imagens/toilet.png\"/> 2 banheiro(s)</li>\n<li><img src=\"imagens/parking.png\"/> 1 vaga(s)</li>\n</ul>\n-------------\n<ul class=\"features\">\n<li><img src=\"imagens/area.png\"/> 50 m²</li>\n<li><img src=\"imagens/bedrooms.png\"/> 1 quarto(s)</li>\n<li><img src=\"imagens/toilet.png\"/> 1 banheiro(s)</li>\n<li><img src=\"imagens/parking.png\"/> 1 vaga(s)</li>\n</ul>\n-------------\n<ul class=\"features\">\n<li><img src=\"imagens/area.png\"/> 60 m²</li>\n<li><img src=\"imagens/bedrooms.png\"/> 2 quarto(s)</li>\n<li><img src=\"imagens/toilet.png\"/> 2 banheiro(s)</li>\n<li><img src=\"imagens/parking.png\"/> 1 vaga(s)</li>\n</ul>\n-------------\n<ul class=\"features\">\n<li><img src=\"imagens/area.png\"/> 120 m²</li>\n<li><img src=\"imagens/bedrooms.png\"/> 4 quarto(s)</li>\n<li><img src=\"imagens/toilet.png\"/> 3 banheiro(s)</li>\n<li><img src=\"imagens/parking.png\"/> 2 vaga(s)</li>\n</ul>\n-------------\n",
          "output_type": "stream"
        }
      ]
    },
    {
      "cell_type": "code",
      "metadata": {
        "execution": {
          "iopub.status.busy": "2021-08-31T18:22:41.276709Z",
          "iopub.execute_input": "2021-08-31T18:22:41.277060Z",
          "iopub.status.idle": "2021-08-31T18:22:41.287662Z",
          "shell.execute_reply.started": "2021-08-31T18:22:41.277029Z",
          "shell.execute_reply": "2021-08-31T18:22:41.286126Z"
        },
        "trusted": true,
        "id": "PHv0P5FnncN2",
        "outputId": "73036836-cc1c-437d-b893-6648a7ead362"
      },
      "source": [
        "for resultado in soup_busca.find('div', {'class': 'ad-card-list'}).find_all('div', {'class': 'ad-card'}):\n",
        "    caracteristicas = resultado.find('ul', {'class': 'features'})\n",
        "    \n",
        "    for caract in caracteristicas.find_all('li'):\n",
        "        print(caract.get_text())\n",
        "    \n",
        "    print('-------------')"
      ],
      "execution_count": null,
      "outputs": [
        {
          "name": "stdout",
          "text": " 100 m²\n 3 quarto(s)\n 2 banheiro(s)\n 2 vaga(s)\n-------------\n 60 m²\n 2 quarto(s)\n 2 banheiro(s)\n 1 vaga(s)\n-------------\n 50 m²\n 1 quarto(s)\n 1 banheiro(s)\n 1 vaga(s)\n-------------\n 60 m²\n 2 quarto(s)\n 2 banheiro(s)\n 1 vaga(s)\n-------------\n 120 m²\n 4 quarto(s)\n 3 banheiro(s)\n 2 vaga(s)\n-------------\n",
          "output_type": "stream"
        }
      ]
    },
    {
      "cell_type": "code",
      "metadata": {
        "execution": {
          "iopub.status.busy": "2021-08-31T18:22:46.940633Z",
          "iopub.execute_input": "2021-08-31T18:22:46.940984Z",
          "iopub.status.idle": "2021-08-31T18:22:46.954742Z",
          "shell.execute_reply.started": "2021-08-31T18:22:46.940952Z",
          "shell.execute_reply": "2021-08-31T18:22:46.953798Z"
        },
        "trusted": true,
        "id": "6fQW0Zy-ncN2",
        "outputId": "6ebc4f50-d307-4c13-bdda-eaf26968fc6d"
      },
      "source": [
        "for resultado in soup_busca.find('div', {'class': 'ad-card-list'}).find_all('div', {'class': 'ad-card'}):\n",
        "    caracteristicas = resultado.find('ul', {'class': 'features'})\n",
        "    recursos = resultado.find('ul', {'class': 'resources'})\n",
        "    \n",
        "    for caract in caracteristicas.find_all('li'):\n",
        "        print(caract.get_text())\n",
        "        \n",
        "    for recur in recursos.find_all('li'):\n",
        "        print(recur.get_text())\n",
        "        \n",
        "    print('-------------')"
      ],
      "execution_count": null,
      "outputs": [
        {
          "name": "stdout",
          "text": " 100 m²\n 3 quarto(s)\n 2 banheiro(s)\n 2 vaga(s)\nMobiliado\nPortaria 24h\nElevador\nPiscina\nChurrasqueira\nSalão de Festas\nAcademia\nPlayground\nQuadra poliesportiva\nSalão de jogos\nAceita animais\n-------------\n 60 m²\n 2 quarto(s)\n 2 banheiro(s)\n 1 vaga(s)\nMobiliado\nPortaria 24h\nSalão de Festas\nQuadra poliesportiva\n-------------\n 50 m²\n 1 quarto(s)\n 1 banheiro(s)\n 1 vaga(s)\nMobiliado\n-------------\n 60 m²\n 2 quarto(s)\n 2 banheiro(s)\n 1 vaga(s)\nMobiliado\nPortaria 24h\n-------------\n 120 m²\n 4 quarto(s)\n 3 banheiro(s)\n 2 vaga(s)\nMobiliado\nPortaria 24h\nElevador\nPiscina\nChurrasqueira\nSalão de Festas\nAcademia\nPlayground\nQuadra poliesportiva\nSalão de jogos\nAceita animais\n-------------\n",
          "output_type": "stream"
        }
      ]
    },
    {
      "cell_type": "code",
      "metadata": {
        "execution": {
          "iopub.status.busy": "2021-08-31T18:22:52.329419Z",
          "iopub.execute_input": "2021-08-31T18:22:52.329976Z",
          "iopub.status.idle": "2021-08-31T18:22:52.356844Z",
          "shell.execute_reply.started": "2021-08-31T18:22:52.329919Z",
          "shell.execute_reply": "2021-08-31T18:22:52.355744Z"
        },
        "trusted": true,
        "id": "pxvmS3UencN2",
        "outputId": "d1a4a76c-766e-4c29-bc03-c816eeb70105"
      },
      "source": [
        "for resultado in soup_busca.find('div', {'class': 'ad-card-list'}).find_all('div', {'class': 'ad-card'}):\n",
        "    caracteristicas = resultado.find('ul', {'class': 'features'})\n",
        "    recursos = resultado.find('ul', {'class': 'resources'})\n",
        "    precos_corretora = resultado.find('div', {'class': 'ad-card-price'})\n",
        "    \n",
        "    for caract in caracteristicas.find_all('li'):\n",
        "        print(caract.get_text())\n",
        "        \n",
        "    for recur in recursos.find_all('li'):\n",
        "        print(recur.get_text())\n",
        "        \n",
        "    for prec_corr in precos_corretora.find_all('p'):\n",
        "        print(prec_corr.get_text())\n",
        "        \n",
        "    print('-------------')"
      ],
      "execution_count": null,
      "outputs": [
        {
          "name": "stdout",
          "text": " 100 m²\n 3 quarto(s)\n 2 banheiro(s)\n 2 vaga(s)\nMobiliado\nPortaria 24h\nElevador\nPiscina\nChurrasqueira\nSalão de Festas\nAcademia\nPlayground\nQuadra poliesportiva\nSalão de jogos\nAceita animais\nAluguel: R$ 4.000,00\nCondomínio: 500,00\nIPTU: R$ 100,00\nCorretora: Tubarão\n-------------\n 60 m²\n 2 quarto(s)\n 2 banheiro(s)\n 1 vaga(s)\nMobiliado\nPortaria 24h\nSalão de Festas\nQuadra poliesportiva\nAluguel: R$ 2.000,00\nCondomínio: 200,00\nIPTU: R$ 50,00\nCorretora: Carangueijo\n-------------\n 50 m²\n 1 quarto(s)\n 1 banheiro(s)\n 1 vaga(s)\nMobiliado\nAluguel: R$ 1.300,00\nCondomínio: 200,00\nIPTU: R$ 50,00\nCorretora: Baleia Azul\n-------------\n 60 m²\n 2 quarto(s)\n 2 banheiro(s)\n 1 vaga(s)\nMobiliado\nPortaria 24h\nAluguel: R$ 1.800,00\nCondomínio: 100,00\nIPTU: R$ 20,00\nCorretora: Baleia Azul\n-------------\n 120 m²\n 4 quarto(s)\n 3 banheiro(s)\n 2 vaga(s)\nMobiliado\nPortaria 24h\nElevador\nPiscina\nChurrasqueira\nSalão de Festas\nAcademia\nPlayground\nQuadra poliesportiva\nSalão de jogos\nAceita animais\nAluguel: R$ 3.800,00\nCondomínio: 500,00\nIPTU: R$ 200,00\nCorretora: Tubarão\n-------------\n",
          "output_type": "stream"
        }
      ]
    },
    {
      "cell_type": "code",
      "metadata": {
        "execution": {
          "iopub.status.busy": "2021-08-31T18:22:56.578898Z",
          "iopub.execute_input": "2021-08-31T18:22:56.579238Z",
          "iopub.status.idle": "2021-08-31T18:22:56.597886Z",
          "shell.execute_reply.started": "2021-08-31T18:22:56.579208Z",
          "shell.execute_reply": "2021-08-31T18:22:56.596261Z"
        },
        "trusted": true,
        "id": "sWplWEgincN3",
        "outputId": "1571fc29-fa68-4682-b4d4-c873b3ad4850"
      },
      "source": [
        "for resultado in soup_busca.find('div', {'class': 'ad-card-list'}).find_all('div', {'class': 'ad-card'}):\n",
        "    caracteristicas = resultado.find('ul', {'class': 'features'})\n",
        "    recursos = resultado.find('ul', {'class': 'resources'})\n",
        "    precos_corretora = resultado.find('div', {'class': 'ad-card-price'})\n",
        "    localizacao = resultado.find('div', {'class': 'ad-card-info'}).find('p')\n",
        "    \n",
        "    for caract in caracteristicas.find_all('li'):\n",
        "        print(caract.get_text())\n",
        "        \n",
        "    for recur in recursos.find_all('li'):\n",
        "        print(recur.get_text())\n",
        "        \n",
        "    for prec_corr in precos_corretora.find_all('p'):\n",
        "        print(prec_corr.get_text())\n",
        "    \n",
        "    print(localizacao.get_text())\n",
        "        \n",
        "    print('-------------')"
      ],
      "execution_count": null,
      "outputs": [
        {
          "name": "stdout",
          "text": " 100 m²\n 3 quarto(s)\n 2 banheiro(s)\n 2 vaga(s)\nMobiliado\nPortaria 24h\nElevador\nPiscina\nChurrasqueira\nSalão de Festas\nAcademia\nPlayground\nQuadra poliesportiva\nSalão de jogos\nAceita animais\nAluguel: R$ 4.000,00\nCondomínio: 500,00\nIPTU: R$ 100,00\nCorretora: Tubarão\nLocalização: Oceano Pacífico\n-------------\n 60 m²\n 2 quarto(s)\n 2 banheiro(s)\n 1 vaga(s)\nMobiliado\nPortaria 24h\nSalão de Festas\nQuadra poliesportiva\nAluguel: R$ 2.000,00\nCondomínio: 200,00\nIPTU: R$ 50,00\nCorretora: Carangueijo\nLocalização: Oceano Índico\n-------------\n 50 m²\n 1 quarto(s)\n 1 banheiro(s)\n 1 vaga(s)\nMobiliado\nAluguel: R$ 1.300,00\nCondomínio: 200,00\nIPTU: R$ 50,00\nCorretora: Baleia Azul\nLocalização: Mar de Java\n-------------\n 60 m²\n 2 quarto(s)\n 2 banheiro(s)\n 1 vaga(s)\nMobiliado\nPortaria 24h\nAluguel: R$ 1.800,00\nCondomínio: 100,00\nIPTU: R$ 20,00\nCorretora: Baleia Azul\nLocalização: Oceano Índico\n-------------\n 120 m²\n 4 quarto(s)\n 3 banheiro(s)\n 2 vaga(s)\nMobiliado\nPortaria 24h\nElevador\nPiscina\nChurrasqueira\nSalão de Festas\nAcademia\nPlayground\nQuadra poliesportiva\nSalão de jogos\nAceita animais\nAluguel: R$ 3.800,00\nCondomínio: 500,00\nIPTU: R$ 200,00\nCorretora: Tubarão\nLocalização: Oceano Pacífico\n-------------\n",
          "output_type": "stream"
        }
      ]
    },
    {
      "cell_type": "markdown",
      "metadata": {
        "id": "HJsN1VFXncN3"
      },
      "source": [
        "#### 3.2.1) Persistindo os dados coletados em um DataFrame (tentativa 1)"
      ]
    },
    {
      "cell_type": "code",
      "metadata": {
        "execution": {
          "iopub.status.busy": "2021-08-31T18:23:02.061589Z",
          "iopub.execute_input": "2021-08-31T18:23:02.062114Z",
          "iopub.status.idle": "2021-08-31T18:23:02.065723Z",
          "shell.execute_reply.started": "2021-08-31T18:23:02.062080Z",
          "shell.execute_reply": "2021-08-31T18:23:02.064822Z"
        },
        "trusted": true,
        "id": "sAAm84wFncN3"
      },
      "source": [
        "resutados_lista = []"
      ],
      "execution_count": null,
      "outputs": []
    },
    {
      "cell_type": "code",
      "metadata": {
        "execution": {
          "iopub.status.busy": "2021-08-31T18:23:08.517974Z",
          "iopub.execute_input": "2021-08-31T18:23:08.518506Z",
          "iopub.status.idle": "2021-08-31T18:23:08.537254Z",
          "shell.execute_reply.started": "2021-08-31T18:23:08.518474Z",
          "shell.execute_reply": "2021-08-31T18:23:08.536106Z"
        },
        "trusted": true,
        "id": "RiLJ8iuRncN4"
      },
      "source": [
        "for resultado in soup_busca.find('div', {'class': 'ad-card-list'}).find_all('div', {'class': 'ad-card'}):\n",
        "    caracteristicas = resultado.find('ul', {'class': 'features'})\n",
        "    recursos = resultado.find('ul', {'class': 'resources'})\n",
        "    precos_corretora = resultado.find('div', {'class': 'ad-card-price'})\n",
        "    localizacao = resultado.find('div', {'class': 'ad-card-info'}).find('p')\n",
        "    \n",
        "    resutado_dict = {}\n",
        "    \n",
        "    resutado_dict['área'] = caracteristicas.find_all('li')[0].get_text()\n",
        "    resutado_dict['quartos'] = caracteristicas.find_all('li')[1].get_text()\n",
        "    resutado_dict['banheiros'] = caracteristicas.find_all('li')[2].get_text()\n",
        "    resutado_dict['vagas garagem'] = caracteristicas.find_all('li')[3].get_text()\n",
        "    \n",
        "    for recur in recursos.find_all('li'):\n",
        "        resutado_dict[recur.get_text().lower()] = 'sim'\n",
        "        \n",
        "    resutado_dict['aluguel'] = precos_corretora.find_all('p')[0].get_text()\n",
        "    resutado_dict['condomínio'] = precos_corretora.find_all('p')[1].get_text()\n",
        "    resutado_dict['iptu'] = precos_corretora.find_all('p')[2].get_text()\n",
        "    resutado_dict['corretora'] = precos_corretora.find_all('p')[3].get_text()\n",
        "    \n",
        "    resutado_dict['localizacao'] = localizacao.get_text()\n",
        "    \n",
        "    resutados_lista.append(resutado_dict)"
      ],
      "execution_count": null,
      "outputs": []
    },
    {
      "cell_type": "code",
      "metadata": {
        "execution": {
          "iopub.status.busy": "2021-08-31T18:23:11.388423Z",
          "iopub.execute_input": "2021-08-31T18:23:11.388926Z",
          "iopub.status.idle": "2021-08-31T18:23:11.399924Z",
          "shell.execute_reply.started": "2021-08-31T18:23:11.388893Z",
          "shell.execute_reply": "2021-08-31T18:23:11.398935Z"
        },
        "trusted": true,
        "id": "6cUo-jWWncN4",
        "outputId": "091d7cd7-20ee-4676-c3c7-ab2703988795"
      },
      "source": [
        "resutados_lista"
      ],
      "execution_count": null,
      "outputs": [
        {
          "execution_count": 49,
          "output_type": "execute_result",
          "data": {
            "text/plain": "[{'área': ' 100 m²',\n  'quartos': ' 3 quarto(s)',\n  'banheiros': ' 2 banheiro(s)',\n  'vagas garagem': ' 2 vaga(s)',\n  'mobiliado': 'sim',\n  'portaria 24h': 'sim',\n  'elevador': 'sim',\n  'piscina': 'sim',\n  'churrasqueira': 'sim',\n  'salão de festas': 'sim',\n  'academia': 'sim',\n  'playground': 'sim',\n  'quadra poliesportiva': 'sim',\n  'salão de jogos': 'sim',\n  'aceita animais': 'sim',\n  'aluguel': 'Aluguel: R$ 4.000,00',\n  'condomínio': 'Condomínio: 500,00',\n  'iptu': 'IPTU: R$ 100,00',\n  'corretora': 'Corretora: Tubarão',\n  'localizacao': 'Localização: Oceano Pacífico'},\n {'área': ' 60 m²',\n  'quartos': ' 2 quarto(s)',\n  'banheiros': ' 2 banheiro(s)',\n  'vagas garagem': ' 1 vaga(s)',\n  'mobiliado': 'sim',\n  'portaria 24h': 'sim',\n  'salão de festas': 'sim',\n  'quadra poliesportiva': 'sim',\n  'aluguel': 'Aluguel: R$ 2.000,00',\n  'condomínio': 'Condomínio: 200,00',\n  'iptu': 'IPTU: R$ 50,00',\n  'corretora': 'Corretora: Carangueijo',\n  'localizacao': 'Localização: Oceano Índico'},\n {'área': ' 50 m²',\n  'quartos': ' 1 quarto(s)',\n  'banheiros': ' 1 banheiro(s)',\n  'vagas garagem': ' 1 vaga(s)',\n  'mobiliado': 'sim',\n  'aluguel': 'Aluguel: R$ 1.300,00',\n  'condomínio': 'Condomínio: 200,00',\n  'iptu': 'IPTU: R$ 50,00',\n  'corretora': 'Corretora: Baleia Azul',\n  'localizacao': 'Localização: Mar de Java'},\n {'área': ' 60 m²',\n  'quartos': ' 2 quarto(s)',\n  'banheiros': ' 2 banheiro(s)',\n  'vagas garagem': ' 1 vaga(s)',\n  'mobiliado': 'sim',\n  'portaria 24h': 'sim',\n  'aluguel': 'Aluguel: R$ 1.800,00',\n  'condomínio': 'Condomínio: 100,00',\n  'iptu': 'IPTU: R$ 20,00',\n  'corretora': 'Corretora: Baleia Azul',\n  'localizacao': 'Localização: Oceano Índico'},\n {'área': ' 120 m²',\n  'quartos': ' 4 quarto(s)',\n  'banheiros': ' 3 banheiro(s)',\n  'vagas garagem': ' 2 vaga(s)',\n  'mobiliado': 'sim',\n  'portaria 24h': 'sim',\n  'elevador': 'sim',\n  'piscina': 'sim',\n  'churrasqueira': 'sim',\n  'salão de festas': 'sim',\n  'academia': 'sim',\n  'playground': 'sim',\n  'quadra poliesportiva': 'sim',\n  'salão de jogos': 'sim',\n  'aceita animais': 'sim',\n  'aluguel': 'Aluguel: R$ 3.800,00',\n  'condomínio': 'Condomínio: 500,00',\n  'iptu': 'IPTU: R$ 200,00',\n  'corretora': 'Corretora: Tubarão',\n  'localizacao': 'Localização: Oceano Pacífico'},\n {'área': ' 100 m²',\n  'quartos': ' 3 quarto(s)',\n  'banheiros': ' 2 banheiro(s)',\n  'vagas garagem': ' 2 vaga(s)',\n  'mobiliado': 'sim',\n  'portaria 24h': 'sim',\n  'elevador': 'sim',\n  'piscina': 'sim',\n  'churrasqueira': 'sim',\n  'salão de festas': 'sim',\n  'academia': 'sim',\n  'playground': 'sim',\n  'quadra poliesportiva': 'sim',\n  'salão de jogos': 'sim',\n  'aceita animais': 'sim',\n  'aluguel': 'Aluguel: R$ 4.000,00',\n  'condomínio': 'Condomínio: 500,00',\n  'iptu': 'IPTU: R$ 100,00',\n  'corretora': 'Corretora: Tubarão',\n  'localizacao': 'Localização: Oceano Pacífico'},\n {'área': ' 60 m²',\n  'quartos': ' 2 quarto(s)',\n  'banheiros': ' 2 banheiro(s)',\n  'vagas garagem': ' 1 vaga(s)',\n  'mobiliado': 'sim',\n  'portaria 24h': 'sim',\n  'salão de festas': 'sim',\n  'quadra poliesportiva': 'sim',\n  'aluguel': 'Aluguel: R$ 2.000,00',\n  'condomínio': 'Condomínio: 200,00',\n  'iptu': 'IPTU: R$ 50,00',\n  'corretora': 'Corretora: Carangueijo',\n  'localizacao': 'Localização: Oceano Índico'},\n {'área': ' 50 m²',\n  'quartos': ' 1 quarto(s)',\n  'banheiros': ' 1 banheiro(s)',\n  'vagas garagem': ' 1 vaga(s)',\n  'mobiliado': 'sim',\n  'aluguel': 'Aluguel: R$ 1.300,00',\n  'condomínio': 'Condomínio: 200,00',\n  'iptu': 'IPTU: R$ 50,00',\n  'corretora': 'Corretora: Baleia Azul',\n  'localizacao': 'Localização: Mar de Java'},\n {'área': ' 60 m²',\n  'quartos': ' 2 quarto(s)',\n  'banheiros': ' 2 banheiro(s)',\n  'vagas garagem': ' 1 vaga(s)',\n  'mobiliado': 'sim',\n  'portaria 24h': 'sim',\n  'aluguel': 'Aluguel: R$ 1.800,00',\n  'condomínio': 'Condomínio: 100,00',\n  'iptu': 'IPTU: R$ 20,00',\n  'corretora': 'Corretora: Baleia Azul',\n  'localizacao': 'Localização: Oceano Índico'},\n {'área': ' 120 m²',\n  'quartos': ' 4 quarto(s)',\n  'banheiros': ' 3 banheiro(s)',\n  'vagas garagem': ' 2 vaga(s)',\n  'mobiliado': 'sim',\n  'portaria 24h': 'sim',\n  'elevador': 'sim',\n  'piscina': 'sim',\n  'churrasqueira': 'sim',\n  'salão de festas': 'sim',\n  'academia': 'sim',\n  'playground': 'sim',\n  'quadra poliesportiva': 'sim',\n  'salão de jogos': 'sim',\n  'aceita animais': 'sim',\n  'aluguel': 'Aluguel: R$ 3.800,00',\n  'condomínio': 'Condomínio: 500,00',\n  'iptu': 'IPTU: R$ 200,00',\n  'corretora': 'Corretora: Tubarão',\n  'localizacao': 'Localização: Oceano Pacífico'}]"
          },
          "metadata": {}
        }
      ]
    },
    {
      "cell_type": "code",
      "metadata": {
        "execution": {
          "iopub.status.busy": "2021-08-31T18:25:33.856392Z",
          "iopub.execute_input": "2021-08-31T18:25:33.856756Z",
          "iopub.status.idle": "2021-08-31T18:25:33.872039Z",
          "shell.execute_reply.started": "2021-08-31T18:25:33.856724Z",
          "shell.execute_reply": "2021-08-31T18:25:33.870934Z"
        },
        "trusted": true,
        "id": "5WWie-a0ncN4"
      },
      "source": [
        "resultados_df = pd.DataFrame(resutados_lista)"
      ],
      "execution_count": null,
      "outputs": []
    },
    {
      "cell_type": "code",
      "metadata": {
        "execution": {
          "iopub.status.busy": "2021-08-31T18:25:53.939096Z",
          "iopub.execute_input": "2021-08-31T18:25:53.939447Z",
          "iopub.status.idle": "2021-08-31T18:25:53.977258Z",
          "shell.execute_reply.started": "2021-08-31T18:25:53.939417Z",
          "shell.execute_reply": "2021-08-31T18:25:53.976512Z"
        },
        "trusted": true,
        "id": "cXOSf9MsncN4",
        "outputId": "32bfaf17-374a-4a05-a433-b04e1b6317e9"
      },
      "source": [
        "resultados_df"
      ],
      "execution_count": null,
      "outputs": [
        {
          "execution_count": 51,
          "output_type": "execute_result",
          "data": {
            "text/plain": "      área       quartos       banheiros vagas garagem mobiliado portaria 24h  \\\n0   100 m²   3 quarto(s)   2 banheiro(s)     2 vaga(s)       sim          sim   \n1    60 m²   2 quarto(s)   2 banheiro(s)     1 vaga(s)       sim          sim   \n2    50 m²   1 quarto(s)   1 banheiro(s)     1 vaga(s)       sim          NaN   \n3    60 m²   2 quarto(s)   2 banheiro(s)     1 vaga(s)       sim          sim   \n4   120 m²   4 quarto(s)   3 banheiro(s)     2 vaga(s)       sim          sim   \n5   100 m²   3 quarto(s)   2 banheiro(s)     2 vaga(s)       sim          sim   \n6    60 m²   2 quarto(s)   2 banheiro(s)     1 vaga(s)       sim          sim   \n7    50 m²   1 quarto(s)   1 banheiro(s)     1 vaga(s)       sim          NaN   \n8    60 m²   2 quarto(s)   2 banheiro(s)     1 vaga(s)       sim          sim   \n9   120 m²   4 quarto(s)   3 banheiro(s)     2 vaga(s)       sim          sim   \n\n  elevador piscina churrasqueira salão de festas academia playground  \\\n0      sim     sim           sim             sim      sim        sim   \n1      NaN     NaN           NaN             sim      NaN        NaN   \n2      NaN     NaN           NaN             NaN      NaN        NaN   \n3      NaN     NaN           NaN             NaN      NaN        NaN   \n4      sim     sim           sim             sim      sim        sim   \n5      sim     sim           sim             sim      sim        sim   \n6      NaN     NaN           NaN             sim      NaN        NaN   \n7      NaN     NaN           NaN             NaN      NaN        NaN   \n8      NaN     NaN           NaN             NaN      NaN        NaN   \n9      sim     sim           sim             sim      sim        sim   \n\n  quadra poliesportiva salão de jogos aceita animais               aluguel  \\\n0                  sim            sim            sim  Aluguel: R$ 4.000,00   \n1                  sim            NaN            NaN  Aluguel: R$ 2.000,00   \n2                  NaN            NaN            NaN  Aluguel: R$ 1.300,00   \n3                  NaN            NaN            NaN  Aluguel: R$ 1.800,00   \n4                  sim            sim            sim  Aluguel: R$ 3.800,00   \n5                  sim            sim            sim  Aluguel: R$ 4.000,00   \n6                  sim            NaN            NaN  Aluguel: R$ 2.000,00   \n7                  NaN            NaN            NaN  Aluguel: R$ 1.300,00   \n8                  NaN            NaN            NaN  Aluguel: R$ 1.800,00   \n9                  sim            sim            sim  Aluguel: R$ 3.800,00   \n\n           condomínio             iptu               corretora  \\\n0  Condomínio: 500,00  IPTU: R$ 100,00      Corretora: Tubarão   \n1  Condomínio: 200,00   IPTU: R$ 50,00  Corretora: Carangueijo   \n2  Condomínio: 200,00   IPTU: R$ 50,00  Corretora: Baleia Azul   \n3  Condomínio: 100,00   IPTU: R$ 20,00  Corretora: Baleia Azul   \n4  Condomínio: 500,00  IPTU: R$ 200,00      Corretora: Tubarão   \n5  Condomínio: 500,00  IPTU: R$ 100,00      Corretora: Tubarão   \n6  Condomínio: 200,00   IPTU: R$ 50,00  Corretora: Carangueijo   \n7  Condomínio: 200,00   IPTU: R$ 50,00  Corretora: Baleia Azul   \n8  Condomínio: 100,00   IPTU: R$ 20,00  Corretora: Baleia Azul   \n9  Condomínio: 500,00  IPTU: R$ 200,00      Corretora: Tubarão   \n\n                    localizacao  \n0  Localização: Oceano Pacífico  \n1    Localização: Oceano Índico  \n2      Localização: Mar de Java  \n3    Localização: Oceano Índico  \n4  Localização: Oceano Pacífico  \n5  Localização: Oceano Pacífico  \n6    Localização: Oceano Índico  \n7      Localização: Mar de Java  \n8    Localização: Oceano Índico  \n9  Localização: Oceano Pacífico  ",
            "text/html": "<div>\n<style scoped>\n    .dataframe tbody tr th:only-of-type {\n        vertical-align: middle;\n    }\n\n    .dataframe tbody tr th {\n        vertical-align: top;\n    }\n\n    .dataframe thead th {\n        text-align: right;\n    }\n</style>\n<table border=\"1\" class=\"dataframe\">\n  <thead>\n    <tr style=\"text-align: right;\">\n      <th></th>\n      <th>área</th>\n      <th>quartos</th>\n      <th>banheiros</th>\n      <th>vagas garagem</th>\n      <th>mobiliado</th>\n      <th>portaria 24h</th>\n      <th>elevador</th>\n      <th>piscina</th>\n      <th>churrasqueira</th>\n      <th>salão de festas</th>\n      <th>academia</th>\n      <th>playground</th>\n      <th>quadra poliesportiva</th>\n      <th>salão de jogos</th>\n      <th>aceita animais</th>\n      <th>aluguel</th>\n      <th>condomínio</th>\n      <th>iptu</th>\n      <th>corretora</th>\n      <th>localizacao</th>\n    </tr>\n  </thead>\n  <tbody>\n    <tr>\n      <th>0</th>\n      <td>100 m²</td>\n      <td>3 quarto(s)</td>\n      <td>2 banheiro(s)</td>\n      <td>2 vaga(s)</td>\n      <td>sim</td>\n      <td>sim</td>\n      <td>sim</td>\n      <td>sim</td>\n      <td>sim</td>\n      <td>sim</td>\n      <td>sim</td>\n      <td>sim</td>\n      <td>sim</td>\n      <td>sim</td>\n      <td>sim</td>\n      <td>Aluguel: R$ 4.000,00</td>\n      <td>Condomínio: 500,00</td>\n      <td>IPTU: R$ 100,00</td>\n      <td>Corretora: Tubarão</td>\n      <td>Localização: Oceano Pacífico</td>\n    </tr>\n    <tr>\n      <th>1</th>\n      <td>60 m²</td>\n      <td>2 quarto(s)</td>\n      <td>2 banheiro(s)</td>\n      <td>1 vaga(s)</td>\n      <td>sim</td>\n      <td>sim</td>\n      <td>NaN</td>\n      <td>NaN</td>\n      <td>NaN</td>\n      <td>sim</td>\n      <td>NaN</td>\n      <td>NaN</td>\n      <td>sim</td>\n      <td>NaN</td>\n      <td>NaN</td>\n      <td>Aluguel: R$ 2.000,00</td>\n      <td>Condomínio: 200,00</td>\n      <td>IPTU: R$ 50,00</td>\n      <td>Corretora: Carangueijo</td>\n      <td>Localização: Oceano Índico</td>\n    </tr>\n    <tr>\n      <th>2</th>\n      <td>50 m²</td>\n      <td>1 quarto(s)</td>\n      <td>1 banheiro(s)</td>\n      <td>1 vaga(s)</td>\n      <td>sim</td>\n      <td>NaN</td>\n      <td>NaN</td>\n      <td>NaN</td>\n      <td>NaN</td>\n      <td>NaN</td>\n      <td>NaN</td>\n      <td>NaN</td>\n      <td>NaN</td>\n      <td>NaN</td>\n      <td>NaN</td>\n      <td>Aluguel: R$ 1.300,00</td>\n      <td>Condomínio: 200,00</td>\n      <td>IPTU: R$ 50,00</td>\n      <td>Corretora: Baleia Azul</td>\n      <td>Localização: Mar de Java</td>\n    </tr>\n    <tr>\n      <th>3</th>\n      <td>60 m²</td>\n      <td>2 quarto(s)</td>\n      <td>2 banheiro(s)</td>\n      <td>1 vaga(s)</td>\n      <td>sim</td>\n      <td>sim</td>\n      <td>NaN</td>\n      <td>NaN</td>\n      <td>NaN</td>\n      <td>NaN</td>\n      <td>NaN</td>\n      <td>NaN</td>\n      <td>NaN</td>\n      <td>NaN</td>\n      <td>NaN</td>\n      <td>Aluguel: R$ 1.800,00</td>\n      <td>Condomínio: 100,00</td>\n      <td>IPTU: R$ 20,00</td>\n      <td>Corretora: Baleia Azul</td>\n      <td>Localização: Oceano Índico</td>\n    </tr>\n    <tr>\n      <th>4</th>\n      <td>120 m²</td>\n      <td>4 quarto(s)</td>\n      <td>3 banheiro(s)</td>\n      <td>2 vaga(s)</td>\n      <td>sim</td>\n      <td>sim</td>\n      <td>sim</td>\n      <td>sim</td>\n      <td>sim</td>\n      <td>sim</td>\n      <td>sim</td>\n      <td>sim</td>\n      <td>sim</td>\n      <td>sim</td>\n      <td>sim</td>\n      <td>Aluguel: R$ 3.800,00</td>\n      <td>Condomínio: 500,00</td>\n      <td>IPTU: R$ 200,00</td>\n      <td>Corretora: Tubarão</td>\n      <td>Localização: Oceano Pacífico</td>\n    </tr>\n    <tr>\n      <th>5</th>\n      <td>100 m²</td>\n      <td>3 quarto(s)</td>\n      <td>2 banheiro(s)</td>\n      <td>2 vaga(s)</td>\n      <td>sim</td>\n      <td>sim</td>\n      <td>sim</td>\n      <td>sim</td>\n      <td>sim</td>\n      <td>sim</td>\n      <td>sim</td>\n      <td>sim</td>\n      <td>sim</td>\n      <td>sim</td>\n      <td>sim</td>\n      <td>Aluguel: R$ 4.000,00</td>\n      <td>Condomínio: 500,00</td>\n      <td>IPTU: R$ 100,00</td>\n      <td>Corretora: Tubarão</td>\n      <td>Localização: Oceano Pacífico</td>\n    </tr>\n    <tr>\n      <th>6</th>\n      <td>60 m²</td>\n      <td>2 quarto(s)</td>\n      <td>2 banheiro(s)</td>\n      <td>1 vaga(s)</td>\n      <td>sim</td>\n      <td>sim</td>\n      <td>NaN</td>\n      <td>NaN</td>\n      <td>NaN</td>\n      <td>sim</td>\n      <td>NaN</td>\n      <td>NaN</td>\n      <td>sim</td>\n      <td>NaN</td>\n      <td>NaN</td>\n      <td>Aluguel: R$ 2.000,00</td>\n      <td>Condomínio: 200,00</td>\n      <td>IPTU: R$ 50,00</td>\n      <td>Corretora: Carangueijo</td>\n      <td>Localização: Oceano Índico</td>\n    </tr>\n    <tr>\n      <th>7</th>\n      <td>50 m²</td>\n      <td>1 quarto(s)</td>\n      <td>1 banheiro(s)</td>\n      <td>1 vaga(s)</td>\n      <td>sim</td>\n      <td>NaN</td>\n      <td>NaN</td>\n      <td>NaN</td>\n      <td>NaN</td>\n      <td>NaN</td>\n      <td>NaN</td>\n      <td>NaN</td>\n      <td>NaN</td>\n      <td>NaN</td>\n      <td>NaN</td>\n      <td>Aluguel: R$ 1.300,00</td>\n      <td>Condomínio: 200,00</td>\n      <td>IPTU: R$ 50,00</td>\n      <td>Corretora: Baleia Azul</td>\n      <td>Localização: Mar de Java</td>\n    </tr>\n    <tr>\n      <th>8</th>\n      <td>60 m²</td>\n      <td>2 quarto(s)</td>\n      <td>2 banheiro(s)</td>\n      <td>1 vaga(s)</td>\n      <td>sim</td>\n      <td>sim</td>\n      <td>NaN</td>\n      <td>NaN</td>\n      <td>NaN</td>\n      <td>NaN</td>\n      <td>NaN</td>\n      <td>NaN</td>\n      <td>NaN</td>\n      <td>NaN</td>\n      <td>NaN</td>\n      <td>Aluguel: R$ 1.800,00</td>\n      <td>Condomínio: 100,00</td>\n      <td>IPTU: R$ 20,00</td>\n      <td>Corretora: Baleia Azul</td>\n      <td>Localização: Oceano Índico</td>\n    </tr>\n    <tr>\n      <th>9</th>\n      <td>120 m²</td>\n      <td>4 quarto(s)</td>\n      <td>3 banheiro(s)</td>\n      <td>2 vaga(s)</td>\n      <td>sim</td>\n      <td>sim</td>\n      <td>sim</td>\n      <td>sim</td>\n      <td>sim</td>\n      <td>sim</td>\n      <td>sim</td>\n      <td>sim</td>\n      <td>sim</td>\n      <td>sim</td>\n      <td>sim</td>\n      <td>Aluguel: R$ 3.800,00</td>\n      <td>Condomínio: 500,00</td>\n      <td>IPTU: R$ 200,00</td>\n      <td>Corretora: Tubarão</td>\n      <td>Localização: Oceano Pacífico</td>\n    </tr>\n  </tbody>\n</table>\n</div>"
          },
          "metadata": {}
        }
      ]
    },
    {
      "cell_type": "code",
      "metadata": {
        "execution": {
          "iopub.status.busy": "2021-08-31T18:31:00.572817Z",
          "iopub.execute_input": "2021-08-31T18:31:00.573175Z",
          "iopub.status.idle": "2021-08-31T18:31:00.582184Z",
          "shell.execute_reply.started": "2021-08-31T18:31:00.573143Z",
          "shell.execute_reply": "2021-08-31T18:31:00.581166Z"
        },
        "trusted": true,
        "id": "QgqAa_SdncN4",
        "outputId": "6868f030-3bea-422c-9e30-0cb38a5bfea9"
      },
      "source": [
        "resultados_df.dtypes"
      ],
      "execution_count": null,
      "outputs": [
        {
          "execution_count": 52,
          "output_type": "execute_result",
          "data": {
            "text/plain": "área                    object\nquartos                 object\nbanheiros               object\nvagas garagem           object\nmobiliado               object\nportaria 24h            object\nelevador                object\npiscina                 object\nchurrasqueira           object\nsalão de festas         object\nacademia                object\nplayground              object\nquadra poliesportiva    object\nsalão de jogos          object\naceita animais          object\naluguel                 object\ncondomínio              object\niptu                    object\ncorretora               object\nlocalizacao             object\ndtype: object"
          },
          "metadata": {}
        }
      ]
    },
    {
      "cell_type": "markdown",
      "metadata": {
        "id": "dpCk1aSxncN5"
      },
      "source": [
        "#### 3.2.2) Persistindo os dados coletados em um DataFrame (tentativa 2)"
      ]
    },
    {
      "cell_type": "code",
      "metadata": {
        "execution": {
          "iopub.status.busy": "2021-08-31T18:31:35.514447Z",
          "iopub.execute_input": "2021-08-31T18:31:35.514780Z",
          "iopub.status.idle": "2021-08-31T18:31:35.519115Z",
          "shell.execute_reply.started": "2021-08-31T18:31:35.514751Z",
          "shell.execute_reply": "2021-08-31T18:31:35.517810Z"
        },
        "trusted": true,
        "id": "rrNQK8dsncN5"
      },
      "source": [
        "resutados_lista = []"
      ],
      "execution_count": null,
      "outputs": []
    },
    {
      "cell_type": "code",
      "metadata": {
        "execution": {
          "iopub.status.busy": "2021-08-31T18:31:37.947528Z",
          "iopub.execute_input": "2021-08-31T18:31:37.948034Z",
          "iopub.status.idle": "2021-08-31T18:31:37.972411Z",
          "shell.execute_reply.started": "2021-08-31T18:31:37.947991Z",
          "shell.execute_reply": "2021-08-31T18:31:37.971402Z"
        },
        "trusted": true,
        "id": "19cqBCb9ncN5"
      },
      "source": [
        "for resultado in soup_busca.find('div', {'class': 'ad-card-list'}).find_all('div', {'class': 'ad-card'}):\n",
        "    caracteristicas = resultado.find('ul', {'class': 'features'})\n",
        "    recursos = resultado.find('ul', {'class': 'resources'})\n",
        "    precos_corretora = resultado.find('div', {'class': 'ad-card-price'})\n",
        "    localizacao = resultado.find('div', {'class': 'ad-card-info'}).find('p')\n",
        "    \n",
        "    resutado_dict = {}\n",
        "    \n",
        "    resutado_dict['área'] = int(caracteristicas.find_all('li')[0].get_text().replace(' ','').replace('m²',''))\n",
        "    resutado_dict['quartos'] = int(caracteristicas.find_all('li')[1].get_text().replace(' ','').replace('quarto(s)',''))\n",
        "    resutado_dict['banheiros'] = int(caracteristicas.find_all('li')[2].get_text().replace(' ','').replace('banheiro(s)',''))\n",
        "    resutado_dict['vagas garagem'] = int(caracteristicas.find_all('li')[3].get_text().replace(' ','').replace('vaga(s)',''))\n",
        "    \n",
        "    for recur in recursos.find_all('li'):\n",
        "        resutado_dict[recur.get_text().lower()] = 'sim'\n",
        "        \n",
        "    resutado_dict['aluguel'] = float(precos_corretora.find_all('p')[0].get_text().replace('Aluguel: R$ ','').replace('.','').replace(',','.'))\n",
        "    resutado_dict['condomínio'] = float(precos_corretora.find_all('p')[1].get_text().replace('Condomínio: ','').replace('.','').replace(',','.'))\n",
        "    resutado_dict['iptu'] = float(precos_corretora.find_all('p')[2].get_text().replace('IPTU: R$ ','').replace('.','').replace(',','.'))\n",
        "    \n",
        "    resutado_dict['corretora'] = precos_corretora.find_all('p')[3].get_text().replace('Corretora: ','')\n",
        "    \n",
        "    resutado_dict['localizacao'] = localizacao.get_text().replace('Localização: ','')\n",
        "    \n",
        "    resutados_lista.append(resutado_dict)"
      ],
      "execution_count": null,
      "outputs": []
    },
    {
      "cell_type": "code",
      "metadata": {
        "execution": {
          "iopub.status.busy": "2021-08-31T18:37:58.411254Z",
          "iopub.execute_input": "2021-08-31T18:37:58.411685Z",
          "iopub.status.idle": "2021-08-31T18:37:58.445115Z",
          "shell.execute_reply.started": "2021-08-31T18:37:58.411651Z",
          "shell.execute_reply": "2021-08-31T18:37:58.443998Z"
        },
        "trusted": true,
        "id": "DWoP_yIgncN5",
        "outputId": "d384a490-c529-4937-cdb3-ff0ab2a74f58"
      },
      "source": [
        "resultados_df = pd.DataFrame(resutados_lista)\n",
        "resultados_df"
      ],
      "execution_count": null,
      "outputs": [
        {
          "execution_count": 58,
          "output_type": "execute_result",
          "data": {
            "text/plain": "   área  quartos  banheiros  vagas garagem mobiliado portaria 24h elevador  \\\n0   100        3          2              2       sim          sim      sim   \n1    60        2          2              1       sim          sim      NaN   \n2    50        1          1              1       sim          NaN      NaN   \n3    60        2          2              1       sim          sim      NaN   \n4   120        4          3              2       sim          sim      sim   \n\n  piscina churrasqueira salão de festas academia playground  \\\n0     sim           sim             sim      sim        sim   \n1     NaN           NaN             sim      NaN        NaN   \n2     NaN           NaN             NaN      NaN        NaN   \n3     NaN           NaN             NaN      NaN        NaN   \n4     sim           sim             sim      sim        sim   \n\n  quadra poliesportiva salão de jogos aceita animais  aluguel  condomínio  \\\n0                  sim            sim            sim   4000.0       500.0   \n1                  sim            NaN            NaN   2000.0       200.0   \n2                  NaN            NaN            NaN   1300.0       200.0   \n3                  NaN            NaN            NaN   1800.0       100.0   \n4                  sim            sim            sim   3800.0       500.0   \n\n    iptu    corretora      localizacao  \n0  100.0      Tubarão  Oceano Pacífico  \n1   50.0  Carangueijo    Oceano Índico  \n2   50.0  Baleia Azul      Mar de Java  \n3   20.0  Baleia Azul    Oceano Índico  \n4  200.0      Tubarão  Oceano Pacífico  ",
            "text/html": "<div>\n<style scoped>\n    .dataframe tbody tr th:only-of-type {\n        vertical-align: middle;\n    }\n\n    .dataframe tbody tr th {\n        vertical-align: top;\n    }\n\n    .dataframe thead th {\n        text-align: right;\n    }\n</style>\n<table border=\"1\" class=\"dataframe\">\n  <thead>\n    <tr style=\"text-align: right;\">\n      <th></th>\n      <th>área</th>\n      <th>quartos</th>\n      <th>banheiros</th>\n      <th>vagas garagem</th>\n      <th>mobiliado</th>\n      <th>portaria 24h</th>\n      <th>elevador</th>\n      <th>piscina</th>\n      <th>churrasqueira</th>\n      <th>salão de festas</th>\n      <th>academia</th>\n      <th>playground</th>\n      <th>quadra poliesportiva</th>\n      <th>salão de jogos</th>\n      <th>aceita animais</th>\n      <th>aluguel</th>\n      <th>condomínio</th>\n      <th>iptu</th>\n      <th>corretora</th>\n      <th>localizacao</th>\n    </tr>\n  </thead>\n  <tbody>\n    <tr>\n      <th>0</th>\n      <td>100</td>\n      <td>3</td>\n      <td>2</td>\n      <td>2</td>\n      <td>sim</td>\n      <td>sim</td>\n      <td>sim</td>\n      <td>sim</td>\n      <td>sim</td>\n      <td>sim</td>\n      <td>sim</td>\n      <td>sim</td>\n      <td>sim</td>\n      <td>sim</td>\n      <td>sim</td>\n      <td>4000.0</td>\n      <td>500.0</td>\n      <td>100.0</td>\n      <td>Tubarão</td>\n      <td>Oceano Pacífico</td>\n    </tr>\n    <tr>\n      <th>1</th>\n      <td>60</td>\n      <td>2</td>\n      <td>2</td>\n      <td>1</td>\n      <td>sim</td>\n      <td>sim</td>\n      <td>NaN</td>\n      <td>NaN</td>\n      <td>NaN</td>\n      <td>sim</td>\n      <td>NaN</td>\n      <td>NaN</td>\n      <td>sim</td>\n      <td>NaN</td>\n      <td>NaN</td>\n      <td>2000.0</td>\n      <td>200.0</td>\n      <td>50.0</td>\n      <td>Carangueijo</td>\n      <td>Oceano Índico</td>\n    </tr>\n    <tr>\n      <th>2</th>\n      <td>50</td>\n      <td>1</td>\n      <td>1</td>\n      <td>1</td>\n      <td>sim</td>\n      <td>NaN</td>\n      <td>NaN</td>\n      <td>NaN</td>\n      <td>NaN</td>\n      <td>NaN</td>\n      <td>NaN</td>\n      <td>NaN</td>\n      <td>NaN</td>\n      <td>NaN</td>\n      <td>NaN</td>\n      <td>1300.0</td>\n      <td>200.0</td>\n      <td>50.0</td>\n      <td>Baleia Azul</td>\n      <td>Mar de Java</td>\n    </tr>\n    <tr>\n      <th>3</th>\n      <td>60</td>\n      <td>2</td>\n      <td>2</td>\n      <td>1</td>\n      <td>sim</td>\n      <td>sim</td>\n      <td>NaN</td>\n      <td>NaN</td>\n      <td>NaN</td>\n      <td>NaN</td>\n      <td>NaN</td>\n      <td>NaN</td>\n      <td>NaN</td>\n      <td>NaN</td>\n      <td>NaN</td>\n      <td>1800.0</td>\n      <td>100.0</td>\n      <td>20.0</td>\n      <td>Baleia Azul</td>\n      <td>Oceano Índico</td>\n    </tr>\n    <tr>\n      <th>4</th>\n      <td>120</td>\n      <td>4</td>\n      <td>3</td>\n      <td>2</td>\n      <td>sim</td>\n      <td>sim</td>\n      <td>sim</td>\n      <td>sim</td>\n      <td>sim</td>\n      <td>sim</td>\n      <td>sim</td>\n      <td>sim</td>\n      <td>sim</td>\n      <td>sim</td>\n      <td>sim</td>\n      <td>3800.0</td>\n      <td>500.0</td>\n      <td>200.0</td>\n      <td>Tubarão</td>\n      <td>Oceano Pacífico</td>\n    </tr>\n  </tbody>\n</table>\n</div>"
          },
          "metadata": {}
        }
      ]
    },
    {
      "cell_type": "code",
      "metadata": {
        "execution": {
          "iopub.status.busy": "2021-08-31T18:38:02.412772Z",
          "iopub.execute_input": "2021-08-31T18:38:02.413144Z",
          "iopub.status.idle": "2021-08-31T18:38:02.443241Z",
          "shell.execute_reply.started": "2021-08-31T18:38:02.413100Z",
          "shell.execute_reply": "2021-08-31T18:38:02.441953Z"
        },
        "trusted": true,
        "id": "QfnfpqVKncN5",
        "outputId": "90255bea-872b-44ca-a62d-ee3a42f33d06"
      },
      "source": [
        "resultados_df = resultados_df.fillna(value='não')\n",
        "resultados_df"
      ],
      "execution_count": null,
      "outputs": [
        {
          "execution_count": 59,
          "output_type": "execute_result",
          "data": {
            "text/plain": "   área  quartos  banheiros  vagas garagem mobiliado portaria 24h elevador  \\\n0   100        3          2              2       sim          sim      sim   \n1    60        2          2              1       sim          sim      não   \n2    50        1          1              1       sim          não      não   \n3    60        2          2              1       sim          sim      não   \n4   120        4          3              2       sim          sim      sim   \n\n  piscina churrasqueira salão de festas academia playground  \\\n0     sim           sim             sim      sim        sim   \n1     não           não             sim      não        não   \n2     não           não             não      não        não   \n3     não           não             não      não        não   \n4     sim           sim             sim      sim        sim   \n\n  quadra poliesportiva salão de jogos aceita animais  aluguel  condomínio  \\\n0                  sim            sim            sim   4000.0       500.0   \n1                  sim            não            não   2000.0       200.0   \n2                  não            não            não   1300.0       200.0   \n3                  não            não            não   1800.0       100.0   \n4                  sim            sim            sim   3800.0       500.0   \n\n    iptu    corretora      localizacao  \n0  100.0      Tubarão  Oceano Pacífico  \n1   50.0  Carangueijo    Oceano Índico  \n2   50.0  Baleia Azul      Mar de Java  \n3   20.0  Baleia Azul    Oceano Índico  \n4  200.0      Tubarão  Oceano Pacífico  ",
            "text/html": "<div>\n<style scoped>\n    .dataframe tbody tr th:only-of-type {\n        vertical-align: middle;\n    }\n\n    .dataframe tbody tr th {\n        vertical-align: top;\n    }\n\n    .dataframe thead th {\n        text-align: right;\n    }\n</style>\n<table border=\"1\" class=\"dataframe\">\n  <thead>\n    <tr style=\"text-align: right;\">\n      <th></th>\n      <th>área</th>\n      <th>quartos</th>\n      <th>banheiros</th>\n      <th>vagas garagem</th>\n      <th>mobiliado</th>\n      <th>portaria 24h</th>\n      <th>elevador</th>\n      <th>piscina</th>\n      <th>churrasqueira</th>\n      <th>salão de festas</th>\n      <th>academia</th>\n      <th>playground</th>\n      <th>quadra poliesportiva</th>\n      <th>salão de jogos</th>\n      <th>aceita animais</th>\n      <th>aluguel</th>\n      <th>condomínio</th>\n      <th>iptu</th>\n      <th>corretora</th>\n      <th>localizacao</th>\n    </tr>\n  </thead>\n  <tbody>\n    <tr>\n      <th>0</th>\n      <td>100</td>\n      <td>3</td>\n      <td>2</td>\n      <td>2</td>\n      <td>sim</td>\n      <td>sim</td>\n      <td>sim</td>\n      <td>sim</td>\n      <td>sim</td>\n      <td>sim</td>\n      <td>sim</td>\n      <td>sim</td>\n      <td>sim</td>\n      <td>sim</td>\n      <td>sim</td>\n      <td>4000.0</td>\n      <td>500.0</td>\n      <td>100.0</td>\n      <td>Tubarão</td>\n      <td>Oceano Pacífico</td>\n    </tr>\n    <tr>\n      <th>1</th>\n      <td>60</td>\n      <td>2</td>\n      <td>2</td>\n      <td>1</td>\n      <td>sim</td>\n      <td>sim</td>\n      <td>não</td>\n      <td>não</td>\n      <td>não</td>\n      <td>sim</td>\n      <td>não</td>\n      <td>não</td>\n      <td>sim</td>\n      <td>não</td>\n      <td>não</td>\n      <td>2000.0</td>\n      <td>200.0</td>\n      <td>50.0</td>\n      <td>Carangueijo</td>\n      <td>Oceano Índico</td>\n    </tr>\n    <tr>\n      <th>2</th>\n      <td>50</td>\n      <td>1</td>\n      <td>1</td>\n      <td>1</td>\n      <td>sim</td>\n      <td>não</td>\n      <td>não</td>\n      <td>não</td>\n      <td>não</td>\n      <td>não</td>\n      <td>não</td>\n      <td>não</td>\n      <td>não</td>\n      <td>não</td>\n      <td>não</td>\n      <td>1300.0</td>\n      <td>200.0</td>\n      <td>50.0</td>\n      <td>Baleia Azul</td>\n      <td>Mar de Java</td>\n    </tr>\n    <tr>\n      <th>3</th>\n      <td>60</td>\n      <td>2</td>\n      <td>2</td>\n      <td>1</td>\n      <td>sim</td>\n      <td>sim</td>\n      <td>não</td>\n      <td>não</td>\n      <td>não</td>\n      <td>não</td>\n      <td>não</td>\n      <td>não</td>\n      <td>não</td>\n      <td>não</td>\n      <td>não</td>\n      <td>1800.0</td>\n      <td>100.0</td>\n      <td>20.0</td>\n      <td>Baleia Azul</td>\n      <td>Oceano Índico</td>\n    </tr>\n    <tr>\n      <th>4</th>\n      <td>120</td>\n      <td>4</td>\n      <td>3</td>\n      <td>2</td>\n      <td>sim</td>\n      <td>sim</td>\n      <td>sim</td>\n      <td>sim</td>\n      <td>sim</td>\n      <td>sim</td>\n      <td>sim</td>\n      <td>sim</td>\n      <td>sim</td>\n      <td>sim</td>\n      <td>sim</td>\n      <td>3800.0</td>\n      <td>500.0</td>\n      <td>200.0</td>\n      <td>Tubarão</td>\n      <td>Oceano Pacífico</td>\n    </tr>\n  </tbody>\n</table>\n</div>"
          },
          "metadata": {}
        }
      ]
    },
    {
      "cell_type": "code",
      "metadata": {
        "execution": {
          "iopub.status.busy": "2021-08-31T18:41:23.296593Z",
          "iopub.execute_input": "2021-08-31T18:41:23.296988Z",
          "iopub.status.idle": "2021-08-31T18:41:23.305772Z",
          "shell.execute_reply.started": "2021-08-31T18:41:23.296951Z",
          "shell.execute_reply": "2021-08-31T18:41:23.304731Z"
        },
        "trusted": true,
        "id": "tTzyfrmAncN6",
        "outputId": "5baba481-28ae-4b2d-e542-74166b791027"
      },
      "source": [
        "resultados_df.dtypes"
      ],
      "execution_count": null,
      "outputs": [
        {
          "execution_count": 60,
          "output_type": "execute_result",
          "data": {
            "text/plain": "área                      int64\nquartos                   int64\nbanheiros                 int64\nvagas garagem             int64\nmobiliado                object\nportaria 24h             object\nelevador                 object\npiscina                  object\nchurrasqueira            object\nsalão de festas          object\nacademia                 object\nplayground               object\nquadra poliesportiva     object\nsalão de jogos           object\naceita animais           object\naluguel                 float64\ncondomínio              float64\niptu                    float64\ncorretora                object\nlocalizacao              object\ndtype: object"
          },
          "metadata": {}
        }
      ]
    },
    {
      "cell_type": "markdown",
      "metadata": {
        "id": "s2LCaoV5ncN6"
      },
      "source": [
        "### 3.3) Coletando as imagens da primeira página"
      ]
    },
    {
      "cell_type": "markdown",
      "metadata": {
        "id": "YzRrGWnEncN6"
      },
      "source": [
        "#### 3.3.1) Criando um diretório para as imagens"
      ]
    },
    {
      "cell_type": "code",
      "metadata": {
        "execution": {
          "iopub.status.busy": "2021-08-31T18:41:28.307185Z",
          "iopub.execute_input": "2021-08-31T18:41:28.307890Z",
          "iopub.status.idle": "2021-08-31T18:41:28.312593Z",
          "shell.execute_reply.started": "2021-08-31T18:41:28.307837Z",
          "shell.execute_reply": "2021-08-31T18:41:28.311572Z"
        },
        "trusted": true,
        "id": "lvt2wbDencN6"
      },
      "source": [
        "import os"
      ],
      "execution_count": null,
      "outputs": []
    },
    {
      "cell_type": "code",
      "metadata": {
        "execution": {
          "iopub.status.busy": "2021-08-31T18:43:25.741216Z",
          "iopub.execute_input": "2021-08-31T18:43:25.741628Z",
          "iopub.status.idle": "2021-08-31T18:43:25.746704Z",
          "shell.execute_reply.started": "2021-08-31T18:43:25.741596Z",
          "shell.execute_reply": "2021-08-31T18:43:25.745781Z"
        },
        "trusted": true,
        "id": "_wmDNrX0ncN7"
      },
      "source": [
        "os.makedirs('imagens')"
      ],
      "execution_count": null,
      "outputs": []
    },
    {
      "cell_type": "markdown",
      "metadata": {
        "id": "eUNnM6zPncN7"
      },
      "source": [
        "#### 3.3.2) Obtendo as imagens"
      ]
    },
    {
      "cell_type": "code",
      "metadata": {
        "execution": {
          "iopub.status.busy": "2021-08-31T18:43:28.921272Z",
          "iopub.execute_input": "2021-08-31T18:43:28.921651Z",
          "iopub.status.idle": "2021-08-31T18:43:28.961021Z",
          "shell.execute_reply.started": "2021-08-31T18:43:28.921615Z",
          "shell.execute_reply": "2021-08-31T18:43:28.959892Z"
        },
        "trusted": true,
        "id": "iyhljfxsncN7",
        "outputId": "0fdb4ae3-7b91-41ae-883e-772bab178dde"
      },
      "source": [
        "soup_busca.find('div', {'class': 'ad-card-list'})"
      ],
      "execution_count": null,
      "outputs": [
        {
          "execution_count": 63,
          "output_type": "execute_result",
          "data": {
            "text/plain": "<div class=\"ad-card-list\">\n<p>21 resultados obtidos - Página 1</p>\n<div class=\"ad-card\">\n<img class=\"apto-img\" src=\"imagens/apto-01.jpg\"/>\n<div class=\"ad-card-info\">\n<h2>Lindo apartamento para alugar</h2>\n<ul class=\"features\">\n<li><img src=\"imagens/area.png\"/> 100 m²</li>\n<li><img src=\"imagens/bedrooms.png\"/> 3 quarto(s)</li>\n<li><img src=\"imagens/toilet.png\"/> 2 banheiro(s)</li>\n<li><img src=\"imagens/parking.png\"/> 2 vaga(s)</li>\n</ul>\n<ul class=\"resources\">\n<li>Mobiliado</li>\n<li>Portaria 24h</li>\n<li>Elevador</li>\n<li>Piscina</li>\n<li>Churrasqueira</li>\n<li>Salão de Festas</li>\n<li>Academia</li>\n<li>Playground</li>\n<li>Quadra poliesportiva</li>\n<li>Salão de jogos</li>\n<li>Aceita animais</li>\n</ul>\n<p>Localização: Oceano Pacífico</p>\n</div>\n<div class=\"ad-card-price\">\n<p>Aluguel: R$ 4.000,00</p>\n<p>Condomínio: 500,00</p>\n<p>IPTU: R$ 100,00</p>\n<p>Corretora: Tubarão</p>\n</div>\n</div>\n<div class=\"ad-card\">\n<img class=\"apto-img\" src=\"imagens/apto-02.jpg\"/>\n<div class=\"ad-card-info\">\n<h2>Ótimo lugar para morar</h2>\n<ul class=\"features\">\n<li><img src=\"imagens/area.png\"/> 60 m²</li>\n<li><img src=\"imagens/bedrooms.png\"/> 2 quarto(s)</li>\n<li><img src=\"imagens/toilet.png\"/> 2 banheiro(s)</li>\n<li><img src=\"imagens/parking.png\"/> 1 vaga(s)</li>\n</ul>\n<ul class=\"resources\">\n<li>Mobiliado</li>\n<li>Portaria 24h</li>\n<li>Salão de Festas</li>\n<li>Quadra poliesportiva</li>\n</ul>\n<p>Localização: Oceano Índico</p>\n</div>\n<div class=\"ad-card-price\">\n<p>Aluguel: R$ 2.000,00</p>\n<p>Condomínio: 200,00</p>\n<p>IPTU: R$ 50,00</p>\n<p>Corretora: Carangueijo</p>\n</div>\n</div>\n<div class=\"ad-card\">\n<img class=\"apto-img\" src=\"imagens/apto-03.jpg\"/>\n<div class=\"ad-card-info\">\n<h2>Belíssimo apartamento mobiliado</h2>\n<ul class=\"features\">\n<li><img src=\"imagens/area.png\"/> 50 m²</li>\n<li><img src=\"imagens/bedrooms.png\"/> 1 quarto(s)</li>\n<li><img src=\"imagens/toilet.png\"/> 1 banheiro(s)</li>\n<li><img src=\"imagens/parking.png\"/> 1 vaga(s)</li>\n</ul>\n<ul class=\"resources\">\n<li>Mobiliado</li>\n</ul>\n<p>Localização: Mar de Java</p>\n</div>\n<div class=\"ad-card-price\">\n<p>Aluguel: R$ 1.300,00</p>\n<p>Condomínio: 200,00</p>\n<p>IPTU: R$ 50,00</p>\n<p>Corretora: Baleia Azul</p>\n</div>\n</div>\n<div class=\"ad-card\">\n<img class=\"apto-img\" src=\"imagens/apto-04.jpg\"/>\n<div class=\"ad-card-info\">\n<h2>Um cantinho todo seu</h2>\n<ul class=\"features\">\n<li><img src=\"imagens/area.png\"/> 60 m²</li>\n<li><img src=\"imagens/bedrooms.png\"/> 2 quarto(s)</li>\n<li><img src=\"imagens/toilet.png\"/> 2 banheiro(s)</li>\n<li><img src=\"imagens/parking.png\"/> 1 vaga(s)</li>\n</ul>\n<ul class=\"resources\">\n<li>Mobiliado</li>\n<li>Portaria 24h</li>\n</ul>\n<p>Localização: Oceano Índico</p>\n</div>\n<div class=\"ad-card-price\">\n<p>Aluguel: R$ 1.800,00</p>\n<p>Condomínio: 100,00</p>\n<p>IPTU: R$ 20,00</p>\n<p>Corretora: Baleia Azul</p>\n</div>\n</div>\n<div class=\"ad-card\">\n<img class=\"apto-img\" src=\"imagens/apto-05.jpg\"/>\n<div class=\"ad-card-info\">\n<h2>Alugue já! Ótima oportunidade</h2>\n<ul class=\"features\">\n<li><img src=\"imagens/area.png\"/> 120 m²</li>\n<li><img src=\"imagens/bedrooms.png\"/> 4 quarto(s)</li>\n<li><img src=\"imagens/toilet.png\"/> 3 banheiro(s)</li>\n<li><img src=\"imagens/parking.png\"/> 2 vaga(s)</li>\n</ul>\n<ul class=\"resources\">\n<li>Mobiliado</li>\n<li>Portaria 24h</li>\n<li>Elevador</li>\n<li>Piscina</li>\n<li>Churrasqueira</li>\n<li>Salão de Festas</li>\n<li>Academia</li>\n<li>Playground</li>\n<li>Quadra poliesportiva</li>\n<li>Salão de jogos</li>\n<li>Aceita animais</li>\n</ul>\n<p>Localização: Oceano Pacífico</p>\n</div>\n<div class=\"ad-card-price\">\n<p>Aluguel: R$ 3.800,00</p>\n<p>Condomínio: 500,00</p>\n<p>IPTU: R$ 200,00</p>\n<p>Corretora: Tubarão</p>\n</div>\n</div>\n</div>"
          },
          "metadata": {}
        }
      ]
    },
    {
      "cell_type": "code",
      "metadata": {
        "execution": {
          "iopub.status.busy": "2021-08-31T18:43:35.735906Z",
          "iopub.execute_input": "2021-08-31T18:43:35.736264Z",
          "iopub.status.idle": "2021-08-31T18:43:35.748470Z",
          "shell.execute_reply.started": "2021-08-31T18:43:35.736231Z",
          "shell.execute_reply": "2021-08-31T18:43:35.747432Z"
        },
        "trusted": true,
        "id": "GHwoMTi4ncN7",
        "outputId": "8a155d79-3f90-4f79-e398-f4650795870b"
      },
      "source": [
        "soup_busca.find('div', {'class': 'ad-card-list'}).find_all('div', {'class': 'ad-card'})"
      ],
      "execution_count": null,
      "outputs": [
        {
          "execution_count": 64,
          "output_type": "execute_result",
          "data": {
            "text/plain": "[<div class=\"ad-card\">\n <img class=\"apto-img\" src=\"imagens/apto-01.jpg\"/>\n <div class=\"ad-card-info\">\n <h2>Lindo apartamento para alugar</h2>\n <ul class=\"features\">\n <li><img src=\"imagens/area.png\"/> 100 m²</li>\n <li><img src=\"imagens/bedrooms.png\"/> 3 quarto(s)</li>\n <li><img src=\"imagens/toilet.png\"/> 2 banheiro(s)</li>\n <li><img src=\"imagens/parking.png\"/> 2 vaga(s)</li>\n </ul>\n <ul class=\"resources\">\n <li>Mobiliado</li>\n <li>Portaria 24h</li>\n <li>Elevador</li>\n <li>Piscina</li>\n <li>Churrasqueira</li>\n <li>Salão de Festas</li>\n <li>Academia</li>\n <li>Playground</li>\n <li>Quadra poliesportiva</li>\n <li>Salão de jogos</li>\n <li>Aceita animais</li>\n </ul>\n <p>Localização: Oceano Pacífico</p>\n </div>\n <div class=\"ad-card-price\">\n <p>Aluguel: R$ 4.000,00</p>\n <p>Condomínio: 500,00</p>\n <p>IPTU: R$ 100,00</p>\n <p>Corretora: Tubarão</p>\n </div>\n </div>,\n <div class=\"ad-card\">\n <img class=\"apto-img\" src=\"imagens/apto-02.jpg\"/>\n <div class=\"ad-card-info\">\n <h2>Ótimo lugar para morar</h2>\n <ul class=\"features\">\n <li><img src=\"imagens/area.png\"/> 60 m²</li>\n <li><img src=\"imagens/bedrooms.png\"/> 2 quarto(s)</li>\n <li><img src=\"imagens/toilet.png\"/> 2 banheiro(s)</li>\n <li><img src=\"imagens/parking.png\"/> 1 vaga(s)</li>\n </ul>\n <ul class=\"resources\">\n <li>Mobiliado</li>\n <li>Portaria 24h</li>\n <li>Salão de Festas</li>\n <li>Quadra poliesportiva</li>\n </ul>\n <p>Localização: Oceano Índico</p>\n </div>\n <div class=\"ad-card-price\">\n <p>Aluguel: R$ 2.000,00</p>\n <p>Condomínio: 200,00</p>\n <p>IPTU: R$ 50,00</p>\n <p>Corretora: Carangueijo</p>\n </div>\n </div>,\n <div class=\"ad-card\">\n <img class=\"apto-img\" src=\"imagens/apto-03.jpg\"/>\n <div class=\"ad-card-info\">\n <h2>Belíssimo apartamento mobiliado</h2>\n <ul class=\"features\">\n <li><img src=\"imagens/area.png\"/> 50 m²</li>\n <li><img src=\"imagens/bedrooms.png\"/> 1 quarto(s)</li>\n <li><img src=\"imagens/toilet.png\"/> 1 banheiro(s)</li>\n <li><img src=\"imagens/parking.png\"/> 1 vaga(s)</li>\n </ul>\n <ul class=\"resources\">\n <li>Mobiliado</li>\n </ul>\n <p>Localização: Mar de Java</p>\n </div>\n <div class=\"ad-card-price\">\n <p>Aluguel: R$ 1.300,00</p>\n <p>Condomínio: 200,00</p>\n <p>IPTU: R$ 50,00</p>\n <p>Corretora: Baleia Azul</p>\n </div>\n </div>,\n <div class=\"ad-card\">\n <img class=\"apto-img\" src=\"imagens/apto-04.jpg\"/>\n <div class=\"ad-card-info\">\n <h2>Um cantinho todo seu</h2>\n <ul class=\"features\">\n <li><img src=\"imagens/area.png\"/> 60 m²</li>\n <li><img src=\"imagens/bedrooms.png\"/> 2 quarto(s)</li>\n <li><img src=\"imagens/toilet.png\"/> 2 banheiro(s)</li>\n <li><img src=\"imagens/parking.png\"/> 1 vaga(s)</li>\n </ul>\n <ul class=\"resources\">\n <li>Mobiliado</li>\n <li>Portaria 24h</li>\n </ul>\n <p>Localização: Oceano Índico</p>\n </div>\n <div class=\"ad-card-price\">\n <p>Aluguel: R$ 1.800,00</p>\n <p>Condomínio: 100,00</p>\n <p>IPTU: R$ 20,00</p>\n <p>Corretora: Baleia Azul</p>\n </div>\n </div>,\n <div class=\"ad-card\">\n <img class=\"apto-img\" src=\"imagens/apto-05.jpg\"/>\n <div class=\"ad-card-info\">\n <h2>Alugue já! Ótima oportunidade</h2>\n <ul class=\"features\">\n <li><img src=\"imagens/area.png\"/> 120 m²</li>\n <li><img src=\"imagens/bedrooms.png\"/> 4 quarto(s)</li>\n <li><img src=\"imagens/toilet.png\"/> 3 banheiro(s)</li>\n <li><img src=\"imagens/parking.png\"/> 2 vaga(s)</li>\n </ul>\n <ul class=\"resources\">\n <li>Mobiliado</li>\n <li>Portaria 24h</li>\n <li>Elevador</li>\n <li>Piscina</li>\n <li>Churrasqueira</li>\n <li>Salão de Festas</li>\n <li>Academia</li>\n <li>Playground</li>\n <li>Quadra poliesportiva</li>\n <li>Salão de jogos</li>\n <li>Aceita animais</li>\n </ul>\n <p>Localização: Oceano Pacífico</p>\n </div>\n <div class=\"ad-card-price\">\n <p>Aluguel: R$ 3.800,00</p>\n <p>Condomínio: 500,00</p>\n <p>IPTU: R$ 200,00</p>\n <p>Corretora: Tubarão</p>\n </div>\n </div>]"
          },
          "metadata": {}
        }
      ]
    },
    {
      "cell_type": "code",
      "metadata": {
        "execution": {
          "iopub.status.busy": "2021-08-31T18:43:40.386025Z",
          "iopub.execute_input": "2021-08-31T18:43:40.386408Z",
          "iopub.status.idle": "2021-08-31T18:43:40.395524Z",
          "shell.execute_reply.started": "2021-08-31T18:43:40.386370Z",
          "shell.execute_reply": "2021-08-31T18:43:40.394388Z"
        },
        "trusted": true,
        "id": "tiuckq_1ncN7",
        "outputId": "31f87a8d-1ed0-41dc-ea60-315810077249"
      },
      "source": [
        "for resultado in soup_busca.find('div', {'class': 'ad-card-list'}).find_all('div', {'class': 'ad-card'}):\n",
        "    print(resultado.img)"
      ],
      "execution_count": null,
      "outputs": [
        {
          "name": "stdout",
          "text": "<img class=\"apto-img\" src=\"imagens/apto-01.jpg\"/>\n<img class=\"apto-img\" src=\"imagens/apto-02.jpg\"/>\n<img class=\"apto-img\" src=\"imagens/apto-03.jpg\"/>\n<img class=\"apto-img\" src=\"imagens/apto-04.jpg\"/>\n<img class=\"apto-img\" src=\"imagens/apto-05.jpg\"/>\n",
          "output_type": "stream"
        }
      ]
    },
    {
      "cell_type": "code",
      "metadata": {
        "execution": {
          "iopub.status.busy": "2021-08-31T18:45:06.085534Z",
          "iopub.execute_input": "2021-08-31T18:45:06.085923Z",
          "iopub.status.idle": "2021-08-31T18:45:06.095158Z",
          "shell.execute_reply.started": "2021-08-31T18:45:06.085890Z",
          "shell.execute_reply": "2021-08-31T18:45:06.093930Z"
        },
        "trusted": true,
        "id": "4KzzfmaBncN7",
        "outputId": "04d0c046-f2cc-45f9-8b69-f0edf293bd6f"
      },
      "source": [
        "for resultado in soup_busca.find('div', {'class': 'ad-card-list'}).find_all('div', {'class': 'ad-card'}):\n",
        "    print(resultado.img.get('src'))"
      ],
      "execution_count": null,
      "outputs": [
        {
          "name": "stdout",
          "text": "imagens/apto-01.jpg\nimagens/apto-02.jpg\nimagens/apto-03.jpg\nimagens/apto-04.jpg\nimagens/apto-05.jpg\n",
          "output_type": "stream"
        }
      ]
    },
    {
      "cell_type": "code",
      "metadata": {
        "execution": {
          "iopub.status.busy": "2021-08-31T18:45:15.464579Z",
          "iopub.execute_input": "2021-08-31T18:45:15.464966Z",
          "iopub.status.idle": "2021-08-31T18:45:15.477805Z",
          "shell.execute_reply.started": "2021-08-31T18:45:15.464922Z",
          "shell.execute_reply": "2021-08-31T18:45:15.476843Z"
        },
        "trusted": true,
        "id": "2X7h-zpancN8",
        "outputId": "096d0724-ba43-4887-cc03-4af9dfb6ce2a"
      },
      "source": [
        "for resultado in soup_busca.find('div', {'class': 'ad-card-list'}).find_all('div', {'class': 'ad-card'}):\n",
        "    print(resultado.img.get('src').replace('imagens/',''))"
      ],
      "execution_count": null,
      "outputs": [
        {
          "name": "stdout",
          "text": "apto-01.jpg\napto-02.jpg\napto-03.jpg\napto-04.jpg\napto-05.jpg\n",
          "output_type": "stream"
        }
      ]
    },
    {
      "cell_type": "code",
      "metadata": {
        "execution": {
          "iopub.status.busy": "2021-08-31T18:45:18.443308Z",
          "iopub.execute_input": "2021-08-31T18:45:18.443680Z",
          "iopub.status.idle": "2021-08-31T18:45:18.452072Z",
          "shell.execute_reply.started": "2021-08-31T18:45:18.443626Z",
          "shell.execute_reply": "2021-08-31T18:45:18.451156Z"
        },
        "trusted": true,
        "id": "DUwxi1RvncN8",
        "outputId": "5566b273-e223-4580-f5f3-68957d17b8ef"
      },
      "source": [
        "endereco = 'https://ocean-web-scraping.herokuapp.com/'\n",
        "\n",
        "for resultado in soup_busca.find('div', {'class': 'ad-card-list'}).find_all('div', {'class': 'ad-card'}):\n",
        "    print(endereco + resultado.img.get('src'))"
      ],
      "execution_count": null,
      "outputs": [
        {
          "name": "stdout",
          "text": "https://ocean-web-scraping.herokuapp.com/imagens/apto-01.jpg\nhttps://ocean-web-scraping.herokuapp.com/imagens/apto-02.jpg\nhttps://ocean-web-scraping.herokuapp.com/imagens/apto-03.jpg\nhttps://ocean-web-scraping.herokuapp.com/imagens/apto-04.jpg\nhttps://ocean-web-scraping.herokuapp.com/imagens/apto-05.jpg\n",
          "output_type": "stream"
        }
      ]
    },
    {
      "cell_type": "code",
      "metadata": {
        "execution": {
          "iopub.status.busy": "2021-08-31T18:46:14.283447Z",
          "iopub.execute_input": "2021-08-31T18:46:14.283876Z",
          "iopub.status.idle": "2021-08-31T18:46:14.290414Z",
          "shell.execute_reply.started": "2021-08-31T18:46:14.283837Z",
          "shell.execute_reply": "2021-08-31T18:46:14.289236Z"
        },
        "trusted": true,
        "id": "HeuWCnuxncN8"
      },
      "source": [
        "from urllib.request import urlretrieve"
      ],
      "execution_count": null,
      "outputs": []
    },
    {
      "cell_type": "code",
      "metadata": {
        "execution": {
          "iopub.status.busy": "2021-08-31T18:47:49.372518Z",
          "iopub.execute_input": "2021-08-31T18:47:49.372887Z",
          "iopub.status.idle": "2021-08-31T18:47:52.756024Z",
          "shell.execute_reply.started": "2021-08-31T18:47:49.372853Z",
          "shell.execute_reply": "2021-08-31T18:47:52.754973Z"
        },
        "trusted": true,
        "id": "bzCZJ9LHncN_"
      },
      "source": [
        "for resultado in soup_busca.find('div', {'class': 'ad-card-list'}).find_all('div', {'class': 'ad-card'}):\n",
        "    endereco_imagem = endereco + resultado.img.get('src')\n",
        "    nome_imagem = resultado.img.get('src').replace('imagens/','')\n",
        "    \n",
        "    urlretrieve(endereco_imagem, '/kaggle/working/imagens/' + nome_imagem)"
      ],
      "execution_count": null,
      "outputs": []
    },
    {
      "cell_type": "markdown",
      "metadata": {
        "id": "mtazSDpencN_"
      },
      "source": [
        "#### 3.3.3) Compactando todas as imagens para baixar posteriormente"
      ]
    },
    {
      "cell_type": "code",
      "metadata": {
        "execution": {
          "iopub.status.busy": "2021-08-31T18:47:52.757459Z",
          "iopub.execute_input": "2021-08-31T18:47:52.757734Z",
          "iopub.status.idle": "2021-08-31T18:47:52.761672Z",
          "shell.execute_reply.started": "2021-08-31T18:47:52.757707Z",
          "shell.execute_reply": "2021-08-31T18:47:52.760899Z"
        },
        "trusted": true,
        "id": "wb6nY-2RncN_"
      },
      "source": [
        "from zipfile import ZipFile"
      ],
      "execution_count": null,
      "outputs": []
    },
    {
      "cell_type": "code",
      "metadata": {
        "execution": {
          "iopub.status.busy": "2021-08-31T18:47:54.079878Z",
          "iopub.execute_input": "2021-08-31T18:47:54.080347Z",
          "iopub.status.idle": "2021-08-31T18:47:54.089931Z",
          "shell.execute_reply.started": "2021-08-31T18:47:54.080307Z",
          "shell.execute_reply": "2021-08-31T18:47:54.089033Z"
        },
        "trusted": true,
        "id": "5M2umc2_ncOA"
      },
      "source": [
        "with ZipFile('imagens.zip', 'w') as zf:\n",
        "    for pasta_principal, sub_pastas, arquivos in os.walk('/kaggle/working/imagens/'):\n",
        "        for arquivo in arquivos:\n",
        "            pasta = os.path.join(pasta_principal, arquivo)\n",
        "            zf.write(pasta)"
      ],
      "execution_count": null,
      "outputs": []
    },
    {
      "cell_type": "markdown",
      "metadata": {
        "id": "tRj2GInWncOA"
      },
      "source": [
        "### 3.4) E se eu quiser coletar todos os resultados da busca por imóveis?"
      ]
    },
    {
      "cell_type": "markdown",
      "metadata": {
        "id": "6Lx3F91IncOA"
      },
      "source": [
        "#### 3.4.1) Dados gerais"
      ]
    },
    {
      "cell_type": "code",
      "metadata": {
        "execution": {
          "iopub.status.busy": "2021-08-31T18:49:34.121764Z",
          "iopub.execute_input": "2021-08-31T18:49:34.122201Z",
          "iopub.status.idle": "2021-08-31T18:49:34.128526Z",
          "shell.execute_reply.started": "2021-08-31T18:49:34.122163Z",
          "shell.execute_reply": "2021-08-31T18:49:34.127207Z"
        },
        "trusted": true,
        "id": "7W_WH65cncOA"
      },
      "source": [
        "resutados_lista = []"
      ],
      "execution_count": null,
      "outputs": []
    },
    {
      "cell_type": "code",
      "metadata": {
        "execution": {
          "iopub.status.busy": "2021-08-31T18:49:36.153758Z",
          "iopub.execute_input": "2021-08-31T18:49:36.154140Z",
          "iopub.status.idle": "2021-08-31T18:49:38.517771Z",
          "shell.execute_reply.started": "2021-08-31T18:49:36.154110Z",
          "shell.execute_reply": "2021-08-31T18:49:38.516913Z"
        },
        "trusted": true,
        "id": "Fwv9JMmrncOA",
        "outputId": "38724247-1433-4d6e-b058-948d6c2aef61"
      },
      "source": [
        "for i in range(1,6):\n",
        "    url_busca_todos = 'https://ocean-web-scraping.herokuapp.com/results&page=' + str(i) + '.html'\n",
        "    print(url_busca_todos)\n",
        "    response_busca_todos = urlopen(url_busca_todos)\n",
        "    html_busca_todos = response_busca_todos.read()\n",
        "    soup_busca_todos = BeautifulSoup(html_busca_todos, 'html.parser')\n",
        "    \n",
        "    for resultado in soup_busca_todos.find('div', {'class': 'ad-card-list'}).find_all('div', {'class': 'ad-card'}):\n",
        "        caracteristicas = resultado.find('ul', {'class': 'features'})\n",
        "        recursos = resultado.find('ul', {'class': 'resources'})\n",
        "        precos_corretora = resultado.find('div', {'class': 'ad-card-price'})\n",
        "        localizacao = resultado.find('div', {'class': 'ad-card-info'}).find('p')\n",
        "\n",
        "        resutado_dict = {}\n",
        "\n",
        "        resutado_dict['área'] = int(caracteristicas.find_all('li')[0].get_text().replace(' ','').replace('m²',''))\n",
        "        resutado_dict['quartos'] = int(caracteristicas.find_all('li')[1].get_text().replace(' ','').replace('quarto(s)',''))\n",
        "        resutado_dict['banheiros'] = int(caracteristicas.find_all('li')[2].get_text().replace(' ','').replace('banheiro(s)',''))\n",
        "        resutado_dict['vagas garagem'] = int(caracteristicas.find_all('li')[3].get_text().replace(' ','').replace('vaga(s)',''))\n",
        "\n",
        "        for recur in recursos.find_all('li'):\n",
        "            resutado_dict[recur.get_text().lower()] = 'sim'\n",
        "\n",
        "        resutado_dict['aluguel'] = float(precos_corretora.find_all('p')[0].get_text().replace('Aluguel: R$ ','').replace('.','').replace(',','.'))\n",
        "        resutado_dict['condomínio'] = float(precos_corretora.find_all('p')[1].get_text().replace('Condomínio: ','').replace('.','').replace(',','.'))\n",
        "        resutado_dict['iptu'] = float(precos_corretora.find_all('p')[2].get_text().replace('IPTU: R$ ','').replace('.','').replace(',','.'))\n",
        "        resutado_dict['corretora'] = precos_corretora.find_all('p')[3].get_text().replace('Corretora: ','')\n",
        "\n",
        "        resutado_dict['localizacao'] = localizacao.get_text().replace('Localização: ','')\n",
        "\n",
        "        resutados_lista.append(resutado_dict)"
      ],
      "execution_count": null,
      "outputs": [
        {
          "name": "stdout",
          "text": "https://ocean-web-scraping.herokuapp.com/results&page=1.html\nhttps://ocean-web-scraping.herokuapp.com/results&page=2.html\nhttps://ocean-web-scraping.herokuapp.com/results&page=3.html\nhttps://ocean-web-scraping.herokuapp.com/results&page=4.html\nhttps://ocean-web-scraping.herokuapp.com/results&page=5.html\n",
          "output_type": "stream"
        }
      ]
    },
    {
      "cell_type": "code",
      "metadata": {
        "execution": {
          "iopub.status.busy": "2021-08-31T18:55:12.863312Z",
          "iopub.execute_input": "2021-08-31T18:55:12.863737Z",
          "iopub.status.idle": "2021-08-31T18:55:12.913638Z",
          "shell.execute_reply.started": "2021-08-31T18:55:12.863699Z",
          "shell.execute_reply": "2021-08-31T18:55:12.912731Z"
        },
        "trusted": true,
        "id": "lBCoEb-uncOA",
        "outputId": "239a9f4d-1437-47ce-dbe1-21941ed0ed8c"
      },
      "source": [
        "resultados_df = pd.DataFrame(resutados_lista)\n",
        "resultados_df = resultados_df.fillna(value='não')\n",
        "resultados_df"
      ],
      "execution_count": null,
      "outputs": [
        {
          "execution_count": 76,
          "output_type": "execute_result",
          "data": {
            "text/plain": "    área  quartos  banheiros  vagas garagem mobiliado portaria 24h elevador  \\\n0    100        3          2              2       sim          sim      sim   \n1     60        2          2              1       sim          sim      não   \n2     50        1          1              1       sim          não      não   \n3     60        2          2              1       sim          sim      não   \n4    120        4          3              2       sim          sim      sim   \n5     40        1          1              0       não          sim      não   \n6     60        2          2              0       não          sim      não   \n7     60        2          1              1       sim          sim      não   \n8     60        2          2              1       sim          sim      não   \n9    100        3          3              1       sim          sim      não   \n10   100        2          2              1       sim          sim      sim   \n11    50        2          1              0       sim          sim      não   \n12    80        2          2              1       sim          sim      sim   \n13    70        2          2              1       sim          sim      não   \n14    60        2          1              1       sim          sim      não   \n15   100        3          3              2       sim          sim      sim   \n16    80        2          2              2       sim          sim      não   \n17    50        1          1              1       sim          não      não   \n18    70        2          2              1       sim          sim      não   \n19    70        2          2              1       sim          sim      não   \n20    40        1          1              0       não          não      sim   \n\n   piscina churrasqueira salão de festas academia playground  \\\n0      sim           sim             sim      sim        sim   \n1      não           não             sim      não        não   \n2      não           não             não      não        não   \n3      não           não             não      não        não   \n4      sim           sim             sim      sim        sim   \n5      não           não             não      não        não   \n6      não           não             sim      não        não   \n7      sim           não             sim      não        não   \n8      não           não             não      não        não   \n9      sim           não             sim      sim        não   \n10     sim           não             sim      sim        não   \n11     não           não             não      não        não   \n12     sim           não             não      não        não   \n13     não           não             não      não        não   \n14     não           não             não      não        não   \n15     sim           sim             sim      sim        sim   \n16     não           não             sim      não        não   \n17     não           não             não      não        não   \n18     não           não             sim      não        não   \n19     não           não             sim      não        não   \n20     não           não             não      não        não   \n\n   quadra poliesportiva salão de jogos aceita animais  aluguel  condomínio  \\\n0                   sim            sim            sim   4000.0       500.0   \n1                   sim            não            não   2000.0       200.0   \n2                   não            não            não   1300.0       200.0   \n3                   não            não            não   1800.0       100.0   \n4                   sim            sim            sim   3800.0       500.0   \n5                   não            não            não    950.0        50.0   \n6                   sim            não            não   1100.0       100.0   \n7                   sim            não            não   1850.0       100.0   \n8                   não            não            não   1800.0       150.0   \n9                   sim            não            sim   3000.0       250.0   \n10                  não            não            sim   2800.0       220.0   \n11                  não            não            não   1300.0       100.0   \n12                  não            não            sim   1750.0       150.0   \n13                  não            não            não   1650.0       120.0   \n14                  não            não            sim   1250.0       100.0   \n15                  sim            sim            sim   3350.0       100.0   \n16                  sim            não            sim   2150.0       180.0   \n17                  não            não            não   1080.0       100.0   \n18                  sim            não            sim   2180.0       120.0   \n19                  não            não            sim   1900.0       100.0   \n20                  não            não            não    990.0        50.0   \n\n     iptu    corretora       localizacao  \n0   100.0      Tubarão   Oceano Pacífico  \n1    50.0  Carangueijo     Oceano Índico  \n2    50.0  Baleia Azul       Mar de Java  \n3    20.0  Baleia Azul     Oceano Índico  \n4   200.0      Tubarão   Oceano Pacífico  \n5    10.0       Enguia  Mar Mediterrâneo  \n6    50.0       Enguia       Mar de Java  \n7    50.0  Carangueijo     Oceano Índico  \n8    50.0  Carangueijo     Oceano Índico  \n9    50.0      Tubarão   Oceano Pacífico  \n10   80.0      Tubarão  Oceano Atlântico  \n11   80.0       Enguia       Mar de Java  \n12   50.0  Baleia Azul       Mar de Java  \n13   20.0  Carangueijo  Oceano Atlântico  \n14   80.0       Enguia  Mar Mediterrâneo  \n15   50.0      Tubarão   Oceano Pacífico  \n16   20.0  Baleia Azul     Oceano Índico  \n17   20.0       Enguia  Mar Mediterrâneo  \n18   40.0  Carangueijo   Oceano Pacífico  \n19   20.0  Baleia Azul       Mar de Java  \n20   10.0       Enguia  Mar Mediterrâneo  ",
            "text/html": "<div>\n<style scoped>\n    .dataframe tbody tr th:only-of-type {\n        vertical-align: middle;\n    }\n\n    .dataframe tbody tr th {\n        vertical-align: top;\n    }\n\n    .dataframe thead th {\n        text-align: right;\n    }\n</style>\n<table border=\"1\" class=\"dataframe\">\n  <thead>\n    <tr style=\"text-align: right;\">\n      <th></th>\n      <th>área</th>\n      <th>quartos</th>\n      <th>banheiros</th>\n      <th>vagas garagem</th>\n      <th>mobiliado</th>\n      <th>portaria 24h</th>\n      <th>elevador</th>\n      <th>piscina</th>\n      <th>churrasqueira</th>\n      <th>salão de festas</th>\n      <th>academia</th>\n      <th>playground</th>\n      <th>quadra poliesportiva</th>\n      <th>salão de jogos</th>\n      <th>aceita animais</th>\n      <th>aluguel</th>\n      <th>condomínio</th>\n      <th>iptu</th>\n      <th>corretora</th>\n      <th>localizacao</th>\n    </tr>\n  </thead>\n  <tbody>\n    <tr>\n      <th>0</th>\n      <td>100</td>\n      <td>3</td>\n      <td>2</td>\n      <td>2</td>\n      <td>sim</td>\n      <td>sim</td>\n      <td>sim</td>\n      <td>sim</td>\n      <td>sim</td>\n      <td>sim</td>\n      <td>sim</td>\n      <td>sim</td>\n      <td>sim</td>\n      <td>sim</td>\n      <td>sim</td>\n      <td>4000.0</td>\n      <td>500.0</td>\n      <td>100.0</td>\n      <td>Tubarão</td>\n      <td>Oceano Pacífico</td>\n    </tr>\n    <tr>\n      <th>1</th>\n      <td>60</td>\n      <td>2</td>\n      <td>2</td>\n      <td>1</td>\n      <td>sim</td>\n      <td>sim</td>\n      <td>não</td>\n      <td>não</td>\n      <td>não</td>\n      <td>sim</td>\n      <td>não</td>\n      <td>não</td>\n      <td>sim</td>\n      <td>não</td>\n      <td>não</td>\n      <td>2000.0</td>\n      <td>200.0</td>\n      <td>50.0</td>\n      <td>Carangueijo</td>\n      <td>Oceano Índico</td>\n    </tr>\n    <tr>\n      <th>2</th>\n      <td>50</td>\n      <td>1</td>\n      <td>1</td>\n      <td>1</td>\n      <td>sim</td>\n      <td>não</td>\n      <td>não</td>\n      <td>não</td>\n      <td>não</td>\n      <td>não</td>\n      <td>não</td>\n      <td>não</td>\n      <td>não</td>\n      <td>não</td>\n      <td>não</td>\n      <td>1300.0</td>\n      <td>200.0</td>\n      <td>50.0</td>\n      <td>Baleia Azul</td>\n      <td>Mar de Java</td>\n    </tr>\n    <tr>\n      <th>3</th>\n      <td>60</td>\n      <td>2</td>\n      <td>2</td>\n      <td>1</td>\n      <td>sim</td>\n      <td>sim</td>\n      <td>não</td>\n      <td>não</td>\n      <td>não</td>\n      <td>não</td>\n      <td>não</td>\n      <td>não</td>\n      <td>não</td>\n      <td>não</td>\n      <td>não</td>\n      <td>1800.0</td>\n      <td>100.0</td>\n      <td>20.0</td>\n      <td>Baleia Azul</td>\n      <td>Oceano Índico</td>\n    </tr>\n    <tr>\n      <th>4</th>\n      <td>120</td>\n      <td>4</td>\n      <td>3</td>\n      <td>2</td>\n      <td>sim</td>\n      <td>sim</td>\n      <td>sim</td>\n      <td>sim</td>\n      <td>sim</td>\n      <td>sim</td>\n      <td>sim</td>\n      <td>sim</td>\n      <td>sim</td>\n      <td>sim</td>\n      <td>sim</td>\n      <td>3800.0</td>\n      <td>500.0</td>\n      <td>200.0</td>\n      <td>Tubarão</td>\n      <td>Oceano Pacífico</td>\n    </tr>\n    <tr>\n      <th>5</th>\n      <td>40</td>\n      <td>1</td>\n      <td>1</td>\n      <td>0</td>\n      <td>não</td>\n      <td>sim</td>\n      <td>não</td>\n      <td>não</td>\n      <td>não</td>\n      <td>não</td>\n      <td>não</td>\n      <td>não</td>\n      <td>não</td>\n      <td>não</td>\n      <td>não</td>\n      <td>950.0</td>\n      <td>50.0</td>\n      <td>10.0</td>\n      <td>Enguia</td>\n      <td>Mar Mediterrâneo</td>\n    </tr>\n    <tr>\n      <th>6</th>\n      <td>60</td>\n      <td>2</td>\n      <td>2</td>\n      <td>0</td>\n      <td>não</td>\n      <td>sim</td>\n      <td>não</td>\n      <td>não</td>\n      <td>não</td>\n      <td>sim</td>\n      <td>não</td>\n      <td>não</td>\n      <td>sim</td>\n      <td>não</td>\n      <td>não</td>\n      <td>1100.0</td>\n      <td>100.0</td>\n      <td>50.0</td>\n      <td>Enguia</td>\n      <td>Mar de Java</td>\n    </tr>\n    <tr>\n      <th>7</th>\n      <td>60</td>\n      <td>2</td>\n      <td>1</td>\n      <td>1</td>\n      <td>sim</td>\n      <td>sim</td>\n      <td>não</td>\n      <td>sim</td>\n      <td>não</td>\n      <td>sim</td>\n      <td>não</td>\n      <td>não</td>\n      <td>sim</td>\n      <td>não</td>\n      <td>não</td>\n      <td>1850.0</td>\n      <td>100.0</td>\n      <td>50.0</td>\n      <td>Carangueijo</td>\n      <td>Oceano Índico</td>\n    </tr>\n    <tr>\n      <th>8</th>\n      <td>60</td>\n      <td>2</td>\n      <td>2</td>\n      <td>1</td>\n      <td>sim</td>\n      <td>sim</td>\n      <td>não</td>\n      <td>não</td>\n      <td>não</td>\n      <td>não</td>\n      <td>não</td>\n      <td>não</td>\n      <td>não</td>\n      <td>não</td>\n      <td>não</td>\n      <td>1800.0</td>\n      <td>150.0</td>\n      <td>50.0</td>\n      <td>Carangueijo</td>\n      <td>Oceano Índico</td>\n    </tr>\n    <tr>\n      <th>9</th>\n      <td>100</td>\n      <td>3</td>\n      <td>3</td>\n      <td>1</td>\n      <td>sim</td>\n      <td>sim</td>\n      <td>não</td>\n      <td>sim</td>\n      <td>não</td>\n      <td>sim</td>\n      <td>sim</td>\n      <td>não</td>\n      <td>sim</td>\n      <td>não</td>\n      <td>sim</td>\n      <td>3000.0</td>\n      <td>250.0</td>\n      <td>50.0</td>\n      <td>Tubarão</td>\n      <td>Oceano Pacífico</td>\n    </tr>\n    <tr>\n      <th>10</th>\n      <td>100</td>\n      <td>2</td>\n      <td>2</td>\n      <td>1</td>\n      <td>sim</td>\n      <td>sim</td>\n      <td>sim</td>\n      <td>sim</td>\n      <td>não</td>\n      <td>sim</td>\n      <td>sim</td>\n      <td>não</td>\n      <td>não</td>\n      <td>não</td>\n      <td>sim</td>\n      <td>2800.0</td>\n      <td>220.0</td>\n      <td>80.0</td>\n      <td>Tubarão</td>\n      <td>Oceano Atlântico</td>\n    </tr>\n    <tr>\n      <th>11</th>\n      <td>50</td>\n      <td>2</td>\n      <td>1</td>\n      <td>0</td>\n      <td>sim</td>\n      <td>sim</td>\n      <td>não</td>\n      <td>não</td>\n      <td>não</td>\n      <td>não</td>\n      <td>não</td>\n      <td>não</td>\n      <td>não</td>\n      <td>não</td>\n      <td>não</td>\n      <td>1300.0</td>\n      <td>100.0</td>\n      <td>80.0</td>\n      <td>Enguia</td>\n      <td>Mar de Java</td>\n    </tr>\n    <tr>\n      <th>12</th>\n      <td>80</td>\n      <td>2</td>\n      <td>2</td>\n      <td>1</td>\n      <td>sim</td>\n      <td>sim</td>\n      <td>sim</td>\n      <td>sim</td>\n      <td>não</td>\n      <td>não</td>\n      <td>não</td>\n      <td>não</td>\n      <td>não</td>\n      <td>não</td>\n      <td>sim</td>\n      <td>1750.0</td>\n      <td>150.0</td>\n      <td>50.0</td>\n      <td>Baleia Azul</td>\n      <td>Mar de Java</td>\n    </tr>\n    <tr>\n      <th>13</th>\n      <td>70</td>\n      <td>2</td>\n      <td>2</td>\n      <td>1</td>\n      <td>sim</td>\n      <td>sim</td>\n      <td>não</td>\n      <td>não</td>\n      <td>não</td>\n      <td>não</td>\n      <td>não</td>\n      <td>não</td>\n      <td>não</td>\n      <td>não</td>\n      <td>não</td>\n      <td>1650.0</td>\n      <td>120.0</td>\n      <td>20.0</td>\n      <td>Carangueijo</td>\n      <td>Oceano Atlântico</td>\n    </tr>\n    <tr>\n      <th>14</th>\n      <td>60</td>\n      <td>2</td>\n      <td>1</td>\n      <td>1</td>\n      <td>sim</td>\n      <td>sim</td>\n      <td>não</td>\n      <td>não</td>\n      <td>não</td>\n      <td>não</td>\n      <td>não</td>\n      <td>não</td>\n      <td>não</td>\n      <td>não</td>\n      <td>sim</td>\n      <td>1250.0</td>\n      <td>100.0</td>\n      <td>80.0</td>\n      <td>Enguia</td>\n      <td>Mar Mediterrâneo</td>\n    </tr>\n    <tr>\n      <th>15</th>\n      <td>100</td>\n      <td>3</td>\n      <td>3</td>\n      <td>2</td>\n      <td>sim</td>\n      <td>sim</td>\n      <td>sim</td>\n      <td>sim</td>\n      <td>sim</td>\n      <td>sim</td>\n      <td>sim</td>\n      <td>sim</td>\n      <td>sim</td>\n      <td>sim</td>\n      <td>sim</td>\n      <td>3350.0</td>\n      <td>100.0</td>\n      <td>50.0</td>\n      <td>Tubarão</td>\n      <td>Oceano Pacífico</td>\n    </tr>\n    <tr>\n      <th>16</th>\n      <td>80</td>\n      <td>2</td>\n      <td>2</td>\n      <td>2</td>\n      <td>sim</td>\n      <td>sim</td>\n      <td>não</td>\n      <td>não</td>\n      <td>não</td>\n      <td>sim</td>\n      <td>não</td>\n      <td>não</td>\n      <td>sim</td>\n      <td>não</td>\n      <td>sim</td>\n      <td>2150.0</td>\n      <td>180.0</td>\n      <td>20.0</td>\n      <td>Baleia Azul</td>\n      <td>Oceano Índico</td>\n    </tr>\n    <tr>\n      <th>17</th>\n      <td>50</td>\n      <td>1</td>\n      <td>1</td>\n      <td>1</td>\n      <td>sim</td>\n      <td>não</td>\n      <td>não</td>\n      <td>não</td>\n      <td>não</td>\n      <td>não</td>\n      <td>não</td>\n      <td>não</td>\n      <td>não</td>\n      <td>não</td>\n      <td>não</td>\n      <td>1080.0</td>\n      <td>100.0</td>\n      <td>20.0</td>\n      <td>Enguia</td>\n      <td>Mar Mediterrâneo</td>\n    </tr>\n    <tr>\n      <th>18</th>\n      <td>70</td>\n      <td>2</td>\n      <td>2</td>\n      <td>1</td>\n      <td>sim</td>\n      <td>sim</td>\n      <td>não</td>\n      <td>não</td>\n      <td>não</td>\n      <td>sim</td>\n      <td>não</td>\n      <td>não</td>\n      <td>sim</td>\n      <td>não</td>\n      <td>sim</td>\n      <td>2180.0</td>\n      <td>120.0</td>\n      <td>40.0</td>\n      <td>Carangueijo</td>\n      <td>Oceano Pacífico</td>\n    </tr>\n    <tr>\n      <th>19</th>\n      <td>70</td>\n      <td>2</td>\n      <td>2</td>\n      <td>1</td>\n      <td>sim</td>\n      <td>sim</td>\n      <td>não</td>\n      <td>não</td>\n      <td>não</td>\n      <td>sim</td>\n      <td>não</td>\n      <td>não</td>\n      <td>não</td>\n      <td>não</td>\n      <td>sim</td>\n      <td>1900.0</td>\n      <td>100.0</td>\n      <td>20.0</td>\n      <td>Baleia Azul</td>\n      <td>Mar de Java</td>\n    </tr>\n    <tr>\n      <th>20</th>\n      <td>40</td>\n      <td>1</td>\n      <td>1</td>\n      <td>0</td>\n      <td>não</td>\n      <td>não</td>\n      <td>sim</td>\n      <td>não</td>\n      <td>não</td>\n      <td>não</td>\n      <td>não</td>\n      <td>não</td>\n      <td>não</td>\n      <td>não</td>\n      <td>não</td>\n      <td>990.0</td>\n      <td>50.0</td>\n      <td>10.0</td>\n      <td>Enguia</td>\n      <td>Mar Mediterrâneo</td>\n    </tr>\n  </tbody>\n</table>\n</div>"
          },
          "metadata": {}
        }
      ]
    },
    {
      "cell_type": "markdown",
      "metadata": {
        "id": "mbphQ41AncOA"
      },
      "source": [
        "#### Salvando toda a base de dados"
      ]
    },
    {
      "cell_type": "code",
      "metadata": {
        "execution": {
          "iopub.status.busy": "2021-08-31T18:57:03.157329Z",
          "iopub.execute_input": "2021-08-31T18:57:03.157707Z",
          "iopub.status.idle": "2021-08-31T18:57:03.165004Z",
          "shell.execute_reply.started": "2021-08-31T18:57:03.157669Z",
          "shell.execute_reply": "2021-08-31T18:57:03.163846Z"
        },
        "trusted": true,
        "id": "YuU45J89ncOB"
      },
      "source": [
        "resultados_df.to_csv('./resultados.csv', sep = ';', index = False, encoding = 'utf-8')"
      ],
      "execution_count": null,
      "outputs": []
    },
    {
      "cell_type": "markdown",
      "metadata": {
        "id": "QVS38AdlncOB"
      },
      "source": [
        "#### 3.4.2) Imagens"
      ]
    },
    {
      "cell_type": "code",
      "metadata": {
        "execution": {
          "iopub.status.busy": "2021-08-31T18:57:04.977215Z",
          "iopub.execute_input": "2021-08-31T18:57:04.977711Z",
          "iopub.status.idle": "2021-08-31T18:57:30.068527Z",
          "shell.execute_reply.started": "2021-08-31T18:57:04.977666Z",
          "shell.execute_reply": "2021-08-31T18:57:30.067635Z"
        },
        "trusted": true,
        "id": "0nqNGVrdncOB",
        "outputId": "78c715fb-a654-4a03-9c20-8fab6b603239"
      },
      "source": [
        "for i in range(1,6):\n",
        "    url_busca_todos = 'https://ocean-web-scraping.herokuapp.com/results&page=' + str(i) + '.html'\n",
        "    print(url_busca_todos)\n",
        "    response_busca_todos = urlopen(url_busca_todos)\n",
        "    html_busca_todos = response_busca_todos.read()\n",
        "    soup_busca_todos = BeautifulSoup(html_busca_todos, 'html.parser')\n",
        "    \n",
        "    endereco = 'https://ocean-web-scraping.herokuapp.com/'\n",
        "    \n",
        "    for resultado in soup_busca_todos.find('div', {'class': 'ad-card-list'}).find_all('div', {'class': 'ad-card'}):\n",
        "        endereco_imagem = endereco + resultado.img.get('src')\n",
        "        nome_imagem = resultado.img.get('src').replace('imagens/','')\n",
        "    \n",
        "        urlretrieve(endereco_imagem, '/kaggle/working/imagens/' + nome_imagem)"
      ],
      "execution_count": null,
      "outputs": [
        {
          "name": "stdout",
          "text": "https://ocean-web-scraping.herokuapp.com/results&page=1.html\nhttps://ocean-web-scraping.herokuapp.com/results&page=2.html\nhttps://ocean-web-scraping.herokuapp.com/results&page=3.html\nhttps://ocean-web-scraping.herokuapp.com/results&page=4.html\nhttps://ocean-web-scraping.herokuapp.com/results&page=5.html\n",
          "output_type": "stream"
        }
      ]
    },
    {
      "cell_type": "code",
      "metadata": {
        "execution": {
          "iopub.status.busy": "2021-08-31T18:57:30.070037Z",
          "iopub.execute_input": "2021-08-31T18:57:30.070308Z",
          "iopub.status.idle": "2021-08-31T18:57:30.091960Z",
          "shell.execute_reply.started": "2021-08-31T18:57:30.070281Z",
          "shell.execute_reply": "2021-08-31T18:57:30.091069Z"
        },
        "trusted": true,
        "id": "mZhmVpJPncOB"
      },
      "source": [
        "with ZipFile('imagens.zip', 'w') as zf:\n",
        "    for pasta_principal, sub_pastas, arquivos in os.walk('/kaggle/working/imagens/'):\n",
        "        for arquivo in arquivos:\n",
        "            pasta = os.path.join(pasta_principal, arquivo)\n",
        "            zf.write(pasta)"
      ],
      "execution_count": null,
      "outputs": []
    },
    {
      "cell_type": "markdown",
      "metadata": {
        "id": "hkWNfmA-ncOB"
      },
      "source": [
        "## 4) Coletando a lista de contato das corretoras"
      ]
    },
    {
      "cell_type": "code",
      "metadata": {
        "execution": {
          "iopub.status.busy": "2021-08-31T19:03:33.060318Z",
          "iopub.execute_input": "2021-08-31T19:03:33.060685Z",
          "iopub.status.idle": "2021-08-31T19:03:33.066424Z",
          "shell.execute_reply.started": "2021-08-31T19:03:33.060652Z",
          "shell.execute_reply": "2021-08-31T19:03:33.064879Z"
        },
        "trusted": true,
        "id": "WB7dkb1BncOB"
      },
      "source": [
        "lista_corretoras = []\n",
        "lista_nomes = []\n",
        "lista_contatos = []\n",
        "contatos_corretoras_dict = {}"
      ],
      "execution_count": null,
      "outputs": []
    },
    {
      "cell_type": "markdown",
      "metadata": {
        "id": "PrkHhHJRncOB"
      },
      "source": [
        "### 4.1) Coletando dados da corretora 'Tubarão'"
      ]
    },
    {
      "cell_type": "code",
      "metadata": {
        "execution": {
          "iopub.status.busy": "2021-08-31T19:03:41.395751Z",
          "iopub.execute_input": "2021-08-31T19:03:41.396193Z",
          "iopub.status.idle": "2021-08-31T19:03:41.407216Z",
          "shell.execute_reply.started": "2021-08-31T19:03:41.396152Z",
          "shell.execute_reply": "2021-08-31T19:03:41.406107Z"
        },
        "trusted": true,
        "id": "XGylEcnNncOC",
        "outputId": "881d865b-5e0a-4f0a-a7fa-9b8007b300bc"
      },
      "source": [
        "soup_corretoras.find('tbody')"
      ],
      "execution_count": null,
      "outputs": [
        {
          "execution_count": 82,
          "output_type": "execute_result",
          "data": {
            "text/plain": "<tbody>\n<tr>\n<td>Tubarão</td>\n<td>João Marinho - Fone:(XX)XXXX-XXXX</td>\n</tr>\n<tr>\n<td>Carangueijo</td>\n<td>Ana Sirigueijo - Fone:(XX)XXXX-XXXX; Sebastião Costa - Fone:(XX)XXXX-XXXX</td>\n</tr>\n<tr>\n<td>Baleia Azul</td>\n<td>\n<ul>\n<li>Alina Ferreira - Fone:(XX)XXXX-XXXX</li>\n<li>Jorge Matheus - Fone:(XX)XXXX-XXXX</li>\n</ul>\n</td>\n</tr>\n<tr>\n<td>Enguia</td>\n<td><a href=\"pdfs/contatos-enguia.pdf\">Nossos contatos</a></td>\n</tr>\n</tbody>"
          },
          "metadata": {}
        }
      ]
    },
    {
      "cell_type": "code",
      "metadata": {
        "execution": {
          "iopub.status.busy": "2021-08-31T19:03:44.501277Z",
          "iopub.execute_input": "2021-08-31T19:03:44.501660Z",
          "iopub.status.idle": "2021-08-31T19:03:44.509899Z",
          "shell.execute_reply.started": "2021-08-31T19:03:44.501625Z",
          "shell.execute_reply": "2021-08-31T19:03:44.508939Z"
        },
        "trusted": true,
        "id": "V0BlnHKwncOC",
        "outputId": "4cffe9b0-4d13-4e40-e788-a6a522c4b035"
      },
      "source": [
        "soup_corretoras.find('tbody').find_all('tr')"
      ],
      "execution_count": null,
      "outputs": [
        {
          "execution_count": 83,
          "output_type": "execute_result",
          "data": {
            "text/plain": "[<tr>\n <td>Tubarão</td>\n <td>João Marinho - Fone:(XX)XXXX-XXXX</td>\n </tr>,\n <tr>\n <td>Carangueijo</td>\n <td>Ana Sirigueijo - Fone:(XX)XXXX-XXXX; Sebastião Costa - Fone:(XX)XXXX-XXXX</td>\n </tr>,\n <tr>\n <td>Baleia Azul</td>\n <td>\n <ul>\n <li>Alina Ferreira - Fone:(XX)XXXX-XXXX</li>\n <li>Jorge Matheus - Fone:(XX)XXXX-XXXX</li>\n </ul>\n </td>\n </tr>,\n <tr>\n <td>Enguia</td>\n <td><a href=\"pdfs/contatos-enguia.pdf\">Nossos contatos</a></td>\n </tr>]"
          },
          "metadata": {}
        }
      ]
    },
    {
      "cell_type": "code",
      "metadata": {
        "execution": {
          "iopub.status.busy": "2021-08-31T19:03:47.551103Z",
          "iopub.execute_input": "2021-08-31T19:03:47.551472Z",
          "iopub.status.idle": "2021-08-31T19:03:47.558961Z",
          "shell.execute_reply.started": "2021-08-31T19:03:47.551435Z",
          "shell.execute_reply": "2021-08-31T19:03:47.557913Z"
        },
        "trusted": true,
        "id": "D1iaYpB8ncOC",
        "outputId": "08840d2a-fb3c-45cf-d155-74280e7d72b1"
      },
      "source": [
        "soup_corretoras.find('tbody').find_all('tr')[0]"
      ],
      "execution_count": null,
      "outputs": [
        {
          "execution_count": 84,
          "output_type": "execute_result",
          "data": {
            "text/plain": "<tr>\n<td>Tubarão</td>\n<td>João Marinho - Fone:(XX)XXXX-XXXX</td>\n</tr>"
          },
          "metadata": {}
        }
      ]
    },
    {
      "cell_type": "code",
      "metadata": {
        "execution": {
          "iopub.status.busy": "2021-08-31T19:03:50.008515Z",
          "iopub.execute_input": "2021-08-31T19:03:50.008896Z",
          "iopub.status.idle": "2021-08-31T19:03:50.015963Z",
          "shell.execute_reply.started": "2021-08-31T19:03:50.008862Z",
          "shell.execute_reply": "2021-08-31T19:03:50.015084Z"
        },
        "trusted": true,
        "id": "vkVGRo86ncOC",
        "outputId": "3913abc6-cda4-450b-b712-79c383f46149"
      },
      "source": [
        "soup_corretoras.find('tbody').find_all('tr')[0].find_all('td')"
      ],
      "execution_count": null,
      "outputs": [
        {
          "execution_count": 85,
          "output_type": "execute_result",
          "data": {
            "text/plain": "[<td>Tubarão</td>, <td>João Marinho - Fone:(XX)XXXX-XXXX</td>]"
          },
          "metadata": {}
        }
      ]
    },
    {
      "cell_type": "code",
      "metadata": {
        "execution": {
          "iopub.status.busy": "2021-08-31T19:03:52.278562Z",
          "iopub.execute_input": "2021-08-31T19:03:52.278939Z",
          "iopub.status.idle": "2021-08-31T19:03:52.288819Z",
          "shell.execute_reply.started": "2021-08-31T19:03:52.278907Z",
          "shell.execute_reply": "2021-08-31T19:03:52.287291Z"
        },
        "trusted": true,
        "id": "BVc2_VLancOC",
        "outputId": "2b8458d1-0b8e-4e19-9ca4-14ab43e72629"
      },
      "source": [
        "print('Corretora: ', soup_corretoras.find('tbody').find_all('tr')[0].find_all('td')[0].get_text())\n",
        "print('Contatos: ', soup_corretoras.find('tbody').find_all('tr')[0].find_all('td')[1].get_text())"
      ],
      "execution_count": null,
      "outputs": [
        {
          "name": "stdout",
          "text": "Corretora:  Tubarão\nContatos:  João Marinho - Fone:(XX)XXXX-XXXX\n",
          "output_type": "stream"
        }
      ]
    },
    {
      "cell_type": "code",
      "metadata": {
        "execution": {
          "iopub.status.busy": "2021-08-31T19:03:54.207867Z",
          "iopub.execute_input": "2021-08-31T19:03:54.208209Z",
          "iopub.status.idle": "2021-08-31T19:03:54.215965Z",
          "shell.execute_reply.started": "2021-08-31T19:03:54.208178Z",
          "shell.execute_reply": "2021-08-31T19:03:54.215113Z"
        },
        "trusted": true,
        "id": "Up2nxlMencOD",
        "outputId": "c50d663e-8312-4cec-8256-03e6abafae57"
      },
      "source": [
        "soup_corretoras.find('tbody').find_all('tr')[0].find_all('td')[1].get_text().split(' - Fone:')"
      ],
      "execution_count": null,
      "outputs": [
        {
          "execution_count": 87,
          "output_type": "execute_result",
          "data": {
            "text/plain": "['João Marinho', '(XX)XXXX-XXXX']"
          },
          "metadata": {}
        }
      ]
    },
    {
      "cell_type": "code",
      "metadata": {
        "execution": {
          "iopub.status.busy": "2021-08-31T19:03:56.617467Z",
          "iopub.execute_input": "2021-08-31T19:03:56.617813Z",
          "iopub.status.idle": "2021-08-31T19:03:56.628166Z",
          "shell.execute_reply.started": "2021-08-31T19:03:56.617759Z",
          "shell.execute_reply": "2021-08-31T19:03:56.626979Z"
        },
        "trusted": true,
        "id": "NDUykVIjncOD",
        "outputId": "394f61ca-348f-47c5-c57a-f03df127fa34"
      },
      "source": [
        "print('Corretora: ', soup_corretoras.find('tbody').find_all('tr')[0].find_all('td')[0].get_text())\n",
        "\n",
        "contato = soup_corretoras.find('tbody').find_all('tr')[0].find_all('td')[1].get_text().split(' - Fone:')\n",
        "print('Nome: ', contato[0])\n",
        "print('Telefone: ', contato[1])"
      ],
      "execution_count": null,
      "outputs": [
        {
          "name": "stdout",
          "text": "Corretora:  Tubarão\nNome:  João Marinho\nTelefone:  (XX)XXXX-XXXX\n",
          "output_type": "stream"
        }
      ]
    },
    {
      "cell_type": "markdown",
      "metadata": {
        "id": "IG3M8leHncOD"
      },
      "source": [
        "#### Salvando os dados nas listas"
      ]
    },
    {
      "cell_type": "code",
      "metadata": {
        "execution": {
          "iopub.status.busy": "2021-08-31T19:03:58.675479Z",
          "iopub.execute_input": "2021-08-31T19:03:58.675824Z",
          "iopub.status.idle": "2021-08-31T19:03:58.682187Z",
          "shell.execute_reply.started": "2021-08-31T19:03:58.675774Z",
          "shell.execute_reply": "2021-08-31T19:03:58.680837Z"
        },
        "trusted": true,
        "id": "8rCkLzVdncOD"
      },
      "source": [
        "lista_corretoras.append(soup_corretoras.find('tbody').find_all('tr')[0].find_all('td')[0].get_text())\n",
        "lista_nomes.append(contato[0])\n",
        "lista_contatos.append(contato[1])"
      ],
      "execution_count": null,
      "outputs": []
    },
    {
      "cell_type": "code",
      "metadata": {
        "execution": {
          "iopub.status.busy": "2021-08-31T19:04:45.020555Z",
          "iopub.execute_input": "2021-08-31T19:04:45.020938Z",
          "iopub.status.idle": "2021-08-31T19:04:45.026925Z",
          "shell.execute_reply.started": "2021-08-31T19:04:45.020903Z",
          "shell.execute_reply": "2021-08-31T19:04:45.025910Z"
        },
        "trusted": true,
        "id": "2BXdQa7VncOE",
        "outputId": "addc7506-dc63-49e2-86bc-2fd9d04ad94c"
      },
      "source": [
        "lista_corretoras, lista_nomes, lista_contatos"
      ],
      "execution_count": null,
      "outputs": [
        {
          "execution_count": 90,
          "output_type": "execute_result",
          "data": {
            "text/plain": "(['Tubarão'], ['João Marinho'], ['(XX)XXXX-XXXX'])"
          },
          "metadata": {}
        }
      ]
    },
    {
      "cell_type": "markdown",
      "metadata": {
        "id": "ujc4AcyOncOE"
      },
      "source": [
        "### 4.2) Coletando dados da corretora 'Carangueijo'"
      ]
    },
    {
      "cell_type": "code",
      "metadata": {
        "execution": {
          "iopub.status.busy": "2021-08-31T19:04:46.771427Z",
          "iopub.execute_input": "2021-08-31T19:04:46.771782Z",
          "iopub.status.idle": "2021-08-31T19:04:46.779600Z",
          "shell.execute_reply.started": "2021-08-31T19:04:46.771750Z",
          "shell.execute_reply": "2021-08-31T19:04:46.778643Z"
        },
        "trusted": true,
        "id": "PyZxEjZJncOE",
        "outputId": "271ff38b-6196-4db6-cffd-9bb98b5c3c02"
      },
      "source": [
        "soup_corretoras.find('tbody').find_all('tr')[1]"
      ],
      "execution_count": null,
      "outputs": [
        {
          "execution_count": 91,
          "output_type": "execute_result",
          "data": {
            "text/plain": "<tr>\n<td>Carangueijo</td>\n<td>Ana Sirigueijo - Fone:(XX)XXXX-XXXX; Sebastião Costa - Fone:(XX)XXXX-XXXX</td>\n</tr>"
          },
          "metadata": {}
        }
      ]
    },
    {
      "cell_type": "code",
      "metadata": {
        "execution": {
          "iopub.status.busy": "2021-08-31T19:04:48.727177Z",
          "iopub.execute_input": "2021-08-31T19:04:48.727551Z",
          "iopub.status.idle": "2021-08-31T19:04:48.735565Z",
          "shell.execute_reply.started": "2021-08-31T19:04:48.727518Z",
          "shell.execute_reply": "2021-08-31T19:04:48.734833Z"
        },
        "trusted": true,
        "id": "ENEm_pGKncOE",
        "outputId": "60ab6a16-1347-422e-d6a9-63bc40d110db"
      },
      "source": [
        "soup_corretoras.find('tbody').find_all('tr')[1].find_all('td')"
      ],
      "execution_count": null,
      "outputs": [
        {
          "execution_count": 92,
          "output_type": "execute_result",
          "data": {
            "text/plain": "[<td>Carangueijo</td>,\n <td>Ana Sirigueijo - Fone:(XX)XXXX-XXXX; Sebastião Costa - Fone:(XX)XXXX-XXXX</td>]"
          },
          "metadata": {}
        }
      ]
    },
    {
      "cell_type": "markdown",
      "metadata": {
        "id": "aPyNCdh_ncOE"
      },
      "source": [
        "#### Problema de aplicar a mesma solução da corretora 'Tubarão'"
      ]
    },
    {
      "cell_type": "code",
      "metadata": {
        "execution": {
          "iopub.status.busy": "2021-08-31T19:04:50.900753Z",
          "iopub.execute_input": "2021-08-31T19:04:50.901114Z",
          "iopub.status.idle": "2021-08-31T19:04:50.910722Z",
          "shell.execute_reply.started": "2021-08-31T19:04:50.901080Z",
          "shell.execute_reply": "2021-08-31T19:04:50.909440Z"
        },
        "trusted": true,
        "id": "bWDOJiWsncOE",
        "outputId": "ce6cb8ce-5daf-494a-a0a2-5be808a646c5"
      },
      "source": [
        "soup_corretoras.find('tbody').find_all('tr')[1].find_all('td')[1].get_text().split(' - Fone:')"
      ],
      "execution_count": null,
      "outputs": [
        {
          "execution_count": 93,
          "output_type": "execute_result",
          "data": {
            "text/plain": "['Ana Sirigueijo', '(XX)XXXX-XXXX; Sebastião Costa', '(XX)XXXX-XXXX']"
          },
          "metadata": {}
        }
      ]
    },
    {
      "cell_type": "markdown",
      "metadata": {
        "id": "K-YiVhEFncOF"
      },
      "source": [
        "#### Resolvendo o problema"
      ]
    },
    {
      "cell_type": "code",
      "metadata": {
        "execution": {
          "iopub.status.busy": "2021-08-31T19:04:54.633594Z",
          "iopub.execute_input": "2021-08-31T19:04:54.633956Z",
          "iopub.status.idle": "2021-08-31T19:04:54.642554Z",
          "shell.execute_reply.started": "2021-08-31T19:04:54.633924Z",
          "shell.execute_reply": "2021-08-31T19:04:54.641442Z"
        },
        "trusted": true,
        "id": "ueNAqI6mncOF",
        "outputId": "887dcb75-9366-4254-bbf6-7c2ed46a4387"
      },
      "source": [
        "soup_corretoras.find('tbody').find_all('tr')[1].find_all('td')[1].get_text().split('; ')"
      ],
      "execution_count": null,
      "outputs": [
        {
          "execution_count": 94,
          "output_type": "execute_result",
          "data": {
            "text/plain": "['Ana Sirigueijo - Fone:(XX)XXXX-XXXX', 'Sebastião Costa - Fone:(XX)XXXX-XXXX']"
          },
          "metadata": {}
        }
      ]
    },
    {
      "cell_type": "code",
      "metadata": {
        "execution": {
          "iopub.status.busy": "2021-08-31T19:04:56.304430Z",
          "iopub.execute_input": "2021-08-31T19:04:56.304769Z",
          "iopub.status.idle": "2021-08-31T19:04:56.312352Z",
          "shell.execute_reply.started": "2021-08-31T19:04:56.304739Z",
          "shell.execute_reply": "2021-08-31T19:04:56.311054Z"
        },
        "trusted": true,
        "id": "0eH4Q_yvncOF",
        "outputId": "1b0259df-f6cf-416e-a05c-1cfd26a9d358"
      },
      "source": [
        "for item in soup_corretoras.find('tbody').find_all('tr')[1].find_all('td')[1].get_text().split('; '):\n",
        "    print(item.split(' - Fone:'))"
      ],
      "execution_count": null,
      "outputs": [
        {
          "name": "stdout",
          "text": "['Ana Sirigueijo', '(XX)XXXX-XXXX']\n['Sebastião Costa', '(XX)XXXX-XXXX']\n",
          "output_type": "stream"
        }
      ]
    },
    {
      "cell_type": "code",
      "metadata": {
        "execution": {
          "iopub.status.busy": "2021-08-31T19:04:58.402136Z",
          "iopub.execute_input": "2021-08-31T19:04:58.402698Z",
          "iopub.status.idle": "2021-08-31T19:04:58.414259Z",
          "shell.execute_reply.started": "2021-08-31T19:04:58.402647Z",
          "shell.execute_reply": "2021-08-31T19:04:58.413169Z"
        },
        "trusted": true,
        "id": "z80OziUNncOG",
        "outputId": "29e63992-5578-4b2c-8021-ed8cd33fddc7"
      },
      "source": [
        "print('Corretora: ', soup_corretoras.find('tbody').find_all('tr')[1].find_all('td')[0].get_text())\n",
        "\n",
        "contatos = soup_corretoras.find('tbody').find_all('tr')[1].find_all('td')[1].get_text().split('; ')\n",
        "\n",
        "for contato in contatos:\n",
        "    contato = contato.split(' - Fone:')\n",
        "    print('Nome: ', contato[0])\n",
        "    print('Telefone: ', contato[1])"
      ],
      "execution_count": null,
      "outputs": [
        {
          "name": "stdout",
          "text": "Corretora:  Carangueijo\nNome:  Ana Sirigueijo\nTelefone:  (XX)XXXX-XXXX\nNome:  Sebastião Costa\nTelefone:  (XX)XXXX-XXXX\n",
          "output_type": "stream"
        }
      ]
    },
    {
      "cell_type": "markdown",
      "metadata": {
        "id": "hQRpLI73ncOG"
      },
      "source": [
        "#### Salvando os dados nas listas"
      ]
    },
    {
      "cell_type": "code",
      "metadata": {
        "execution": {
          "iopub.status.busy": "2021-08-31T19:05:04.319050Z",
          "iopub.execute_input": "2021-08-31T19:05:04.319411Z",
          "iopub.status.idle": "2021-08-31T19:05:04.328138Z",
          "shell.execute_reply.started": "2021-08-31T19:05:04.319380Z",
          "shell.execute_reply": "2021-08-31T19:05:04.327115Z"
        },
        "trusted": true,
        "id": "UjSax9AlncOG"
      },
      "source": [
        "contatos = soup_corretoras.find('tbody').find_all('tr')[1].find_all('td')[1].get_text().split('; ')\n",
        "\n",
        "for contato in contatos:\n",
        "    lista_corretoras.append(soup_corretoras.find('tbody').find_all('tr')[1].find_all('td')[0].get_text())\n",
        "    \n",
        "    contato = contato.split(' - Fone:')\n",
        "    \n",
        "    lista_nomes.append(contato[0])\n",
        "    lista_contatos.append(contato[1])"
      ],
      "execution_count": null,
      "outputs": []
    },
    {
      "cell_type": "code",
      "metadata": {
        "execution": {
          "iopub.status.busy": "2021-08-31T19:05:06.777363Z",
          "iopub.execute_input": "2021-08-31T19:05:06.777747Z",
          "iopub.status.idle": "2021-08-31T19:05:06.785458Z",
          "shell.execute_reply.started": "2021-08-31T19:05:06.777710Z",
          "shell.execute_reply": "2021-08-31T19:05:06.783945Z"
        },
        "trusted": true,
        "id": "CRc5BRPencOG",
        "outputId": "3c35481a-491e-402f-d153-1a3bf54831b9"
      },
      "source": [
        "lista_corretoras, lista_nomes, lista_contatos"
      ],
      "execution_count": null,
      "outputs": [
        {
          "execution_count": 98,
          "output_type": "execute_result",
          "data": {
            "text/plain": "(['Tubarão', 'Carangueijo', 'Carangueijo'],\n ['João Marinho', 'Ana Sirigueijo', 'Sebastião Costa'],\n ['(XX)XXXX-XXXX', '(XX)XXXX-XXXX', '(XX)XXXX-XXXX'])"
          },
          "metadata": {}
        }
      ]
    },
    {
      "cell_type": "markdown",
      "metadata": {
        "id": "m2BMhKZHncOG"
      },
      "source": [
        "### 4.3) Coletando dados da corretora 'Baleia Azul'"
      ]
    },
    {
      "cell_type": "code",
      "metadata": {
        "execution": {
          "iopub.status.busy": "2021-08-31T19:05:08.796288Z",
          "iopub.execute_input": "2021-08-31T19:05:08.796626Z",
          "iopub.status.idle": "2021-08-31T19:05:08.804761Z",
          "shell.execute_reply.started": "2021-08-31T19:05:08.796596Z",
          "shell.execute_reply": "2021-08-31T19:05:08.803761Z"
        },
        "trusted": true,
        "id": "M5y1JSfjncOG",
        "outputId": "b5c1493a-c992-4367-e4b2-037235162ab8"
      },
      "source": [
        "soup_corretoras.find('tbody').find_all('tr')[2]"
      ],
      "execution_count": null,
      "outputs": [
        {
          "execution_count": 99,
          "output_type": "execute_result",
          "data": {
            "text/plain": "<tr>\n<td>Baleia Azul</td>\n<td>\n<ul>\n<li>Alina Ferreira - Fone:(XX)XXXX-XXXX</li>\n<li>Jorge Matheus - Fone:(XX)XXXX-XXXX</li>\n</ul>\n</td>\n</tr>"
          },
          "metadata": {}
        }
      ]
    },
    {
      "cell_type": "code",
      "metadata": {
        "execution": {
          "iopub.status.busy": "2021-08-31T19:05:13.247511Z",
          "iopub.execute_input": "2021-08-31T19:05:13.247872Z",
          "iopub.status.idle": "2021-08-31T19:05:13.256137Z",
          "shell.execute_reply.started": "2021-08-31T19:05:13.247840Z",
          "shell.execute_reply": "2021-08-31T19:05:13.254920Z"
        },
        "trusted": true,
        "id": "uoT66aU2ncOH",
        "outputId": "d9d9d06b-ae40-4219-d5a7-f0e8b339c62f"
      },
      "source": [
        "soup_corretoras.find('tbody').find_all('tr')[2].find_all('td')"
      ],
      "execution_count": null,
      "outputs": [
        {
          "execution_count": 100,
          "output_type": "execute_result",
          "data": {
            "text/plain": "[<td>Baleia Azul</td>,\n <td>\n <ul>\n <li>Alina Ferreira - Fone:(XX)XXXX-XXXX</li>\n <li>Jorge Matheus - Fone:(XX)XXXX-XXXX</li>\n </ul>\n </td>]"
          },
          "metadata": {}
        }
      ]
    },
    {
      "cell_type": "code",
      "metadata": {
        "execution": {
          "iopub.status.busy": "2021-08-31T19:05:15.587002Z",
          "iopub.execute_input": "2021-08-31T19:05:15.587378Z",
          "iopub.status.idle": "2021-08-31T19:05:15.594887Z",
          "shell.execute_reply.started": "2021-08-31T19:05:15.587347Z",
          "shell.execute_reply": "2021-08-31T19:05:15.593970Z"
        },
        "trusted": true,
        "id": "S40Ft6MFncOH",
        "outputId": "f234f35d-9e06-4475-af34-951d413d18d1"
      },
      "source": [
        "soup_corretoras.find('tbody').find_all('tr')[2].find_all('td')[1].find_all('li')"
      ],
      "execution_count": null,
      "outputs": [
        {
          "execution_count": 101,
          "output_type": "execute_result",
          "data": {
            "text/plain": "[<li>Alina Ferreira - Fone:(XX)XXXX-XXXX</li>,\n <li>Jorge Matheus - Fone:(XX)XXXX-XXXX</li>]"
          },
          "metadata": {}
        }
      ]
    },
    {
      "cell_type": "code",
      "metadata": {
        "execution": {
          "iopub.status.busy": "2021-08-31T19:05:17.322962Z",
          "iopub.execute_input": "2021-08-31T19:05:17.323321Z",
          "iopub.status.idle": "2021-08-31T19:05:17.332367Z",
          "shell.execute_reply.started": "2021-08-31T19:05:17.323291Z",
          "shell.execute_reply": "2021-08-31T19:05:17.330955Z"
        },
        "trusted": true,
        "id": "APy9Z0ukncOH",
        "outputId": "6e6b73c1-b735-4ec4-b114-54c4dd79b9b0"
      },
      "source": [
        "print('Corretora: ', soup_corretoras.find('tbody').find_all('tr')[2].find_all('td')[0].get_text())\n",
        "\n",
        "contatos = soup_corretoras.find('tbody').find_all('tr')[2].find_all('td')[1].find_all('li')\n",
        "\n",
        "for contato in contatos:\n",
        "    contato = contato.get_text().split(' - Fone:')\n",
        "    print('Nome: ', contato[0])\n",
        "    print('Telefone: ', contato[1])"
      ],
      "execution_count": null,
      "outputs": [
        {
          "name": "stdout",
          "text": "Corretora:  Baleia Azul\nNome:  Alina Ferreira\nTelefone:  (XX)XXXX-XXXX\nNome:  Jorge Matheus\nTelefone:  (XX)XXXX-XXXX\n",
          "output_type": "stream"
        }
      ]
    },
    {
      "cell_type": "markdown",
      "metadata": {
        "id": "qeE0CGiqncOH"
      },
      "source": [
        "#### Salvando os dados nas listas"
      ]
    },
    {
      "cell_type": "code",
      "metadata": {
        "execution": {
          "iopub.status.busy": "2021-08-31T19:05:20.471689Z",
          "iopub.execute_input": "2021-08-31T19:05:20.472071Z",
          "iopub.status.idle": "2021-08-31T19:05:20.480469Z",
          "shell.execute_reply.started": "2021-08-31T19:05:20.472038Z",
          "shell.execute_reply": "2021-08-31T19:05:20.479368Z"
        },
        "trusted": true,
        "id": "1AE722GIncOH"
      },
      "source": [
        "contatos = soup_corretoras.find('tbody').find_all('tr')[2].find_all('td')[1].find_all('li')\n",
        "\n",
        "for contato in contatos:\n",
        "    lista_corretoras.append(soup_corretoras.find('tbody').find_all('tr')[2].find_all('td')[0].get_text())\n",
        "    \n",
        "    contato = contato.get_text().split(' - Fone:')\n",
        "    \n",
        "    lista_nomes.append(contato[0])\n",
        "    lista_contatos.append(contato[1])"
      ],
      "execution_count": null,
      "outputs": []
    },
    {
      "cell_type": "code",
      "metadata": {
        "execution": {
          "iopub.status.busy": "2021-08-31T19:06:28.186717Z",
          "iopub.execute_input": "2021-08-31T19:06:28.187107Z",
          "iopub.status.idle": "2021-08-31T19:06:28.194586Z",
          "shell.execute_reply.started": "2021-08-31T19:06:28.187072Z",
          "shell.execute_reply": "2021-08-31T19:06:28.193397Z"
        },
        "trusted": true,
        "id": "yhhefhn0ncOI",
        "outputId": "3e92cc02-92fe-4816-c739-390afadfa8c6"
      },
      "source": [
        "lista_corretoras, lista_nomes, lista_contatos"
      ],
      "execution_count": null,
      "outputs": [
        {
          "execution_count": 113,
          "output_type": "execute_result",
          "data": {
            "text/plain": "(['Tubarão', 'Carangueijo', 'Carangueijo', 'Baleia Azul', 'Baleia Azul'],\n ['João Marinho',\n  'Ana Sirigueijo',\n  'Sebastião Costa',\n  'Alina Ferreira',\n  'Jorge Matheus'],\n ['(XX)XXXX-XXXX',\n  '(XX)XXXX-XXXX',\n  '(XX)XXXX-XXXX',\n  '(XX)XXXX-XXXX',\n  '(XX)XXXX-XXXX'])"
          },
          "metadata": {}
        }
      ]
    },
    {
      "cell_type": "markdown",
      "metadata": {
        "id": "iOWLboByncOI"
      },
      "source": [
        "### 4.4) Coletando dados da corretora 'Enguia'"
      ]
    },
    {
      "cell_type": "code",
      "metadata": {
        "execution": {
          "iopub.status.busy": "2021-08-31T19:05:26.842110Z",
          "iopub.execute_input": "2021-08-31T19:05:26.842511Z",
          "iopub.status.idle": "2021-08-31T19:05:38.286325Z",
          "shell.execute_reply.started": "2021-08-31T19:05:26.842471Z",
          "shell.execute_reply": "2021-08-31T19:05:38.284847Z"
        },
        "trusted": true,
        "id": "1H-nqasPncOI",
        "outputId": "0429ffc6-89cc-4a84-866b-2944ce6c6c82"
      },
      "source": [
        "!pip install tabula-py"
      ],
      "execution_count": null,
      "outputs": [
        {
          "name": "stdout",
          "text": "Collecting tabula-py\n  Downloading tabula_py-2.3.0-py3-none-any.whl (12.0 MB)\n\u001b[K     |████████████████████████████████| 12.0 MB 595 kB/s eta 0:00:01    |█████████████████               | 6.4 MB 595 kB/s eta 0:00:10\n\u001b[?25hRequirement already satisfied: numpy in /opt/conda/lib/python3.7/site-packages (from tabula-py) (1.18.5)\nCollecting distro\n  Downloading distro-1.6.0-py2.py3-none-any.whl (19 kB)\nRequirement already satisfied: pandas>=0.25.3 in /opt/conda/lib/python3.7/site-packages (from tabula-py) (1.1.2)\nRequirement already satisfied: pytz>=2017.2 in /opt/conda/lib/python3.7/site-packages (from pandas>=0.25.3->tabula-py) (2019.3)\nRequirement already satisfied: python-dateutil>=2.7.3 in /opt/conda/lib/python3.7/site-packages (from pandas>=0.25.3->tabula-py) (2.8.1)\nRequirement already satisfied: six>=1.5 in /opt/conda/lib/python3.7/site-packages (from python-dateutil>=2.7.3->pandas>=0.25.3->tabula-py) (1.14.0)\nInstalling collected packages: distro, tabula-py\nSuccessfully installed distro-1.6.0 tabula-py-2.3.0\n\u001b[33mWARNING: You are using pip version 20.2.3; however, version 21.2.4 is available.\nYou should consider upgrading via the '/opt/conda/bin/python3.7 -m pip install --upgrade pip' command.\u001b[0m\n",
          "output_type": "stream"
        }
      ]
    },
    {
      "cell_type": "code",
      "metadata": {
        "execution": {
          "iopub.status.busy": "2021-08-31T19:06:03.820776Z",
          "iopub.execute_input": "2021-08-31T19:06:03.821177Z",
          "iopub.status.idle": "2021-08-31T19:06:03.826065Z",
          "shell.execute_reply.started": "2021-08-31T19:06:03.821142Z",
          "shell.execute_reply": "2021-08-31T19:06:03.824719Z"
        },
        "trusted": true,
        "id": "y9c-pQPsncOI"
      },
      "source": [
        "import tabula"
      ],
      "execution_count": null,
      "outputs": []
    },
    {
      "cell_type": "code",
      "metadata": {
        "execution": {
          "iopub.status.busy": "2021-08-31T19:06:05.271721Z",
          "iopub.execute_input": "2021-08-31T19:06:05.272166Z",
          "iopub.status.idle": "2021-08-31T19:06:05.280575Z",
          "shell.execute_reply.started": "2021-08-31T19:06:05.272131Z",
          "shell.execute_reply": "2021-08-31T19:06:05.279362Z"
        },
        "trusted": true,
        "id": "V6z73iYTncOI",
        "outputId": "25e81234-fc28-4a02-c9ea-0f8446db04d7"
      },
      "source": [
        "soup_corretoras.find('tbody').find_all('tr')[3].find_all('td')"
      ],
      "execution_count": null,
      "outputs": [
        {
          "execution_count": 107,
          "output_type": "execute_result",
          "data": {
            "text/plain": "[<td>Enguia</td>,\n <td><a href=\"pdfs/contatos-enguia.pdf\">Nossos contatos</a></td>]"
          },
          "metadata": {}
        }
      ]
    },
    {
      "cell_type": "code",
      "metadata": {
        "execution": {
          "iopub.status.busy": "2021-08-31T19:06:08.487486Z",
          "iopub.execute_input": "2021-08-31T19:06:08.488074Z",
          "iopub.status.idle": "2021-08-31T19:06:08.495275Z",
          "shell.execute_reply.started": "2021-08-31T19:06:08.488017Z",
          "shell.execute_reply": "2021-08-31T19:06:08.494499Z"
        },
        "trusted": true,
        "id": "LvbKM6bqncOI",
        "outputId": "4d98c599-22f3-47d4-f9b4-6535b9dd7974"
      },
      "source": [
        "soup_corretoras.find('tbody').find_all('tr')[3].find_all('td')[1]"
      ],
      "execution_count": null,
      "outputs": [
        {
          "execution_count": 108,
          "output_type": "execute_result",
          "data": {
            "text/plain": "<td><a href=\"pdfs/contatos-enguia.pdf\">Nossos contatos</a></td>"
          },
          "metadata": {}
        }
      ]
    },
    {
      "cell_type": "code",
      "metadata": {
        "execution": {
          "iopub.status.busy": "2021-08-31T19:06:11.007637Z",
          "iopub.execute_input": "2021-08-31T19:06:11.008212Z",
          "iopub.status.idle": "2021-08-31T19:06:11.016299Z",
          "shell.execute_reply.started": "2021-08-31T19:06:11.008176Z",
          "shell.execute_reply": "2021-08-31T19:06:11.014999Z"
        },
        "trusted": true,
        "id": "KxaTy1chncOJ",
        "outputId": "333f30d0-3e9d-4a39-cb22-7a9a519f70d5"
      },
      "source": [
        "soup_corretoras.find('tbody').find_all('tr')[3].find_all('td')[1].find('a')"
      ],
      "execution_count": null,
      "outputs": [
        {
          "execution_count": 109,
          "output_type": "execute_result",
          "data": {
            "text/plain": "<a href=\"pdfs/contatos-enguia.pdf\">Nossos contatos</a>"
          },
          "metadata": {}
        }
      ]
    },
    {
      "cell_type": "code",
      "metadata": {
        "execution": {
          "iopub.status.busy": "2021-08-31T19:06:13.244301Z",
          "iopub.execute_input": "2021-08-31T19:06:13.244645Z",
          "iopub.status.idle": "2021-08-31T19:06:13.252538Z",
          "shell.execute_reply.started": "2021-08-31T19:06:13.244615Z",
          "shell.execute_reply": "2021-08-31T19:06:13.251800Z"
        },
        "trusted": true,
        "id": "Du7ymRcencOJ",
        "outputId": "3d6c844d-68cc-48cb-ad99-2a12819007f5"
      },
      "source": [
        "soup_corretoras.find('tbody').find_all('tr')[3].find_all('td')[1].find('a').get('href')"
      ],
      "execution_count": null,
      "outputs": [
        {
          "execution_count": 110,
          "output_type": "execute_result",
          "data": {
            "text/plain": "'pdfs/contatos-enguia.pdf'"
          },
          "metadata": {}
        }
      ]
    },
    {
      "cell_type": "code",
      "metadata": {
        "execution": {
          "iopub.status.busy": "2021-08-31T19:06:16.113900Z",
          "iopub.execute_input": "2021-08-31T19:06:16.114266Z",
          "iopub.status.idle": "2021-08-31T19:06:16.122517Z",
          "shell.execute_reply.started": "2021-08-31T19:06:16.114231Z",
          "shell.execute_reply": "2021-08-31T19:06:16.121438Z"
        },
        "trusted": true,
        "id": "vPcdvgTJncOJ",
        "outputId": "fa2f55bf-fe30-44b8-a6c8-c0c203611eed"
      },
      "source": [
        "nome_pdf = soup_corretoras.find('tbody').find_all('tr')[3].find_all('td')[1].find('a').get('href')\n",
        "arquivo = 'https://ocean-web-scraping.herokuapp.com/' + nome_pdf\n",
        "arquivo"
      ],
      "execution_count": null,
      "outputs": [
        {
          "execution_count": 111,
          "output_type": "execute_result",
          "data": {
            "text/plain": "'https://ocean-web-scraping.herokuapp.com/pdfs/contatos-enguia.pdf'"
          },
          "metadata": {}
        }
      ]
    },
    {
      "cell_type": "code",
      "metadata": {
        "execution": {
          "iopub.status.busy": "2021-08-31T19:06:37.331773Z",
          "iopub.execute_input": "2021-08-31T19:06:37.332155Z",
          "iopub.status.idle": "2021-08-31T19:06:39.940104Z",
          "shell.execute_reply.started": "2021-08-31T19:06:37.332121Z",
          "shell.execute_reply": "2021-08-31T19:06:39.938667Z"
        },
        "trusted": true,
        "id": "TnM28LRZncOJ"
      },
      "source": [
        "corretora_enguia_df = tabula.read_pdf(arquivo, pages='all', multiple_tables=False)[0]"
      ],
      "execution_count": null,
      "outputs": []
    },
    {
      "cell_type": "code",
      "metadata": {
        "execution": {
          "iopub.status.busy": "2021-08-31T19:06:47.944764Z",
          "iopub.execute_input": "2021-08-31T19:06:47.945152Z",
          "iopub.status.idle": "2021-08-31T19:06:47.957177Z",
          "shell.execute_reply.started": "2021-08-31T19:06:47.945116Z",
          "shell.execute_reply": "2021-08-31T19:06:47.956276Z"
        },
        "trusted": true,
        "id": "2ohCz8NfncOJ",
        "outputId": "8fb177e0-09af-4222-f0e9-97400463d15e"
      },
      "source": [
        "corretora_enguia_df"
      ],
      "execution_count": null,
      "outputs": [
        {
          "execution_count": 115,
          "output_type": "execute_result",
          "data": {
            "text/plain": "       Corretor(a)             Contato\n0      Bruna Maria  Fone:(XX)XXXX-XXXX\n1  Carla Gonçalves  Fone:(XX)XXXX-XXXX\n2       Zeca Gomes  Fone:(XX)XXXX-XXXX\n3      Wagner Luiz  Fone:(XX)XXXX-XXXX\n4     Marília Mota  Fone:(XX)XXXX-XXXX",
            "text/html": "<div>\n<style scoped>\n    .dataframe tbody tr th:only-of-type {\n        vertical-align: middle;\n    }\n\n    .dataframe tbody tr th {\n        vertical-align: top;\n    }\n\n    .dataframe thead th {\n        text-align: right;\n    }\n</style>\n<table border=\"1\" class=\"dataframe\">\n  <thead>\n    <tr style=\"text-align: right;\">\n      <th></th>\n      <th>Corretor(a)</th>\n      <th>Contato</th>\n    </tr>\n  </thead>\n  <tbody>\n    <tr>\n      <th>0</th>\n      <td>Bruna Maria</td>\n      <td>Fone:(XX)XXXX-XXXX</td>\n    </tr>\n    <tr>\n      <th>1</th>\n      <td>Carla Gonçalves</td>\n      <td>Fone:(XX)XXXX-XXXX</td>\n    </tr>\n    <tr>\n      <th>2</th>\n      <td>Zeca Gomes</td>\n      <td>Fone:(XX)XXXX-XXXX</td>\n    </tr>\n    <tr>\n      <th>3</th>\n      <td>Wagner Luiz</td>\n      <td>Fone:(XX)XXXX-XXXX</td>\n    </tr>\n    <tr>\n      <th>4</th>\n      <td>Marília Mota</td>\n      <td>Fone:(XX)XXXX-XXXX</td>\n    </tr>\n  </tbody>\n</table>\n</div>"
          },
          "metadata": {}
        }
      ]
    },
    {
      "cell_type": "code",
      "metadata": {
        "execution": {
          "iopub.status.busy": "2021-08-31T19:06:50.748847Z",
          "iopub.execute_input": "2021-08-31T19:06:50.749226Z",
          "iopub.status.idle": "2021-08-31T19:06:50.760784Z",
          "shell.execute_reply.started": "2021-08-31T19:06:50.749194Z",
          "shell.execute_reply": "2021-08-31T19:06:50.759377Z"
        },
        "trusted": true,
        "id": "gB3ejYy6ncOJ",
        "outputId": "426fbad9-93af-4e10-d78d-ddfff54b4c17"
      },
      "source": [
        "print('Corretora: ', soup_corretoras.find('tbody').find_all('tr')[3].find_all('td')[0].get_text())\n",
        "\n",
        "for nome,contato in zip(corretora_enguia_df['Corretor(a)'].to_list(),\n",
        "                        corretora_enguia_df['Contato'].to_list()):\n",
        "    print(nome)\n",
        "    print(contato.replace('Fone:',''))"
      ],
      "execution_count": null,
      "outputs": [
        {
          "name": "stdout",
          "text": "Corretora:  Enguia\nBruna Maria\n(XX)XXXX-XXXX\nCarla Gonçalves\n(XX)XXXX-XXXX\nZeca Gomes\n(XX)XXXX-XXXX\nWagner Luiz\n(XX)XXXX-XXXX\nMarília Mota\n(XX)XXXX-XXXX\n",
          "output_type": "stream"
        }
      ]
    },
    {
      "cell_type": "markdown",
      "metadata": {
        "id": "_ewgxWI7ncOK"
      },
      "source": [
        "#### Salvando os dados nas listas"
      ]
    },
    {
      "cell_type": "code",
      "metadata": {
        "execution": {
          "iopub.status.busy": "2021-08-31T19:06:53.907150Z",
          "iopub.execute_input": "2021-08-31T19:06:53.907494Z",
          "iopub.status.idle": "2021-08-31T19:06:53.916095Z",
          "shell.execute_reply.started": "2021-08-31T19:06:53.907463Z",
          "shell.execute_reply": "2021-08-31T19:06:53.915136Z"
        },
        "trusted": true,
        "id": "bgTpzf5lncOK"
      },
      "source": [
        "for nome,contato in zip(corretora_enguia_df['Corretor(a)'].to_list(),\n",
        "                        corretora_enguia_df['Contato'].to_list()):\n",
        "    lista_corretoras.append(soup_corretoras.find('tbody').find_all('tr')[3].find_all('td')[0].get_text())\n",
        "    lista_nomes.append(nome)\n",
        "    lista_contatos.append(contato.replace('Fone:',''))"
      ],
      "execution_count": null,
      "outputs": []
    },
    {
      "cell_type": "code",
      "metadata": {
        "execution": {
          "iopub.status.busy": "2021-08-31T19:06:57.917169Z",
          "iopub.execute_input": "2021-08-31T19:06:57.917511Z",
          "iopub.status.idle": "2021-08-31T19:06:57.923860Z",
          "shell.execute_reply.started": "2021-08-31T19:06:57.917482Z",
          "shell.execute_reply": "2021-08-31T19:06:57.922947Z"
        },
        "trusted": true,
        "id": "reKi7VAtncOK",
        "outputId": "8c0f0a9a-1e4b-46c0-a1a7-87eef6359f3e"
      },
      "source": [
        "lista_corretoras, lista_nomes, lista_contatos"
      ],
      "execution_count": null,
      "outputs": [
        {
          "execution_count": 118,
          "output_type": "execute_result",
          "data": {
            "text/plain": "(['Tubarão',\n  'Carangueijo',\n  'Carangueijo',\n  'Baleia Azul',\n  'Baleia Azul',\n  'Enguia',\n  'Enguia',\n  'Enguia',\n  'Enguia',\n  'Enguia'],\n ['João Marinho',\n  'Ana Sirigueijo',\n  'Sebastião Costa',\n  'Alina Ferreira',\n  'Jorge Matheus',\n  'Bruna Maria',\n  'Carla Gonçalves',\n  'Zeca Gomes',\n  'Wagner Luiz',\n  'Marília Mota'],\n ['(XX)XXXX-XXXX',\n  '(XX)XXXX-XXXX',\n  '(XX)XXXX-XXXX',\n  '(XX)XXXX-XXXX',\n  '(XX)XXXX-XXXX',\n  '(XX)XXXX-XXXX',\n  '(XX)XXXX-XXXX',\n  '(XX)XXXX-XXXX',\n  '(XX)XXXX-XXXX',\n  '(XX)XXXX-XXXX'])"
          },
          "metadata": {}
        }
      ]
    },
    {
      "cell_type": "markdown",
      "metadata": {
        "id": "_cmjjBTDncOK"
      },
      "source": [
        "### 4.5) Persistindo todas as informações das corretoras"
      ]
    },
    {
      "cell_type": "code",
      "metadata": {
        "execution": {
          "iopub.status.busy": "2021-08-31T19:07:00.519464Z",
          "iopub.execute_input": "2021-08-31T19:07:00.519831Z",
          "iopub.status.idle": "2021-08-31T19:07:00.526827Z",
          "shell.execute_reply.started": "2021-08-31T19:07:00.519783Z",
          "shell.execute_reply": "2021-08-31T19:07:00.526042Z"
        },
        "trusted": true,
        "id": "KsNZ_6Z6ncOK",
        "outputId": "5b9910f6-0135-4bba-f53d-2b2bf0f8d4e2"
      },
      "source": [
        "contatos_corretoras_dict.update({'Corretoras': lista_corretoras,\n",
        "                                 'Nomes': lista_nomes,\n",
        "                                 'Contatos': lista_contatos})\n",
        "\n",
        "contatos_corretoras_dict"
      ],
      "execution_count": null,
      "outputs": [
        {
          "execution_count": 119,
          "output_type": "execute_result",
          "data": {
            "text/plain": "{'Corretoras': ['Tubarão',\n  'Carangueijo',\n  'Carangueijo',\n  'Baleia Azul',\n  'Baleia Azul',\n  'Enguia',\n  'Enguia',\n  'Enguia',\n  'Enguia',\n  'Enguia'],\n 'Nomes': ['João Marinho',\n  'Ana Sirigueijo',\n  'Sebastião Costa',\n  'Alina Ferreira',\n  'Jorge Matheus',\n  'Bruna Maria',\n  'Carla Gonçalves',\n  'Zeca Gomes',\n  'Wagner Luiz',\n  'Marília Mota'],\n 'Contatos': ['(XX)XXXX-XXXX',\n  '(XX)XXXX-XXXX',\n  '(XX)XXXX-XXXX',\n  '(XX)XXXX-XXXX',\n  '(XX)XXXX-XXXX',\n  '(XX)XXXX-XXXX',\n  '(XX)XXXX-XXXX',\n  '(XX)XXXX-XXXX',\n  '(XX)XXXX-XXXX',\n  '(XX)XXXX-XXXX']}"
          },
          "metadata": {}
        }
      ]
    },
    {
      "cell_type": "code",
      "metadata": {
        "execution": {
          "iopub.status.busy": "2021-08-31T19:07:03.196980Z",
          "iopub.execute_input": "2021-08-31T19:07:03.197340Z",
          "iopub.status.idle": "2021-08-31T19:07:03.213123Z",
          "shell.execute_reply.started": "2021-08-31T19:07:03.197309Z",
          "shell.execute_reply": "2021-08-31T19:07:03.211846Z"
        },
        "trusted": true,
        "id": "TkLWt6ZincOK",
        "outputId": "c782e8a8-8de2-4d75-ce7f-182562ae7fe6"
      },
      "source": [
        "contatos_corretoras_df = pd.DataFrame.from_dict(contatos_corretoras_dict)\n",
        "\n",
        "contatos_corretoras_df"
      ],
      "execution_count": null,
      "outputs": [
        {
          "execution_count": 120,
          "output_type": "execute_result",
          "data": {
            "text/plain": "    Corretoras            Nomes       Contatos\n0      Tubarão     João Marinho  (XX)XXXX-XXXX\n1  Carangueijo   Ana Sirigueijo  (XX)XXXX-XXXX\n2  Carangueijo  Sebastião Costa  (XX)XXXX-XXXX\n3  Baleia Azul   Alina Ferreira  (XX)XXXX-XXXX\n4  Baleia Azul    Jorge Matheus  (XX)XXXX-XXXX\n5       Enguia      Bruna Maria  (XX)XXXX-XXXX\n6       Enguia  Carla Gonçalves  (XX)XXXX-XXXX\n7       Enguia       Zeca Gomes  (XX)XXXX-XXXX\n8       Enguia      Wagner Luiz  (XX)XXXX-XXXX\n9       Enguia     Marília Mota  (XX)XXXX-XXXX",
            "text/html": "<div>\n<style scoped>\n    .dataframe tbody tr th:only-of-type {\n        vertical-align: middle;\n    }\n\n    .dataframe tbody tr th {\n        vertical-align: top;\n    }\n\n    .dataframe thead th {\n        text-align: right;\n    }\n</style>\n<table border=\"1\" class=\"dataframe\">\n  <thead>\n    <tr style=\"text-align: right;\">\n      <th></th>\n      <th>Corretoras</th>\n      <th>Nomes</th>\n      <th>Contatos</th>\n    </tr>\n  </thead>\n  <tbody>\n    <tr>\n      <th>0</th>\n      <td>Tubarão</td>\n      <td>João Marinho</td>\n      <td>(XX)XXXX-XXXX</td>\n    </tr>\n    <tr>\n      <th>1</th>\n      <td>Carangueijo</td>\n      <td>Ana Sirigueijo</td>\n      <td>(XX)XXXX-XXXX</td>\n    </tr>\n    <tr>\n      <th>2</th>\n      <td>Carangueijo</td>\n      <td>Sebastião Costa</td>\n      <td>(XX)XXXX-XXXX</td>\n    </tr>\n    <tr>\n      <th>3</th>\n      <td>Baleia Azul</td>\n      <td>Alina Ferreira</td>\n      <td>(XX)XXXX-XXXX</td>\n    </tr>\n    <tr>\n      <th>4</th>\n      <td>Baleia Azul</td>\n      <td>Jorge Matheus</td>\n      <td>(XX)XXXX-XXXX</td>\n    </tr>\n    <tr>\n      <th>5</th>\n      <td>Enguia</td>\n      <td>Bruna Maria</td>\n      <td>(XX)XXXX-XXXX</td>\n    </tr>\n    <tr>\n      <th>6</th>\n      <td>Enguia</td>\n      <td>Carla Gonçalves</td>\n      <td>(XX)XXXX-XXXX</td>\n    </tr>\n    <tr>\n      <th>7</th>\n      <td>Enguia</td>\n      <td>Zeca Gomes</td>\n      <td>(XX)XXXX-XXXX</td>\n    </tr>\n    <tr>\n      <th>8</th>\n      <td>Enguia</td>\n      <td>Wagner Luiz</td>\n      <td>(XX)XXXX-XXXX</td>\n    </tr>\n    <tr>\n      <th>9</th>\n      <td>Enguia</td>\n      <td>Marília Mota</td>\n      <td>(XX)XXXX-XXXX</td>\n    </tr>\n  </tbody>\n</table>\n</div>"
          },
          "metadata": {}
        }
      ]
    },
    {
      "cell_type": "code",
      "metadata": {
        "execution": {
          "iopub.status.busy": "2021-08-31T19:07:13.807244Z",
          "iopub.execute_input": "2021-08-31T19:07:13.807581Z",
          "iopub.status.idle": "2021-08-31T19:07:13.814579Z",
          "shell.execute_reply.started": "2021-08-31T19:07:13.807552Z",
          "shell.execute_reply": "2021-08-31T19:07:13.813303Z"
        },
        "trusted": true,
        "id": "uz31vByWncOL"
      },
      "source": [
        "contatos_corretoras_df.to_csv('./contatos_corretoras.csv', sep = ';', index = False, encoding = 'utf-8')"
      ],
      "execution_count": null,
      "outputs": []
    },
    {
      "cell_type": "markdown",
      "metadata": {
        "id": "lQau7aOLncOL"
      },
      "source": [
        "## 5) Análise dos dados coletados"
      ]
    },
    {
      "cell_type": "code",
      "metadata": {
        "execution": {
          "iopub.status.busy": "2021-08-31T19:07:16.599960Z",
          "iopub.execute_input": "2021-08-31T19:07:16.600325Z",
          "iopub.status.idle": "2021-08-31T19:07:16.640186Z",
          "shell.execute_reply.started": "2021-08-31T19:07:16.600294Z",
          "shell.execute_reply": "2021-08-31T19:07:16.639392Z"
        },
        "trusted": true,
        "id": "Tzgle-a7ncOL",
        "outputId": "228f9698-69e7-4e9c-c55f-3fa29fee6c26"
      },
      "source": [
        "resultados_df"
      ],
      "execution_count": null,
      "outputs": [
        {
          "execution_count": 122,
          "output_type": "execute_result",
          "data": {
            "text/plain": "    área  quartos  banheiros  vagas garagem mobiliado portaria 24h elevador  \\\n0    100        3          2              2       sim          sim      sim   \n1     60        2          2              1       sim          sim      não   \n2     50        1          1              1       sim          não      não   \n3     60        2          2              1       sim          sim      não   \n4    120        4          3              2       sim          sim      sim   \n5     40        1          1              0       não          sim      não   \n6     60        2          2              0       não          sim      não   \n7     60        2          1              1       sim          sim      não   \n8     60        2          2              1       sim          sim      não   \n9    100        3          3              1       sim          sim      não   \n10   100        2          2              1       sim          sim      sim   \n11    50        2          1              0       sim          sim      não   \n12    80        2          2              1       sim          sim      sim   \n13    70        2          2              1       sim          sim      não   \n14    60        2          1              1       sim          sim      não   \n15   100        3          3              2       sim          sim      sim   \n16    80        2          2              2       sim          sim      não   \n17    50        1          1              1       sim          não      não   \n18    70        2          2              1       sim          sim      não   \n19    70        2          2              1       sim          sim      não   \n20    40        1          1              0       não          não      sim   \n\n   piscina churrasqueira salão de festas academia playground  \\\n0      sim           sim             sim      sim        sim   \n1      não           não             sim      não        não   \n2      não           não             não      não        não   \n3      não           não             não      não        não   \n4      sim           sim             sim      sim        sim   \n5      não           não             não      não        não   \n6      não           não             sim      não        não   \n7      sim           não             sim      não        não   \n8      não           não             não      não        não   \n9      sim           não             sim      sim        não   \n10     sim           não             sim      sim        não   \n11     não           não             não      não        não   \n12     sim           não             não      não        não   \n13     não           não             não      não        não   \n14     não           não             não      não        não   \n15     sim           sim             sim      sim        sim   \n16     não           não             sim      não        não   \n17     não           não             não      não        não   \n18     não           não             sim      não        não   \n19     não           não             sim      não        não   \n20     não           não             não      não        não   \n\n   quadra poliesportiva salão de jogos aceita animais  aluguel  condomínio  \\\n0                   sim            sim            sim   4000.0       500.0   \n1                   sim            não            não   2000.0       200.0   \n2                   não            não            não   1300.0       200.0   \n3                   não            não            não   1800.0       100.0   \n4                   sim            sim            sim   3800.0       500.0   \n5                   não            não            não    950.0        50.0   \n6                   sim            não            não   1100.0       100.0   \n7                   sim            não            não   1850.0       100.0   \n8                   não            não            não   1800.0       150.0   \n9                   sim            não            sim   3000.0       250.0   \n10                  não            não            sim   2800.0       220.0   \n11                  não            não            não   1300.0       100.0   \n12                  não            não            sim   1750.0       150.0   \n13                  não            não            não   1650.0       120.0   \n14                  não            não            sim   1250.0       100.0   \n15                  sim            sim            sim   3350.0       100.0   \n16                  sim            não            sim   2150.0       180.0   \n17                  não            não            não   1080.0       100.0   \n18                  sim            não            sim   2180.0       120.0   \n19                  não            não            sim   1900.0       100.0   \n20                  não            não            não    990.0        50.0   \n\n     iptu    corretora       localizacao  \n0   100.0      Tubarão   Oceano Pacífico  \n1    50.0  Carangueijo     Oceano Índico  \n2    50.0  Baleia Azul       Mar de Java  \n3    20.0  Baleia Azul     Oceano Índico  \n4   200.0      Tubarão   Oceano Pacífico  \n5    10.0       Enguia  Mar Mediterrâneo  \n6    50.0       Enguia       Mar de Java  \n7    50.0  Carangueijo     Oceano Índico  \n8    50.0  Carangueijo     Oceano Índico  \n9    50.0      Tubarão   Oceano Pacífico  \n10   80.0      Tubarão  Oceano Atlântico  \n11   80.0       Enguia       Mar de Java  \n12   50.0  Baleia Azul       Mar de Java  \n13   20.0  Carangueijo  Oceano Atlântico  \n14   80.0       Enguia  Mar Mediterrâneo  \n15   50.0      Tubarão   Oceano Pacífico  \n16   20.0  Baleia Azul     Oceano Índico  \n17   20.0       Enguia  Mar Mediterrâneo  \n18   40.0  Carangueijo   Oceano Pacífico  \n19   20.0  Baleia Azul       Mar de Java  \n20   10.0       Enguia  Mar Mediterrâneo  ",
            "text/html": "<div>\n<style scoped>\n    .dataframe tbody tr th:only-of-type {\n        vertical-align: middle;\n    }\n\n    .dataframe tbody tr th {\n        vertical-align: top;\n    }\n\n    .dataframe thead th {\n        text-align: right;\n    }\n</style>\n<table border=\"1\" class=\"dataframe\">\n  <thead>\n    <tr style=\"text-align: right;\">\n      <th></th>\n      <th>área</th>\n      <th>quartos</th>\n      <th>banheiros</th>\n      <th>vagas garagem</th>\n      <th>mobiliado</th>\n      <th>portaria 24h</th>\n      <th>elevador</th>\n      <th>piscina</th>\n      <th>churrasqueira</th>\n      <th>salão de festas</th>\n      <th>academia</th>\n      <th>playground</th>\n      <th>quadra poliesportiva</th>\n      <th>salão de jogos</th>\n      <th>aceita animais</th>\n      <th>aluguel</th>\n      <th>condomínio</th>\n      <th>iptu</th>\n      <th>corretora</th>\n      <th>localizacao</th>\n    </tr>\n  </thead>\n  <tbody>\n    <tr>\n      <th>0</th>\n      <td>100</td>\n      <td>3</td>\n      <td>2</td>\n      <td>2</td>\n      <td>sim</td>\n      <td>sim</td>\n      <td>sim</td>\n      <td>sim</td>\n      <td>sim</td>\n      <td>sim</td>\n      <td>sim</td>\n      <td>sim</td>\n      <td>sim</td>\n      <td>sim</td>\n      <td>sim</td>\n      <td>4000.0</td>\n      <td>500.0</td>\n      <td>100.0</td>\n      <td>Tubarão</td>\n      <td>Oceano Pacífico</td>\n    </tr>\n    <tr>\n      <th>1</th>\n      <td>60</td>\n      <td>2</td>\n      <td>2</td>\n      <td>1</td>\n      <td>sim</td>\n      <td>sim</td>\n      <td>não</td>\n      <td>não</td>\n      <td>não</td>\n      <td>sim</td>\n      <td>não</td>\n      <td>não</td>\n      <td>sim</td>\n      <td>não</td>\n      <td>não</td>\n      <td>2000.0</td>\n      <td>200.0</td>\n      <td>50.0</td>\n      <td>Carangueijo</td>\n      <td>Oceano Índico</td>\n    </tr>\n    <tr>\n      <th>2</th>\n      <td>50</td>\n      <td>1</td>\n      <td>1</td>\n      <td>1</td>\n      <td>sim</td>\n      <td>não</td>\n      <td>não</td>\n      <td>não</td>\n      <td>não</td>\n      <td>não</td>\n      <td>não</td>\n      <td>não</td>\n      <td>não</td>\n      <td>não</td>\n      <td>não</td>\n      <td>1300.0</td>\n      <td>200.0</td>\n      <td>50.0</td>\n      <td>Baleia Azul</td>\n      <td>Mar de Java</td>\n    </tr>\n    <tr>\n      <th>3</th>\n      <td>60</td>\n      <td>2</td>\n      <td>2</td>\n      <td>1</td>\n      <td>sim</td>\n      <td>sim</td>\n      <td>não</td>\n      <td>não</td>\n      <td>não</td>\n      <td>não</td>\n      <td>não</td>\n      <td>não</td>\n      <td>não</td>\n      <td>não</td>\n      <td>não</td>\n      <td>1800.0</td>\n      <td>100.0</td>\n      <td>20.0</td>\n      <td>Baleia Azul</td>\n      <td>Oceano Índico</td>\n    </tr>\n    <tr>\n      <th>4</th>\n      <td>120</td>\n      <td>4</td>\n      <td>3</td>\n      <td>2</td>\n      <td>sim</td>\n      <td>sim</td>\n      <td>sim</td>\n      <td>sim</td>\n      <td>sim</td>\n      <td>sim</td>\n      <td>sim</td>\n      <td>sim</td>\n      <td>sim</td>\n      <td>sim</td>\n      <td>sim</td>\n      <td>3800.0</td>\n      <td>500.0</td>\n      <td>200.0</td>\n      <td>Tubarão</td>\n      <td>Oceano Pacífico</td>\n    </tr>\n    <tr>\n      <th>5</th>\n      <td>40</td>\n      <td>1</td>\n      <td>1</td>\n      <td>0</td>\n      <td>não</td>\n      <td>sim</td>\n      <td>não</td>\n      <td>não</td>\n      <td>não</td>\n      <td>não</td>\n      <td>não</td>\n      <td>não</td>\n      <td>não</td>\n      <td>não</td>\n      <td>não</td>\n      <td>950.0</td>\n      <td>50.0</td>\n      <td>10.0</td>\n      <td>Enguia</td>\n      <td>Mar Mediterrâneo</td>\n    </tr>\n    <tr>\n      <th>6</th>\n      <td>60</td>\n      <td>2</td>\n      <td>2</td>\n      <td>0</td>\n      <td>não</td>\n      <td>sim</td>\n      <td>não</td>\n      <td>não</td>\n      <td>não</td>\n      <td>sim</td>\n      <td>não</td>\n      <td>não</td>\n      <td>sim</td>\n      <td>não</td>\n      <td>não</td>\n      <td>1100.0</td>\n      <td>100.0</td>\n      <td>50.0</td>\n      <td>Enguia</td>\n      <td>Mar de Java</td>\n    </tr>\n    <tr>\n      <th>7</th>\n      <td>60</td>\n      <td>2</td>\n      <td>1</td>\n      <td>1</td>\n      <td>sim</td>\n      <td>sim</td>\n      <td>não</td>\n      <td>sim</td>\n      <td>não</td>\n      <td>sim</td>\n      <td>não</td>\n      <td>não</td>\n      <td>sim</td>\n      <td>não</td>\n      <td>não</td>\n      <td>1850.0</td>\n      <td>100.0</td>\n      <td>50.0</td>\n      <td>Carangueijo</td>\n      <td>Oceano Índico</td>\n    </tr>\n    <tr>\n      <th>8</th>\n      <td>60</td>\n      <td>2</td>\n      <td>2</td>\n      <td>1</td>\n      <td>sim</td>\n      <td>sim</td>\n      <td>não</td>\n      <td>não</td>\n      <td>não</td>\n      <td>não</td>\n      <td>não</td>\n      <td>não</td>\n      <td>não</td>\n      <td>não</td>\n      <td>não</td>\n      <td>1800.0</td>\n      <td>150.0</td>\n      <td>50.0</td>\n      <td>Carangueijo</td>\n      <td>Oceano Índico</td>\n    </tr>\n    <tr>\n      <th>9</th>\n      <td>100</td>\n      <td>3</td>\n      <td>3</td>\n      <td>1</td>\n      <td>sim</td>\n      <td>sim</td>\n      <td>não</td>\n      <td>sim</td>\n      <td>não</td>\n      <td>sim</td>\n      <td>sim</td>\n      <td>não</td>\n      <td>sim</td>\n      <td>não</td>\n      <td>sim</td>\n      <td>3000.0</td>\n      <td>250.0</td>\n      <td>50.0</td>\n      <td>Tubarão</td>\n      <td>Oceano Pacífico</td>\n    </tr>\n    <tr>\n      <th>10</th>\n      <td>100</td>\n      <td>2</td>\n      <td>2</td>\n      <td>1</td>\n      <td>sim</td>\n      <td>sim</td>\n      <td>sim</td>\n      <td>sim</td>\n      <td>não</td>\n      <td>sim</td>\n      <td>sim</td>\n      <td>não</td>\n      <td>não</td>\n      <td>não</td>\n      <td>sim</td>\n      <td>2800.0</td>\n      <td>220.0</td>\n      <td>80.0</td>\n      <td>Tubarão</td>\n      <td>Oceano Atlântico</td>\n    </tr>\n    <tr>\n      <th>11</th>\n      <td>50</td>\n      <td>2</td>\n      <td>1</td>\n      <td>0</td>\n      <td>sim</td>\n      <td>sim</td>\n      <td>não</td>\n      <td>não</td>\n      <td>não</td>\n      <td>não</td>\n      <td>não</td>\n      <td>não</td>\n      <td>não</td>\n      <td>não</td>\n      <td>não</td>\n      <td>1300.0</td>\n      <td>100.0</td>\n      <td>80.0</td>\n      <td>Enguia</td>\n      <td>Mar de Java</td>\n    </tr>\n    <tr>\n      <th>12</th>\n      <td>80</td>\n      <td>2</td>\n      <td>2</td>\n      <td>1</td>\n      <td>sim</td>\n      <td>sim</td>\n      <td>sim</td>\n      <td>sim</td>\n      <td>não</td>\n      <td>não</td>\n      <td>não</td>\n      <td>não</td>\n      <td>não</td>\n      <td>não</td>\n      <td>sim</td>\n      <td>1750.0</td>\n      <td>150.0</td>\n      <td>50.0</td>\n      <td>Baleia Azul</td>\n      <td>Mar de Java</td>\n    </tr>\n    <tr>\n      <th>13</th>\n      <td>70</td>\n      <td>2</td>\n      <td>2</td>\n      <td>1</td>\n      <td>sim</td>\n      <td>sim</td>\n      <td>não</td>\n      <td>não</td>\n      <td>não</td>\n      <td>não</td>\n      <td>não</td>\n      <td>não</td>\n      <td>não</td>\n      <td>não</td>\n      <td>não</td>\n      <td>1650.0</td>\n      <td>120.0</td>\n      <td>20.0</td>\n      <td>Carangueijo</td>\n      <td>Oceano Atlântico</td>\n    </tr>\n    <tr>\n      <th>14</th>\n      <td>60</td>\n      <td>2</td>\n      <td>1</td>\n      <td>1</td>\n      <td>sim</td>\n      <td>sim</td>\n      <td>não</td>\n      <td>não</td>\n      <td>não</td>\n      <td>não</td>\n      <td>não</td>\n      <td>não</td>\n      <td>não</td>\n      <td>não</td>\n      <td>sim</td>\n      <td>1250.0</td>\n      <td>100.0</td>\n      <td>80.0</td>\n      <td>Enguia</td>\n      <td>Mar Mediterrâneo</td>\n    </tr>\n    <tr>\n      <th>15</th>\n      <td>100</td>\n      <td>3</td>\n      <td>3</td>\n      <td>2</td>\n      <td>sim</td>\n      <td>sim</td>\n      <td>sim</td>\n      <td>sim</td>\n      <td>sim</td>\n      <td>sim</td>\n      <td>sim</td>\n      <td>sim</td>\n      <td>sim</td>\n      <td>sim</td>\n      <td>sim</td>\n      <td>3350.0</td>\n      <td>100.0</td>\n      <td>50.0</td>\n      <td>Tubarão</td>\n      <td>Oceano Pacífico</td>\n    </tr>\n    <tr>\n      <th>16</th>\n      <td>80</td>\n      <td>2</td>\n      <td>2</td>\n      <td>2</td>\n      <td>sim</td>\n      <td>sim</td>\n      <td>não</td>\n      <td>não</td>\n      <td>não</td>\n      <td>sim</td>\n      <td>não</td>\n      <td>não</td>\n      <td>sim</td>\n      <td>não</td>\n      <td>sim</td>\n      <td>2150.0</td>\n      <td>180.0</td>\n      <td>20.0</td>\n      <td>Baleia Azul</td>\n      <td>Oceano Índico</td>\n    </tr>\n    <tr>\n      <th>17</th>\n      <td>50</td>\n      <td>1</td>\n      <td>1</td>\n      <td>1</td>\n      <td>sim</td>\n      <td>não</td>\n      <td>não</td>\n      <td>não</td>\n      <td>não</td>\n      <td>não</td>\n      <td>não</td>\n      <td>não</td>\n      <td>não</td>\n      <td>não</td>\n      <td>não</td>\n      <td>1080.0</td>\n      <td>100.0</td>\n      <td>20.0</td>\n      <td>Enguia</td>\n      <td>Mar Mediterrâneo</td>\n    </tr>\n    <tr>\n      <th>18</th>\n      <td>70</td>\n      <td>2</td>\n      <td>2</td>\n      <td>1</td>\n      <td>sim</td>\n      <td>sim</td>\n      <td>não</td>\n      <td>não</td>\n      <td>não</td>\n      <td>sim</td>\n      <td>não</td>\n      <td>não</td>\n      <td>sim</td>\n      <td>não</td>\n      <td>sim</td>\n      <td>2180.0</td>\n      <td>120.0</td>\n      <td>40.0</td>\n      <td>Carangueijo</td>\n      <td>Oceano Pacífico</td>\n    </tr>\n    <tr>\n      <th>19</th>\n      <td>70</td>\n      <td>2</td>\n      <td>2</td>\n      <td>1</td>\n      <td>sim</td>\n      <td>sim</td>\n      <td>não</td>\n      <td>não</td>\n      <td>não</td>\n      <td>sim</td>\n      <td>não</td>\n      <td>não</td>\n      <td>não</td>\n      <td>não</td>\n      <td>sim</td>\n      <td>1900.0</td>\n      <td>100.0</td>\n      <td>20.0</td>\n      <td>Baleia Azul</td>\n      <td>Mar de Java</td>\n    </tr>\n    <tr>\n      <th>20</th>\n      <td>40</td>\n      <td>1</td>\n      <td>1</td>\n      <td>0</td>\n      <td>não</td>\n      <td>não</td>\n      <td>sim</td>\n      <td>não</td>\n      <td>não</td>\n      <td>não</td>\n      <td>não</td>\n      <td>não</td>\n      <td>não</td>\n      <td>não</td>\n      <td>não</td>\n      <td>990.0</td>\n      <td>50.0</td>\n      <td>10.0</td>\n      <td>Enguia</td>\n      <td>Mar Mediterrâneo</td>\n    </tr>\n  </tbody>\n</table>\n</div>"
          },
          "metadata": {}
        }
      ]
    },
    {
      "cell_type": "markdown",
      "metadata": {
        "id": "brw4GE_OncOL"
      },
      "source": [
        "#### 5.1) Eu gostaria de pagar um aluguel de no máximo R$ 1.800,00 e morar em um apto de pelo menos 2 quartos e com 1 vaga na garagem, no Oceano Atlântico"
      ]
    },
    {
      "cell_type": "code",
      "metadata": {
        "execution": {
          "iopub.status.busy": "2021-08-31T19:07:22.606458Z",
          "iopub.execute_input": "2021-08-31T19:07:22.606984Z",
          "iopub.status.idle": "2021-08-31T19:07:22.635700Z",
          "shell.execute_reply.started": "2021-08-31T19:07:22.606949Z",
          "shell.execute_reply": "2021-08-31T19:07:22.634641Z"
        },
        "trusted": true,
        "id": "UXTdEngEncOL",
        "outputId": "a0f052e0-6a38-48e4-e86e-1fb18d5f3bd7"
      },
      "source": [
        "busca = resultados_df['aluguel'] <= 1800\n",
        "busca"
      ],
      "execution_count": null,
      "outputs": [
        {
          "execution_count": 123,
          "output_type": "execute_result",
          "data": {
            "text/plain": "0     False\n1     False\n2      True\n3      True\n4     False\n5      True\n6      True\n7     False\n8      True\n9     False\n10    False\n11     True\n12     True\n13     True\n14     True\n15    False\n16    False\n17     True\n18    False\n19    False\n20     True\nName: aluguel, dtype: bool"
          },
          "metadata": {}
        }
      ]
    },
    {
      "cell_type": "code",
      "metadata": {
        "execution": {
          "iopub.status.busy": "2021-08-31T19:07:25.943460Z",
          "iopub.execute_input": "2021-08-31T19:07:25.943977Z",
          "iopub.status.idle": "2021-08-31T19:07:25.954757Z",
          "shell.execute_reply.started": "2021-08-31T19:07:25.943939Z",
          "shell.execute_reply": "2021-08-31T19:07:25.953924Z"
        },
        "trusted": true,
        "id": "f5K5J6foncOL",
        "outputId": "ad796d1c-902e-4dc6-823a-9bfc23b36032"
      },
      "source": [
        "len(resultados_df.loc[busca])"
      ],
      "execution_count": null,
      "outputs": [
        {
          "execution_count": 124,
          "output_type": "execute_result",
          "data": {
            "text/plain": "11"
          },
          "metadata": {}
        }
      ]
    },
    {
      "cell_type": "code",
      "metadata": {
        "execution": {
          "iopub.status.busy": "2021-08-31T19:07:28.474585Z",
          "iopub.execute_input": "2021-08-31T19:07:28.475286Z",
          "iopub.status.idle": "2021-08-31T19:07:28.513270Z",
          "shell.execute_reply.started": "2021-08-31T19:07:28.475222Z",
          "shell.execute_reply": "2021-08-31T19:07:28.512191Z"
        },
        "trusted": true,
        "id": "Z0ukHtd4ncOM",
        "outputId": "3fe96676-a592-4ac0-80b3-ee212d775683"
      },
      "source": [
        "resultados_df.loc[busca]"
      ],
      "execution_count": null,
      "outputs": [
        {
          "execution_count": 125,
          "output_type": "execute_result",
          "data": {
            "text/plain": "    área  quartos  banheiros  vagas garagem mobiliado portaria 24h elevador  \\\n2     50        1          1              1       sim          não      não   \n3     60        2          2              1       sim          sim      não   \n5     40        1          1              0       não          sim      não   \n6     60        2          2              0       não          sim      não   \n8     60        2          2              1       sim          sim      não   \n11    50        2          1              0       sim          sim      não   \n12    80        2          2              1       sim          sim      sim   \n13    70        2          2              1       sim          sim      não   \n14    60        2          1              1       sim          sim      não   \n17    50        1          1              1       sim          não      não   \n20    40        1          1              0       não          não      sim   \n\n   piscina churrasqueira salão de festas academia playground  \\\n2      não           não             não      não        não   \n3      não           não             não      não        não   \n5      não           não             não      não        não   \n6      não           não             sim      não        não   \n8      não           não             não      não        não   \n11     não           não             não      não        não   \n12     sim           não             não      não        não   \n13     não           não             não      não        não   \n14     não           não             não      não        não   \n17     não           não             não      não        não   \n20     não           não             não      não        não   \n\n   quadra poliesportiva salão de jogos aceita animais  aluguel  condomínio  \\\n2                   não            não            não   1300.0       200.0   \n3                   não            não            não   1800.0       100.0   \n5                   não            não            não    950.0        50.0   \n6                   sim            não            não   1100.0       100.0   \n8                   não            não            não   1800.0       150.0   \n11                  não            não            não   1300.0       100.0   \n12                  não            não            sim   1750.0       150.0   \n13                  não            não            não   1650.0       120.0   \n14                  não            não            sim   1250.0       100.0   \n17                  não            não            não   1080.0       100.0   \n20                  não            não            não    990.0        50.0   \n\n    iptu    corretora       localizacao  \n2   50.0  Baleia Azul       Mar de Java  \n3   20.0  Baleia Azul     Oceano Índico  \n5   10.0       Enguia  Mar Mediterrâneo  \n6   50.0       Enguia       Mar de Java  \n8   50.0  Carangueijo     Oceano Índico  \n11  80.0       Enguia       Mar de Java  \n12  50.0  Baleia Azul       Mar de Java  \n13  20.0  Carangueijo  Oceano Atlântico  \n14  80.0       Enguia  Mar Mediterrâneo  \n17  20.0       Enguia  Mar Mediterrâneo  \n20  10.0       Enguia  Mar Mediterrâneo  ",
            "text/html": "<div>\n<style scoped>\n    .dataframe tbody tr th:only-of-type {\n        vertical-align: middle;\n    }\n\n    .dataframe tbody tr th {\n        vertical-align: top;\n    }\n\n    .dataframe thead th {\n        text-align: right;\n    }\n</style>\n<table border=\"1\" class=\"dataframe\">\n  <thead>\n    <tr style=\"text-align: right;\">\n      <th></th>\n      <th>área</th>\n      <th>quartos</th>\n      <th>banheiros</th>\n      <th>vagas garagem</th>\n      <th>mobiliado</th>\n      <th>portaria 24h</th>\n      <th>elevador</th>\n      <th>piscina</th>\n      <th>churrasqueira</th>\n      <th>salão de festas</th>\n      <th>academia</th>\n      <th>playground</th>\n      <th>quadra poliesportiva</th>\n      <th>salão de jogos</th>\n      <th>aceita animais</th>\n      <th>aluguel</th>\n      <th>condomínio</th>\n      <th>iptu</th>\n      <th>corretora</th>\n      <th>localizacao</th>\n    </tr>\n  </thead>\n  <tbody>\n    <tr>\n      <th>2</th>\n      <td>50</td>\n      <td>1</td>\n      <td>1</td>\n      <td>1</td>\n      <td>sim</td>\n      <td>não</td>\n      <td>não</td>\n      <td>não</td>\n      <td>não</td>\n      <td>não</td>\n      <td>não</td>\n      <td>não</td>\n      <td>não</td>\n      <td>não</td>\n      <td>não</td>\n      <td>1300.0</td>\n      <td>200.0</td>\n      <td>50.0</td>\n      <td>Baleia Azul</td>\n      <td>Mar de Java</td>\n    </tr>\n    <tr>\n      <th>3</th>\n      <td>60</td>\n      <td>2</td>\n      <td>2</td>\n      <td>1</td>\n      <td>sim</td>\n      <td>sim</td>\n      <td>não</td>\n      <td>não</td>\n      <td>não</td>\n      <td>não</td>\n      <td>não</td>\n      <td>não</td>\n      <td>não</td>\n      <td>não</td>\n      <td>não</td>\n      <td>1800.0</td>\n      <td>100.0</td>\n      <td>20.0</td>\n      <td>Baleia Azul</td>\n      <td>Oceano Índico</td>\n    </tr>\n    <tr>\n      <th>5</th>\n      <td>40</td>\n      <td>1</td>\n      <td>1</td>\n      <td>0</td>\n      <td>não</td>\n      <td>sim</td>\n      <td>não</td>\n      <td>não</td>\n      <td>não</td>\n      <td>não</td>\n      <td>não</td>\n      <td>não</td>\n      <td>não</td>\n      <td>não</td>\n      <td>não</td>\n      <td>950.0</td>\n      <td>50.0</td>\n      <td>10.0</td>\n      <td>Enguia</td>\n      <td>Mar Mediterrâneo</td>\n    </tr>\n    <tr>\n      <th>6</th>\n      <td>60</td>\n      <td>2</td>\n      <td>2</td>\n      <td>0</td>\n      <td>não</td>\n      <td>sim</td>\n      <td>não</td>\n      <td>não</td>\n      <td>não</td>\n      <td>sim</td>\n      <td>não</td>\n      <td>não</td>\n      <td>sim</td>\n      <td>não</td>\n      <td>não</td>\n      <td>1100.0</td>\n      <td>100.0</td>\n      <td>50.0</td>\n      <td>Enguia</td>\n      <td>Mar de Java</td>\n    </tr>\n    <tr>\n      <th>8</th>\n      <td>60</td>\n      <td>2</td>\n      <td>2</td>\n      <td>1</td>\n      <td>sim</td>\n      <td>sim</td>\n      <td>não</td>\n      <td>não</td>\n      <td>não</td>\n      <td>não</td>\n      <td>não</td>\n      <td>não</td>\n      <td>não</td>\n      <td>não</td>\n      <td>não</td>\n      <td>1800.0</td>\n      <td>150.0</td>\n      <td>50.0</td>\n      <td>Carangueijo</td>\n      <td>Oceano Índico</td>\n    </tr>\n    <tr>\n      <th>11</th>\n      <td>50</td>\n      <td>2</td>\n      <td>1</td>\n      <td>0</td>\n      <td>sim</td>\n      <td>sim</td>\n      <td>não</td>\n      <td>não</td>\n      <td>não</td>\n      <td>não</td>\n      <td>não</td>\n      <td>não</td>\n      <td>não</td>\n      <td>não</td>\n      <td>não</td>\n      <td>1300.0</td>\n      <td>100.0</td>\n      <td>80.0</td>\n      <td>Enguia</td>\n      <td>Mar de Java</td>\n    </tr>\n    <tr>\n      <th>12</th>\n      <td>80</td>\n      <td>2</td>\n      <td>2</td>\n      <td>1</td>\n      <td>sim</td>\n      <td>sim</td>\n      <td>sim</td>\n      <td>sim</td>\n      <td>não</td>\n      <td>não</td>\n      <td>não</td>\n      <td>não</td>\n      <td>não</td>\n      <td>não</td>\n      <td>sim</td>\n      <td>1750.0</td>\n      <td>150.0</td>\n      <td>50.0</td>\n      <td>Baleia Azul</td>\n      <td>Mar de Java</td>\n    </tr>\n    <tr>\n      <th>13</th>\n      <td>70</td>\n      <td>2</td>\n      <td>2</td>\n      <td>1</td>\n      <td>sim</td>\n      <td>sim</td>\n      <td>não</td>\n      <td>não</td>\n      <td>não</td>\n      <td>não</td>\n      <td>não</td>\n      <td>não</td>\n      <td>não</td>\n      <td>não</td>\n      <td>não</td>\n      <td>1650.0</td>\n      <td>120.0</td>\n      <td>20.0</td>\n      <td>Carangueijo</td>\n      <td>Oceano Atlântico</td>\n    </tr>\n    <tr>\n      <th>14</th>\n      <td>60</td>\n      <td>2</td>\n      <td>1</td>\n      <td>1</td>\n      <td>sim</td>\n      <td>sim</td>\n      <td>não</td>\n      <td>não</td>\n      <td>não</td>\n      <td>não</td>\n      <td>não</td>\n      <td>não</td>\n      <td>não</td>\n      <td>não</td>\n      <td>sim</td>\n      <td>1250.0</td>\n      <td>100.0</td>\n      <td>80.0</td>\n      <td>Enguia</td>\n      <td>Mar Mediterrâneo</td>\n    </tr>\n    <tr>\n      <th>17</th>\n      <td>50</td>\n      <td>1</td>\n      <td>1</td>\n      <td>1</td>\n      <td>sim</td>\n      <td>não</td>\n      <td>não</td>\n      <td>não</td>\n      <td>não</td>\n      <td>não</td>\n      <td>não</td>\n      <td>não</td>\n      <td>não</td>\n      <td>não</td>\n      <td>não</td>\n      <td>1080.0</td>\n      <td>100.0</td>\n      <td>20.0</td>\n      <td>Enguia</td>\n      <td>Mar Mediterrâneo</td>\n    </tr>\n    <tr>\n      <th>20</th>\n      <td>40</td>\n      <td>1</td>\n      <td>1</td>\n      <td>0</td>\n      <td>não</td>\n      <td>não</td>\n      <td>sim</td>\n      <td>não</td>\n      <td>não</td>\n      <td>não</td>\n      <td>não</td>\n      <td>não</td>\n      <td>não</td>\n      <td>não</td>\n      <td>não</td>\n      <td>990.0</td>\n      <td>50.0</td>\n      <td>10.0</td>\n      <td>Enguia</td>\n      <td>Mar Mediterrâneo</td>\n    </tr>\n  </tbody>\n</table>\n</div>"
          },
          "metadata": {}
        }
      ]
    },
    {
      "cell_type": "code",
      "metadata": {
        "execution": {
          "iopub.status.busy": "2021-08-31T19:07:31.171877Z",
          "iopub.execute_input": "2021-08-31T19:07:31.172537Z",
          "iopub.status.idle": "2021-08-31T19:07:31.179844Z",
          "shell.execute_reply.started": "2021-08-31T19:07:31.172480Z",
          "shell.execute_reply": "2021-08-31T19:07:31.178900Z"
        },
        "trusted": true,
        "id": "ba71sQdnncOM"
      },
      "source": [
        "busca = ((resultados_df['aluguel'] <= 1800) & (resultados_df['quartos'] >= 2))"
      ],
      "execution_count": null,
      "outputs": []
    },
    {
      "cell_type": "code",
      "metadata": {
        "execution": {
          "iopub.status.busy": "2021-08-31T19:07:33.360049Z",
          "iopub.execute_input": "2021-08-31T19:07:33.360463Z",
          "iopub.status.idle": "2021-08-31T19:07:33.369197Z",
          "shell.execute_reply.started": "2021-08-31T19:07:33.360432Z",
          "shell.execute_reply": "2021-08-31T19:07:33.367774Z"
        },
        "trusted": true,
        "id": "4LIsrEeIncOM",
        "outputId": "f758d922-6ce5-4409-b80c-9d8f6b706ee1"
      },
      "source": [
        "len(resultados_df.loc[busca])"
      ],
      "execution_count": null,
      "outputs": [
        {
          "execution_count": 127,
          "output_type": "execute_result",
          "data": {
            "text/plain": "7"
          },
          "metadata": {}
        }
      ]
    },
    {
      "cell_type": "code",
      "metadata": {
        "execution": {
          "iopub.status.busy": "2021-08-31T19:07:35.199638Z",
          "iopub.execute_input": "2021-08-31T19:07:35.199999Z",
          "iopub.status.idle": "2021-08-31T19:07:35.234349Z",
          "shell.execute_reply.started": "2021-08-31T19:07:35.199969Z",
          "shell.execute_reply": "2021-08-31T19:07:35.233010Z"
        },
        "trusted": true,
        "id": "9c2xKoTbncOM",
        "outputId": "e3a57a59-5eaf-4037-965f-c08c214b745d"
      },
      "source": [
        "resultados_df.loc[busca]"
      ],
      "execution_count": null,
      "outputs": [
        {
          "execution_count": 128,
          "output_type": "execute_result",
          "data": {
            "text/plain": "    área  quartos  banheiros  vagas garagem mobiliado portaria 24h elevador  \\\n3     60        2          2              1       sim          sim      não   \n6     60        2          2              0       não          sim      não   \n8     60        2          2              1       sim          sim      não   \n11    50        2          1              0       sim          sim      não   \n12    80        2          2              1       sim          sim      sim   \n13    70        2          2              1       sim          sim      não   \n14    60        2          1              1       sim          sim      não   \n\n   piscina churrasqueira salão de festas academia playground  \\\n3      não           não             não      não        não   \n6      não           não             sim      não        não   \n8      não           não             não      não        não   \n11     não           não             não      não        não   \n12     sim           não             não      não        não   \n13     não           não             não      não        não   \n14     não           não             não      não        não   \n\n   quadra poliesportiva salão de jogos aceita animais  aluguel  condomínio  \\\n3                   não            não            não   1800.0       100.0   \n6                   sim            não            não   1100.0       100.0   \n8                   não            não            não   1800.0       150.0   \n11                  não            não            não   1300.0       100.0   \n12                  não            não            sim   1750.0       150.0   \n13                  não            não            não   1650.0       120.0   \n14                  não            não            sim   1250.0       100.0   \n\n    iptu    corretora       localizacao  \n3   20.0  Baleia Azul     Oceano Índico  \n6   50.0       Enguia       Mar de Java  \n8   50.0  Carangueijo     Oceano Índico  \n11  80.0       Enguia       Mar de Java  \n12  50.0  Baleia Azul       Mar de Java  \n13  20.0  Carangueijo  Oceano Atlântico  \n14  80.0       Enguia  Mar Mediterrâneo  ",
            "text/html": "<div>\n<style scoped>\n    .dataframe tbody tr th:only-of-type {\n        vertical-align: middle;\n    }\n\n    .dataframe tbody tr th {\n        vertical-align: top;\n    }\n\n    .dataframe thead th {\n        text-align: right;\n    }\n</style>\n<table border=\"1\" class=\"dataframe\">\n  <thead>\n    <tr style=\"text-align: right;\">\n      <th></th>\n      <th>área</th>\n      <th>quartos</th>\n      <th>banheiros</th>\n      <th>vagas garagem</th>\n      <th>mobiliado</th>\n      <th>portaria 24h</th>\n      <th>elevador</th>\n      <th>piscina</th>\n      <th>churrasqueira</th>\n      <th>salão de festas</th>\n      <th>academia</th>\n      <th>playground</th>\n      <th>quadra poliesportiva</th>\n      <th>salão de jogos</th>\n      <th>aceita animais</th>\n      <th>aluguel</th>\n      <th>condomínio</th>\n      <th>iptu</th>\n      <th>corretora</th>\n      <th>localizacao</th>\n    </tr>\n  </thead>\n  <tbody>\n    <tr>\n      <th>3</th>\n      <td>60</td>\n      <td>2</td>\n      <td>2</td>\n      <td>1</td>\n      <td>sim</td>\n      <td>sim</td>\n      <td>não</td>\n      <td>não</td>\n      <td>não</td>\n      <td>não</td>\n      <td>não</td>\n      <td>não</td>\n      <td>não</td>\n      <td>não</td>\n      <td>não</td>\n      <td>1800.0</td>\n      <td>100.0</td>\n      <td>20.0</td>\n      <td>Baleia Azul</td>\n      <td>Oceano Índico</td>\n    </tr>\n    <tr>\n      <th>6</th>\n      <td>60</td>\n      <td>2</td>\n      <td>2</td>\n      <td>0</td>\n      <td>não</td>\n      <td>sim</td>\n      <td>não</td>\n      <td>não</td>\n      <td>não</td>\n      <td>sim</td>\n      <td>não</td>\n      <td>não</td>\n      <td>sim</td>\n      <td>não</td>\n      <td>não</td>\n      <td>1100.0</td>\n      <td>100.0</td>\n      <td>50.0</td>\n      <td>Enguia</td>\n      <td>Mar de Java</td>\n    </tr>\n    <tr>\n      <th>8</th>\n      <td>60</td>\n      <td>2</td>\n      <td>2</td>\n      <td>1</td>\n      <td>sim</td>\n      <td>sim</td>\n      <td>não</td>\n      <td>não</td>\n      <td>não</td>\n      <td>não</td>\n      <td>não</td>\n      <td>não</td>\n      <td>não</td>\n      <td>não</td>\n      <td>não</td>\n      <td>1800.0</td>\n      <td>150.0</td>\n      <td>50.0</td>\n      <td>Carangueijo</td>\n      <td>Oceano Índico</td>\n    </tr>\n    <tr>\n      <th>11</th>\n      <td>50</td>\n      <td>2</td>\n      <td>1</td>\n      <td>0</td>\n      <td>sim</td>\n      <td>sim</td>\n      <td>não</td>\n      <td>não</td>\n      <td>não</td>\n      <td>não</td>\n      <td>não</td>\n      <td>não</td>\n      <td>não</td>\n      <td>não</td>\n      <td>não</td>\n      <td>1300.0</td>\n      <td>100.0</td>\n      <td>80.0</td>\n      <td>Enguia</td>\n      <td>Mar de Java</td>\n    </tr>\n    <tr>\n      <th>12</th>\n      <td>80</td>\n      <td>2</td>\n      <td>2</td>\n      <td>1</td>\n      <td>sim</td>\n      <td>sim</td>\n      <td>sim</td>\n      <td>sim</td>\n      <td>não</td>\n      <td>não</td>\n      <td>não</td>\n      <td>não</td>\n      <td>não</td>\n      <td>não</td>\n      <td>sim</td>\n      <td>1750.0</td>\n      <td>150.0</td>\n      <td>50.0</td>\n      <td>Baleia Azul</td>\n      <td>Mar de Java</td>\n    </tr>\n    <tr>\n      <th>13</th>\n      <td>70</td>\n      <td>2</td>\n      <td>2</td>\n      <td>1</td>\n      <td>sim</td>\n      <td>sim</td>\n      <td>não</td>\n      <td>não</td>\n      <td>não</td>\n      <td>não</td>\n      <td>não</td>\n      <td>não</td>\n      <td>não</td>\n      <td>não</td>\n      <td>não</td>\n      <td>1650.0</td>\n      <td>120.0</td>\n      <td>20.0</td>\n      <td>Carangueijo</td>\n      <td>Oceano Atlântico</td>\n    </tr>\n    <tr>\n      <th>14</th>\n      <td>60</td>\n      <td>2</td>\n      <td>1</td>\n      <td>1</td>\n      <td>sim</td>\n      <td>sim</td>\n      <td>não</td>\n      <td>não</td>\n      <td>não</td>\n      <td>não</td>\n      <td>não</td>\n      <td>não</td>\n      <td>não</td>\n      <td>não</td>\n      <td>sim</td>\n      <td>1250.0</td>\n      <td>100.0</td>\n      <td>80.0</td>\n      <td>Enguia</td>\n      <td>Mar Mediterrâneo</td>\n    </tr>\n  </tbody>\n</table>\n</div>"
          },
          "metadata": {}
        }
      ]
    },
    {
      "cell_type": "code",
      "metadata": {
        "execution": {
          "iopub.status.busy": "2021-08-31T19:07:37.516758Z",
          "iopub.execute_input": "2021-08-31T19:07:37.517176Z",
          "iopub.status.idle": "2021-08-31T19:07:37.525642Z",
          "shell.execute_reply.started": "2021-08-31T19:07:37.517134Z",
          "shell.execute_reply": "2021-08-31T19:07:37.523486Z"
        },
        "trusted": true,
        "id": "eqiTqTavncOM"
      },
      "source": [
        "busca = ((resultados_df['aluguel'] <= 1800) & \n",
        "         (resultados_df['quartos'] >= 2) & \n",
        "         (resultados_df['vagas garagem'] >= 1))"
      ],
      "execution_count": null,
      "outputs": []
    },
    {
      "cell_type": "code",
      "metadata": {
        "execution": {
          "iopub.status.busy": "2021-08-31T19:07:39.752334Z",
          "iopub.execute_input": "2021-08-31T19:07:39.752672Z",
          "iopub.status.idle": "2021-08-31T19:07:39.760697Z",
          "shell.execute_reply.started": "2021-08-31T19:07:39.752642Z",
          "shell.execute_reply": "2021-08-31T19:07:39.759423Z"
        },
        "trusted": true,
        "id": "BQack4WFncON",
        "outputId": "70bbd6ed-eeb2-45db-b1c2-e7bc4c26855f"
      },
      "source": [
        "len(resultados_df.loc[busca])"
      ],
      "execution_count": null,
      "outputs": [
        {
          "execution_count": 130,
          "output_type": "execute_result",
          "data": {
            "text/plain": "5"
          },
          "metadata": {}
        }
      ]
    },
    {
      "cell_type": "code",
      "metadata": {
        "execution": {
          "iopub.status.busy": "2021-08-31T19:07:41.540028Z",
          "iopub.execute_input": "2021-08-31T19:07:41.540728Z",
          "iopub.status.idle": "2021-08-31T19:07:41.572297Z",
          "shell.execute_reply.started": "2021-08-31T19:07:41.540673Z",
          "shell.execute_reply": "2021-08-31T19:07:41.571247Z"
        },
        "trusted": true,
        "id": "GKv_EZ14ncON",
        "outputId": "8a4382fd-b4c7-41ac-d296-13f9030eaeaf"
      },
      "source": [
        "resultados_df.loc[busca]"
      ],
      "execution_count": null,
      "outputs": [
        {
          "execution_count": 131,
          "output_type": "execute_result",
          "data": {
            "text/plain": "    área  quartos  banheiros  vagas garagem mobiliado portaria 24h elevador  \\\n3     60        2          2              1       sim          sim      não   \n8     60        2          2              1       sim          sim      não   \n12    80        2          2              1       sim          sim      sim   \n13    70        2          2              1       sim          sim      não   \n14    60        2          1              1       sim          sim      não   \n\n   piscina churrasqueira salão de festas academia playground  \\\n3      não           não             não      não        não   \n8      não           não             não      não        não   \n12     sim           não             não      não        não   \n13     não           não             não      não        não   \n14     não           não             não      não        não   \n\n   quadra poliesportiva salão de jogos aceita animais  aluguel  condomínio  \\\n3                   não            não            não   1800.0       100.0   \n8                   não            não            não   1800.0       150.0   \n12                  não            não            sim   1750.0       150.0   \n13                  não            não            não   1650.0       120.0   \n14                  não            não            sim   1250.0       100.0   \n\n    iptu    corretora       localizacao  \n3   20.0  Baleia Azul     Oceano Índico  \n8   50.0  Carangueijo     Oceano Índico  \n12  50.0  Baleia Azul       Mar de Java  \n13  20.0  Carangueijo  Oceano Atlântico  \n14  80.0       Enguia  Mar Mediterrâneo  ",
            "text/html": "<div>\n<style scoped>\n    .dataframe tbody tr th:only-of-type {\n        vertical-align: middle;\n    }\n\n    .dataframe tbody tr th {\n        vertical-align: top;\n    }\n\n    .dataframe thead th {\n        text-align: right;\n    }\n</style>\n<table border=\"1\" class=\"dataframe\">\n  <thead>\n    <tr style=\"text-align: right;\">\n      <th></th>\n      <th>área</th>\n      <th>quartos</th>\n      <th>banheiros</th>\n      <th>vagas garagem</th>\n      <th>mobiliado</th>\n      <th>portaria 24h</th>\n      <th>elevador</th>\n      <th>piscina</th>\n      <th>churrasqueira</th>\n      <th>salão de festas</th>\n      <th>academia</th>\n      <th>playground</th>\n      <th>quadra poliesportiva</th>\n      <th>salão de jogos</th>\n      <th>aceita animais</th>\n      <th>aluguel</th>\n      <th>condomínio</th>\n      <th>iptu</th>\n      <th>corretora</th>\n      <th>localizacao</th>\n    </tr>\n  </thead>\n  <tbody>\n    <tr>\n      <th>3</th>\n      <td>60</td>\n      <td>2</td>\n      <td>2</td>\n      <td>1</td>\n      <td>sim</td>\n      <td>sim</td>\n      <td>não</td>\n      <td>não</td>\n      <td>não</td>\n      <td>não</td>\n      <td>não</td>\n      <td>não</td>\n      <td>não</td>\n      <td>não</td>\n      <td>não</td>\n      <td>1800.0</td>\n      <td>100.0</td>\n      <td>20.0</td>\n      <td>Baleia Azul</td>\n      <td>Oceano Índico</td>\n    </tr>\n    <tr>\n      <th>8</th>\n      <td>60</td>\n      <td>2</td>\n      <td>2</td>\n      <td>1</td>\n      <td>sim</td>\n      <td>sim</td>\n      <td>não</td>\n      <td>não</td>\n      <td>não</td>\n      <td>não</td>\n      <td>não</td>\n      <td>não</td>\n      <td>não</td>\n      <td>não</td>\n      <td>não</td>\n      <td>1800.0</td>\n      <td>150.0</td>\n      <td>50.0</td>\n      <td>Carangueijo</td>\n      <td>Oceano Índico</td>\n    </tr>\n    <tr>\n      <th>12</th>\n      <td>80</td>\n      <td>2</td>\n      <td>2</td>\n      <td>1</td>\n      <td>sim</td>\n      <td>sim</td>\n      <td>sim</td>\n      <td>sim</td>\n      <td>não</td>\n      <td>não</td>\n      <td>não</td>\n      <td>não</td>\n      <td>não</td>\n      <td>não</td>\n      <td>sim</td>\n      <td>1750.0</td>\n      <td>150.0</td>\n      <td>50.0</td>\n      <td>Baleia Azul</td>\n      <td>Mar de Java</td>\n    </tr>\n    <tr>\n      <th>13</th>\n      <td>70</td>\n      <td>2</td>\n      <td>2</td>\n      <td>1</td>\n      <td>sim</td>\n      <td>sim</td>\n      <td>não</td>\n      <td>não</td>\n      <td>não</td>\n      <td>não</td>\n      <td>não</td>\n      <td>não</td>\n      <td>não</td>\n      <td>não</td>\n      <td>não</td>\n      <td>1650.0</td>\n      <td>120.0</td>\n      <td>20.0</td>\n      <td>Carangueijo</td>\n      <td>Oceano Atlântico</td>\n    </tr>\n    <tr>\n      <th>14</th>\n      <td>60</td>\n      <td>2</td>\n      <td>1</td>\n      <td>1</td>\n      <td>sim</td>\n      <td>sim</td>\n      <td>não</td>\n      <td>não</td>\n      <td>não</td>\n      <td>não</td>\n      <td>não</td>\n      <td>não</td>\n      <td>não</td>\n      <td>não</td>\n      <td>sim</td>\n      <td>1250.0</td>\n      <td>100.0</td>\n      <td>80.0</td>\n      <td>Enguia</td>\n      <td>Mar Mediterrâneo</td>\n    </tr>\n  </tbody>\n</table>\n</div>"
          },
          "metadata": {}
        }
      ]
    },
    {
      "cell_type": "code",
      "metadata": {
        "execution": {
          "iopub.status.busy": "2021-08-31T19:07:44.054344Z",
          "iopub.execute_input": "2021-08-31T19:07:44.054691Z",
          "iopub.status.idle": "2021-08-31T19:07:44.061937Z",
          "shell.execute_reply.started": "2021-08-31T19:07:44.054661Z",
          "shell.execute_reply": "2021-08-31T19:07:44.060973Z"
        },
        "trusted": true,
        "id": "EkKWZWy9ncON"
      },
      "source": [
        "busca = ((resultados_df['aluguel'] <= 1800) & \n",
        "         (resultados_df['quartos'] >= 2) & \n",
        "         (resultados_df['vagas garagem'] >= 1) &\n",
        "         (resultados_df['localizacao'] == 'Oceano Atlântico'))"
      ],
      "execution_count": null,
      "outputs": []
    },
    {
      "cell_type": "code",
      "metadata": {
        "execution": {
          "iopub.status.busy": "2021-08-31T19:07:46.184364Z",
          "iopub.execute_input": "2021-08-31T19:07:46.184770Z",
          "iopub.status.idle": "2021-08-31T19:07:46.192267Z",
          "shell.execute_reply.started": "2021-08-31T19:07:46.184719Z",
          "shell.execute_reply": "2021-08-31T19:07:46.191345Z"
        },
        "trusted": true,
        "id": "X-0iAMQgncOO",
        "outputId": "5ec0a9b1-9662-4787-af5c-8159708c5eba"
      },
      "source": [
        "len(resultados_df.loc[busca])"
      ],
      "execution_count": null,
      "outputs": [
        {
          "execution_count": 133,
          "output_type": "execute_result",
          "data": {
            "text/plain": "1"
          },
          "metadata": {}
        }
      ]
    },
    {
      "cell_type": "code",
      "metadata": {
        "execution": {
          "iopub.status.busy": "2021-08-31T19:07:48.177178Z",
          "iopub.execute_input": "2021-08-31T19:07:48.177570Z",
          "iopub.status.idle": "2021-08-31T19:07:48.205376Z",
          "shell.execute_reply.started": "2021-08-31T19:07:48.177533Z",
          "shell.execute_reply": "2021-08-31T19:07:48.203832Z"
        },
        "trusted": true,
        "id": "oyceuCL7ncOO",
        "outputId": "438d9ccb-b2f3-47cb-acec-171334969120"
      },
      "source": [
        "resultados_df.loc[busca]"
      ],
      "execution_count": null,
      "outputs": [
        {
          "execution_count": 134,
          "output_type": "execute_result",
          "data": {
            "text/plain": "    área  quartos  banheiros  vagas garagem mobiliado portaria 24h elevador  \\\n13    70        2          2              1       sim          sim      não   \n\n   piscina churrasqueira salão de festas academia playground  \\\n13     não           não             não      não        não   \n\n   quadra poliesportiva salão de jogos aceita animais  aluguel  condomínio  \\\n13                  não            não            não   1650.0       120.0   \n\n    iptu    corretora       localizacao  \n13  20.0  Carangueijo  Oceano Atlântico  ",
            "text/html": "<div>\n<style scoped>\n    .dataframe tbody tr th:only-of-type {\n        vertical-align: middle;\n    }\n\n    .dataframe tbody tr th {\n        vertical-align: top;\n    }\n\n    .dataframe thead th {\n        text-align: right;\n    }\n</style>\n<table border=\"1\" class=\"dataframe\">\n  <thead>\n    <tr style=\"text-align: right;\">\n      <th></th>\n      <th>área</th>\n      <th>quartos</th>\n      <th>banheiros</th>\n      <th>vagas garagem</th>\n      <th>mobiliado</th>\n      <th>portaria 24h</th>\n      <th>elevador</th>\n      <th>piscina</th>\n      <th>churrasqueira</th>\n      <th>salão de festas</th>\n      <th>academia</th>\n      <th>playground</th>\n      <th>quadra poliesportiva</th>\n      <th>salão de jogos</th>\n      <th>aceita animais</th>\n      <th>aluguel</th>\n      <th>condomínio</th>\n      <th>iptu</th>\n      <th>corretora</th>\n      <th>localizacao</th>\n    </tr>\n  </thead>\n  <tbody>\n    <tr>\n      <th>13</th>\n      <td>70</td>\n      <td>2</td>\n      <td>2</td>\n      <td>1</td>\n      <td>sim</td>\n      <td>sim</td>\n      <td>não</td>\n      <td>não</td>\n      <td>não</td>\n      <td>não</td>\n      <td>não</td>\n      <td>não</td>\n      <td>não</td>\n      <td>não</td>\n      <td>não</td>\n      <td>1650.0</td>\n      <td>120.0</td>\n      <td>20.0</td>\n      <td>Carangueijo</td>\n      <td>Oceano Atlântico</td>\n    </tr>\n  </tbody>\n</table>\n</div>"
          },
          "metadata": {}
        }
      ]
    },
    {
      "cell_type": "markdown",
      "metadata": {
        "id": "aS_BZrecncOO"
      },
      "source": [
        "#### Entrando em contato com as corretoras"
      ]
    },
    {
      "cell_type": "code",
      "metadata": {
        "execution": {
          "iopub.status.busy": "2021-08-31T19:07:50.608542Z",
          "iopub.execute_input": "2021-08-31T19:07:50.608904Z",
          "iopub.status.idle": "2021-08-31T19:07:50.621764Z",
          "shell.execute_reply.started": "2021-08-31T19:07:50.608872Z",
          "shell.execute_reply": "2021-08-31T19:07:50.620577Z"
        },
        "trusted": true,
        "id": "tkoUufxwncOO",
        "outputId": "e0d36635-6a66-4982-d00b-46dcddf6ad0c"
      },
      "source": [
        "contatos_corretoras_df"
      ],
      "execution_count": null,
      "outputs": [
        {
          "execution_count": 135,
          "output_type": "execute_result",
          "data": {
            "text/plain": "    Corretoras            Nomes       Contatos\n0      Tubarão     João Marinho  (XX)XXXX-XXXX\n1  Carangueijo   Ana Sirigueijo  (XX)XXXX-XXXX\n2  Carangueijo  Sebastião Costa  (XX)XXXX-XXXX\n3  Baleia Azul   Alina Ferreira  (XX)XXXX-XXXX\n4  Baleia Azul    Jorge Matheus  (XX)XXXX-XXXX\n5       Enguia      Bruna Maria  (XX)XXXX-XXXX\n6       Enguia  Carla Gonçalves  (XX)XXXX-XXXX\n7       Enguia       Zeca Gomes  (XX)XXXX-XXXX\n8       Enguia      Wagner Luiz  (XX)XXXX-XXXX\n9       Enguia     Marília Mota  (XX)XXXX-XXXX",
            "text/html": "<div>\n<style scoped>\n    .dataframe tbody tr th:only-of-type {\n        vertical-align: middle;\n    }\n\n    .dataframe tbody tr th {\n        vertical-align: top;\n    }\n\n    .dataframe thead th {\n        text-align: right;\n    }\n</style>\n<table border=\"1\" class=\"dataframe\">\n  <thead>\n    <tr style=\"text-align: right;\">\n      <th></th>\n      <th>Corretoras</th>\n      <th>Nomes</th>\n      <th>Contatos</th>\n    </tr>\n  </thead>\n  <tbody>\n    <tr>\n      <th>0</th>\n      <td>Tubarão</td>\n      <td>João Marinho</td>\n      <td>(XX)XXXX-XXXX</td>\n    </tr>\n    <tr>\n      <th>1</th>\n      <td>Carangueijo</td>\n      <td>Ana Sirigueijo</td>\n      <td>(XX)XXXX-XXXX</td>\n    </tr>\n    <tr>\n      <th>2</th>\n      <td>Carangueijo</td>\n      <td>Sebastião Costa</td>\n      <td>(XX)XXXX-XXXX</td>\n    </tr>\n    <tr>\n      <th>3</th>\n      <td>Baleia Azul</td>\n      <td>Alina Ferreira</td>\n      <td>(XX)XXXX-XXXX</td>\n    </tr>\n    <tr>\n      <th>4</th>\n      <td>Baleia Azul</td>\n      <td>Jorge Matheus</td>\n      <td>(XX)XXXX-XXXX</td>\n    </tr>\n    <tr>\n      <th>5</th>\n      <td>Enguia</td>\n      <td>Bruna Maria</td>\n      <td>(XX)XXXX-XXXX</td>\n    </tr>\n    <tr>\n      <th>6</th>\n      <td>Enguia</td>\n      <td>Carla Gonçalves</td>\n      <td>(XX)XXXX-XXXX</td>\n    </tr>\n    <tr>\n      <th>7</th>\n      <td>Enguia</td>\n      <td>Zeca Gomes</td>\n      <td>(XX)XXXX-XXXX</td>\n    </tr>\n    <tr>\n      <th>8</th>\n      <td>Enguia</td>\n      <td>Wagner Luiz</td>\n      <td>(XX)XXXX-XXXX</td>\n    </tr>\n    <tr>\n      <th>9</th>\n      <td>Enguia</td>\n      <td>Marília Mota</td>\n      <td>(XX)XXXX-XXXX</td>\n    </tr>\n  </tbody>\n</table>\n</div>"
          },
          "metadata": {}
        }
      ]
    },
    {
      "cell_type": "code",
      "metadata": {
        "execution": {
          "iopub.status.busy": "2021-08-31T19:07:52.895608Z",
          "iopub.execute_input": "2021-08-31T19:07:52.895981Z",
          "iopub.status.idle": "2021-08-31T19:07:52.901084Z",
          "shell.execute_reply.started": "2021-08-31T19:07:52.895949Z",
          "shell.execute_reply": "2021-08-31T19:07:52.899836Z"
        },
        "trusted": true,
        "id": "7ENLzugoncOO"
      },
      "source": [
        "busca_corretora = contatos_corretoras_df['Corretoras'] == 'Carangueijo'"
      ],
      "execution_count": null,
      "outputs": []
    },
    {
      "cell_type": "code",
      "metadata": {
        "execution": {
          "iopub.status.busy": "2021-08-31T19:07:58.136729Z",
          "iopub.execute_input": "2021-08-31T19:07:58.137130Z",
          "iopub.status.idle": "2021-08-31T19:07:58.152635Z",
          "shell.execute_reply.started": "2021-08-31T19:07:58.137096Z",
          "shell.execute_reply": "2021-08-31T19:07:58.151528Z"
        },
        "trusted": true,
        "id": "PFl6iigPncOO",
        "outputId": "b6ecc40f-3115-46b1-80aa-4f30a19f5b4f"
      },
      "source": [
        "contatos_corretoras_df.loc[busca_corretora]"
      ],
      "execution_count": null,
      "outputs": [
        {
          "execution_count": 137,
          "output_type": "execute_result",
          "data": {
            "text/plain": "    Corretoras            Nomes       Contatos\n1  Carangueijo   Ana Sirigueijo  (XX)XXXX-XXXX\n2  Carangueijo  Sebastião Costa  (XX)XXXX-XXXX",
            "text/html": "<div>\n<style scoped>\n    .dataframe tbody tr th:only-of-type {\n        vertical-align: middle;\n    }\n\n    .dataframe tbody tr th {\n        vertical-align: top;\n    }\n\n    .dataframe thead th {\n        text-align: right;\n    }\n</style>\n<table border=\"1\" class=\"dataframe\">\n  <thead>\n    <tr style=\"text-align: right;\">\n      <th></th>\n      <th>Corretoras</th>\n      <th>Nomes</th>\n      <th>Contatos</th>\n    </tr>\n  </thead>\n  <tbody>\n    <tr>\n      <th>1</th>\n      <td>Carangueijo</td>\n      <td>Ana Sirigueijo</td>\n      <td>(XX)XXXX-XXXX</td>\n    </tr>\n    <tr>\n      <th>2</th>\n      <td>Carangueijo</td>\n      <td>Sebastião Costa</td>\n      <td>(XX)XXXX-XXXX</td>\n    </tr>\n  </tbody>\n</table>\n</div>"
          },
          "metadata": {}
        }
      ]
    },
    {
      "cell_type": "markdown",
      "metadata": {
        "id": "lsRaqJ8lncOP"
      },
      "source": [
        "## 6) Exemplos de outras análises"
      ]
    },
    {
      "cell_type": "code",
      "metadata": {
        "execution": {
          "iopub.status.busy": "2021-08-31T19:08:02.330230Z",
          "iopub.execute_input": "2021-08-31T19:08:02.330595Z",
          "iopub.status.idle": "2021-08-31T19:08:03.466623Z",
          "shell.execute_reply.started": "2021-08-31T19:08:02.330565Z",
          "shell.execute_reply": "2021-08-31T19:08:03.465811Z"
        },
        "trusted": true,
        "id": "q2gZi0n8ncOP"
      },
      "source": [
        "import matplotlib.pyplot as plt\n",
        "import seaborn as sns"
      ],
      "execution_count": null,
      "outputs": []
    },
    {
      "cell_type": "code",
      "metadata": {
        "execution": {
          "iopub.status.busy": "2021-08-31T19:08:06.762418Z",
          "iopub.execute_input": "2021-08-31T19:08:06.763028Z",
          "iopub.status.idle": "2021-08-31T19:08:06.771038Z",
          "shell.execute_reply.started": "2021-08-31T19:08:06.762974Z",
          "shell.execute_reply": "2021-08-31T19:08:06.769823Z"
        },
        "trusted": true,
        "id": "85ue1iu6ncOP"
      },
      "source": [
        "sns.set(font_scale=1.4)\n",
        "sns.set_style({'font.family': 'serif',\n",
        "               'fontname': 'Times New Roman'})"
      ],
      "execution_count": null,
      "outputs": []
    },
    {
      "cell_type": "markdown",
      "metadata": {
        "id": "y9i98PmMncOP"
      },
      "source": [
        "### Quem tem mais/menos imóveis?"
      ]
    },
    {
      "cell_type": "code",
      "metadata": {
        "execution": {
          "iopub.status.busy": "2021-08-31T19:08:10.700496Z",
          "iopub.execute_input": "2021-08-31T19:08:10.701193Z",
          "iopub.status.idle": "2021-08-31T19:08:10.712886Z",
          "shell.execute_reply.started": "2021-08-31T19:08:10.701138Z",
          "shell.execute_reply": "2021-08-31T19:08:10.711591Z"
        },
        "trusted": true,
        "id": "ByP-vdAAncOP",
        "outputId": "8228dafd-ef40-442a-c20a-deeded648854"
      },
      "source": [
        "resultados_df['localizacao'].value_counts()"
      ],
      "execution_count": null,
      "outputs": [
        {
          "execution_count": 140,
          "output_type": "execute_result",
          "data": {
            "text/plain": "Oceano Índico       5\nMar de Java         5\nOceano Pacífico     5\nMar Mediterrâneo    4\nOceano Atlântico    2\nName: localizacao, dtype: int64"
          },
          "metadata": {}
        }
      ]
    },
    {
      "cell_type": "code",
      "metadata": {
        "execution": {
          "iopub.status.busy": "2021-08-31T19:08:13.699362Z",
          "iopub.execute_input": "2021-08-31T19:08:13.700124Z",
          "iopub.status.idle": "2021-08-31T19:08:14.068287Z",
          "shell.execute_reply.started": "2021-08-31T19:08:13.700070Z",
          "shell.execute_reply": "2021-08-31T19:08:14.066937Z"
        },
        "trusted": true,
        "id": "FtRAZNh1ncOP",
        "outputId": "cf134547-ff08-4b2f-c00e-96f7b49ce6d3"
      },
      "source": [
        "resultados_df['localizacao'].value_counts().sort_values().plot(kind = 'barh', \n",
        "                                                               figsize=(8, 5))"
      ],
      "execution_count": null,
      "outputs": [
        {
          "execution_count": 141,
          "output_type": "execute_result",
          "data": {
            "text/plain": "<matplotlib.axes._subplots.AxesSubplot at 0x7ff8ad752310>"
          },
          "metadata": {}
        },
        {
          "output_type": "display_data",
          "data": {
            "text/plain": "<Figure size 576x360 with 1 Axes>",
            "image/png": "[encoded data removed]"
          },
          "metadata": {}
        }
      ]
    },
    {
      "cell_type": "markdown",
      "metadata": {
        "id": "UMbB9HizncOP"
      },
      "source": [
        "> ### Quais são os locais com imóveis maiores/menores e com os imóveis mais baratos/caros?"
      ]
    },
    {
      "cell_type": "code",
      "metadata": {
        "execution": {
          "iopub.status.busy": "2021-08-31T19:08:23.349525Z",
          "iopub.execute_input": "2021-08-31T19:08:23.350343Z",
          "iopub.status.idle": "2021-08-31T19:08:23.782589Z",
          "shell.execute_reply.started": "2021-08-31T19:08:23.350289Z",
          "shell.execute_reply": "2021-08-31T19:08:23.781851Z"
        },
        "trusted": true,
        "id": "KQf8cMJ_ncOQ",
        "outputId": "6ce89009-b611-4e6a-c31a-733e3871a217"
      },
      "source": [
        "fig_dims = (8, 6)\n",
        "fig, ax = plt.subplots(figsize=fig_dims)\n",
        "\n",
        "sns.scatterplot(data = resultados_df, \n",
        "                x = 'área', \n",
        "                y = 'aluguel', \n",
        "                hue = 'localizacao',\n",
        "                s = 200,\n",
        "                ax = ax)"
      ],
      "execution_count": null,
      "outputs": [
        {
          "execution_count": 142,
          "output_type": "execute_result",
          "data": {
            "text/plain": "<matplotlib.axes._subplots.AxesSubplot at 0x7ff8ad752590>"
          },
          "metadata": {}
        },
        {
          "output_type": "display_data",
          "data": {
            "text/plain": "<Figure size 576x432 with 1 Axes>",
            "image/png": "[encoded data removed]"
          },
          "metadata": {}
        }
      ]
    }
  ]
}